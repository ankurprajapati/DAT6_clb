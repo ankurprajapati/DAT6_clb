{
 "metadata": {
  "celltoolbar": "Slideshow",
  "name": "",
  "signature": "sha256:2ecccfb51d8bea27a474465ebb58ef64f397071c579603f6c07dd067f3816bf9"
 },
 "nbformat": 3,
 "nbformat_minor": 0,
 "worksheets": [
  {
   "cells": [
    {
     "cell_type": "markdown",
     "metadata": {
      "slideshow": {
       "slide_type": "slide"
      }
     },
     "source": [
      "Lab\n",
      "===================\n",
      "Twitter & MongoDB\n",
      "-------------------\n",
      "Alessandro D. Gagliardi"
     ]
    },
    {
     "cell_type": "markdown",
     "metadata": {
      "slideshow": {
       "slide_type": "subslide"
      }
     },
     "source": [
      "Importing Libraries\n",
      "-------------------"
     ]
    },
    {
     "cell_type": "code",
     "collapsed": false,
     "input": [
      "# standard library:\n",
      "import os  \n",
      "\n",
      "from pprint import pprint\n",
      "\n",
      "# other modules:\n",
      "import matplotlib.pyplot as plt\n",
      "import pandas as pd\n",
      "import twitter\n",
      "import yaml\n",
      "\n",
      "from pymongo import MongoClient"
     ],
     "language": "python",
     "metadata": {
      "slideshow": {
       "slide_type": "-"
      }
     },
     "outputs": [],
     "prompt_number": 1
    },
    {
     "cell_type": "markdown",
     "metadata": {
      "slideshow": {
       "slide_type": "slide"
      }
     },
     "source": [
      "Twitter Trends\n",
      "=============="
     ]
    },
    {
     "cell_type": "heading",
     "level": 3,
     "metadata": {
      "slideshow": {
       "slide_type": "subslide"
      }
     },
     "source": [
      "Connect to Twitter:"
     ]
    },
    {
     "cell_type": "code",
     "collapsed": false,
     "input": [
      "credentials = yaml.load(open(os.path.expanduser('/Users/crista/Desktop/gads2014course/api_cred.yml')))\n",
      "\n",
      "auth = twitter.oauth.OAuth(credentials['ACCESS_TOKEN'], \n",
      "                           credentials['ACCESS_TOKEN_SECRET'],\n",
      "                           credentials['API_KEY'],\n",
      "                           credentials['API_SECRET'])\n",
      "\n",
      "twitter_api = twitter.Twitter(auth=auth)"
     ],
     "language": "python",
     "metadata": {
      "slideshow": {
       "slide_type": "-"
      }
     },
     "outputs": [],
     "prompt_number": 2
    },
    {
     "cell_type": "code",
     "collapsed": false,
     "input": [
      "# The Yahoo! Where On Earth ID for the entire world is 1.\n",
      "# See https://dev.twitter.com/docs/api/1.1/get/trends/place and\n",
      "# http://developer.yahoo.com/geo/geoplanet/\n",
      "\n",
      "WORLD_WOE_ID = 1\n",
      "US_WOE_ID = 23424977\n",
      "\n",
      "# Prefix ID with the underscore for query string parameterization.\n",
      "# Without the underscore, the twitter package appends the ID value\n",
      "# to the URL itself as a special case keyword argument.\n",
      "\n",
      "world_trends = twitter_api.trends.place(_id=WORLD_WOE_ID)\n",
      "us_trends = twitter_api.trends.place(_id=US_WOE_ID)\n",
      "\n",
      "pprint(world_trends)"
     ],
     "language": "python",
     "metadata": {
      "slideshow": {
       "slide_type": "slide"
      }
     },
     "outputs": [
      {
       "output_type": "stream",
       "stream": "stdout",
       "text": [
        "[{u'as_of': u'2014-05-01T06:21:17Z',\n",
        "  u'created_at': u'2014-05-01T06:15:50Z',\n",
        "  u'locations': [{u'name': u'Worldwide', u'woeid': 1}],\n",
        "  u'trends': [{u'name': u'#MayoConMDe',\n",
        "               u'promoted_content': None,\n",
        "               u'query': u'%23MayoConMDe',\n",
        "               u'url': u'http://twitter.com/search?q=%23MayoConMDe'},\n",
        "              {u'name': u'#MayWish',\n",
        "               u'promoted_content': None,\n",
        "               u'query': u'%23MayWish',\n",
        "               u'url': u'http://twitter.com/search?q=%23MayWish'},\n",
        "              {u'name': u'#DefineSingle',\n",
        "               u'promoted_content': None,\n",
        "               u'query': u'%23DefineSingle',\n",
        "               u'url': u'http://twitter.com/search?q=%23DefineSingle'},\n",
        "              {u'name': u'#BadVacationSpots',\n",
        "               u'promoted_content': None,\n",
        "               u'query': u'%23BadVacationSpots',\n",
        "               u'url': u'http://twitter.com/search?q=%23BadVacationSpots'},\n",
        "              {u'name': u'#happynationalbestfriendday',\n",
        "               u'promoted_content': None,\n",
        "               u'query': u'%23happynationalbestfriendday',\n",
        "               u'url': u'http://twitter.com/search?q=%23happynationalbestfriendday'},\n",
        "              {u'name': u'Watching Up',\n",
        "               u'promoted_content': None,\n",
        "               u'query': u'%22Watching+Up%22',\n",
        "               u'url': u'http://twitter.com/search?q=%22Watching+Up%22'},\n",
        "              {u'name': u'Regaip Kandiliniz',\n",
        "               u'promoted_content': None,\n",
        "               u'query': u'%22Regaip+Kandiliniz%22',\n",
        "               u'url': u'http://twitter.com/search?q=%22Regaip+Kandiliniz%22'},\n",
        "              {u'name': u'514 Espectadores',\n",
        "               u'promoted_content': None,\n",
        "               u'query': u'%22514+Espectadores%22',\n",
        "               u'url': u'http://twitter.com/search?q=%22514+Espectadores%22'},\n",
        "              {u'name': u'Selamat Hari Buruh',\n",
        "               u'promoted_content': None,\n",
        "               u'query': u'%22Selamat+Hari+Buruh%22',\n",
        "               u'url': u'http://twitter.com/search?q=%22Selamat+Hari+Buruh%22'},\n",
        "              {u'name': u'Mayo con M',\n",
        "               u'promoted_content': None,\n",
        "               u'query': u'%22Mayo+con+M%22',\n",
        "               u'url': u'http://twitter.com/search?q=%22Mayo+con+M%22'}]}]\n"
       ]
      }
     ],
     "prompt_number": 3
    },
    {
     "cell_type": "code",
     "collapsed": false,
     "input": [
      "pprint(us_trends)"
     ],
     "language": "python",
     "metadata": {
      "slideshow": {
       "slide_type": "subslide"
      }
     },
     "outputs": [
      {
       "output_type": "stream",
       "stream": "stdout",
       "text": [
        "[{u'as_of': u'2014-05-01T06:21:17Z',\n",
        "  u'created_at': u'2014-05-01T06:15:50Z',\n",
        "  u'locations': [{u'name': u'United States', u'woeid': 23424977}],\n",
        "  u'trends': [{u'name': u'#BadVacationSpots',\n",
        "               u'promoted_content': None,\n",
        "               u'query': u'%23BadVacationSpots',\n",
        "               u'url': u'http://twitter.com/search?q=%23BadVacationSpots'},\n",
        "              {u'name': u'#happynationalbestfriendday',\n",
        "               u'promoted_content': None,\n",
        "               u'query': u'%23happynationalbestfriendday',\n",
        "               u'url': u'http://twitter.com/search?q=%23happynationalbestfriendday'},\n",
        "              {u'name': u'#10YearsOfMeanGirls',\n",
        "               u'promoted_content': None,\n",
        "               u'query': u'%2310YearsOfMeanGirls',\n",
        "               u'url': u'http://twitter.com/search?q=%2310YearsOfMeanGirls'},\n",
        "              {u'name': u'#MemoriesAtUWG',\n",
        "               u'promoted_content': None,\n",
        "               u'query': u'%23MemoriesAtUWG',\n",
        "               u'url': u'http://twitter.com/search?q=%23MemoriesAtUWG'},\n",
        "              {u'name': u'My 11:11',\n",
        "               u'promoted_content': None,\n",
        "               u'query': u'%22My+11%3A11%22',\n",
        "               u'url': u'http://twitter.com/search?q=%22My+11%3A11%22'},\n",
        "              {u'name': u'#MeanGirls10thAnniversary',\n",
        "               u'promoted_content': None,\n",
        "               u'query': u'%23MeanGirls10thAnniversary',\n",
        "               u'url': u'http://twitter.com/search?q=%23MeanGirls10thAnniversary'},\n",
        "              {u'name': u'On Wednesdays',\n",
        "               u'promoted_content': None,\n",
        "               u'query': u'%22On+Wednesdays%22',\n",
        "               u'url': u'http://twitter.com/search?q=%22On+Wednesdays%22'},\n",
        "              {u'name': u'May Day',\n",
        "               u'promoted_content': None,\n",
        "               u'query': u'%22May+Day%22',\n",
        "               u'url': u'http://twitter.com/search?q=%22May+Day%22'},\n",
        "              {u'name': u'Rob Ford',\n",
        "               u'promoted_content': None,\n",
        "               u'query': u'%22Rob+Ford%22',\n",
        "               u'url': u'http://twitter.com/search?q=%22Rob+Ford%22'},\n",
        "              {u'name': u'May.',\n",
        "               u'promoted_content': None,\n",
        "               u'query': u'May.',\n",
        "               u'url': u'http://twitter.com/search?q=May.'}]}]\n"
       ]
      }
     ],
     "prompt_number": 4
    },
    {
     "cell_type": "heading",
     "level": 3,
     "metadata": {
      "slideshow": {
       "slide_type": "subslide"
      }
     },
     "source": [
      "Do any of these trends intersect?"
     ]
    },
    {
     "cell_type": "code",
     "collapsed": false,
     "input": [
      "world_trends_set = set([trend['name'] for trends in world_trends\n",
      "                        for trend in trends['trends']])\n",
      "\n",
      "us_trends_set = set([trend['name'] for trends in us_trends\n",
      "                     for trend in trends['trends']]) \n",
      "\n",
      "shared_trends = world_trends_set.intersection(us_trends_set)\n",
      "\n",
      "print('number in world_trends: ' + str(len(world_trends_set)))\n",
      "print('number in us_trends: ' + str(len(us_trends_set)))\n",
      "print('number in intersection: ' + str(len(shared_trends)))\n",
      "print('shared trends:')\n",
      "shared_trends"
     ],
     "language": "python",
     "metadata": {
      "slideshow": {
       "slide_type": "fragment"
      }
     },
     "outputs": [
      {
       "output_type": "stream",
       "stream": "stdout",
       "text": [
        "number in world_trends: 10\n",
        "number in us_trends: 10\n",
        "number in intersection: 2\n",
        "shared trends:\n"
       ]
      },
      {
       "metadata": {},
       "output_type": "pyout",
       "prompt_number": 5,
       "text": [
        "{u'#BadVacationSpots', u'#happynationalbestfriendday'}"
       ]
      }
     ],
     "prompt_number": 5
    },
    {
     "cell_type": "code",
     "collapsed": false,
     "input": [
      "q = world_trends[0]['trends'][0]['name']\n",
      "\n",
      "count = 100\n",
      "\n",
      "# See https://dev.twitter.com/docs/api/1.1/get/search/tweets\n",
      "\n",
      "search_results = twitter_api.search.tweets(q=q, count=count)\n",
      "\n",
      "statuses = search_results['statuses']"
     ],
     "language": "python",
     "metadata": {
      "slideshow": {
       "slide_type": "fragment"
      }
     },
     "outputs": [],
     "prompt_number": 6
    },
    {
     "cell_type": "code",
     "collapsed": false,
     "input": [
      "type(search_results)\n",
      "search_results.keys()"
     ],
     "language": "python",
     "metadata": {},
     "outputs": [
      {
       "metadata": {},
       "output_type": "pyout",
       "prompt_number": 7,
       "text": [
        "[u'search_metadata', u'statuses']"
       ]
      }
     ],
     "prompt_number": 7
    },
    {
     "cell_type": "heading",
     "level": 3,
     "metadata": {
      "slideshow": {
       "slide_type": "subslide"
      }
     },
     "source": [
      "More?"
     ]
    },
    {
     "cell_type": "code",
     "collapsed": false,
     "input": [
      "search_results['search_metadata'].get('next_results')"
     ],
     "language": "python",
     "metadata": {
      "slideshow": {
       "slide_type": "fragment"
      }
     },
     "outputs": [
      {
       "metadata": {},
       "output_type": "pyout",
       "prompt_number": 9,
       "text": [
        "u'?max_id=461752075622182911&q=%23MayoConMDe&count=100&include_entities=1'"
       ]
      }
     ],
     "prompt_number": 9
    },
    {
     "cell_type": "code",
     "collapsed": false,
     "input": [
      "if 'next_results' in search_results['search_metadata']:\n",
      "    next_results = search_results['search_metadata']['next_results']\n",
      "    kwargs = dict([ kv.split('=') for kv in next_results[1:].split(\"&\") ])\n",
      "    search_results = twitter_api.search.tweets(**kwargs)\n",
      "    statuses += search_results['statuses']\n",
      "\n",
      "len(statuses)"
     ],
     "language": "python",
     "metadata": {
      "slideshow": {
       "slide_type": "fragment"
      }
     },
     "outputs": [
      {
       "metadata": {},
       "output_type": "pyout",
       "prompt_number": 10,
       "text": [
        "200"
       ]
      }
     ],
     "prompt_number": 10
    },
    {
     "cell_type": "markdown",
     "metadata": {
      "slideshow": {
       "slide_type": "slide"
      }
     },
     "source": [
      "Mongo\n",
      "====="
     ]
    },
    {
     "cell_type": "markdown",
     "metadata": {
      "slideshow": {
       "slide_type": "subslide"
      }
     },
     "source": [
      "from the command line:\n",
      "```bash\n",
      "$ mkdir -p data/db\n",
      "$ mongod --dbpath data/db\n",
      "```"
     ]
    },
    {
     "cell_type": "heading",
     "level": 3,
     "metadata": {
      "slideshow": {
       "slide_type": "slide"
      }
     },
     "source": [
      "Connect to our Mongo database management server (DBMS):"
     ]
    },
    {
     "cell_type": "code",
     "collapsed": false,
     "input": [
      "c = MongoClient()"
     ],
     "language": "python",
     "metadata": {
      "slideshow": {
       "slide_type": "fragment"
      }
     },
     "outputs": [],
     "prompt_number": 11
    },
    {
     "cell_type": "heading",
     "level": 4,
     "metadata": {
      "slideshow": {
       "slide_type": "fragment"
      }
     },
     "source": [
      "Create a database called `twitter`:"
     ]
    },
    {
     "cell_type": "code",
     "collapsed": false,
     "input": [
      "db = c.twitter"
     ],
     "language": "python",
     "metadata": {
      "slideshow": {
       "slide_type": "fragment"
      }
     },
     "outputs": [],
     "prompt_number": 13
    },
    {
     "cell_type": "markdown",
     "metadata": {
      "slideshow": {
       "slide_type": "notes"
      }
     },
     "source": [
      "##### Yes, it's that easy."
     ]
    },
    {
     "cell_type": "heading",
     "level": 4,
     "metadata": {
      "slideshow": {
       "slide_type": "slide"
      }
     },
     "source": [
      "Insert the results we pulled from Twitter and store them as a document in a collection named `tweets`:"
     ]
    },
    {
     "cell_type": "code",
     "collapsed": false,
     "input": [
      "statuses_ids = db.tweets.insert(statuses)\n",
      "statuses_ids[:5]"
     ],
     "language": "python",
     "metadata": {
      "slideshow": {
       "slide_type": "fragment"
      }
     },
     "outputs": [
      {
       "metadata": {},
       "output_type": "pyout",
       "prompt_number": 16,
       "text": [
        "[ObjectId('5361e952e86be60a5f163daa'),\n",
        " ObjectId('5361e952e86be60a5f163dab'),\n",
        " ObjectId('5361e952e86be60a5f163dac'),\n",
        " ObjectId('5361e952e86be60a5f163dad'),\n",
        " ObjectId('5361e952e86be60a5f163dae')]"
       ]
      }
     ],
     "prompt_number": 16
    },
    {
     "cell_type": "heading",
     "level": 3,
     "metadata": {
      "slideshow": {
       "slide_type": "slide"
      }
     },
     "source": [
      "`ObjectId`s"
     ]
    },
    {
     "cell_type": "markdown",
     "metadata": {
      "slideshow": {
       "slide_type": "fragment"
      }
     },
     "source": [
      "**ObjectId** is a 12-byte **BSON** type, constructed using:\n",
      "\n",
      "-    a 4-byte value representing the seconds since the Unix epoch,\n",
      "-    a 3-byte machine identifier,\n",
      "-    a 2-byte process id, and\n",
      "-    a 3-byte counter, starting with a random value.\n",
      "\n",
      "In MongoDB, documents stored in a collection require a unique `_id` field that acts as a **primary key**. Because ObjectIds are small, most likely unique, and fast to generate, MongoDB uses ObjectIds as the default value for the `_id` field if the `_id` field is not specified. \n",
      "\n",
      "<!--small><i>from http://docs.mongodb.org/manual/reference/object-id/</i></small-->"
     ]
    },
    {
     "cell_type": "markdown",
     "metadata": {
      "slideshow": {
       "slide_type": "notes"
      }
     },
     "source": [
      "Using ObjectIds for the `_id` field provides the following additional benefits:\n",
      "\n",
      "- you can access the insertion time of the ObjectId, using the `.generation_time` property in pymongo. \n",
      "- sorting on an `_id` field that stores ObjectId values is roughly equivalent to sorting by insertion time."
     ]
    },
    {
     "cell_type": "heading",
     "level": 3,
     "metadata": {
      "slideshow": {
       "slide_type": "slide"
      }
     },
     "source": [
      "Test the contents of our database:"
     ]
    },
    {
     "cell_type": "code",
     "collapsed": false,
     "input": [
      "c.database_names()"
     ],
     "language": "python",
     "metadata": {
      "slideshow": {
       "slide_type": "fragment"
      }
     },
     "outputs": [
      {
       "metadata": {},
       "output_type": "pyout",
       "prompt_number": 17,
       "text": [
        "[u'local', u'twitter', u'admin']"
       ]
      }
     ],
     "prompt_number": 17
    },
    {
     "cell_type": "code",
     "collapsed": false,
     "input": [
      "db = c.twitter\n",
      "db.collection_names()"
     ],
     "language": "python",
     "metadata": {
      "slideshow": {
       "slide_type": "fragment"
      }
     },
     "outputs": [
      {
       "metadata": {},
       "output_type": "pyout",
       "prompt_number": 27,
       "text": [
        "[u'tweets', u'system.indexes']"
       ]
      }
     ],
     "prompt_number": 27
    },
    {
     "cell_type": "code",
     "collapsed": false,
     "input": [
      "db.drop_collection(\"canada\")"
     ],
     "language": "python",
     "metadata": {
      "slideshow": {
       "slide_type": "fragment"
      }
     },
     "outputs": [],
     "prompt_number": 26
    },
    {
     "cell_type": "markdown",
     "metadata": {
      "slideshow": {
       "slide_type": "notes"
      }
     },
     "source": [
      "Notice the `_id` included in the document along with the values we already saw before."
     ]
    },
    {
     "cell_type": "markdown",
     "metadata": {
      "slideshow": {
       "slide_type": "slide"
      }
     },
     "source": [
      "Now that we have our data in MongoDB, we can use some of it's search functionality. For example:"
     ]
    },
    {
     "cell_type": "code",
     "collapsed": false,
     "input": [
      "popular_tweets = db.tweets.find({'retweet_count': {\"$gte\": 3}})\n",
      "popular_tweets.count()"
     ],
     "language": "python",
     "metadata": {
      "slideshow": {
       "slide_type": "fragment"
      }
     },
     "outputs": [
      {
       "metadata": {},
       "output_type": "pyout",
       "prompt_number": 20,
       "text": [
        "14"
       ]
      }
     ],
     "prompt_number": 20
    },
    {
     "cell_type": "code",
     "collapsed": false,
     "input": [
      "db.tweets.count()"
     ],
     "language": "python",
     "metadata": {},
     "outputs": [
      {
       "metadata": {},
       "output_type": "pyout",
       "prompt_number": 21,
       "text": [
        "200"
       ]
      }
     ],
     "prompt_number": 21
    },
    {
     "cell_type": "markdown",
     "metadata": {
      "slideshow": {
       "slide_type": "slide"
      }
     },
     "source": [
      "Making Sense with Pandas\n",
      "========================"
     ]
    },
    {
     "cell_type": "code",
     "collapsed": false,
     "input": [
      "pd.DataFrame(db.tweets.find(fields=['created_at', 'retweet_count', 'favorite_count']))"
     ],
     "language": "python",
     "metadata": {
      "slideshow": {
       "slide_type": "slide"
      }
     },
     "outputs": [
      {
       "ename": "PandasError",
       "evalue": "DataFrame constructor not properly called!",
       "output_type": "pyerr",
       "traceback": [
        "\u001b[0;31m---------------------------------------------------------------------------\u001b[0m\n\u001b[0;31mPandasError\u001b[0m                               Traceback (most recent call last)",
        "\u001b[0;32m<ipython-input-38-87a1cfed5405>\u001b[0m in \u001b[0;36m<module>\u001b[0;34m()\u001b[0m\n\u001b[0;32m----> 1\u001b[0;31m \u001b[0mpd\u001b[0m\u001b[0;34m.\u001b[0m\u001b[0mDataFrame\u001b[0m\u001b[0;34m(\u001b[0m\u001b[0mdb\u001b[0m\u001b[0;34m.\u001b[0m\u001b[0mtweets\u001b[0m\u001b[0;34m.\u001b[0m\u001b[0mfind\u001b[0m\u001b[0;34m(\u001b[0m\u001b[0mfields\u001b[0m\u001b[0;34m=\u001b[0m\u001b[0;34m[\u001b[0m\u001b[0;34m'created_at'\u001b[0m\u001b[0;34m,\u001b[0m \u001b[0;34m'retweet_count'\u001b[0m\u001b[0;34m,\u001b[0m \u001b[0;34m'favorite_count'\u001b[0m\u001b[0;34m]\u001b[0m\u001b[0;34m)\u001b[0m\u001b[0;34m)\u001b[0m\u001b[0;34m\u001b[0m\u001b[0m\n\u001b[0m",
        "\u001b[0;32m/Users/crista/anaconda/lib/python2.7/site-packages/pandas/core/frame.pyc\u001b[0m in \u001b[0;36m__init__\u001b[0;34m(self, data, index, columns, dtype, copy)\u001b[0m\n\u001b[1;32m    271\u001b[0m                                          copy=False)\n\u001b[1;32m    272\u001b[0m             \u001b[0;32melse\u001b[0m\u001b[0;34m:\u001b[0m\u001b[0;34m\u001b[0m\u001b[0m\n\u001b[0;32m--> 273\u001b[0;31m                 \u001b[0;32mraise\u001b[0m \u001b[0mPandasError\u001b[0m\u001b[0;34m(\u001b[0m\u001b[0;34m'DataFrame constructor not properly called!'\u001b[0m\u001b[0;34m)\u001b[0m\u001b[0;34m\u001b[0m\u001b[0m\n\u001b[0m\u001b[1;32m    274\u001b[0m \u001b[0;34m\u001b[0m\u001b[0m\n\u001b[1;32m    275\u001b[0m         \u001b[0mNDFrame\u001b[0m\u001b[0;34m.\u001b[0m\u001b[0m__init__\u001b[0m\u001b[0;34m(\u001b[0m\u001b[0mself\u001b[0m\u001b[0;34m,\u001b[0m \u001b[0mmgr\u001b[0m\u001b[0;34m,\u001b[0m \u001b[0mfastpath\u001b[0m\u001b[0;34m=\u001b[0m\u001b[0mTrue\u001b[0m\u001b[0;34m)\u001b[0m\u001b[0;34m\u001b[0m\u001b[0m\n",
        "\u001b[0;31mPandasError\u001b[0m: DataFrame constructor not properly called!"
       ]
      }
     ],
     "prompt_number": 38
    },
    {
     "cell_type": "code",
     "collapsed": false,
     "input": [
      "retweet_favorites = pd.DataFrame(list(db.tweets.find(fields=['created_at','retweet_count','favorite_count'])))\n",
      "retweet_favorites.head()"
     ],
     "language": "python",
     "metadata": {
      "slideshow": {
       "slide_type": "subslide"
      }
     },
     "outputs": [
      {
       "html": [
        "<div style=\"max-height:1000px;max-width:1500px;overflow:auto;\">\n",
        "<table border=\"1\" class=\"dataframe\">\n",
        "  <thead>\n",
        "    <tr style=\"text-align: right;\">\n",
        "      <th></th>\n",
        "      <th>_id</th>\n",
        "      <th>created_at</th>\n",
        "      <th>favorite_count</th>\n",
        "      <th>retweet_count</th>\n",
        "    </tr>\n",
        "  </thead>\n",
        "  <tbody>\n",
        "    <tr>\n",
        "      <th>0</th>\n",
        "      <td> 5361e952e86be60a5f163daa</td>\n",
        "      <td> Thu May 01 06:21:51 +0000 2014</td>\n",
        "      <td> 0</td>\n",
        "      <td> 0</td>\n",
        "    </tr>\n",
        "    <tr>\n",
        "      <th>1</th>\n",
        "      <td> 5361e952e86be60a5f163db4</td>\n",
        "      <td> Thu May 01 06:21:46 +0000 2014</td>\n",
        "      <td> 0</td>\n",
        "      <td> 0</td>\n",
        "    </tr>\n",
        "    <tr>\n",
        "      <th>2</th>\n",
        "      <td> 5361e952e86be60a5f163dab</td>\n",
        "      <td> Thu May 01 06:21:51 +0000 2014</td>\n",
        "      <td> 0</td>\n",
        "      <td> 0</td>\n",
        "    </tr>\n",
        "    <tr>\n",
        "      <th>3</th>\n",
        "      <td> 5361e952e86be60a5f163dac</td>\n",
        "      <td> Thu May 01 06:21:50 +0000 2014</td>\n",
        "      <td> 0</td>\n",
        "      <td> 0</td>\n",
        "    </tr>\n",
        "    <tr>\n",
        "      <th>4</th>\n",
        "      <td> 5361e952e86be60a5f163dad</td>\n",
        "      <td> Thu May 01 06:21:50 +0000 2014</td>\n",
        "      <td> 0</td>\n",
        "      <td> 1</td>\n",
        "    </tr>\n",
        "  </tbody>\n",
        "</table>\n",
        "<p>5 rows \u00d7 4 columns</p>\n",
        "</div>"
       ],
       "metadata": {},
       "output_type": "pyout",
       "prompt_number": 24,
       "text": [
        "                        _id                      created_at  favorite_count  \\\n",
        "0  5361e952e86be60a5f163daa  Thu May 01 06:21:51 +0000 2014               0   \n",
        "1  5361e952e86be60a5f163db4  Thu May 01 06:21:46 +0000 2014               0   \n",
        "2  5361e952e86be60a5f163dab  Thu May 01 06:21:51 +0000 2014               0   \n",
        "3  5361e952e86be60a5f163dac  Thu May 01 06:21:50 +0000 2014               0   \n",
        "4  5361e952e86be60a5f163dad  Thu May 01 06:21:50 +0000 2014               0   \n",
        "\n",
        "   retweet_count  \n",
        "0              0  \n",
        "1              0  \n",
        "2              0  \n",
        "3              0  \n",
        "4              1  \n",
        "\n",
        "[5 rows x 4 columns]"
       ]
      }
     ],
     "prompt_number": 24
    },
    {
     "cell_type": "markdown",
     "metadata": {
      "slideshow": {
       "slide_type": "slide"
      }
     },
     "source": [
      "`.describe()` is a useful method to get the gist of our data."
     ]
    },
    {
     "cell_type": "code",
     "collapsed": false,
     "input": [
      "retweet_favorites.describe()"
     ],
     "language": "python",
     "metadata": {
      "slideshow": {
       "slide_type": "-"
      }
     },
     "outputs": [
      {
       "html": [
        "<div style=\"max-height:1000px;max-width:1500px;overflow:auto;\">\n",
        "<table border=\"1\" class=\"dataframe\">\n",
        "  <thead>\n",
        "    <tr style=\"text-align: right;\">\n",
        "      <th></th>\n",
        "      <th>favorite_count</th>\n",
        "      <th>retweet_count</th>\n",
        "    </tr>\n",
        "  </thead>\n",
        "  <tbody>\n",
        "    <tr>\n",
        "      <th>count</th>\n",
        "      <td> 200.000000</td>\n",
        "      <td> 200.000000</td>\n",
        "    </tr>\n",
        "    <tr>\n",
        "      <th>mean</th>\n",
        "      <td>   0.025000</td>\n",
        "      <td>   2.335000</td>\n",
        "    </tr>\n",
        "    <tr>\n",
        "      <th>std</th>\n",
        "      <td>   0.156517</td>\n",
        "      <td>  15.637951</td>\n",
        "    </tr>\n",
        "    <tr>\n",
        "      <th>min</th>\n",
        "      <td>   0.000000</td>\n",
        "      <td>   0.000000</td>\n",
        "    </tr>\n",
        "    <tr>\n",
        "      <th>25%</th>\n",
        "      <td>   0.000000</td>\n",
        "      <td>   0.000000</td>\n",
        "    </tr>\n",
        "    <tr>\n",
        "      <th>50%</th>\n",
        "      <td>   0.000000</td>\n",
        "      <td>   0.000000</td>\n",
        "    </tr>\n",
        "    <tr>\n",
        "      <th>75%</th>\n",
        "      <td>   0.000000</td>\n",
        "      <td>   0.000000</td>\n",
        "    </tr>\n",
        "    <tr>\n",
        "      <th>max</th>\n",
        "      <td>   1.000000</td>\n",
        "      <td> 194.000000</td>\n",
        "    </tr>\n",
        "  </tbody>\n",
        "</table>\n",
        "<p>8 rows \u00d7 2 columns</p>\n",
        "</div>"
       ],
       "metadata": {},
       "output_type": "pyout",
       "prompt_number": 25,
       "text": [
        "       favorite_count  retweet_count\n",
        "count      200.000000     200.000000\n",
        "mean         0.025000       2.335000\n",
        "std          0.156517      15.637951\n",
        "min          0.000000       0.000000\n",
        "25%          0.000000       0.000000\n",
        "50%          0.000000       0.000000\n",
        "75%          0.000000       0.000000\n",
        "max          1.000000     194.000000\n",
        "\n",
        "[8 rows x 2 columns]"
       ]
      }
     ],
     "prompt_number": 25
    },
    {
     "cell_type": "markdown",
     "metadata": {
      "slideshow": {
       "slide_type": "subslide"
      }
     },
     "source": [
      "However, when applied to a DataFrame, it only describes numeric columns."
     ]
    },
    {
     "cell_type": "code",
     "collapsed": false,
     "input": [
      "retweet_favorites.dtypes"
     ],
     "language": "python",
     "metadata": {
      "slideshow": {
       "slide_type": "-"
      }
     },
     "outputs": [
      {
       "metadata": {},
       "output_type": "pyout",
       "prompt_number": 41,
       "text": [
        "_id               object\n",
        "created_at        object\n",
        "favorite_count     int64\n",
        "retweet_count      int64\n",
        "dtype: object"
       ]
      }
     ],
     "prompt_number": 41
    },
    {
     "cell_type": "markdown",
     "metadata": {
      "slideshow": {
       "slide_type": "subslide"
      }
     },
     "source": [
      "`.describe()` can be called on individual columns (i.e. `Series`), even if they are not numeric."
     ]
    },
    {
     "cell_type": "code",
     "collapsed": false,
     "input": [
      "retweet_favorites.created_at.describe()"
     ],
     "language": "python",
     "metadata": {
      "slideshow": {
       "slide_type": "-"
      }
     },
     "outputs": [
      {
       "metadata": {},
       "output_type": "pyout",
       "prompt_number": 42,
       "text": [
        "count                                200\n",
        "unique                               103\n",
        "top       Mon Apr 28 01:20:14 +0000 2014\n",
        "freq                                   7\n",
        "Name: created_at, dtype: object"
       ]
      }
     ],
     "prompt_number": 42
    },
    {
     "cell_type": "markdown",
     "metadata": {
      "slideshow": {
       "slide_type": "fragment"
      }
     },
     "source": [
      "However, in this case `created_at` is being treated as a string, which is not very helpful. We can fix that with `pandas.to_datetime`:"
     ]
    },
    {
     "cell_type": "code",
     "collapsed": false,
     "input": [
      "retweet_favorites.created_at.map(pd.to_datetime).describe()"
     ],
     "language": "python",
     "metadata": {
      "slideshow": {
       "slide_type": "fragment"
      }
     },
     "outputs": [
      {
       "metadata": {},
       "output_type": "pyout",
       "prompt_number": 43,
       "text": [
        "count                     200\n",
        "unique                    103\n",
        "first     2014-04-28 01:18:51\n",
        "last      2014-04-28 01:20:58\n",
        "top       2014-04-28 01:20:14\n",
        "freq                        7\n",
        "Name: created_at, dtype: object"
       ]
      }
     ],
     "prompt_number": 43
    },
    {
     "cell_type": "markdown",
     "metadata": {
      "slideshow": {
       "slide_type": "notes"
      }
     },
     "source": [
      "Not all that interesting though, since all of these tweets were collected within a couple seconds of each other."
     ]
    },
    {
     "cell_type": "markdown",
     "metadata": {
      "slideshow": {
       "slide_type": "slide"
      }
     },
     "source": [
      "Mongo allows us to access subfields directly."
     ]
    },
    {
     "cell_type": "code",
     "collapsed": false,
     "input": [
      "mentions_followers = list(db.tweets.find(fields=['entities.user_mentions', 'user.followers_count']))\n",
      "pd.DataFrame(mentions_followers).head()"
     ],
     "language": "python",
     "metadata": {
      "slideshow": {
       "slide_type": "-"
      }
     },
     "outputs": [
      {
       "html": [
        "<div style=\"max-height:1000px;max-width:1500px;overflow:auto;\">\n",
        "<table border=\"1\" class=\"dataframe\">\n",
        "  <thead>\n",
        "    <tr style=\"text-align: right;\">\n",
        "      <th></th>\n",
        "      <th>_id</th>\n",
        "      <th>entities</th>\n",
        "      <th>user</th>\n",
        "    </tr>\n",
        "  </thead>\n",
        "  <tbody>\n",
        "    <tr>\n",
        "      <th>0</th>\n",
        "      <td> 535dafe8e86be603c101d934</td>\n",
        "      <td>                            {u'user_mentions': []}</td>\n",
        "      <td> {u'followers_count': 2404}</td>\n",
        "    </tr>\n",
        "    <tr>\n",
        "      <th>1</th>\n",
        "      <td> 535dafe8e86be603c101d938</td>\n",
        "      <td>                            {u'user_mentions': []}</td>\n",
        "      <td>   {u'followers_count': 28}</td>\n",
        "    </tr>\n",
        "    <tr>\n",
        "      <th>2</th>\n",
        "      <td> 535dafe8e86be603c101d933</td>\n",
        "      <td> {u'user_mentions': [{u'indices': [3, 14], u'sc...</td>\n",
        "      <td>   {u'followers_count': 10}</td>\n",
        "    </tr>\n",
        "    <tr>\n",
        "      <th>3</th>\n",
        "      <td> 535dafe8e86be603c101d935</td>\n",
        "      <td> {u'user_mentions': [{u'indices': [0, 12], u'sc...</td>\n",
        "      <td>   {u'followers_count': 43}</td>\n",
        "    </tr>\n",
        "    <tr>\n",
        "      <th>4</th>\n",
        "      <td> 535dafe8e86be603c101d936</td>\n",
        "      <td> {u'user_mentions': [{u'indices': [3, 16], u'sc...</td>\n",
        "      <td>  {u'followers_count': 181}</td>\n",
        "    </tr>\n",
        "  </tbody>\n",
        "</table>\n",
        "<p>5 rows \u00d7 3 columns</p>\n",
        "</div>"
       ],
       "metadata": {},
       "output_type": "pyout",
       "prompt_number": 44,
       "text": [
        "                        _id  \\\n",
        "0  535dafe8e86be603c101d934   \n",
        "1  535dafe8e86be603c101d938   \n",
        "2  535dafe8e86be603c101d933   \n",
        "3  535dafe8e86be603c101d935   \n",
        "4  535dafe8e86be603c101d936   \n",
        "\n",
        "                                            entities  \\\n",
        "0                             {u'user_mentions': []}   \n",
        "1                             {u'user_mentions': []}   \n",
        "2  {u'user_mentions': [{u'indices': [3, 14], u'sc...   \n",
        "3  {u'user_mentions': [{u'indices': [0, 12], u'sc...   \n",
        "4  {u'user_mentions': [{u'indices': [3, 16], u'sc...   \n",
        "\n",
        "                         user  \n",
        "0  {u'followers_count': 2404}  \n",
        "1    {u'followers_count': 28}  \n",
        "2    {u'followers_count': 10}  \n",
        "3    {u'followers_count': 43}  \n",
        "4   {u'followers_count': 181}  \n",
        "\n",
        "[5 rows x 3 columns]"
       ]
      }
     ],
     "prompt_number": 44
    },
    {
     "cell_type": "markdown",
     "metadata": {
      "slideshow": {
       "slide_type": "subslide"
      }
     },
     "source": [
      "Pandas doesn't know how to parse the sub-documents however, so we must tell it explicitly:"
     ]
    },
    {
     "cell_type": "code",
     "collapsed": false,
     "input": [
      "mentions_followers_df = pd.DataFrame({'user_mentions': len(tweet['entities']['user_mentions']), \n",
      "              'followers_count': tweet['user'].get('followers_count')}\n",
      "                                     for tweet in mentions_followers)\n",
      "mentions_followers_df.head()"
     ],
     "language": "python",
     "metadata": {
      "slideshow": {
       "slide_type": "-"
      }
     },
     "outputs": [
      {
       "html": [
        "<div style=\"max-height:1000px;max-width:1500px;overflow:auto;\">\n",
        "<table border=\"1\" class=\"dataframe\">\n",
        "  <thead>\n",
        "    <tr style=\"text-align: right;\">\n",
        "      <th></th>\n",
        "      <th>followers_count</th>\n",
        "      <th>user_mentions</th>\n",
        "    </tr>\n",
        "  </thead>\n",
        "  <tbody>\n",
        "    <tr>\n",
        "      <th>0</th>\n",
        "      <td> 2404</td>\n",
        "      <td> 0</td>\n",
        "    </tr>\n",
        "    <tr>\n",
        "      <th>1</th>\n",
        "      <td>   28</td>\n",
        "      <td> 0</td>\n",
        "    </tr>\n",
        "    <tr>\n",
        "      <th>2</th>\n",
        "      <td>   10</td>\n",
        "      <td> 1</td>\n",
        "    </tr>\n",
        "    <tr>\n",
        "      <th>3</th>\n",
        "      <td>   43</td>\n",
        "      <td> 1</td>\n",
        "    </tr>\n",
        "    <tr>\n",
        "      <th>4</th>\n",
        "      <td>  181</td>\n",
        "      <td> 1</td>\n",
        "    </tr>\n",
        "  </tbody>\n",
        "</table>\n",
        "<p>5 rows \u00d7 2 columns</p>\n",
        "</div>"
       ],
       "metadata": {},
       "output_type": "pyout",
       "prompt_number": 45,
       "text": [
        "   followers_count  user_mentions\n",
        "0             2404              0\n",
        "1               28              0\n",
        "2               10              1\n",
        "3               43              1\n",
        "4              181              1\n",
        "\n",
        "[5 rows x 2 columns]"
       ]
      }
     ],
     "prompt_number": 45
    },
    {
     "cell_type": "markdown",
     "metadata": {
      "slideshow": {
       "slide_type": "slide"
      }
     },
     "source": [
      "Perhaps `user_mentions` and `followers_count` are correlated?"
     ]
    },
    {
     "cell_type": "code",
     "collapsed": false,
     "input": [
      "% matplotlib inline\n",
      "plt.scatter(mentions_followers_df.user_mentions, mentions_followers_df.followers_count)\n",
      "mentions_followers_df.corr()"
     ],
     "language": "python",
     "metadata": {
      "slideshow": {
       "slide_type": "-"
      }
     },
     "outputs": [
      {
       "html": [
        "<div style=\"max-height:1000px;max-width:1500px;overflow:auto;\">\n",
        "<table border=\"1\" class=\"dataframe\">\n",
        "  <thead>\n",
        "    <tr style=\"text-align: right;\">\n",
        "      <th></th>\n",
        "      <th>followers_count</th>\n",
        "      <th>user_mentions</th>\n",
        "    </tr>\n",
        "  </thead>\n",
        "  <tbody>\n",
        "    <tr>\n",
        "      <th>followers_count</th>\n",
        "      <td> 1.000000</td>\n",
        "      <td>-0.079164</td>\n",
        "    </tr>\n",
        "    <tr>\n",
        "      <th>user_mentions</th>\n",
        "      <td>-0.079164</td>\n",
        "      <td> 1.000000</td>\n",
        "    </tr>\n",
        "  </tbody>\n",
        "</table>\n",
        "<p>2 rows \u00d7 2 columns</p>\n",
        "</div>"
       ],
       "metadata": {},
       "output_type": "pyout",
       "prompt_number": 46,
       "text": [
        "                 followers_count  user_mentions\n",
        "followers_count         1.000000      -0.079164\n",
        "user_mentions          -0.079164       1.000000\n",
        "\n",
        "[2 rows x 2 columns]"
       ]
      },
      {
       "metadata": {},
       "output_type": "display_data",
       "png": "[encoded data removed]",
       "text": [
        "<matplotlib.figure.Figure at 0x1084df9d0>"
       ]
      }
     ],
     "prompt_number": 46
    },
    {
     "cell_type": "markdown",
     "metadata": {
      "slideshow": {
       "slide_type": "fragment"
      }
     },
     "source": [
      "Perhaps not."
     ]
    },
    {
     "cell_type": "markdown",
     "metadata": {
      "slideshow": {
       "slide_type": "slide"
      }
     },
     "source": [
      "Lab\n",
      "============\n",
      "1-2 Pairs\n",
      "------------"
     ]
    },
    {
     "cell_type": "markdown",
     "metadata": {
      "slideshow": {
       "slide_type": "notes"
      }
     },
     "source": [
      "Raise two fingers if you understand the material well.  \n",
      "Raise one finger if you understand this material OK.  \n",
      "Now, 1 find a 2 and sit next to them. While you work through this exercise, only 1's can type."
     ]
    },
    {
     "cell_type": "markdown",
     "metadata": {
      "slideshow": {
       "slide_type": "fragment"
      }
     },
     "source": [
      "The [Yahoo! Where On Earth ID](https://developer.yahoo.com/geo/geoplanet/) of Canada is 23424775.  \n",
      "Use it to find Twitter trends in Canada and compare it to US trends. What's the difference between them?  \n",
      "\n",
      "- Insert the last 100 tweets for all Canada-only trends into a `canada` collection.  \n",
      "- Insert the last 100 tweets for all US-only trends into a `us` collections.  \n",
      "- For this (small and not very representative) sample, which users have the highest `follower_count`?"
     ]
    },
    {
     "cell_type": "code",
     "collapsed": false,
     "input": [
      "# INITIAL SET-UP FROM ORIGINAL LAB NOTEBOOK\n",
      "# standard library:\n",
      "import os  \n",
      "\n",
      "from pprint import pprint\n",
      "\n",
      "# other modules:\n",
      "import matplotlib.pyplot as plt\n",
      "import pandas as pd\n",
      "import twitter\n",
      "import yaml\n",
      "\n",
      "from pymongo import MongoClient"
     ],
     "language": "python",
     "metadata": {},
     "outputs": [],
     "prompt_number": 1
    },
    {
     "cell_type": "code",
     "collapsed": false,
     "input": [
      "credentials = yaml.load(open(os.path.expanduser('/Users/crista/Desktop/gads2014course/api_cred.yml')))\n",
      "\n",
      "auth = twitter.oauth.OAuth(credentials['ACCESS_TOKEN'], \n",
      "                           credentials['ACCESS_TOKEN_SECRET'],\n",
      "                           credentials['API_KEY'],\n",
      "                           credentials['API_SECRET'])\n",
      "\n",
      "twitter_api = twitter.Twitter(auth=auth)"
     ],
     "language": "python",
     "metadata": {},
     "outputs": [],
     "prompt_number": 2
    },
    {
     "cell_type": "code",
     "collapsed": false,
     "input": [
      "# GETTING SOME TRENDS FOR CANADA AND US\n",
      "CANADA_WOE_ID = 23424775\n",
      "US_WOE_ID = 23424977\n",
      "\n",
      "# Prefix ID with the underscore for query string parameterization.\n",
      "# Without the underscore, the twitter package appends the ID value\n",
      "# to the URL itself as a special case keyword argument.\n",
      "\n",
      "canada_trends = twitter_api.trends.place(_id=CANADA_WOE_ID)\n",
      "us_trends = twitter_api.trends.place(_id=US_WOE_ID)\n",
      "\n",
      "pprint(canada_trends)"
     ],
     "language": "python",
     "metadata": {},
     "outputs": [
      {
       "output_type": "stream",
       "stream": "stdout",
       "text": [
        "[{u'as_of': u'2014-05-03T18:13:55Z',\n",
        "  u'created_at': u'2014-05-03T18:08:23Z',\n",
        "  u'locations': [{u'name': u'Canada', u'woeid': 23424775}],\n",
        "  u'trends': [{u'name': u'#CHUMFMRaptors',\n",
        "               u'promoted_content': None,\n",
        "               u'query': u'%23CHUMFMRaptors',\n",
        "               u'url': u'http://twitter.com/search?q=%23CHUMFMRaptors'},\n",
        "              {u'name': u'Mike Weaver',\n",
        "               u'promoted_content': None,\n",
        "               u'query': u'%22Mike+Weaver%22',\n",
        "               u'url': u'http://twitter.com/search?q=%22Mike+Weaver%22'},\n",
        "              {u'name': u'#ScottsUsedHere',\n",
        "               u'promoted_content': None,\n",
        "               u'query': u'%23ScottsUsedHere',\n",
        "               u'url': u'http://twitter.com/search?q=%23ScottsUsedHere'},\n",
        "              {u'name': u'Ross Barkley',\n",
        "               u'promoted_content': None,\n",
        "               u'query': u'%22Ross+Barkley%22',\n",
        "               u'url': u'http://twitter.com/search?q=%22Ross+Barkley%22'},\n",
        "              {u'name': u'#gafesummit',\n",
        "               u'promoted_content': None,\n",
        "               u'query': u'%23gafesummit',\n",
        "               u'url': u'http://twitter.com/search?q=%23gafesummit'},\n",
        "              {u'name': u'#Chara',\n",
        "               u'promoted_content': None,\n",
        "               u'query': u'%23Chara',\n",
        "               u'url': u'http://twitter.com/search?q=%23Chara'},\n",
        "              {u'name': u'#FreeComicBookDay',\n",
        "               u'promoted_content': None,\n",
        "               u'query': u'%23FreeComicBookDay',\n",
        "               u'url': u'http://twitter.com/search?q=%23FreeComicBookDay'},\n",
        "              {u'name': u'Everton',\n",
        "               u'promoted_content': None,\n",
        "               u'query': u'Everton',\n",
        "               u'url': u'http://twitter.com/search?q=Everton'},\n",
        "              {u'name': u'Prust',\n",
        "               u'promoted_content': None,\n",
        "               u'query': u'Prust',\n",
        "               u'url': u'http://twitter.com/search?q=Prust'},\n",
        "              {u'name': u'Vanek',\n",
        "               u'promoted_content': None,\n",
        "               u'query': u'Vanek',\n",
        "               u'url': u'http://twitter.com/search?q=Vanek'}]}]\n"
       ]
      }
     ],
     "prompt_number": 3
    },
    {
     "cell_type": "code",
     "collapsed": false,
     "input": [
      "pprint(us_trends)"
     ],
     "language": "python",
     "metadata": {},
     "outputs": [
      {
       "output_type": "stream",
       "stream": "stdout",
       "text": [
        "[{u'as_of': u'2014-05-03T18:13:55Z',\n",
        "  u'created_at': u'2014-05-03T18:08:23Z',\n",
        "  u'locations': [{u'name': u'United States', u'woeid': 23424977}],\n",
        "  u'trends': [{u'name': u'#VictoriaLiveChat',\n",
        "               u'promoted_content': None,\n",
        "               u'query': u'%23VictoriaLiveChat',\n",
        "               u'url': u'http://twitter.com/search?q=%23VictoriaLiveChat'},\n",
        "              {u'name': u'Happy Derby Day',\n",
        "               u'promoted_content': None,\n",
        "               u'query': u'%22Happy+Derby+Day%22',\n",
        "               u'url': u'http://twitter.com/search?q=%22Happy+Derby+Day%22'},\n",
        "              {u'name': u'Brian Scott',\n",
        "               u'promoted_content': None,\n",
        "               u'query': u'%22Brian+Scott%22',\n",
        "               u'url': u'http://twitter.com/search?q=%22Brian+Scott%22'},\n",
        "              {u'name': u'Carey Price',\n",
        "               u'promoted_content': None,\n",
        "               u'query': u'%22Carey+Price%22',\n",
        "               u'url': u'http://twitter.com/search?q=%22Carey+Price%22'},\n",
        "              {u'name': u'#FreeComicBookDay',\n",
        "               u'promoted_content': None,\n",
        "               u'query': u'%23FreeComicBookDay',\n",
        "               u'url': u'http://twitter.com/search?q=%23FreeComicBookDay'},\n",
        "              {u'name': u'Naismith',\n",
        "               u'promoted_content': None,\n",
        "               u'query': u'Naismith',\n",
        "               u'url': u'http://twitter.com/search?q=Naismith'},\n",
        "              {u'name': u'#HappyBirthdayLukeAndJai',\n",
        "               u'promoted_content': None,\n",
        "               u'query': u'%23HappyBirthdayLukeAndJai',\n",
        "               u'url': u'http://twitter.com/search?q=%23HappyBirthdayLukeAndJai'},\n",
        "              {u'name': u'The SAT',\n",
        "               u'promoted_content': None,\n",
        "               u'query': u'%22The+SAT%22',\n",
        "               u'url': u'http://twitter.com/search?q=%22The+SAT%22'},\n",
        "              {u'name': u'OpTic Nation',\n",
        "               u'promoted_content': None,\n",
        "               u'query': u'%22OpTic+Nation%22',\n",
        "               u'url': u'http://twitter.com/search?q=%22OpTic+Nation%22'},\n",
        "              {u'name': u'#Twinspics',\n",
        "               u'promoted_content': None,\n",
        "               u'query': u'%23Twinspics',\n",
        "               u'url': u'http://twitter.com/search?q=%23Twinspics'}]}]\n"
       ]
      }
     ],
     "prompt_number": 4
    },
    {
     "cell_type": "code",
     "collapsed": false,
     "input": [
      "# EXTRACTING LIST OF TRENDS FOR EACH COUNTRY\n",
      "canada_trends_set = set([trend['name'] for trends in canada_trends\n",
      "                        for trend in trends['trends']])\n",
      "\n",
      "us_trends_set = set([trend['name'] for trends in us_trends\n",
      "                     for trend in trends['trends']]) \n",
      "\n",
      "shared_trends = canada_trends_set.intersection(us_trends_set)\n",
      "\n",
      "print('number in canada_trends: ' + str(len(canada_trends_set)))\n",
      "print('number in us_trends: ' + str(len(us_trends_set)))\n",
      "print('number in intersection: ' + str(len(shared_trends)))\n",
      "print('shared trends:')\n",
      "shared_trends"
     ],
     "language": "python",
     "metadata": {},
     "outputs": [
      {
       "output_type": "stream",
       "stream": "stdout",
       "text": [
        "number in canada_trends: 10\n",
        "number in us_trends: 10\n",
        "number in intersection: 1\n",
        "shared trends:\n"
       ]
      },
      {
       "metadata": {},
       "output_type": "pyout",
       "prompt_number": 6,
       "text": [
        "{u'#FreeComicBookDay'}"
       ]
      }
     ],
     "prompt_number": 6
    },
    {
     "cell_type": "code",
     "collapsed": false,
     "input": [
      "# SETS OF COUNTRY-ONLY TRENDS\n",
      "canadaonly_trends_set = canada_trends_set.difference(us_trends_set)\n",
      "usonly_trends_set = us_trends_set.difference(canada_trends_set)\n",
      "print('number in canadaonly_trends: ' + str(len(canadaonly_trends_set)))\n",
      "print('number in usonly_trends: ' + str(len(usonly_trends_set)))"
     ],
     "language": "python",
     "metadata": {},
     "outputs": [
      {
       "output_type": "stream",
       "stream": "stdout",
       "text": [
        "number in canadaonly_trends: 9\n",
        "number in usonly_trends: 9\n"
       ]
      }
     ],
     "prompt_number": 7
    },
    {
     "cell_type": "code",
     "collapsed": false,
     "input": [
      "usonly_trends_set"
     ],
     "language": "python",
     "metadata": {},
     "outputs": [
      {
       "metadata": {},
       "output_type": "pyout",
       "prompt_number": 8,
       "text": [
        "{u'#HappyBirthdayLukeAndJai',\n",
        " u'#Twinspics',\n",
        " u'#VictoriaLiveChat',\n",
        " u'Brian Scott',\n",
        " u'Carey Price',\n",
        " u'Happy Derby Day',\n",
        " u'Naismith',\n",
        " u'OpTic Nation',\n",
        " u'The SAT'}"
       ]
      }
     ],
     "prompt_number": 8
    },
    {
     "cell_type": "code",
     "collapsed": false,
     "input": [
      "canadaonly_trends_set"
     ],
     "language": "python",
     "metadata": {},
     "outputs": [
      {
       "metadata": {},
       "output_type": "pyout",
       "prompt_number": 9,
       "text": [
        "{u'#CHUMFMRaptors',\n",
        " u'#Chara',\n",
        " u'#ScottsUsedHere',\n",
        " u'#gafesummit',\n",
        " u'Everton',\n",
        " u'Mike Weaver',\n",
        " u'Prust',\n",
        " u'Ross Barkley',\n",
        " u'Vanek'}"
       ]
      }
     ],
     "prompt_number": 9
    },
    {
     "cell_type": "code",
     "collapsed": false,
     "input": [
      "# CONVERTING SETS TO LISTS FOR EASY ITERATION\n",
      "canadaonly_trends_set_list = list(canadaonly_trends_set)\n",
      "usonly_trends_set_list = list(usonly_trends_set)\n",
      "canadaonly_trends_set_list[0]"
     ],
     "language": "python",
     "metadata": {},
     "outputs": [
      {
       "metadata": {},
       "output_type": "pyout",
       "prompt_number": 11,
       "text": [
        "u'#CHUMFMRaptors'"
       ]
      }
     ],
     "prompt_number": 11
    },
    {
     "cell_type": "code",
     "collapsed": false,
     "input": [
      "c = MongoClient()\n",
      "db = c.twitter"
     ],
     "language": "python",
     "metadata": {},
     "outputs": [],
     "prompt_number": 13
    },
    {
     "cell_type": "code",
     "collapsed": false,
     "input": [
      "db.collection_names()"
     ],
     "language": "python",
     "metadata": {},
     "outputs": [
      {
       "metadata": {},
       "output_type": "pyout",
       "prompt_number": 28,
       "text": [
        "[u'tweets', u'system.indexes']"
       ]
      }
     ],
     "prompt_number": 28
    },
    {
     "cell_type": "code",
     "collapsed": false,
     "input": [
      "# PULLING 100 TWEETS FOR EACH TREND IN CANADA-ONLY LIST, PUTTING INTO CANADA COLLECTION\n",
      "count = 100\n",
      "for i in range(len(canadaonly_trends_set_list)):\n",
      "    ca_trendname = canadaonly_trends_set_list[i]\n",
      "    ca_search_results = twitter_api.search.tweets(q=ca_trendname, count=count)\n",
      "    ca_statuses = ca_search_results['statuses']\n",
      "    ca_statuses_ids = db.canada.insert(ca_statuses)"
     ],
     "language": "python",
     "metadata": {},
     "outputs": [],
     "prompt_number": 29
    },
    {
     "cell_type": "code",
     "collapsed": false,
     "input": [
      "db.collection_names()"
     ],
     "language": "python",
     "metadata": {},
     "outputs": [
      {
       "metadata": {},
       "output_type": "pyout",
       "prompt_number": 31,
       "text": [
        "[u'tweets', u'system.indexes', u'canada']"
       ]
      }
     ],
     "prompt_number": 31
    },
    {
     "cell_type": "code",
     "collapsed": false,
     "input": [
      "db.canada.count()"
     ],
     "language": "python",
     "metadata": {},
     "outputs": [
      {
       "metadata": {},
       "output_type": "pyout",
       "prompt_number": 33,
       "text": [
        "900"
       ]
      }
     ],
     "prompt_number": 33
    },
    {
     "cell_type": "code",
     "collapsed": false,
     "input": [
      "# PULLING LIST OF FOLLOWER_COUNTS\n",
      "ca_followers = list(db.canada.find(fields=['user.followers_count']))\n",
      "ca_followers[0]"
     ],
     "language": "python",
     "metadata": {},
     "outputs": [
      {
       "metadata": {},
       "output_type": "pyout",
       "prompt_number": 37,
       "text": [
        "{u'_id': ObjectId('536536b4e86be60d4245a6f6'),\n",
        " u'user': {u'followers_count': 11}}"
       ]
      }
     ],
     "prompt_number": 37
    },
    {
     "cell_type": "code",
     "collapsed": false,
     "input": [
      "ca_followers_df = pd.DataFrame({'followers_count': tweet['user'].get('followers_count')}\n",
      "                               for tweet in ca_followers)"
     ],
     "language": "python",
     "metadata": {},
     "outputs": [],
     "prompt_number": 39
    },
    {
     "cell_type": "code",
     "collapsed": false,
     "input": [
      "# ANSWER FOR CANADA:  MAX NUMBER OF FOLLOWERS IS 559,073\n",
      "ca_followers_df.max()"
     ],
     "language": "python",
     "metadata": {},
     "outputs": [
      {
       "metadata": {},
       "output_type": "pyout",
       "prompt_number": 47,
       "text": [
        "followers_count    559073\n",
        "dtype: int64"
       ]
      }
     ],
     "prompt_number": 47
    },
    {
     "cell_type": "code",
     "collapsed": false,
     "input": [
      "# double-checking that I accessed dataframe correctly\n",
      "x = [ca_followers_df[u'followers_count'][i] for i in range(900)]\n",
      "max(x)"
     ],
     "language": "python",
     "metadata": {},
     "outputs": [
      {
       "metadata": {},
       "output_type": "pyout",
       "prompt_number": 55,
       "text": [
        "559073"
       ]
      }
     ],
     "prompt_number": 55
    },
    {
     "cell_type": "code",
     "collapsed": false,
     "input": [
      "# PULLING 100 TWEETS FOR EACH TREND IN US-ONLY LIST, PUTTING INTO US COLLECTION\n",
      "for i in range(len(usonly_trends_set_list)):\n",
      "    us_trendname =usonly_trends_set_list[i]\n",
      "    us_search_results = twitter_api.search.tweets(q=us_trendname, count=count)\n",
      "    us_statuses = us_search_results['statuses']\n",
      "    us_statuses_ids = db.us.insert(us_statuses)"
     ],
     "language": "python",
     "metadata": {},
     "outputs": [],
     "prompt_number": 61
    },
    {
     "cell_type": "code",
     "collapsed": false,
     "input": [
      "db.collection_names()"
     ],
     "language": "python",
     "metadata": {},
     "outputs": [
      {
       "metadata": {},
       "output_type": "pyout",
       "prompt_number": 63,
       "text": [
        "[u'tweets', u'system.indexes', u'canada', u'us']"
       ]
      }
     ],
     "prompt_number": 63
    },
    {
     "cell_type": "code",
     "collapsed": false,
     "input": [
      "db.us.count()"
     ],
     "language": "python",
     "metadata": {},
     "outputs": [
      {
       "metadata": {},
       "output_type": "pyout",
       "prompt_number": 64,
       "text": [
        "900"
       ]
      }
     ],
     "prompt_number": 64
    },
    {
     "cell_type": "code",
     "collapsed": false,
     "input": [
      "# PULLING LIST OF FOLLOWER_COUNTS\n",
      "us_followers = list(db.us.find(fields=['user.followers_count']))\n",
      "us_followers_df = pd.DataFrame({'followers_count': tweet['user'].get('followers_count')}\n",
      "                               for tweet in us_followers)"
     ],
     "language": "python",
     "metadata": {},
     "outputs": [],
     "prompt_number": 65
    },
    {
     "cell_type": "code",
     "collapsed": false,
     "input": [
      "# ANSWER FOR US:  MAX NUMBER OF FOLLOWERS IS 262,754\n",
      "us_followers_df.max()"
     ],
     "language": "python",
     "metadata": {},
     "outputs": [
      {
       "metadata": {},
       "output_type": "pyout",
       "prompt_number": 66,
       "text": [
        "followers_count    262754\n",
        "dtype: int64"
       ]
      }
     ],
     "prompt_number": 66
    },
    {
     "cell_type": "markdown",
     "metadata": {
      "slideshow": {
       "slide_type": "notes"
      }
     },
     "source": [
      "US has maximum follower_count of 262,754, while CA has 559,073.  So CA is greater."
     ]
    },
    {
     "cell_type": "markdown",
     "metadata": {
      "slideshow": {
       "slide_type": "fragment"
      }
     },
     "source": [
      "Individually:\n",
      "------------\n",
      "Find tweets where `'retweet_count': {\"$gt\": 0}`.  \n",
      "What is their `count`?  \n",
      "Is there anything about them that stands out as retweetable?"
     ]
    },
    {
     "cell_type": "code",
     "collapsed": false,
     "input": [
      "db.canada.find_one()"
     ],
     "language": "python",
     "metadata": {},
     "outputs": [
      {
       "metadata": {},
       "output_type": "pyout",
       "prompt_number": 69,
       "text": [
        "{u'_id': ObjectId('536536b4e86be60d4245a6f6'),\n",
        " u'contributors': None,\n",
        " u'coordinates': None,\n",
        " u'created_at': u'Sat May 03 18:33:03 +0000 2014',\n",
        " u'entities': {u'hashtags': [{u'indices': [0, 14], u'text': u'CHUMFMRaptors'}],\n",
        "  u'symbols': [],\n",
        "  u'urls': [],\n",
        "  u'user_mentions': [{u'id': 28595747,\n",
        "    u'id_str': u'28595747',\n",
        "    u'indices': [15, 26],\n",
        "    u'name': u'CHUM FM',\n",
        "    u'screen_name': u'1045CHUMFM'}]},\n",
        " u'favorite_count': 0,\n",
        " u'favorited': False,\n",
        " u'geo': None,\n",
        " u'id': 462661128158339072L,\n",
        " u'id_str': u'462661128158339072',\n",
        " u'in_reply_to_screen_name': None,\n",
        " u'in_reply_to_status_id': None,\n",
        " u'in_reply_to_status_id_str': None,\n",
        " u'in_reply_to_user_id': None,\n",
        " u'in_reply_to_user_id_str': None,\n",
        " u'lang': u'vi',\n",
        " u'metadata': {u'iso_language_code': u'vi', u'result_type': u'recent'},\n",
        " u'place': None,\n",
        " u'retweet_count': 0,\n",
        " u'retweeted': False,\n",
        " u'source': u'web',\n",
        " u'text': u'#CHUMFMRaptors @1045CHUMFM 364',\n",
        " u'truncated': False,\n",
        " u'user': {u'contributors_enabled': False,\n",
        "  u'created_at': u'Tue Apr 16 02:14:48 +0000 2013',\n",
        "  u'default_profile': True,\n",
        "  u'default_profile_image': False,\n",
        "  u'description': u'Eminem. Raptors.',\n",
        "  u'entities': {u'description': {u'urls': []}},\n",
        "  u'favourites_count': 4,\n",
        "  u'follow_request_sent': False,\n",
        "  u'followers_count': 11,\n",
        "  u'following': False,\n",
        "  u'friends_count': 55,\n",
        "  u'geo_enabled': False,\n",
        "  u'id': 1355844019,\n",
        "  u'id_str': u'1355844019',\n",
        "  u'is_translation_enabled': False,\n",
        "  u'is_translator': False,\n",
        "  u'lang': u'en',\n",
        "  u'listed_count': 1,\n",
        "  u'location': u'Canada',\n",
        "  u'name': u'WE THE NORTH ',\n",
        "  u'notifications': False,\n",
        "  u'profile_background_color': u'C0DEED',\n",
        "  u'profile_background_image_url': u'http://abs.twimg.com/images/themes/theme1/bg.png',\n",
        "  u'profile_background_image_url_https': u'https://abs.twimg.com/images/themes/theme1/bg.png',\n",
        "  u'profile_background_tile': False,\n",
        "  u'profile_banner_url': u'https://pbs.twimg.com/profile_banners/1355844019/1387161922',\n",
        "  u'profile_image_url': u'http://pbs.twimg.com/profile_images/462414475380154368/8dytqnU4_normal.jpeg',\n",
        "  u'profile_image_url_https': u'https://pbs.twimg.com/profile_images/462414475380154368/8dytqnU4_normal.jpeg',\n",
        "  u'profile_link_color': u'0084B4',\n",
        "  u'profile_sidebar_border_color': u'C0DEED',\n",
        "  u'profile_sidebar_fill_color': u'DDEEF6',\n",
        "  u'profile_text_color': u'333333',\n",
        "  u'profile_use_background_image': True,\n",
        "  u'protected': False,\n",
        "  u'screen_name': u'Mahaakhaan34',\n",
        "  u'statuses_count': 776,\n",
        "  u'time_zone': u'Eastern Time (US & Canada)',\n",
        "  u'url': None,\n",
        "  u'utc_offset': -14400,\n",
        "  u'verified': False}}"
       ]
      }
     ],
     "prompt_number": 69
    },
    {
     "cell_type": "code",
     "collapsed": false,
     "input": [
      "pop_ca_tweets = db.canada.find({'retweet_count': {\"$gt\": 0}})\n",
      "pop_ca_tweets.count()"
     ],
     "language": "python",
     "metadata": {},
     "outputs": [
      {
       "metadata": {},
       "output_type": "pyout",
       "prompt_number": 83,
       "text": [
        "394"
       ]
      }
     ],
     "prompt_number": 83
    },
    {
     "cell_type": "code",
     "collapsed": false,
     "input": [
      "pop_us_tweets = db.us.find({'retweet_count': {\"$gt\": 0}})\n",
      "pop_us_tweets.count()"
     ],
     "language": "python",
     "metadata": {},
     "outputs": [
      {
       "metadata": {},
       "output_type": "pyout",
       "prompt_number": 84,
       "text": [
        "353"
       ]
      }
     ],
     "prompt_number": 84
    },
    {
     "cell_type": "code",
     "collapsed": false,
     "input": [
      "unpop_ca_tweets = db.canada.find({'retweet_count': {\"$lte\": 0}})\n",
      "unpop_ca_tweets.count()"
     ],
     "language": "python",
     "metadata": {},
     "outputs": [
      {
       "metadata": {},
       "output_type": "pyout",
       "prompt_number": 85,
       "text": [
        "506"
       ]
      }
     ],
     "prompt_number": 85
    },
    {
     "cell_type": "code",
     "collapsed": false,
     "input": [
      "unpop_us_tweets = db.us.find({'retweet_count': {\"$lte\": 0}})\n",
      "unpop_us_tweets.count()"
     ],
     "language": "python",
     "metadata": {},
     "outputs": [
      {
       "metadata": {},
       "output_type": "pyout",
       "prompt_number": 86,
       "text": [
        "547"
       ]
      }
     ],
     "prompt_number": 86
    },
    {
     "cell_type": "code",
     "collapsed": false,
     "input": [
      "pop_ca_tweets = list(db.canada.find({'retweet_count': {\"$gt\": 0}},\n",
      "                fields=['retweet_count','favorite_count',\n",
      "                    'entities.user_mentions','entities.hashtags',\n",
      "                    'user.followers_count','user.friends_count']))"
     ],
     "language": "python",
     "metadata": {},
     "outputs": [],
     "prompt_number": 98
    },
    {
     "cell_type": "code",
     "collapsed": false,
     "input": [
      "pop_ca_tweets_df = pd.DataFrame({'retweet_count': tweet['retweet_count'],\n",
      "                'favorite_count': tweet['favorite_count'],\n",
      "                'user_mentions': len(tweet['entities']['user_mentions']), \n",
      "                'hashtags': len(tweet['entities']['hashtags']),\n",
      "                'followers_count': tweet['user'].get('followers_count'),\n",
      "                'friends_count': tweet['user'].get('friends_count')}\n",
      "                                     for tweet in pop_ca_tweets)\n",
      "pop_ca_tweets_df.head()"
     ],
     "language": "python",
     "metadata": {},
     "outputs": [
      {
       "html": [
        "<div style=\"max-height:1000px;max-width:1500px;overflow:auto;\">\n",
        "<table border=\"1\" class=\"dataframe\">\n",
        "  <thead>\n",
        "    <tr style=\"text-align: right;\">\n",
        "      <th></th>\n",
        "      <th>favorite_count</th>\n",
        "      <th>followers_count</th>\n",
        "      <th>friends_count</th>\n",
        "      <th>hashtags</th>\n",
        "      <th>retweet_count</th>\n",
        "      <th>user_mentions</th>\n",
        "    </tr>\n",
        "  </thead>\n",
        "  <tbody>\n",
        "    <tr>\n",
        "      <th>0</th>\n",
        "      <td> 0</td>\n",
        "      <td>   159</td>\n",
        "      <td>  181</td>\n",
        "      <td> 1</td>\n",
        "      <td>  2</td>\n",
        "      <td> 2</td>\n",
        "    </tr>\n",
        "    <tr>\n",
        "      <th>1</th>\n",
        "      <td> 0</td>\n",
        "      <td> 18740</td>\n",
        "      <td> 1340</td>\n",
        "      <td> 1</td>\n",
        "      <td>  2</td>\n",
        "      <td> 2</td>\n",
        "    </tr>\n",
        "    <tr>\n",
        "      <th>2</th>\n",
        "      <td> 0</td>\n",
        "      <td>   133</td>\n",
        "      <td>   86</td>\n",
        "      <td> 1</td>\n",
        "      <td> 20</td>\n",
        "      <td> 2</td>\n",
        "    </tr>\n",
        "    <tr>\n",
        "      <th>3</th>\n",
        "      <td> 0</td>\n",
        "      <td>    11</td>\n",
        "      <td>   55</td>\n",
        "      <td> 1</td>\n",
        "      <td>  2</td>\n",
        "      <td> 1</td>\n",
        "    </tr>\n",
        "    <tr>\n",
        "      <th>4</th>\n",
        "      <td> 0</td>\n",
        "      <td>     1</td>\n",
        "      <td>    6</td>\n",
        "      <td> 1</td>\n",
        "      <td>  6</td>\n",
        "      <td> 1</td>\n",
        "    </tr>\n",
        "  </tbody>\n",
        "</table>\n",
        "<p>5 rows \u00d7 6 columns</p>\n",
        "</div>"
       ],
       "metadata": {},
       "output_type": "pyout",
       "prompt_number": 99,
       "text": [
        "   favorite_count  followers_count  friends_count  hashtags  retweet_count  \\\n",
        "0               0              159            181         1              2   \n",
        "1               0            18740           1340         1              2   \n",
        "2               0              133             86         1             20   \n",
        "3               0               11             55         1              2   \n",
        "4               0                1              6         1              6   \n",
        "\n",
        "   user_mentions  \n",
        "0              2  \n",
        "1              2  \n",
        "2              2  \n",
        "3              1  \n",
        "4              1  \n",
        "\n",
        "[5 rows x 6 columns]"
       ]
      }
     ],
     "prompt_number": 99
    },
    {
     "cell_type": "code",
     "collapsed": false,
     "input": [
      "pop_ca_tweets_df.describe()"
     ],
     "language": "python",
     "metadata": {},
     "outputs": [
      {
       "html": [
        "<div style=\"max-height:1000px;max-width:1500px;overflow:auto;\">\n",
        "<table border=\"1\" class=\"dataframe\">\n",
        "  <thead>\n",
        "    <tr style=\"text-align: right;\">\n",
        "      <th></th>\n",
        "      <th>favorite_count</th>\n",
        "      <th>followers_count</th>\n",
        "      <th>friends_count</th>\n",
        "      <th>hashtags</th>\n",
        "      <th>retweet_count</th>\n",
        "      <th>user_mentions</th>\n",
        "    </tr>\n",
        "  </thead>\n",
        "  <tbody>\n",
        "    <tr>\n",
        "      <th>count</th>\n",
        "      <td> 394.000000</td>\n",
        "      <td>    394.000000</td>\n",
        "      <td>   394.000000</td>\n",
        "      <td> 394.000000</td>\n",
        "      <td>  394.000000</td>\n",
        "      <td> 394.000000</td>\n",
        "    </tr>\n",
        "    <tr>\n",
        "      <th>mean</th>\n",
        "      <td>   0.312183</td>\n",
        "      <td>   4593.629442</td>\n",
        "      <td>   693.428934</td>\n",
        "      <td>   0.992386</td>\n",
        "      <td>  101.302030</td>\n",
        "      <td>   1.213198</td>\n",
        "    </tr>\n",
        "    <tr>\n",
        "      <th>std</th>\n",
        "      <td>   1.682572</td>\n",
        "      <td>  40544.550724</td>\n",
        "      <td>  1235.041220</td>\n",
        "      <td>   1.209564</td>\n",
        "      <td>  322.329755</td>\n",
        "      <td>   0.899663</td>\n",
        "    </tr>\n",
        "    <tr>\n",
        "      <th>min</th>\n",
        "      <td>   0.000000</td>\n",
        "      <td>      1.000000</td>\n",
        "      <td>     5.000000</td>\n",
        "      <td>   0.000000</td>\n",
        "      <td>    1.000000</td>\n",
        "      <td>   0.000000</td>\n",
        "    </tr>\n",
        "    <tr>\n",
        "      <th>25%</th>\n",
        "      <td>   0.000000</td>\n",
        "      <td>    100.250000</td>\n",
        "      <td>   172.750000</td>\n",
        "      <td>   0.000000</td>\n",
        "      <td>    1.000000</td>\n",
        "      <td>   1.000000</td>\n",
        "    </tr>\n",
        "    <tr>\n",
        "      <th>50%</th>\n",
        "      <td>   0.000000</td>\n",
        "      <td>    254.000000</td>\n",
        "      <td>   332.000000</td>\n",
        "      <td>   1.000000</td>\n",
        "      <td>    6.000000</td>\n",
        "      <td>   1.000000</td>\n",
        "    </tr>\n",
        "    <tr>\n",
        "      <th>75%</th>\n",
        "      <td>   0.000000</td>\n",
        "      <td>    690.000000</td>\n",
        "      <td>   708.750000</td>\n",
        "      <td>   1.000000</td>\n",
        "      <td>   49.000000</td>\n",
        "      <td>   1.000000</td>\n",
        "    </tr>\n",
        "    <tr>\n",
        "      <th>max</th>\n",
        "      <td>  26.000000</td>\n",
        "      <td> 559073.000000</td>\n",
        "      <td> 13897.000000</td>\n",
        "      <td>   6.000000</td>\n",
        "      <td> 2703.000000</td>\n",
        "      <td>   8.000000</td>\n",
        "    </tr>\n",
        "  </tbody>\n",
        "</table>\n",
        "<p>8 rows \u00d7 6 columns</p>\n",
        "</div>"
       ],
       "metadata": {},
       "output_type": "pyout",
       "prompt_number": 101,
       "text": [
        "       favorite_count  followers_count  friends_count    hashtags  \\\n",
        "count      394.000000       394.000000     394.000000  394.000000   \n",
        "mean         0.312183      4593.629442     693.428934    0.992386   \n",
        "std          1.682572     40544.550724    1235.041220    1.209564   \n",
        "min          0.000000         1.000000       5.000000    0.000000   \n",
        "25%          0.000000       100.250000     172.750000    0.000000   \n",
        "50%          0.000000       254.000000     332.000000    1.000000   \n",
        "75%          0.000000       690.000000     708.750000    1.000000   \n",
        "max         26.000000    559073.000000   13897.000000    6.000000   \n",
        "\n",
        "       retweet_count  user_mentions  \n",
        "count     394.000000     394.000000  \n",
        "mean      101.302030       1.213198  \n",
        "std       322.329755       0.899663  \n",
        "min         1.000000       0.000000  \n",
        "25%         1.000000       1.000000  \n",
        "50%         6.000000       1.000000  \n",
        "75%        49.000000       1.000000  \n",
        "max      2703.000000       8.000000  \n",
        "\n",
        "[8 rows x 6 columns]"
       ]
      }
     ],
     "prompt_number": 101
    },
    {
     "cell_type": "code",
     "collapsed": false,
     "input": [
      "unpop_ca_tweets = list(db.canada.find({'retweet_count': {\"$lte\": 0}},\n",
      "                fields=['retweet_count','favorite_count',\n",
      "                    'entities.user_mentions','entities.hashtags',\n",
      "                    'user.followers_count','user.friends_count']))\n",
      "unpop_ca_tweets_df = pd.DataFrame({'retweet_count': tweet['retweet_count'],\n",
      "                'favorite_count': tweet['favorite_count'],\n",
      "                'user_mentions': len(tweet['entities']['user_mentions']), \n",
      "                'hashtags': len(tweet['entities']['hashtags']),\n",
      "                'followers_count': tweet['user'].get('followers_count'),\n",
      "                'friends_count': tweet['user'].get('friends_count')}\n",
      "                                     for tweet in unpop_ca_tweets)\n",
      "unpop_ca_tweets_df.describe()"
     ],
     "language": "python",
     "metadata": {},
     "outputs": [
      {
       "html": [
        "<div style=\"max-height:1000px;max-width:1500px;overflow:auto;\">\n",
        "<table border=\"1\" class=\"dataframe\">\n",
        "  <thead>\n",
        "    <tr style=\"text-align: right;\">\n",
        "      <th></th>\n",
        "      <th>favorite_count</th>\n",
        "      <th>followers_count</th>\n",
        "      <th>friends_count</th>\n",
        "      <th>hashtags</th>\n",
        "      <th>retweet_count</th>\n",
        "      <th>user_mentions</th>\n",
        "    </tr>\n",
        "  </thead>\n",
        "  <tbody>\n",
        "    <tr>\n",
        "      <th>count</th>\n",
        "      <td> 506.000000</td>\n",
        "      <td>   506.000000</td>\n",
        "      <td>   506.000000</td>\n",
        "      <td> 506.000000</td>\n",
        "      <td> 506</td>\n",
        "      <td> 506.000000</td>\n",
        "    </tr>\n",
        "    <tr>\n",
        "      <th>mean</th>\n",
        "      <td>   0.160079</td>\n",
        "      <td>   739.537549</td>\n",
        "      <td>   492.918972</td>\n",
        "      <td>   1.164032</td>\n",
        "      <td>   0</td>\n",
        "      <td>   0.579051</td>\n",
        "    </tr>\n",
        "    <tr>\n",
        "      <th>std</th>\n",
        "      <td>   0.491580</td>\n",
        "      <td>  3798.467819</td>\n",
        "      <td>   846.223674</td>\n",
        "      <td>   1.227882</td>\n",
        "      <td>   0</td>\n",
        "      <td>   0.746395</td>\n",
        "    </tr>\n",
        "    <tr>\n",
        "      <th>min</th>\n",
        "      <td>   0.000000</td>\n",
        "      <td>     0.000000</td>\n",
        "      <td>     0.000000</td>\n",
        "      <td>   0.000000</td>\n",
        "      <td>   0</td>\n",
        "      <td>   0.000000</td>\n",
        "    </tr>\n",
        "    <tr>\n",
        "      <th>25%</th>\n",
        "      <td>   0.000000</td>\n",
        "      <td>    21.250000</td>\n",
        "      <td>    81.250000</td>\n",
        "      <td>   0.000000</td>\n",
        "      <td>   0</td>\n",
        "      <td>   0.000000</td>\n",
        "    </tr>\n",
        "    <tr>\n",
        "      <th>50%</th>\n",
        "      <td>   0.000000</td>\n",
        "      <td>   140.000000</td>\n",
        "      <td>   223.000000</td>\n",
        "      <td>   1.000000</td>\n",
        "      <td>   0</td>\n",
        "      <td>   0.000000</td>\n",
        "    </tr>\n",
        "    <tr>\n",
        "      <th>75%</th>\n",
        "      <td>   0.000000</td>\n",
        "      <td>   404.000000</td>\n",
        "      <td>   591.750000</td>\n",
        "      <td>   1.000000</td>\n",
        "      <td>   0</td>\n",
        "      <td>   1.000000</td>\n",
        "    </tr>\n",
        "    <tr>\n",
        "      <th>max</th>\n",
        "      <td>   6.000000</td>\n",
        "      <td> 65417.000000</td>\n",
        "      <td> 12537.000000</td>\n",
        "      <td>  12.000000</td>\n",
        "      <td>   0</td>\n",
        "      <td>   5.000000</td>\n",
        "    </tr>\n",
        "  </tbody>\n",
        "</table>\n",
        "<p>8 rows \u00d7 6 columns</p>\n",
        "</div>"
       ],
       "metadata": {},
       "output_type": "pyout",
       "prompt_number": 102,
       "text": [
        "       favorite_count  followers_count  friends_count    hashtags  \\\n",
        "count      506.000000       506.000000     506.000000  506.000000   \n",
        "mean         0.160079       739.537549     492.918972    1.164032   \n",
        "std          0.491580      3798.467819     846.223674    1.227882   \n",
        "min          0.000000         0.000000       0.000000    0.000000   \n",
        "25%          0.000000        21.250000      81.250000    0.000000   \n",
        "50%          0.000000       140.000000     223.000000    1.000000   \n",
        "75%          0.000000       404.000000     591.750000    1.000000   \n",
        "max          6.000000     65417.000000   12537.000000   12.000000   \n",
        "\n",
        "       retweet_count  user_mentions  \n",
        "count            506     506.000000  \n",
        "mean               0       0.579051  \n",
        "std                0       0.746395  \n",
        "min                0       0.000000  \n",
        "25%                0       0.000000  \n",
        "50%                0       0.000000  \n",
        "75%                0       1.000000  \n",
        "max                0       5.000000  \n",
        "\n",
        "[8 rows x 6 columns]"
       ]
      }
     ],
     "prompt_number": 102
    },
    {
     "cell_type": "code",
     "collapsed": false,
     "input": [
      "pop_us_tweets = list(db.us.find({'retweet_count': {\"$gt\": 0}},\n",
      "                fields=['retweet_count','favorite_count',\n",
      "                    'entities.user_mentions','entities.hashtags',\n",
      "                    'user.followers_count','user.friends_count']))\n",
      "pop_us_tweets_df = pd.DataFrame({'retweet_count': tweet['retweet_count'],\n",
      "                'favorite_count': tweet['favorite_count'],\n",
      "                'user_mentions': len(tweet['entities']['user_mentions']), \n",
      "                'hashtags': len(tweet['entities']['hashtags']),\n",
      "                'followers_count': tweet['user'].get('followers_count'),\n",
      "                'friends_count': tweet['user'].get('friends_count')}\n",
      "                                     for tweet in pop_us_tweets)\n",
      "pop_us_tweets_df.describe()"
     ],
     "language": "python",
     "metadata": {},
     "outputs": [
      {
       "html": [
        "<div style=\"max-height:1000px;max-width:1500px;overflow:auto;\">\n",
        "<table border=\"1\" class=\"dataframe\">\n",
        "  <thead>\n",
        "    <tr style=\"text-align: right;\">\n",
        "      <th></th>\n",
        "      <th>favorite_count</th>\n",
        "      <th>followers_count</th>\n",
        "      <th>friends_count</th>\n",
        "      <th>hashtags</th>\n",
        "      <th>retweet_count</th>\n",
        "      <th>user_mentions</th>\n",
        "    </tr>\n",
        "  </thead>\n",
        "  <tbody>\n",
        "    <tr>\n",
        "      <th>count</th>\n",
        "      <td> 353.000000</td>\n",
        "      <td>    353.000000</td>\n",
        "      <td>   353.000000</td>\n",
        "      <td> 353.000000</td>\n",
        "      <td>  353.000000</td>\n",
        "      <td> 353.000000</td>\n",
        "    </tr>\n",
        "    <tr>\n",
        "      <th>mean</th>\n",
        "      <td>   0.637394</td>\n",
        "      <td>   4171.555241</td>\n",
        "      <td>   663.583569</td>\n",
        "      <td>   0.886686</td>\n",
        "      <td>   76.895184</td>\n",
        "      <td>   1.192635</td>\n",
        "    </tr>\n",
        "    <tr>\n",
        "      <th>std</th>\n",
        "      <td>   6.705151</td>\n",
        "      <td>  26316.947455</td>\n",
        "      <td>  1080.455065</td>\n",
        "      <td>   1.409654</td>\n",
        "      <td>  164.072731</td>\n",
        "      <td>   0.736432</td>\n",
        "    </tr>\n",
        "    <tr>\n",
        "      <th>min</th>\n",
        "      <td>   0.000000</td>\n",
        "      <td>      1.000000</td>\n",
        "      <td>     0.000000</td>\n",
        "      <td>   0.000000</td>\n",
        "      <td>    1.000000</td>\n",
        "      <td>   0.000000</td>\n",
        "    </tr>\n",
        "    <tr>\n",
        "      <th>25%</th>\n",
        "      <td>   0.000000</td>\n",
        "      <td>     94.000000</td>\n",
        "      <td>   155.000000</td>\n",
        "      <td>   0.000000</td>\n",
        "      <td>    3.000000</td>\n",
        "      <td>   1.000000</td>\n",
        "    </tr>\n",
        "    <tr>\n",
        "      <th>50%</th>\n",
        "      <td>   0.000000</td>\n",
        "      <td>    223.000000</td>\n",
        "      <td>   313.000000</td>\n",
        "      <td>   0.000000</td>\n",
        "      <td>   24.000000</td>\n",
        "      <td>   1.000000</td>\n",
        "    </tr>\n",
        "    <tr>\n",
        "      <th>75%</th>\n",
        "      <td>   0.000000</td>\n",
        "      <td>    746.000000</td>\n",
        "      <td>   705.000000</td>\n",
        "      <td>   1.000000</td>\n",
        "      <td>   73.000000</td>\n",
        "      <td>   1.000000</td>\n",
        "    </tr>\n",
        "    <tr>\n",
        "      <th>max</th>\n",
        "      <td> 118.000000</td>\n",
        "      <td> 262754.000000</td>\n",
        "      <td> 13071.000000</td>\n",
        "      <td>   7.000000</td>\n",
        "      <td> 1023.000000</td>\n",
        "      <td>   6.000000</td>\n",
        "    </tr>\n",
        "  </tbody>\n",
        "</table>\n",
        "<p>8 rows \u00d7 6 columns</p>\n",
        "</div>"
       ],
       "metadata": {},
       "output_type": "pyout",
       "prompt_number": 103,
       "text": [
        "       favorite_count  followers_count  friends_count    hashtags  \\\n",
        "count      353.000000       353.000000     353.000000  353.000000   \n",
        "mean         0.637394      4171.555241     663.583569    0.886686   \n",
        "std          6.705151     26316.947455    1080.455065    1.409654   \n",
        "min          0.000000         1.000000       0.000000    0.000000   \n",
        "25%          0.000000        94.000000     155.000000    0.000000   \n",
        "50%          0.000000       223.000000     313.000000    0.000000   \n",
        "75%          0.000000       746.000000     705.000000    1.000000   \n",
        "max        118.000000    262754.000000   13071.000000    7.000000   \n",
        "\n",
        "       retweet_count  user_mentions  \n",
        "count     353.000000     353.000000  \n",
        "mean       76.895184       1.192635  \n",
        "std       164.072731       0.736432  \n",
        "min         1.000000       0.000000  \n",
        "25%         3.000000       1.000000  \n",
        "50%        24.000000       1.000000  \n",
        "75%        73.000000       1.000000  \n",
        "max      1023.000000       6.000000  \n",
        "\n",
        "[8 rows x 6 columns]"
       ]
      }
     ],
     "prompt_number": 103
    },
    {
     "cell_type": "code",
     "collapsed": false,
     "input": [
      "unpop_us_tweets = list(db.us.find({'retweet_count': {\"$lte\": 0}},\n",
      "                fields=['retweet_count','favorite_count',\n",
      "                    'entities.user_mentions','entities.hashtags',\n",
      "                    'user.followers_count','user.friends_count']))\n",
      "unpop_us_tweets_df = pd.DataFrame({'retweet_count': tweet['retweet_count'],\n",
      "                'favorite_count': tweet['favorite_count'],\n",
      "                'user_mentions': len(tweet['entities']['user_mentions']), \n",
      "                'hashtags': len(tweet['entities']['hashtags']),\n",
      "                'followers_count': tweet['user'].get('followers_count'),\n",
      "                'friends_count': tweet['user'].get('friends_count')}\n",
      "                                     for tweet in unpop_us_tweets)\n",
      "unpop_us_tweets_df.describe()"
     ],
     "language": "python",
     "metadata": {},
     "outputs": [
      {
       "html": [
        "<div style=\"max-height:1000px;max-width:1500px;overflow:auto;\">\n",
        "<table border=\"1\" class=\"dataframe\">\n",
        "  <thead>\n",
        "    <tr style=\"text-align: right;\">\n",
        "      <th></th>\n",
        "      <th>favorite_count</th>\n",
        "      <th>followers_count</th>\n",
        "      <th>friends_count</th>\n",
        "      <th>hashtags</th>\n",
        "      <th>retweet_count</th>\n",
        "      <th>user_mentions</th>\n",
        "    </tr>\n",
        "  </thead>\n",
        "  <tbody>\n",
        "    <tr>\n",
        "      <th>count</th>\n",
        "      <td> 547.000000</td>\n",
        "      <td>    547.000000</td>\n",
        "      <td>   547.000000</td>\n",
        "      <td> 547.000000</td>\n",
        "      <td> 547</td>\n",
        "      <td> 547.000000</td>\n",
        "    </tr>\n",
        "    <tr>\n",
        "      <th>mean</th>\n",
        "      <td>   0.087751</td>\n",
        "      <td>   1612.385740</td>\n",
        "      <td>   954.758684</td>\n",
        "      <td>   0.914077</td>\n",
        "      <td>   0</td>\n",
        "      <td>   0.539305</td>\n",
        "    </tr>\n",
        "    <tr>\n",
        "      <th>std</th>\n",
        "      <td>   0.362601</td>\n",
        "      <td>   6503.348325</td>\n",
        "      <td>  1537.071274</td>\n",
        "      <td>   0.991689</td>\n",
        "      <td>   0</td>\n",
        "      <td>   0.943364</td>\n",
        "    </tr>\n",
        "    <tr>\n",
        "      <th>min</th>\n",
        "      <td>   0.000000</td>\n",
        "      <td>      0.000000</td>\n",
        "      <td>     0.000000</td>\n",
        "      <td>   0.000000</td>\n",
        "      <td>   0</td>\n",
        "      <td>   0.000000</td>\n",
        "    </tr>\n",
        "    <tr>\n",
        "      <th>25%</th>\n",
        "      <td>   0.000000</td>\n",
        "      <td>    149.000000</td>\n",
        "      <td>   142.500000</td>\n",
        "      <td>   0.000000</td>\n",
        "      <td>   0</td>\n",
        "      <td>   0.000000</td>\n",
        "    </tr>\n",
        "    <tr>\n",
        "      <th>50%</th>\n",
        "      <td>   0.000000</td>\n",
        "      <td>    418.000000</td>\n",
        "      <td>   364.000000</td>\n",
        "      <td>   1.000000</td>\n",
        "      <td>   0</td>\n",
        "      <td>   0.000000</td>\n",
        "    </tr>\n",
        "    <tr>\n",
        "      <th>75%</th>\n",
        "      <td>   0.000000</td>\n",
        "      <td>   1226.000000</td>\n",
        "      <td>  1193.500000</td>\n",
        "      <td>   1.000000</td>\n",
        "      <td>   0</td>\n",
        "      <td>   1.000000</td>\n",
        "    </tr>\n",
        "    <tr>\n",
        "      <th>max</th>\n",
        "      <td>   4.000000</td>\n",
        "      <td> 120607.000000</td>\n",
        "      <td> 15032.000000</td>\n",
        "      <td>   7.000000</td>\n",
        "      <td>   0</td>\n",
        "      <td>   9.000000</td>\n",
        "    </tr>\n",
        "  </tbody>\n",
        "</table>\n",
        "<p>8 rows \u00d7 6 columns</p>\n",
        "</div>"
       ],
       "metadata": {},
       "output_type": "pyout",
       "prompt_number": 104,
       "text": [
        "       favorite_count  followers_count  friends_count    hashtags  \\\n",
        "count      547.000000       547.000000     547.000000  547.000000   \n",
        "mean         0.087751      1612.385740     954.758684    0.914077   \n",
        "std          0.362601      6503.348325    1537.071274    0.991689   \n",
        "min          0.000000         0.000000       0.000000    0.000000   \n",
        "25%          0.000000       149.000000     142.500000    0.000000   \n",
        "50%          0.000000       418.000000     364.000000    1.000000   \n",
        "75%          0.000000      1226.000000    1193.500000    1.000000   \n",
        "max          4.000000    120607.000000   15032.000000    7.000000   \n",
        "\n",
        "       retweet_count  user_mentions  \n",
        "count            547     547.000000  \n",
        "mean               0       0.539305  \n",
        "std                0       0.943364  \n",
        "min                0       0.000000  \n",
        "25%                0       0.000000  \n",
        "50%                0       0.000000  \n",
        "75%                0       1.000000  \n",
        "max                0       9.000000  \n",
        "\n",
        "[8 rows x 6 columns]"
       ]
      }
     ],
     "prompt_number": 104
    },
    {
     "cell_type": "code",
     "collapsed": false,
     "input": [
      "pop2_us_tweets = list(db.us.find({'retweet_count': {\"$gt\": 0}},\n",
      "                fields=['retweet_count','favorite_count',\n",
      "                    'entities.user_mentions','entities.hashtags',\n",
      "                    'user.followers_count','user.friends_count',\n",
      "                    'text']))\n",
      "pop2_us_tweets_df = pd.DataFrame({'retweet_count': tweet['retweet_count'],\n",
      "                'favorite_count': tweet['favorite_count'],\n",
      "                'user_mentions': len(tweet['entities']['user_mentions']), \n",
      "                'hashtags': len(tweet['entities']['hashtags']),\n",
      "                'followers_count': tweet['user'].get('followers_count'),\n",
      "                'friends_count': tweet['user'].get('friends_count'),\n",
      "                'text_len': len(tweet['text']),\n",
      "                'text': tweet['text']}\n",
      "                                     for tweet in pop2_us_tweets)\n",
      "pop2_us_tweets_df.describe()"
     ],
     "language": "python",
     "metadata": {},
     "outputs": [
      {
       "html": [
        "<div style=\"max-height:1000px;max-width:1500px;overflow:auto;\">\n",
        "<table border=\"1\" class=\"dataframe\">\n",
        "  <thead>\n",
        "    <tr style=\"text-align: right;\">\n",
        "      <th></th>\n",
        "      <th>favorite_count</th>\n",
        "      <th>followers_count</th>\n",
        "      <th>friends_count</th>\n",
        "      <th>hashtags</th>\n",
        "      <th>retweet_count</th>\n",
        "      <th>text_len</th>\n",
        "      <th>user_mentions</th>\n",
        "    </tr>\n",
        "  </thead>\n",
        "  <tbody>\n",
        "    <tr>\n",
        "      <th>count</th>\n",
        "      <td> 353.000000</td>\n",
        "      <td>    353.000000</td>\n",
        "      <td>   353.000000</td>\n",
        "      <td> 353.000000</td>\n",
        "      <td>  353.000000</td>\n",
        "      <td> 353.000000</td>\n",
        "      <td> 353.000000</td>\n",
        "    </tr>\n",
        "    <tr>\n",
        "      <th>mean</th>\n",
        "      <td>   0.637394</td>\n",
        "      <td>   4171.555241</td>\n",
        "      <td>   663.583569</td>\n",
        "      <td>   0.886686</td>\n",
        "      <td>   76.895184</td>\n",
        "      <td> 110.762040</td>\n",
        "      <td>   1.192635</td>\n",
        "    </tr>\n",
        "    <tr>\n",
        "      <th>std</th>\n",
        "      <td>   6.705151</td>\n",
        "      <td>  26316.947455</td>\n",
        "      <td>  1080.455065</td>\n",
        "      <td>   1.409654</td>\n",
        "      <td>  164.072731</td>\n",
        "      <td>  33.341212</td>\n",
        "      <td>   0.736432</td>\n",
        "    </tr>\n",
        "    <tr>\n",
        "      <th>min</th>\n",
        "      <td>   0.000000</td>\n",
        "      <td>      1.000000</td>\n",
        "      <td>     0.000000</td>\n",
        "      <td>   0.000000</td>\n",
        "      <td>    1.000000</td>\n",
        "      <td>  23.000000</td>\n",
        "      <td>   0.000000</td>\n",
        "    </tr>\n",
        "    <tr>\n",
        "      <th>25%</th>\n",
        "      <td>   0.000000</td>\n",
        "      <td>     94.000000</td>\n",
        "      <td>   155.000000</td>\n",
        "      <td>   0.000000</td>\n",
        "      <td>    3.000000</td>\n",
        "      <td>  89.000000</td>\n",
        "      <td>   1.000000</td>\n",
        "    </tr>\n",
        "    <tr>\n",
        "      <th>50%</th>\n",
        "      <td>   0.000000</td>\n",
        "      <td>    223.000000</td>\n",
        "      <td>   313.000000</td>\n",
        "      <td>   0.000000</td>\n",
        "      <td>   24.000000</td>\n",
        "      <td> 128.000000</td>\n",
        "      <td>   1.000000</td>\n",
        "    </tr>\n",
        "    <tr>\n",
        "      <th>75%</th>\n",
        "      <td>   0.000000</td>\n",
        "      <td>    746.000000</td>\n",
        "      <td>   705.000000</td>\n",
        "      <td>   1.000000</td>\n",
        "      <td>   73.000000</td>\n",
        "      <td> 140.000000</td>\n",
        "      <td>   1.000000</td>\n",
        "    </tr>\n",
        "    <tr>\n",
        "      <th>max</th>\n",
        "      <td> 118.000000</td>\n",
        "      <td> 262754.000000</td>\n",
        "      <td> 13071.000000</td>\n",
        "      <td>   7.000000</td>\n",
        "      <td> 1023.000000</td>\n",
        "      <td> 148.000000</td>\n",
        "      <td>   6.000000</td>\n",
        "    </tr>\n",
        "  </tbody>\n",
        "</table>\n",
        "<p>8 rows \u00d7 7 columns</p>\n",
        "</div>"
       ],
       "metadata": {},
       "output_type": "pyout",
       "prompt_number": 107,
       "text": [
        "       favorite_count  followers_count  friends_count    hashtags  \\\n",
        "count      353.000000       353.000000     353.000000  353.000000   \n",
        "mean         0.637394      4171.555241     663.583569    0.886686   \n",
        "std          6.705151     26316.947455    1080.455065    1.409654   \n",
        "min          0.000000         1.000000       0.000000    0.000000   \n",
        "25%          0.000000        94.000000     155.000000    0.000000   \n",
        "50%          0.000000       223.000000     313.000000    0.000000   \n",
        "75%          0.000000       746.000000     705.000000    1.000000   \n",
        "max        118.000000    262754.000000   13071.000000    7.000000   \n",
        "\n",
        "       retweet_count    text_len  user_mentions  \n",
        "count     353.000000  353.000000     353.000000  \n",
        "mean       76.895184  110.762040       1.192635  \n",
        "std       164.072731   33.341212       0.736432  \n",
        "min         1.000000   23.000000       0.000000  \n",
        "25%         3.000000   89.000000       1.000000  \n",
        "50%        24.000000  128.000000       1.000000  \n",
        "75%        73.000000  140.000000       1.000000  \n",
        "max      1023.000000  148.000000       6.000000  \n",
        "\n",
        "[8 rows x 7 columns]"
       ]
      }
     ],
     "prompt_number": 107
    },
    {
     "cell_type": "code",
     "collapsed": false,
     "input": [
      "pop2_us_tweets_df['text'][0:10]"
     ],
     "language": "python",
     "metadata": {},
     "outputs": [
      {
       "metadata": {},
       "output_type": "pyout",
       "prompt_number": 108,
       "text": [
        "0    RT @ILove1D5sosJano: RT this to wish @JaiBrook...\n",
        "1    RT @lukescr0cs: #HappyBirthdayLukeAndJai @luke...\n",
        "2    RT @1Dmadforlouisxx: LAIGHING SO FREAKING HARD...\n",
        "3    RT @LuBeyonce_: #HappyBirthdayLukeAndJai I lov...\n",
        "4    RT @JanoskianVines: this vine I just can't #ha...\n",
        "5    RT @CUTESKIANS: #happybirthdaylukeandjai http:...\n",
        "6    RT @semibutera: #HappyBirthdayLukeAndJai http:...\n",
        "7    RT @ILove1D5sosJano: RT this to wish @JaiBrook...\n",
        "8    RT @lvkesmydrug: Birthday cake\\nNormal people ...\n",
        "9    RT @LuBeyonce_: #HappyBirthdayLukeAndJai I lov...\n",
        "Name: text, dtype: object"
       ]
      }
     ],
     "prompt_number": 108
    },
    {
     "cell_type": "code",
     "collapsed": false,
     "input": [
      "unpop2_us_tweets = list(db.us.find({'retweet_count': {\"$lte\": 0}},\n",
      "                fields=['retweet_count','favorite_count',\n",
      "                    'entities.user_mentions','entities.hashtags',\n",
      "                    'user.followers_count','user.friends_count',\n",
      "                    'text']))\n",
      "unpop2_us_tweets_df = pd.DataFrame({'retweet_count': tweet['retweet_count'],\n",
      "                'favorite_count': tweet['favorite_count'],\n",
      "                'user_mentions': len(tweet['entities']['user_mentions']), \n",
      "                'hashtags': len(tweet['entities']['hashtags']),\n",
      "                'followers_count': tweet['user'].get('followers_count'),\n",
      "                'friends_count': tweet['user'].get('friends_count'),\n",
      "                'text_len': len(tweet['text']),\n",
      "                'text': tweet['text']}\n",
      "                                     for tweet in unpop2_us_tweets)\n",
      "unpop2_us_tweets_df.describe()"
     ],
     "language": "python",
     "metadata": {},
     "outputs": [
      {
       "html": [
        "<div style=\"max-height:1000px;max-width:1500px;overflow:auto;\">\n",
        "<table border=\"1\" class=\"dataframe\">\n",
        "  <thead>\n",
        "    <tr style=\"text-align: right;\">\n",
        "      <th></th>\n",
        "      <th>favorite_count</th>\n",
        "      <th>followers_count</th>\n",
        "      <th>friends_count</th>\n",
        "      <th>hashtags</th>\n",
        "      <th>retweet_count</th>\n",
        "      <th>text_len</th>\n",
        "      <th>user_mentions</th>\n",
        "    </tr>\n",
        "  </thead>\n",
        "  <tbody>\n",
        "    <tr>\n",
        "      <th>count</th>\n",
        "      <td> 547.000000</td>\n",
        "      <td>    547.000000</td>\n",
        "      <td>   547.000000</td>\n",
        "      <td> 547.000000</td>\n",
        "      <td> 547</td>\n",
        "      <td> 547.000000</td>\n",
        "      <td> 547.000000</td>\n",
        "    </tr>\n",
        "    <tr>\n",
        "      <th>mean</th>\n",
        "      <td>   0.087751</td>\n",
        "      <td>   1612.385740</td>\n",
        "      <td>   954.758684</td>\n",
        "      <td>   0.914077</td>\n",
        "      <td>   0</td>\n",
        "      <td>  85.654479</td>\n",
        "      <td>   0.539305</td>\n",
        "    </tr>\n",
        "    <tr>\n",
        "      <th>std</th>\n",
        "      <td>   0.362601</td>\n",
        "      <td>   6503.348325</td>\n",
        "      <td>  1537.071274</td>\n",
        "      <td>   0.991689</td>\n",
        "      <td>   0</td>\n",
        "      <td>  36.335930</td>\n",
        "      <td>   0.943364</td>\n",
        "    </tr>\n",
        "    <tr>\n",
        "      <th>min</th>\n",
        "      <td>   0.000000</td>\n",
        "      <td>      0.000000</td>\n",
        "      <td>     0.000000</td>\n",
        "      <td>   0.000000</td>\n",
        "      <td>   0</td>\n",
        "      <td>  15.000000</td>\n",
        "      <td>   0.000000</td>\n",
        "    </tr>\n",
        "    <tr>\n",
        "      <th>25%</th>\n",
        "      <td>   0.000000</td>\n",
        "      <td>    149.000000</td>\n",
        "      <td>   142.500000</td>\n",
        "      <td>   0.000000</td>\n",
        "      <td>   0</td>\n",
        "      <td>  54.500000</td>\n",
        "      <td>   0.000000</td>\n",
        "    </tr>\n",
        "    <tr>\n",
        "      <th>50%</th>\n",
        "      <td>   0.000000</td>\n",
        "      <td>    418.000000</td>\n",
        "      <td>   364.000000</td>\n",
        "      <td>   1.000000</td>\n",
        "      <td>   0</td>\n",
        "      <td>  86.000000</td>\n",
        "      <td>   0.000000</td>\n",
        "    </tr>\n",
        "    <tr>\n",
        "      <th>75%</th>\n",
        "      <td>   0.000000</td>\n",
        "      <td>   1226.000000</td>\n",
        "      <td>  1193.500000</td>\n",
        "      <td>   1.000000</td>\n",
        "      <td>   0</td>\n",
        "      <td> 121.000000</td>\n",
        "      <td>   1.000000</td>\n",
        "    </tr>\n",
        "    <tr>\n",
        "      <th>max</th>\n",
        "      <td>   4.000000</td>\n",
        "      <td> 120607.000000</td>\n",
        "      <td> 15032.000000</td>\n",
        "      <td>   7.000000</td>\n",
        "      <td>   0</td>\n",
        "      <td> 146.000000</td>\n",
        "      <td>   9.000000</td>\n",
        "    </tr>\n",
        "  </tbody>\n",
        "</table>\n",
        "<p>8 rows \u00d7 7 columns</p>\n",
        "</div>"
       ],
       "metadata": {},
       "output_type": "pyout",
       "prompt_number": 109,
       "text": [
        "       favorite_count  followers_count  friends_count    hashtags  \\\n",
        "count      547.000000       547.000000     547.000000  547.000000   \n",
        "mean         0.087751      1612.385740     954.758684    0.914077   \n",
        "std          0.362601      6503.348325    1537.071274    0.991689   \n",
        "min          0.000000         0.000000       0.000000    0.000000   \n",
        "25%          0.000000       149.000000     142.500000    0.000000   \n",
        "50%          0.000000       418.000000     364.000000    1.000000   \n",
        "75%          0.000000      1226.000000    1193.500000    1.000000   \n",
        "max          4.000000    120607.000000   15032.000000    7.000000   \n",
        "\n",
        "       retweet_count    text_len  user_mentions  \n",
        "count            547  547.000000     547.000000  \n",
        "mean               0   85.654479       0.539305  \n",
        "std                0   36.335930       0.943364  \n",
        "min                0   15.000000       0.000000  \n",
        "25%                0   54.500000       0.000000  \n",
        "50%                0   86.000000       0.000000  \n",
        "75%                0  121.000000       1.000000  \n",
        "max                0  146.000000       9.000000  \n",
        "\n",
        "[8 rows x 7 columns]"
       ]
      }
     ],
     "prompt_number": 109
    },
    {
     "cell_type": "code",
     "collapsed": false,
     "input": [
      "unpop2_us_tweets_df['text'][0:10]"
     ],
     "language": "python",
     "metadata": {},
     "outputs": [
      {
       "metadata": {},
       "output_type": "pyout",
       "prompt_number": 110,
       "text": [
        "0    #HappyBirthdayLukeAndJai HAPPY BIRTHDAY YOU LI...\n",
        "1    brian and scott shirtless are the death of me,...\n",
        "2    #HappyBirthdayLukeAndJai \\n\\n\ud83d\udc95\ud83d\ude4c\ud83c\udf89 http://t.c...\n",
        "3    @luke_brooks @JaiBrooks1 happy birthday!!!! I ...\n",
        "4    #HappyBirthdayLukeAndJai\\nDzisiaj ich urodziny...\n",
        "5    @jaibrooks1 @luke_brooks #HappyBirthdayLukeAnd...\n",
        "6    @luke_brooks @JaiBrooks1 happy birthday!!!! I ...\n",
        "7    @jaibrooks1 @luke_brooks #HappyBirthdayLukeAnd...\n",
        "8    @luke_brooks @JaiBrooks1 happy birthday!!!! I ...\n",
        "9    @luke_brooks @JaiBrooks1 happy birthday!!!! I ...\n",
        "Name: text, dtype: object"
       ]
      }
     ],
     "prompt_number": 110
    },
    {
     "cell_type": "markdown",
     "metadata": {
      "slideshow": {
       "slide_type": "notes"
      }
     },
     "source": [
      "Further exercises:  \n",
      "\n",
      "* Twitter - _Mining-the-Social-Web-2nd-Edition_: [Chapter 1 - Mining Twitter](http://nbviewer.ipython.org/github/ptwobrussell/Mining-the-Social-Web-2nd-Edition/blob/master/ipynb/__Chapter%201%20-%20Mining%20Twitter%20%28Full-Text%20Sampler%29.ipynb)\n",
      "* Mongo - [Aggregation Framework](http://docs.mongodb.org/manual/aggregation/)"
     ]
    },
    {
     "cell_type": "markdown",
     "metadata": {
      "slideshow": {
       "slide_type": "slide"
      }
     },
     "source": [
      "Next week:\n",
      "==============\n",
      "Exploring Data\n",
      "--------------"
     ]
    }
   ],
   "metadata": {}
  }
 ]
}