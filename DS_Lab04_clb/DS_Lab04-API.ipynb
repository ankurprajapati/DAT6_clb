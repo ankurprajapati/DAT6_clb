{
 "metadata": {
  "celltoolbar": "Slideshow",
  "name": "",
  "signature": "sha256:7dde0ff1b9db25980a43383b6395176e85ae0eb7500c0bc3ed8a1a2bf6cb43f9"
 },
 "nbformat": 3,
 "nbformat_minor": 0,
 "worksheets": [
  {
   "cells": [
    {
     "cell_type": "markdown",
     "metadata": {
      "slideshow": {
       "slide_type": "slide"
      }
     },
     "source": [
      "Lab\n",
      "===================\n",
      "Twitter & MongoDB\n",
      "-------------------\n",
      "Alessandro D. Gagliardi"
     ]
    },
    {
     "cell_type": "markdown",
     "metadata": {
      "slideshow": {
       "slide_type": "subslide"
      }
     },
     "source": [
      "Importing Libraries\n",
      "-------------------"
     ]
    },
    {
     "cell_type": "code",
     "collapsed": false,
     "input": [
      "# standard library:\n",
      "import os  \n",
      "\n",
      "from pprint import pprint\n",
      "\n",
      "# other modules:\n",
      "import matplotlib.pyplot as plt\n",
      "import pandas as pd\n",
      "import twitter\n",
      "import yaml\n",
      "\n",
      "from pymongo import MongoClient"
     ],
     "language": "python",
     "metadata": {
      "slideshow": {
       "slide_type": "-"
      }
     },
     "outputs": [],
     "prompt_number": 1
    },
    {
     "cell_type": "markdown",
     "metadata": {
      "slideshow": {
       "slide_type": "slide"
      }
     },
     "source": [
      "Twitter Trends\n",
      "=============="
     ]
    },
    {
     "cell_type": "heading",
     "level": 3,
     "metadata": {
      "slideshow": {
       "slide_type": "subslide"
      }
     },
     "source": [
      "Connect to Twitter:"
     ]
    },
    {
     "cell_type": "code",
     "collapsed": false,
     "input": [
      "credentials = yaml.load(open(os.path.expanduser('/Users/crista/Desktop/gads2014course/api_cred.yml')))\n",
      "\n",
      "auth = twitter.oauth.OAuth(credentials['ACCESS_TOKEN'], \n",
      "                           credentials['ACCESS_TOKEN_SECRET'],\n",
      "                           credentials['API_KEY'],\n",
      "                           credentials['API_SECRET'])\n",
      "\n",
      "twitter_api = twitter.Twitter(auth=auth)"
     ],
     "language": "python",
     "metadata": {
      "slideshow": {
       "slide_type": "-"
      }
     },
     "outputs": [],
     "prompt_number": 2
    },
    {
     "cell_type": "code",
     "collapsed": false,
     "input": [
      "# The Yahoo! Where On Earth ID for the entire world is 1.\n",
      "# See https://dev.twitter.com/docs/api/1.1/get/trends/place and\n",
      "# http://developer.yahoo.com/geo/geoplanet/\n",
      "\n",
      "WORLD_WOE_ID = 1\n",
      "US_WOE_ID = 23424977\n",
      "\n",
      "# Prefix ID with the underscore for query string parameterization.\n",
      "# Without the underscore, the twitter package appends the ID value\n",
      "# to the URL itself as a special case keyword argument.\n",
      "\n",
      "world_trends = twitter_api.trends.place(_id=WORLD_WOE_ID)\n",
      "us_trends = twitter_api.trends.place(_id=US_WOE_ID)\n",
      "\n",
      "pprint(world_trends)"
     ],
     "language": "python",
     "metadata": {
      "slideshow": {
       "slide_type": "slide"
      }
     },
     "outputs": [
      {
       "output_type": "stream",
       "stream": "stdout",
       "text": [
        "[{u'as_of': u'2014-04-28T01:10:08Z',\n",
        "  u'created_at': u'2014-04-28T01:04:23Z',\n",
        "  u'locations': [{u'name': u'Worldwide', u'woeid': 1}],\n",
        "  u'trends': [{u'name': u'#somostodosmacacos',\n",
        "               u'promoted_content': None,\n",
        "               u'query': u'%23somostodosmacacos',\n",
        "               u'url': u'http://twitter.com/search?q=%23somostodosmacacos'},\n",
        "              {u'name': u'#30TwitterosQueQuieroConocer',\n",
        "               u'promoted_content': None,\n",
        "               u'query': u'%2330TwitterosQueQuieroConocer',\n",
        "               u'url': u'http://twitter.com/search?q=%2330TwitterosQueQuieroConocer'},\n",
        "              {u'name': u'#ProblemOutTonight',\n",
        "               u'promoted_content': None,\n",
        "               u'query': u'%23ProblemOutTonight',\n",
        "               u'url': u'http://twitter.com/search?q=%23ProblemOutTonight'},\n",
        "              {u'name': u'#FixItJesus',\n",
        "               u'promoted_content': None,\n",
        "               u'query': u'%23FixItJesus',\n",
        "               u'url': u'http://twitter.com/search?q=%23FixItJesus'},\n",
        "              {u'name': u'#EuTeAmoMaisPrefiro',\n",
        "               u'promoted_content': None,\n",
        "               u'query': u'%23EuTeAmoMaisPrefiro',\n",
        "               u'url': u'http://twitter.com/search?q=%23EuTeAmoMaisPrefiro'},\n",
        "              {u'name': u'Sir Bizzle',\n",
        "               u'promoted_content': None,\n",
        "               u'query': u'%22Sir+Bizzle%22',\n",
        "               u'url': u'http://twitter.com/search?q=%22Sir+Bizzle%22'},\n",
        "              {u'name': u\"Girls Are Stubborn When They're Mad\",\n",
        "               u'promoted_content': None,\n",
        "               u'query': u'%22Girls+Are+Stubborn+When+They%27re+Mad%22',\n",
        "               u'url': u'http://twitter.com/search?q=%22Girls+Are+Stubborn+When+They%27re+Mad%22'},\n",
        "              {u'name': u'Angola Maria',\n",
        "               u'promoted_content': None,\n",
        "               u'query': u'%22Angola+Maria%22',\n",
        "               u'url': u'http://twitter.com/search?q=%22Angola+Maria%22'},\n",
        "              {u'name': u'Becky G.',\n",
        "               u'promoted_content': None,\n",
        "               u'query': u'%22Becky+G.%22',\n",
        "               u'url': u'http://twitter.com/search?q=%22Becky+G.%22'},\n",
        "              {u'name': u'Ireland is Perfect',\n",
        "               u'promoted_content': None,\n",
        "               u'query': u'%22Ireland+is+Perfect%22',\n",
        "               u'url': u'http://twitter.com/search?q=%22Ireland+is+Perfect%22'}]}]\n"
       ]
      }
     ],
     "prompt_number": 3
    },
    {
     "cell_type": "code",
     "collapsed": false,
     "input": [
      "pprint(us_trends)"
     ],
     "language": "python",
     "metadata": {
      "slideshow": {
       "slide_type": "subslide"
      }
     },
     "outputs": [
      {
       "output_type": "stream",
       "stream": "stdout",
       "text": [
        "[{u'as_of': u'2014-04-28T01:10:08Z',\n",
        "  u'created_at': u'2014-04-28T01:04:23Z',\n",
        "  u'locations': [{u'name': u'United States', u'woeid': 23424977}],\n",
        "  u'trends': [{u'name': u'#FixItJesus',\n",
        "               u'promoted_content': None,\n",
        "               u'query': u'%23FixItJesus',\n",
        "               u'url': u'http://twitter.com/search?q=%23FixItJesus'},\n",
        "              {u'name': u'#WatchingCosmos',\n",
        "               u'promoted_content': None,\n",
        "               u'query': u'%23WatchingCosmos',\n",
        "               u'url': u'http://twitter.com/search?q=%23WatchingCosmos'},\n",
        "              {u'name': u'#ProblemOutTonight',\n",
        "               u'promoted_content': None,\n",
        "               u'query': u'%23ProblemOutTonight',\n",
        "               u'url': u'http://twitter.com/search?q=%23ProblemOutTonight'},\n",
        "              {u'name': u'#sluttyconfessions',\n",
        "               u'promoted_content': None,\n",
        "               u'query': u'%23sluttyconfessions',\n",
        "               u'url': u'http://twitter.com/search?q=%23sluttyconfessions'},\n",
        "              {u'name': u'The Leftovers',\n",
        "               u'promoted_content': None,\n",
        "               u'query': u'%22The+Leftovers%22',\n",
        "               u'url': u'http://twitter.com/search?q=%22The+Leftovers%22'},\n",
        "              {u'name': u'#Oathkeeper',\n",
        "               u'promoted_content': None,\n",
        "               u'query': u'%23Oathkeeper',\n",
        "               u'url': u'http://twitter.com/search?q=%23Oathkeeper'},\n",
        "              {u'name': u\"Girls Are Stubborn When They're Mad\",\n",
        "               u'promoted_content': None,\n",
        "               u'query': u'%22Girls+Are+Stubborn+When+They%27re+Mad%22',\n",
        "               u'url': u'http://twitter.com/search?q=%22Girls+Are+Stubborn+When+They%27re+Mad%22'},\n",
        "              {u'name': u'Becky G.',\n",
        "               u'promoted_content': None,\n",
        "               u'query': u'%22Becky+G.%22',\n",
        "               u'url': u'http://twitter.com/search?q=%22Becky+G.%22'},\n",
        "              {u'name': u'Ireland is Perfect',\n",
        "               u'promoted_content': None,\n",
        "               u'query': u'%22Ireland+is+Perfect%22',\n",
        "               u'url': u'http://twitter.com/search?q=%22Ireland+is+Perfect%22'},\n",
        "              {u'name': u'Operation Cobra',\n",
        "               u'promoted_content': None,\n",
        "               u'query': u'%22Operation+Cobra%22',\n",
        "               u'url': u'http://twitter.com/search?q=%22Operation+Cobra%22'}]}]\n"
       ]
      }
     ],
     "prompt_number": 4
    },
    {
     "cell_type": "heading",
     "level": 3,
     "metadata": {
      "slideshow": {
       "slide_type": "subslide"
      }
     },
     "source": [
      "Do any of these trends intersect?"
     ]
    },
    {
     "cell_type": "code",
     "collapsed": false,
     "input": [
      "world_trends_set = set([trend['name'] for trends in world_trends\n",
      "                        for trend in trends['trends']])\n",
      "\n",
      "us_trends_set = set([trend['name'] for trends in us_trends\n",
      "                     for trend in trends['trends']]) \n",
      "\n",
      "shared_trends = world_trends_set.intersection(us_trends_set)\n",
      "\n",
      "print('number in world_trends: ' + str(len(world_trends_set)))\n",
      "print('number in us_trends: ' + str(len(us_trends_set)))\n",
      "print('number in intersection: ' + str(len(shared_trends)))\n",
      "print('shared trends:')\n",
      "shared_trends"
     ],
     "language": "python",
     "metadata": {
      "slideshow": {
       "slide_type": "fragment"
      }
     },
     "outputs": [
      {
       "output_type": "stream",
       "stream": "stdout",
       "text": [
        "number in world_trends: 10\n",
        "number in us_trends: 10\n",
        "number in intersection: 5\n",
        "shared trends:\n"
       ]
      },
      {
       "metadata": {},
       "output_type": "pyout",
       "prompt_number": 10,
       "text": [
        "{u'#FixItJesus',\n",
        " u'#ProblemOutTonight',\n",
        " u'Becky G.',\n",
        " u\"Girls Are Stubborn When They're Mad\",\n",
        " u'Ireland is Perfect'}"
       ]
      }
     ],
     "prompt_number": 10
    },
    {
     "cell_type": "code",
     "collapsed": false,
     "input": [
      "q = world_trends[0]['trends'][0]['name']\n",
      "\n",
      "count = 100\n",
      "\n",
      "# See https://dev.twitter.com/docs/api/1.1/get/search/tweets\n",
      "\n",
      "search_results = twitter_api.search.tweets(q=q, count=count)\n",
      "\n",
      "statuses = search_results['statuses']"
     ],
     "language": "python",
     "metadata": {
      "slideshow": {
       "slide_type": "fragment"
      }
     },
     "outputs": [],
     "prompt_number": 15
    },
    {
     "cell_type": "code",
     "collapsed": false,
     "input": [
      "type(search_results)\n",
      "search_results.keys()"
     ],
     "language": "python",
     "metadata": {},
     "outputs": [
      {
       "metadata": {},
       "output_type": "pyout",
       "prompt_number": 22,
       "text": [
        "[u'search_metadata', u'statuses']"
       ]
      }
     ],
     "prompt_number": 22
    },
    {
     "cell_type": "code",
     "collapsed": false,
     "input": [
      "len(statuses)"
     ],
     "language": "python",
     "metadata": {
      "slideshow": {
       "slide_type": "fragment"
      }
     },
     "outputs": [
      {
       "metadata": {},
       "output_type": "pyout",
       "prompt_number": 23,
       "text": [
        "100"
       ]
      }
     ],
     "prompt_number": 23
    },
    {
     "cell_type": "heading",
     "level": 3,
     "metadata": {
      "slideshow": {
       "slide_type": "subslide"
      }
     },
     "source": [
      "More?"
     ]
    },
    {
     "cell_type": "code",
     "collapsed": false,
     "input": [
      "search_results['search_metadata'].get('next_results')"
     ],
     "language": "python",
     "metadata": {
      "slideshow": {
       "slide_type": "fragment"
      }
     },
     "outputs": [
      {
       "metadata": {},
       "output_type": "pyout",
       "prompt_number": 24,
       "text": [
        "u'?max_id=460589159783333887&q=%23somostodosmacacos&count=100&include_entities=1'"
       ]
      }
     ],
     "prompt_number": 24
    },
    {
     "cell_type": "code",
     "collapsed": false,
     "input": [
      "if 'next_results' in search_results['search_metadata']:\n",
      "    next_results = search_results['search_metadata']['next_results']\n",
      "    kwargs = dict([ kv.split('=') for kv in next_results[1:].split(\"&\") ])\n",
      "    search_results = twitter_api.search.tweets(**kwargs)\n",
      "    statuses += search_results['statuses']\n",
      "\n",
      "len(statuses)"
     ],
     "language": "python",
     "metadata": {
      "slideshow": {
       "slide_type": "fragment"
      }
     },
     "outputs": [
      {
       "metadata": {},
       "output_type": "pyout",
       "prompt_number": 25,
       "text": [
        "200"
       ]
      }
     ],
     "prompt_number": 25
    },
    {
     "cell_type": "markdown",
     "metadata": {
      "slideshow": {
       "slide_type": "slide"
      }
     },
     "source": [
      "Mongo\n",
      "====="
     ]
    },
    {
     "cell_type": "markdown",
     "metadata": {
      "slideshow": {
       "slide_type": "subslide"
      }
     },
     "source": [
      "from the command line:\n",
      "```bash\n",
      "$ mkdir -p data/db\n",
      "$ mongod --dbpath data/db\n",
      "```"
     ]
    },
    {
     "cell_type": "heading",
     "level": 3,
     "metadata": {
      "slideshow": {
       "slide_type": "slide"
      }
     },
     "source": [
      "Connect to our Mongo database management server (DBMS):"
     ]
    },
    {
     "cell_type": "code",
     "collapsed": false,
     "input": [
      "c = MongoClient()"
     ],
     "language": "python",
     "metadata": {
      "slideshow": {
       "slide_type": "fragment"
      }
     },
     "outputs": [],
     "prompt_number": 27
    },
    {
     "cell_type": "heading",
     "level": 4,
     "metadata": {
      "slideshow": {
       "slide_type": "fragment"
      }
     },
     "source": [
      "Create a database called `twitter`:"
     ]
    },
    {
     "cell_type": "code",
     "collapsed": false,
     "input": [
      "db = c.twitter"
     ],
     "language": "python",
     "metadata": {
      "slideshow": {
       "slide_type": "fragment"
      }
     },
     "outputs": [],
     "prompt_number": 28
    },
    {
     "cell_type": "markdown",
     "metadata": {
      "slideshow": {
       "slide_type": "notes"
      }
     },
     "source": [
      "##### Yes, it's that easy."
     ]
    },
    {
     "cell_type": "heading",
     "level": 4,
     "metadata": {
      "slideshow": {
       "slide_type": "slide"
      }
     },
     "source": [
      "Insert the results we pulled from Twitter and store them as a document in a collection named `tweets`:"
     ]
    },
    {
     "cell_type": "code",
     "collapsed": false,
     "input": [
      "statuses_ids = db.tweets.insert(statuses)\n",
      "statuses_ids[:5]"
     ],
     "language": "python",
     "metadata": {
      "slideshow": {
       "slide_type": "fragment"
      }
     },
     "outputs": [
      {
       "metadata": {},
       "output_type": "pyout",
       "prompt_number": 29,
       "text": [
        "[ObjectId('535dafe8e86be603c101d933'),\n",
        " ObjectId('535dafe8e86be603c101d934'),\n",
        " ObjectId('535dafe8e86be603c101d935'),\n",
        " ObjectId('535dafe8e86be603c101d936'),\n",
        " ObjectId('535dafe8e86be603c101d937')]"
       ]
      }
     ],
     "prompt_number": 29
    },
    {
     "cell_type": "heading",
     "level": 3,
     "metadata": {
      "slideshow": {
       "slide_type": "slide"
      }
     },
     "source": [
      "`ObjectId`s"
     ]
    },
    {
     "cell_type": "markdown",
     "metadata": {
      "slideshow": {
       "slide_type": "fragment"
      }
     },
     "source": [
      "**ObjectId** is a 12-byte **BSON** type, constructed using:\n",
      "\n",
      "-    a 4-byte value representing the seconds since the Unix epoch,\n",
      "-    a 3-byte machine identifier,\n",
      "-    a 2-byte process id, and\n",
      "-    a 3-byte counter, starting with a random value.\n",
      "\n",
      "In MongoDB, documents stored in a collection require a unique `_id` field that acts as a **primary key**. Because ObjectIds are small, most likely unique, and fast to generate, MongoDB uses ObjectIds as the default value for the `_id` field if the `_id` field is not specified. \n",
      "\n",
      "<!--small><i>from http://docs.mongodb.org/manual/reference/object-id/</i></small-->"
     ]
    },
    {
     "cell_type": "markdown",
     "metadata": {
      "slideshow": {
       "slide_type": "notes"
      }
     },
     "source": [
      "Using ObjectIds for the `_id` field provides the following additional benefits:\n",
      "\n",
      "- you can access the insertion time of the ObjectId, using the `.generation_time` property in pymongo. \n",
      "- sorting on an `_id` field that stores ObjectId values is roughly equivalent to sorting by insertion time."
     ]
    },
    {
     "cell_type": "heading",
     "level": 3,
     "metadata": {
      "slideshow": {
       "slide_type": "slide"
      }
     },
     "source": [
      "Test the contents of our database:"
     ]
    },
    {
     "cell_type": "code",
     "collapsed": false,
     "input": [
      "c.database_names()"
     ],
     "language": "python",
     "metadata": {
      "slideshow": {
       "slide_type": "fragment"
      }
     },
     "outputs": [
      {
       "metadata": {},
       "output_type": "pyout",
       "prompt_number": 30,
       "text": [
        "[u'local', u'twitter', u'admin']"
       ]
      }
     ],
     "prompt_number": 30
    },
    {
     "cell_type": "code",
     "collapsed": false,
     "input": [
      "db = c.twitter\n",
      "db.collection_names()"
     ],
     "language": "python",
     "metadata": {
      "slideshow": {
       "slide_type": "fragment"
      }
     },
     "outputs": [
      {
       "metadata": {},
       "output_type": "pyout",
       "prompt_number": 31,
       "text": [
        "[u'tweets', u'system.indexes']"
       ]
      }
     ],
     "prompt_number": 31
    },
    {
     "cell_type": "code",
     "collapsed": false,
     "input": [
      "db.tweets.find_one()"
     ],
     "language": "python",
     "metadata": {
      "slideshow": {
       "slide_type": "fragment"
      }
     },
     "outputs": [
      {
       "metadata": {},
       "output_type": "pyout",
       "prompt_number": 32,
       "text": [
        "{u'_id': ObjectId('535dafe8e86be603c101d934'),\n",
        " u'contributors': None,\n",
        " u'coordinates': None,\n",
        " u'created_at': u'Mon Apr 28 01:20:58 +0000 2014',\n",
        " u'entities': {u'hashtags': [{u'indices': [21, 39],\n",
        "    u'text': u'somostodosmacacos'}],\n",
        "  u'symbols': [],\n",
        "  u'urls': [],\n",
        "  u'user_mentions': []},\n",
        " u'favorite_count': 0,\n",
        " u'favorited': False,\n",
        " u'geo': None,\n",
        " u'id': 460589457310486529L,\n",
        " u'id_str': u'460589457310486529',\n",
        " u'in_reply_to_screen_name': None,\n",
        " u'in_reply_to_status_id': None,\n",
        " u'in_reply_to_status_id_str': None,\n",
        " u'in_reply_to_user_id': None,\n",
        " u'in_reply_to_user_id_str': None,\n",
        " u'lang': u'es',\n",
        " u'metadata': {u'iso_language_code': u'es', u'result_type': u'recent'},\n",
        " u'place': None,\n",
        " u'retweet_count': 0,\n",
        " u'retweeted': False,\n",
        " u'source': u'<a href=\"http://twitter.com/download/android\" rel=\"nofollow\">Twitter for Android</a>',\n",
        " u'text': u'RT @meuamigodaescola #somostodosmacacos',\n",
        " u'truncated': False,\n",
        " u'user': {u'contributors_enabled': False,\n",
        "  u'created_at': u'Tue Sep 22 13:21:36 +0000 2009',\n",
        "  u'default_profile': False,\n",
        "  u'default_profile_image': False,\n",
        "  u'description': u'aeromo\\xe7a',\n",
        "  u'entities': {u'description': {u'urls': []},\n",
        "   u'url': {u'urls': [{u'display_url': u'instagram.com/herickks',\n",
        "      u'expanded_url': u'http://instagram.com/herickks',\n",
        "      u'indices': [0, 22],\n",
        "      u'url': u'http://t.co/vqWA4kuW6c'}]}},\n",
        "  u'favourites_count': 2588,\n",
        "  u'follow_request_sent': False,\n",
        "  u'followers_count': 2404,\n",
        "  u'following': False,\n",
        "  u'friends_count': 290,\n",
        "  u'geo_enabled': True,\n",
        "  u'id': 76330753,\n",
        "  u'id_str': u'76330753',\n",
        "  u'is_translation_enabled': False,\n",
        "  u'is_translator': False,\n",
        "  u'lang': u'pt',\n",
        "  u'listed_count': 11,\n",
        "  u'location': u'Cuiab\\xe1 - MT',\n",
        "  u'name': u'herick',\n",
        "  u'notifications': False,\n",
        "  u'profile_background_color': u'000000',\n",
        "  u'profile_background_image_url': u'http://pbs.twimg.com/profile_background_images/431638454745587712/1j6VN6Qr.jpeg',\n",
        "  u'profile_background_image_url_https': u'https://pbs.twimg.com/profile_background_images/431638454745587712/1j6VN6Qr.jpeg',\n",
        "  u'profile_background_tile': True,\n",
        "  u'profile_banner_url': u'https://pbs.twimg.com/profile_banners/76330753/1398610668',\n",
        "  u'profile_image_url': u'http://pbs.twimg.com/profile_images/460432498166878208/ax94Y5mB_normal.jpeg',\n",
        "  u'profile_image_url_https': u'https://pbs.twimg.com/profile_images/460432498166878208/ax94Y5mB_normal.jpeg',\n",
        "  u'profile_link_color': u'6B6B6B',\n",
        "  u'profile_sidebar_border_color': u'000000',\n",
        "  u'profile_sidebar_fill_color': u'DDEEF6',\n",
        "  u'profile_text_color': u'999999',\n",
        "  u'profile_use_background_image': True,\n",
        "  u'protected': False,\n",
        "  u'screen_name': u'herickks',\n",
        "  u'statuses_count': 67606,\n",
        "  u'time_zone': u'Atlantic Time (Canada)',\n",
        "  u'url': u'http://t.co/vqWA4kuW6c',\n",
        "  u'utc_offset': -10800,\n",
        "  u'verified': False}}"
       ]
      }
     ],
     "prompt_number": 32
    },
    {
     "cell_type": "markdown",
     "metadata": {
      "slideshow": {
       "slide_type": "notes"
      }
     },
     "source": [
      "Notice the `_id` included in the document along with the values we already saw before."
     ]
    },
    {
     "cell_type": "markdown",
     "metadata": {
      "slideshow": {
       "slide_type": "slide"
      }
     },
     "source": [
      "Now that we have our data in MongoDB, we can use some of it's search functionality. For example:"
     ]
    },
    {
     "cell_type": "code",
     "collapsed": false,
     "input": [
      "popular_tweets = db.tweets.find({'retweet_count': {\"$gte\": 3}})\n",
      "popular_tweets.count()"
     ],
     "language": "python",
     "metadata": {
      "slideshow": {
       "slide_type": "fragment"
      }
     },
     "outputs": [
      {
       "metadata": {},
       "output_type": "pyout",
       "prompt_number": 33,
       "text": [
        "55"
       ]
      }
     ],
     "prompt_number": 33
    },
    {
     "cell_type": "code",
     "collapsed": false,
     "input": [
      "db.tweets.count()"
     ],
     "language": "python",
     "metadata": {},
     "outputs": [
      {
       "metadata": {},
       "output_type": "pyout",
       "prompt_number": 37,
       "text": [
        "200"
       ]
      }
     ],
     "prompt_number": 37
    },
    {
     "cell_type": "markdown",
     "metadata": {
      "slideshow": {
       "slide_type": "slide"
      }
     },
     "source": [
      "Making Sense with Pandas\n",
      "========================"
     ]
    },
    {
     "cell_type": "code",
     "collapsed": false,
     "input": [
      "pd.DataFrame(db.tweets.find(fields=['created_at', 'retweet_count', 'favorite_count']))"
     ],
     "language": "python",
     "metadata": {
      "slideshow": {
       "slide_type": "slide"
      }
     },
     "outputs": [
      {
       "ename": "PandasError",
       "evalue": "DataFrame constructor not properly called!",
       "output_type": "pyerr",
       "traceback": [
        "\u001b[0;31m---------------------------------------------------------------------------\u001b[0m\n\u001b[0;31mPandasError\u001b[0m                               Traceback (most recent call last)",
        "\u001b[0;32m<ipython-input-38-87a1cfed5405>\u001b[0m in \u001b[0;36m<module>\u001b[0;34m()\u001b[0m\n\u001b[0;32m----> 1\u001b[0;31m \u001b[0mpd\u001b[0m\u001b[0;34m.\u001b[0m\u001b[0mDataFrame\u001b[0m\u001b[0;34m(\u001b[0m\u001b[0mdb\u001b[0m\u001b[0;34m.\u001b[0m\u001b[0mtweets\u001b[0m\u001b[0;34m.\u001b[0m\u001b[0mfind\u001b[0m\u001b[0;34m(\u001b[0m\u001b[0mfields\u001b[0m\u001b[0;34m=\u001b[0m\u001b[0;34m[\u001b[0m\u001b[0;34m'created_at'\u001b[0m\u001b[0;34m,\u001b[0m \u001b[0;34m'retweet_count'\u001b[0m\u001b[0;34m,\u001b[0m \u001b[0;34m'favorite_count'\u001b[0m\u001b[0;34m]\u001b[0m\u001b[0;34m)\u001b[0m\u001b[0;34m)\u001b[0m\u001b[0;34m\u001b[0m\u001b[0m\n\u001b[0m",
        "\u001b[0;32m/Users/crista/anaconda/lib/python2.7/site-packages/pandas/core/frame.pyc\u001b[0m in \u001b[0;36m__init__\u001b[0;34m(self, data, index, columns, dtype, copy)\u001b[0m\n\u001b[1;32m    271\u001b[0m                                          copy=False)\n\u001b[1;32m    272\u001b[0m             \u001b[0;32melse\u001b[0m\u001b[0;34m:\u001b[0m\u001b[0;34m\u001b[0m\u001b[0m\n\u001b[0;32m--> 273\u001b[0;31m                 \u001b[0;32mraise\u001b[0m \u001b[0mPandasError\u001b[0m\u001b[0;34m(\u001b[0m\u001b[0;34m'DataFrame constructor not properly called!'\u001b[0m\u001b[0;34m)\u001b[0m\u001b[0;34m\u001b[0m\u001b[0m\n\u001b[0m\u001b[1;32m    274\u001b[0m \u001b[0;34m\u001b[0m\u001b[0m\n\u001b[1;32m    275\u001b[0m         \u001b[0mNDFrame\u001b[0m\u001b[0;34m.\u001b[0m\u001b[0m__init__\u001b[0m\u001b[0;34m(\u001b[0m\u001b[0mself\u001b[0m\u001b[0;34m,\u001b[0m \u001b[0mmgr\u001b[0m\u001b[0;34m,\u001b[0m \u001b[0mfastpath\u001b[0m\u001b[0;34m=\u001b[0m\u001b[0mTrue\u001b[0m\u001b[0;34m)\u001b[0m\u001b[0;34m\u001b[0m\u001b[0m\n",
        "\u001b[0;31mPandasError\u001b[0m: DataFrame constructor not properly called!"
       ]
      }
     ],
     "prompt_number": 38
    },
    {
     "cell_type": "code",
     "collapsed": false,
     "input": [
      "retweet_favorites = pd.DataFrame(list(db.tweets.find(fields=['created_at','retweet_count','favorite_count'])))\n",
      "retweet_favorites.head()"
     ],
     "language": "python",
     "metadata": {
      "slideshow": {
       "slide_type": "subslide"
      }
     },
     "outputs": [
      {
       "html": [
        "<div style=\"max-height:1000px;max-width:1500px;overflow:auto;\">\n",
        "<table border=\"1\" class=\"dataframe\">\n",
        "  <thead>\n",
        "    <tr style=\"text-align: right;\">\n",
        "      <th></th>\n",
        "      <th>_id</th>\n",
        "      <th>created_at</th>\n",
        "      <th>favorite_count</th>\n",
        "      <th>retweet_count</th>\n",
        "    </tr>\n",
        "  </thead>\n",
        "  <tbody>\n",
        "    <tr>\n",
        "      <th>0</th>\n",
        "      <td> 535dafe8e86be603c101d934</td>\n",
        "      <td> Mon Apr 28 01:20:58 +0000 2014</td>\n",
        "      <td> 0</td>\n",
        "      <td>   0</td>\n",
        "    </tr>\n",
        "    <tr>\n",
        "      <th>1</th>\n",
        "      <td> 535dafe8e86be603c101d938</td>\n",
        "      <td> Mon Apr 28 01:20:57 +0000 2014</td>\n",
        "      <td> 0</td>\n",
        "      <td>   0</td>\n",
        "    </tr>\n",
        "    <tr>\n",
        "      <th>2</th>\n",
        "      <td> 535dafe8e86be603c101d933</td>\n",
        "      <td> Mon Apr 28 01:20:58 +0000 2014</td>\n",
        "      <td> 0</td>\n",
        "      <td> 101</td>\n",
        "    </tr>\n",
        "    <tr>\n",
        "      <th>3</th>\n",
        "      <td> 535dafe8e86be603c101d935</td>\n",
        "      <td> Mon Apr 28 01:20:58 +0000 2014</td>\n",
        "      <td> 0</td>\n",
        "      <td>   0</td>\n",
        "    </tr>\n",
        "    <tr>\n",
        "      <th>4</th>\n",
        "      <td> 535dafe8e86be603c101d936</td>\n",
        "      <td> Mon Apr 28 01:20:57 +0000 2014</td>\n",
        "      <td> 0</td>\n",
        "      <td> 322</td>\n",
        "    </tr>\n",
        "  </tbody>\n",
        "</table>\n",
        "<p>5 rows \u00d7 4 columns</p>\n",
        "</div>"
       ],
       "metadata": {},
       "output_type": "pyout",
       "prompt_number": 39,
       "text": [
        "                        _id                      created_at  favorite_count  \\\n",
        "0  535dafe8e86be603c101d934  Mon Apr 28 01:20:58 +0000 2014               0   \n",
        "1  535dafe8e86be603c101d938  Mon Apr 28 01:20:57 +0000 2014               0   \n",
        "2  535dafe8e86be603c101d933  Mon Apr 28 01:20:58 +0000 2014               0   \n",
        "3  535dafe8e86be603c101d935  Mon Apr 28 01:20:58 +0000 2014               0   \n",
        "4  535dafe8e86be603c101d936  Mon Apr 28 01:20:57 +0000 2014               0   \n",
        "\n",
        "   retweet_count  \n",
        "0              0  \n",
        "1              0  \n",
        "2            101  \n",
        "3              0  \n",
        "4            322  \n",
        "\n",
        "[5 rows x 4 columns]"
       ]
      }
     ],
     "prompt_number": 39
    },
    {
     "cell_type": "markdown",
     "metadata": {
      "slideshow": {
       "slide_type": "slide"
      }
     },
     "source": [
      "`.describe()` is a useful method to get the gist of our data."
     ]
    },
    {
     "cell_type": "code",
     "collapsed": false,
     "input": [
      "retweet_favorites.describe()"
     ],
     "language": "python",
     "metadata": {
      "slideshow": {
       "slide_type": "-"
      }
     },
     "outputs": [
      {
       "html": [
        "<div style=\"max-height:1000px;max-width:1500px;overflow:auto;\">\n",
        "<table border=\"1\" class=\"dataframe\">\n",
        "  <thead>\n",
        "    <tr style=\"text-align: right;\">\n",
        "      <th></th>\n",
        "      <th>favorite_count</th>\n",
        "      <th>retweet_count</th>\n",
        "    </tr>\n",
        "  </thead>\n",
        "  <tbody>\n",
        "    <tr>\n",
        "      <th>count</th>\n",
        "      <td> 200.000000</td>\n",
        "      <td>  200.000000</td>\n",
        "    </tr>\n",
        "    <tr>\n",
        "      <th>mean</th>\n",
        "      <td>   0.035000</td>\n",
        "      <td>  166.515000</td>\n",
        "    </tr>\n",
        "    <tr>\n",
        "      <th>std</th>\n",
        "      <td>   0.253171</td>\n",
        "      <td>  710.005074</td>\n",
        "    </tr>\n",
        "    <tr>\n",
        "      <th>min</th>\n",
        "      <td>   0.000000</td>\n",
        "      <td>    0.000000</td>\n",
        "    </tr>\n",
        "    <tr>\n",
        "      <th>25%</th>\n",
        "      <td>   0.000000</td>\n",
        "      <td>    0.000000</td>\n",
        "    </tr>\n",
        "    <tr>\n",
        "      <th>50%</th>\n",
        "      <td>   0.000000</td>\n",
        "      <td>    0.000000</td>\n",
        "    </tr>\n",
        "    <tr>\n",
        "      <th>75%</th>\n",
        "      <td>   0.000000</td>\n",
        "      <td>    5.250000</td>\n",
        "    </tr>\n",
        "    <tr>\n",
        "      <th>max</th>\n",
        "      <td>   3.000000</td>\n",
        "      <td> 3743.000000</td>\n",
        "    </tr>\n",
        "  </tbody>\n",
        "</table>\n",
        "<p>8 rows \u00d7 2 columns</p>\n",
        "</div>"
       ],
       "metadata": {},
       "output_type": "pyout",
       "prompt_number": 40,
       "text": [
        "       favorite_count  retweet_count\n",
        "count      200.000000     200.000000\n",
        "mean         0.035000     166.515000\n",
        "std          0.253171     710.005074\n",
        "min          0.000000       0.000000\n",
        "25%          0.000000       0.000000\n",
        "50%          0.000000       0.000000\n",
        "75%          0.000000       5.250000\n",
        "max          3.000000    3743.000000\n",
        "\n",
        "[8 rows x 2 columns]"
       ]
      }
     ],
     "prompt_number": 40
    },
    {
     "cell_type": "markdown",
     "metadata": {
      "slideshow": {
       "slide_type": "subslide"
      }
     },
     "source": [
      "However, when applied to a DataFrame, it only describes numeric columns."
     ]
    },
    {
     "cell_type": "code",
     "collapsed": false,
     "input": [
      "retweet_favorites.dtypes"
     ],
     "language": "python",
     "metadata": {
      "slideshow": {
       "slide_type": "-"
      }
     },
     "outputs": [
      {
       "metadata": {},
       "output_type": "pyout",
       "prompt_number": 41,
       "text": [
        "_id               object\n",
        "created_at        object\n",
        "favorite_count     int64\n",
        "retweet_count      int64\n",
        "dtype: object"
       ]
      }
     ],
     "prompt_number": 41
    },
    {
     "cell_type": "markdown",
     "metadata": {
      "slideshow": {
       "slide_type": "subslide"
      }
     },
     "source": [
      "`.describe()` can be called on individual columns (i.e. `Series`), even if they are not numeric."
     ]
    },
    {
     "cell_type": "code",
     "collapsed": false,
     "input": [
      "retweet_favorites.created_at.describe()"
     ],
     "language": "python",
     "metadata": {
      "slideshow": {
       "slide_type": "-"
      }
     },
     "outputs": [
      {
       "metadata": {},
       "output_type": "pyout",
       "prompt_number": 42,
       "text": [
        "count                                200\n",
        "unique                               103\n",
        "top       Mon Apr 28 01:20:14 +0000 2014\n",
        "freq                                   7\n",
        "Name: created_at, dtype: object"
       ]
      }
     ],
     "prompt_number": 42
    },
    {
     "cell_type": "markdown",
     "metadata": {
      "slideshow": {
       "slide_type": "fragment"
      }
     },
     "source": [
      "However, in this case `created_at` is being treated as a string, which is not very helpful. We can fix that with `pandas.to_datetime`:"
     ]
    },
    {
     "cell_type": "code",
     "collapsed": false,
     "input": [
      "retweet_favorites.created_at.map(pd.to_datetime).describe()"
     ],
     "language": "python",
     "metadata": {
      "slideshow": {
       "slide_type": "fragment"
      }
     },
     "outputs": [
      {
       "metadata": {},
       "output_type": "pyout",
       "prompt_number": 43,
       "text": [
        "count                     200\n",
        "unique                    103\n",
        "first     2014-04-28 01:18:51\n",
        "last      2014-04-28 01:20:58\n",
        "top       2014-04-28 01:20:14\n",
        "freq                        7\n",
        "Name: created_at, dtype: object"
       ]
      }
     ],
     "prompt_number": 43
    },
    {
     "cell_type": "markdown",
     "metadata": {
      "slideshow": {
       "slide_type": "notes"
      }
     },
     "source": [
      "Not all that interesting though, since all of these tweets were collected within a couple seconds of each other."
     ]
    },
    {
     "cell_type": "markdown",
     "metadata": {
      "slideshow": {
       "slide_type": "slide"
      }
     },
     "source": [
      "Mongo allows us to access subfields directly."
     ]
    },
    {
     "cell_type": "code",
     "collapsed": false,
     "input": [
      "mentions_followers = list(db.tweets.find(fields=['entities.user_mentions', 'user.followers_count']))\n",
      "pd.DataFrame(mentions_followers).head()"
     ],
     "language": "python",
     "metadata": {
      "slideshow": {
       "slide_type": "-"
      }
     },
     "outputs": [
      {
       "html": [
        "<div style=\"max-height:1000px;max-width:1500px;overflow:auto;\">\n",
        "<table border=\"1\" class=\"dataframe\">\n",
        "  <thead>\n",
        "    <tr style=\"text-align: right;\">\n",
        "      <th></th>\n",
        "      <th>_id</th>\n",
        "      <th>entities</th>\n",
        "      <th>user</th>\n",
        "    </tr>\n",
        "  </thead>\n",
        "  <tbody>\n",
        "    <tr>\n",
        "      <th>0</th>\n",
        "      <td> 535dafe8e86be603c101d934</td>\n",
        "      <td>                            {u'user_mentions': []}</td>\n",
        "      <td> {u'followers_count': 2404}</td>\n",
        "    </tr>\n",
        "    <tr>\n",
        "      <th>1</th>\n",
        "      <td> 535dafe8e86be603c101d938</td>\n",
        "      <td>                            {u'user_mentions': []}</td>\n",
        "      <td>   {u'followers_count': 28}</td>\n",
        "    </tr>\n",
        "    <tr>\n",
        "      <th>2</th>\n",
        "      <td> 535dafe8e86be603c101d933</td>\n",
        "      <td> {u'user_mentions': [{u'indices': [3, 14], u'sc...</td>\n",
        "      <td>   {u'followers_count': 10}</td>\n",
        "    </tr>\n",
        "    <tr>\n",
        "      <th>3</th>\n",
        "      <td> 535dafe8e86be603c101d935</td>\n",
        "      <td> {u'user_mentions': [{u'indices': [0, 12], u'sc...</td>\n",
        "      <td>   {u'followers_count': 43}</td>\n",
        "    </tr>\n",
        "    <tr>\n",
        "      <th>4</th>\n",
        "      <td> 535dafe8e86be603c101d936</td>\n",
        "      <td> {u'user_mentions': [{u'indices': [3, 16], u'sc...</td>\n",
        "      <td>  {u'followers_count': 181}</td>\n",
        "    </tr>\n",
        "  </tbody>\n",
        "</table>\n",
        "<p>5 rows \u00d7 3 columns</p>\n",
        "</div>"
       ],
       "metadata": {},
       "output_type": "pyout",
       "prompt_number": 44,
       "text": [
        "                        _id  \\\n",
        "0  535dafe8e86be603c101d934   \n",
        "1  535dafe8e86be603c101d938   \n",
        "2  535dafe8e86be603c101d933   \n",
        "3  535dafe8e86be603c101d935   \n",
        "4  535dafe8e86be603c101d936   \n",
        "\n",
        "                                            entities  \\\n",
        "0                             {u'user_mentions': []}   \n",
        "1                             {u'user_mentions': []}   \n",
        "2  {u'user_mentions': [{u'indices': [3, 14], u'sc...   \n",
        "3  {u'user_mentions': [{u'indices': [0, 12], u'sc...   \n",
        "4  {u'user_mentions': [{u'indices': [3, 16], u'sc...   \n",
        "\n",
        "                         user  \n",
        "0  {u'followers_count': 2404}  \n",
        "1    {u'followers_count': 28}  \n",
        "2    {u'followers_count': 10}  \n",
        "3    {u'followers_count': 43}  \n",
        "4   {u'followers_count': 181}  \n",
        "\n",
        "[5 rows x 3 columns]"
       ]
      }
     ],
     "prompt_number": 44
    },
    {
     "cell_type": "markdown",
     "metadata": {
      "slideshow": {
       "slide_type": "subslide"
      }
     },
     "source": [
      "Pandas doesn't know how to parse the sub-documents however, so we must tell it explicitly:"
     ]
    },
    {
     "cell_type": "code",
     "collapsed": false,
     "input": [
      "mentions_followers_df = pd.DataFrame({'user_mentions': len(tweet['entities']['user_mentions']), \n",
      "              'followers_count': tweet['user'].get('followers_count')} for tweet in mentions_followers)\n",
      "mentions_followers_df.head()"
     ],
     "language": "python",
     "metadata": {
      "slideshow": {
       "slide_type": "-"
      }
     },
     "outputs": [
      {
       "html": [
        "<div style=\"max-height:1000px;max-width:1500px;overflow:auto;\">\n",
        "<table border=\"1\" class=\"dataframe\">\n",
        "  <thead>\n",
        "    <tr style=\"text-align: right;\">\n",
        "      <th></th>\n",
        "      <th>followers_count</th>\n",
        "      <th>user_mentions</th>\n",
        "    </tr>\n",
        "  </thead>\n",
        "  <tbody>\n",
        "    <tr>\n",
        "      <th>0</th>\n",
        "      <td> 2404</td>\n",
        "      <td> 0</td>\n",
        "    </tr>\n",
        "    <tr>\n",
        "      <th>1</th>\n",
        "      <td>   28</td>\n",
        "      <td> 0</td>\n",
        "    </tr>\n",
        "    <tr>\n",
        "      <th>2</th>\n",
        "      <td>   10</td>\n",
        "      <td> 1</td>\n",
        "    </tr>\n",
        "    <tr>\n",
        "      <th>3</th>\n",
        "      <td>   43</td>\n",
        "      <td> 1</td>\n",
        "    </tr>\n",
        "    <tr>\n",
        "      <th>4</th>\n",
        "      <td>  181</td>\n",
        "      <td> 1</td>\n",
        "    </tr>\n",
        "  </tbody>\n",
        "</table>\n",
        "<p>5 rows \u00d7 2 columns</p>\n",
        "</div>"
       ],
       "metadata": {},
       "output_type": "pyout",
       "prompt_number": 45,
       "text": [
        "   followers_count  user_mentions\n",
        "0             2404              0\n",
        "1               28              0\n",
        "2               10              1\n",
        "3               43              1\n",
        "4              181              1\n",
        "\n",
        "[5 rows x 2 columns]"
       ]
      }
     ],
     "prompt_number": 45
    },
    {
     "cell_type": "markdown",
     "metadata": {
      "slideshow": {
       "slide_type": "slide"
      }
     },
     "source": [
      "Perhaps `user_mentions` and `followers_count` are correlated?"
     ]
    },
    {
     "cell_type": "code",
     "collapsed": false,
     "input": [
      "% matplotlib inline\n",
      "plt.scatter(mentions_followers_df.user_mentions, mentions_followers_df.followers_count)\n",
      "mentions_followers_df.corr()"
     ],
     "language": "python",
     "metadata": {
      "slideshow": {
       "slide_type": "-"
      }
     },
     "outputs": [
      {
       "html": [
        "<div style=\"max-height:1000px;max-width:1500px;overflow:auto;\">\n",
        "<table border=\"1\" class=\"dataframe\">\n",
        "  <thead>\n",
        "    <tr style=\"text-align: right;\">\n",
        "      <th></th>\n",
        "      <th>followers_count</th>\n",
        "      <th>user_mentions</th>\n",
        "    </tr>\n",
        "  </thead>\n",
        "  <tbody>\n",
        "    <tr>\n",
        "      <th>followers_count</th>\n",
        "      <td> 1.000000</td>\n",
        "      <td>-0.079164</td>\n",
        "    </tr>\n",
        "    <tr>\n",
        "      <th>user_mentions</th>\n",
        "      <td>-0.079164</td>\n",
        "      <td> 1.000000</td>\n",
        "    </tr>\n",
        "  </tbody>\n",
        "</table>\n",
        "<p>2 rows \u00d7 2 columns</p>\n",
        "</div>"
       ],
       "metadata": {},
       "output_type": "pyout",
       "prompt_number": 46,
       "text": [
        "                 followers_count  user_mentions\n",
        "followers_count         1.000000      -0.079164\n",
        "user_mentions          -0.079164       1.000000\n",
        "\n",
        "[2 rows x 2 columns]"
       ]
      },
      {
       "metadata": {},
       "output_type": "display_data",
       "png": "[encoded data removed]",
       "text": [
        "<matplotlib.figure.Figure at 0x1084df9d0>"
       ]
      }
     ],
     "prompt_number": 46
    },
    {
     "cell_type": "markdown",
     "metadata": {
      "slideshow": {
       "slide_type": "fragment"
      }
     },
     "source": [
      "Perhaps not."
     ]
    },
    {
     "cell_type": "markdown",
     "metadata": {
      "slideshow": {
       "slide_type": "slide"
      }
     },
     "source": [
      "Lab\n",
      "============\n",
      "1-2 Pairs\n",
      "------------"
     ]
    },
    {
     "cell_type": "markdown",
     "metadata": {
      "slideshow": {
       "slide_type": "notes"
      }
     },
     "source": [
      "Raise two fingers if you understand the material well.  \n",
      "Raise one finger if you understand this material OK.  \n",
      "Now, 1 find a 2 and sit next to them. While you work through this exercise, only 1's can type."
     ]
    },
    {
     "cell_type": "markdown",
     "metadata": {
      "slideshow": {
       "slide_type": "fragment"
      }
     },
     "source": [
      "The [Yahoo! Where On Earth ID](https://developer.yahoo.com/geo/geoplanet/) of Canada is 23424775.  \n",
      "Use it to find Twitter trends in Canada and compare it to US trends. What's the difference between them?  \n",
      "\n",
      "- Insert the last 100 tweets for all Canada-only trends into a `canada` collection.  \n",
      "- Insert the last 100 tweets for all US-only trends into a `us` collections.  \n",
      "- For this (small and not very representative) sample, which users have the highest `follower_count`?"
     ]
    },
    {
     "cell_type": "code",
     "collapsed": false,
     "input": [
      "CANADA_WOE_ID = 23424775\n",
      "US_WOE_ID = 23424977\n",
      "\n",
      "# Prefix ID with the underscore for query string parameterization.\n",
      "# Without the underscore, the twitter package appends the ID value\n",
      "# to the URL itself as a special case keyword argument.\n",
      "\n",
      "canada_trends = twitter_api.trends.place(_id=CANADA_WOE_ID)\n",
      "us_trends = twitter_api.trends.place(_id=US_WOE_ID)\n",
      "\n",
      "pprint(canada_trends)"
     ],
     "language": "python",
     "metadata": {},
     "outputs": [
      {
       "output_type": "stream",
       "stream": "stdout",
       "text": [
        "[{u'as_of': u'2014-04-28T01:47:15Z',\n",
        "  u'created_at': u'2014-04-28T01:44:39Z',\n",
        "  u'locations': [{u'name': u'Canada', u'woeid': 23424775}],\n",
        "  u'trends': [{u'name': u'#galaartis',\n",
        "               u'promoted_content': None,\n",
        "               u'query': u'%23galaartis',\n",
        "               u'url': u'http://twitter.com/search?q=%23galaartis'},\n",
        "              {u'name': u'Trevor Daley',\n",
        "               u'promoted_content': None,\n",
        "               u'query': u'%22Trevor+Daley%22',\n",
        "               u'url': u'http://twitter.com/search?q=%22Trevor+Daley%22'},\n",
        "              {u'name': u'Denis L\\xe9vesque',\n",
        "               u'promoted_content': None,\n",
        "               u'query': u'%22Denis+L%C3%A9vesque%22',\n",
        "               u'url': u'http://twitter.com/search?q=%22Denis+L%C3%A9vesque%22'},\n",
        "              {u'name': u'#ProblemOutTonight',\n",
        "               u'promoted_content': None,\n",
        "               u'query': u'%23ProblemOutTonight',\n",
        "               u'url': u'http://twitter.com/search?q=%23ProblemOutTonight'},\n",
        "              {u'name': u'#WeTheFourth',\n",
        "               u'promoted_content': None,\n",
        "               u'query': u'%23WeTheFourth',\n",
        "               u'url': u'http://twitter.com/search?q=%23WeTheFourth'},\n",
        "              {u'name': u'Claude Legault',\n",
        "               u'promoted_content': None,\n",
        "               u'query': u'%22Claude+Legault%22',\n",
        "               u'url': u'http://twitter.com/search?q=%22Claude+Legault%22'},\n",
        "              {u'name': u'H\\xe9l\\xe8ne Florent',\n",
        "               u'promoted_content': None,\n",
        "               u'query': u'%22H%C3%A9l%C3%A8ne+Florent%22',\n",
        "               u'url': u'http://twitter.com/search?q=%22H%C3%A9l%C3%A8ne+Florent%22'},\n",
        "              {u'name': u'#saysomething',\n",
        "               u'promoted_content': None,\n",
        "               u'query': u'%23saysomething',\n",
        "               u'url': u'http://twitter.com/search?q=%23saysomething'},\n",
        "              {u'name': u'Best of 3',\n",
        "               u'promoted_content': None,\n",
        "               u'query': u'%22Best+of+3%22',\n",
        "               u'url': u'http://twitter.com/search?q=%22Best+of+3%22'},\n",
        "              {u'name': u'Telus Cup',\n",
        "               u'promoted_content': None,\n",
        "               u'query': u'%22Telus+Cup%22',\n",
        "               u'url': u'http://twitter.com/search?q=%22Telus+Cup%22'}]}]\n"
       ]
      }
     ],
     "prompt_number": 47
    },
    {
     "cell_type": "code",
     "collapsed": false,
     "input": [
      "pprint(us_trends)"
     ],
     "language": "python",
     "metadata": {},
     "outputs": [
      {
       "output_type": "stream",
       "stream": "stdout",
       "text": [
        "[{u'as_of': u'2014-04-28T01:47:15Z',\n",
        "  u'created_at': u'2014-04-28T01:44:39Z',\n",
        "  u'locations': [{u'name': u'United States', u'woeid': 23424977}],\n",
        "  u'trends': [{u'name': u'#WatchingCosmos',\n",
        "               u'promoted_content': None,\n",
        "               u'query': u'%23WatchingCosmos',\n",
        "               u'url': u'http://twitter.com/search?q=%23WatchingCosmos'},\n",
        "              {u'name': u'#WhyBeInARelationshipWhen',\n",
        "               u'promoted_content': None,\n",
        "               u'query': u'%23WhyBeInARelationshipWhen',\n",
        "               u'url': u'http://twitter.com/search?q=%23WhyBeInARelationshipWhen'},\n",
        "              {u'name': u'#ProblemOutTonight',\n",
        "               u'promoted_content': None,\n",
        "               u'query': u'%23ProblemOutTonight',\n",
        "               u'url': u'http://twitter.com/search?q=%23ProblemOutTonight'},\n",
        "              {u'name': u'#Oathkeeper',\n",
        "               u'promoted_content': None,\n",
        "               u'query': u'%23Oathkeeper',\n",
        "               u'url': u'http://twitter.com/search?q=%23Oathkeeper'},\n",
        "              {u'name': u'Ser Pounce',\n",
        "               u'promoted_content': None,\n",
        "               u'query': u'%22Ser+Pounce%22',\n",
        "               u'url': u'http://twitter.com/search?q=%22Ser+Pounce%22'},\n",
        "              {u'name': u'#COFBLA14',\n",
        "               u'promoted_content': None,\n",
        "               u'query': u'%23COFBLA14',\n",
        "               u'url': u'http://twitter.com/search?q=%23COFBLA14'},\n",
        "              {u'name': u'Vilonia',\n",
        "               u'promoted_content': None,\n",
        "               u'query': u'Vilonia',\n",
        "               u'url': u'http://twitter.com/search?q=Vilonia'},\n",
        "              {u'name': u'Jaime and Brienne',\n",
        "               u'promoted_content': None,\n",
        "               u'query': u'%22Jaime+and+Brienne%22',\n",
        "               u'url': u'http://twitter.com/search?q=%22Jaime+and+Brienne%22'},\n",
        "              {u'name': u'Mayflower',\n",
        "               u'promoted_content': None,\n",
        "               u'query': u'Mayflower',\n",
        "               u'url': u'http://twitter.com/search?q=Mayflower'},\n",
        "              {u'name': u'Clean White',\n",
        "               u'promoted_content': None,\n",
        "               u'query': u'%22Clean+White%22',\n",
        "               u'url': u'http://twitter.com/search?q=%22Clean+White%22'}]}]\n"
       ]
      }
     ],
     "prompt_number": 48
    },
    {
     "cell_type": "code",
     "collapsed": false,
     "input": [
      "canada_trends_set = set([trend['name'] for trends in canada_trends\n",
      "                        for trend in trends['trends']])\n",
      "\n",
      "us_trends_set = set([trend['name'] for trends in us_trends\n",
      "                     for trend in trends['trends']]) \n",
      "\n",
      "shared_trends = world_trends_set.intersection(us_trends_set)\n",
      "\n",
      "print('number in canada_trends: ' + str(len(canada_trends_set)))\n",
      "print('number in us_trends: ' + str(len(us_trends_set)))\n",
      "print('number in intersection: ' + str(len(shared_trends)))\n",
      "print('shared trends:')\n",
      "shared_trends"
     ],
     "language": "python",
     "metadata": {},
     "outputs": [
      {
       "output_type": "stream",
       "stream": "stdout",
       "text": [
        "number in canada_trends: 10\n",
        "number in us_trends: 10\n",
        "number in intersection: 1\n",
        "shared trends:\n"
       ]
      },
      {
       "metadata": {},
       "output_type": "pyout",
       "prompt_number": 53,
       "text": [
        "{u'#ProblemOutTonight'}"
       ]
      }
     ],
     "prompt_number": 53
    },
    {
     "cell_type": "code",
     "collapsed": false,
     "input": [
      "canadaonly_trends_set = canada_trends_set.difference(us_trends_set)\n",
      "usonly_trends_set = us_trends_set.difference(canada_trends_set)\n",
      "print('number in canadaonly_trends: ' + str(len(canadaonly_trends_set)))\n",
      "print('number in usonly_trends: ' + str(len(usonly_trends_set)))"
     ],
     "language": "python",
     "metadata": {},
     "outputs": [
      {
       "output_type": "stream",
       "stream": "stdout",
       "text": [
        "number in canadaonly_trends: 9\n",
        "number in usonly_trends: 9\n"
       ]
      }
     ],
     "prompt_number": 54
    },
    {
     "cell_type": "code",
     "collapsed": false,
     "input": [
      "usonly_trends_set"
     ],
     "language": "python",
     "metadata": {},
     "outputs": [
      {
       "metadata": {},
       "output_type": "pyout",
       "prompt_number": 55,
       "text": [
        "{u'#COFBLA14',\n",
        " u'#Oathkeeper',\n",
        " u'#WatchingCosmos',\n",
        " u'#WhyBeInARelationshipWhen',\n",
        " u'Clean White',\n",
        " u'Jaime and Brienne',\n",
        " u'Mayflower',\n",
        " u'Ser Pounce',\n",
        " u'Vilonia'}"
       ]
      }
     ],
     "prompt_number": 55
    },
    {
     "cell_type": "code",
     "collapsed": false,
     "input": [
      "canadaonly_trends_set"
     ],
     "language": "python",
     "metadata": {},
     "outputs": [
      {
       "metadata": {},
       "output_type": "pyout",
       "prompt_number": 56,
       "text": [
        "{u'#WeTheFourth',\n",
        " u'#galaartis',\n",
        " u'#saysomething',\n",
        " u'Best of 3',\n",
        " u'Claude Legault',\n",
        " u'Denis L\\xe9vesque',\n",
        " u'H\\xe9l\\xe8ne Florent',\n",
        " u'Telus Cup',\n",
        " u'Trevor Daley'}"
       ]
      }
     ],
     "prompt_number": 56
    },
    {
     "cell_type": "code",
     "collapsed": false,
     "input": [
      "# canada_trends[0]['trends'][0]['name']\n",
      "# canadaonly_trends_set[0]\n",
      "# for i,thistrend in enumerate(canadaonly_trends_set):\n",
      "#    print(i,thistrend)\n",
      "canadaonly_trends_set_list = list(canadaonly_trends_set)\n",
      "canadaonly_trends_set_list[0]"
     ],
     "language": "python",
     "metadata": {},
     "outputs": [
      {
       "metadata": {},
       "output_type": "pyout",
       "prompt_number": 73,
       "text": [
        "u'#WeTheFourth'"
       ]
      }
     ],
     "prompt_number": 73
    },
    {
     "cell_type": "code",
     "collapsed": false,
     "input": [
      "ca_max_followers_pertrend = [0]*len(canadaonly_trends_set_list)\n",
      "ca_max_followers_pertrend"
     ],
     "language": "python",
     "metadata": {},
     "outputs": [
      {
       "metadata": {},
       "output_type": "pyout",
       "prompt_number": 115,
       "text": [
        "[0, 0, 0, 0, 0, 0, 0, 0, 0]"
       ]
      }
     ],
     "prompt_number": 115
    },
    {
     "cell_type": "code",
     "collapsed": false,
     "input": [
      "ca_c = MongoClient()\n",
      "ca_db = ca_c.twitter\n",
      "ca_db.tweets"
     ],
     "language": "python",
     "metadata": {},
     "outputs": [
      {
       "ename": "NameError",
       "evalue": "name 'MongoClient' is not defined",
       "output_type": "pyerr",
       "traceback": [
        "\u001b[0;31m---------------------------------------------------------------------------\u001b[0m\n\u001b[0;31mNameError\u001b[0m                                 Traceback (most recent call last)",
        "\u001b[0;32m<ipython-input-1-ce7fa8f19f3b>\u001b[0m in \u001b[0;36m<module>\u001b[0;34m()\u001b[0m\n\u001b[0;32m----> 1\u001b[0;31m \u001b[0mca_c\u001b[0m \u001b[0;34m=\u001b[0m \u001b[0mMongoClient\u001b[0m\u001b[0;34m(\u001b[0m\u001b[0;34m)\u001b[0m\u001b[0;34m\u001b[0m\u001b[0m\n\u001b[0m\u001b[1;32m      2\u001b[0m \u001b[0mca_db\u001b[0m \u001b[0;34m=\u001b[0m \u001b[0mca_c\u001b[0m\u001b[0;34m.\u001b[0m\u001b[0mtwitter\u001b[0m\u001b[0;34m\u001b[0m\u001b[0m\n\u001b[1;32m      3\u001b[0m \u001b[0mca_db\u001b[0m\u001b[0;34m.\u001b[0m\u001b[0mtweets\u001b[0m\u001b[0;34m\u001b[0m\u001b[0m\n",
        "\u001b[0;31mNameError\u001b[0m: name 'MongoClient' is not defined"
       ]
      }
     ],
     "prompt_number": 1
    },
    {
     "cell_type": "code",
     "collapsed": false,
     "input": [
      "\n",
      "for i in range(len(canadaonly_trends_set_list)):\n",
      "    ca_trendname = canadaonly_trends_set_list[i]\n",
      "    ca_search_results = twitter_api.search.tweets(q=ca_trendname, count=count)\n",
      "    ca_statuses = ca_search_results['statuses']\n",
      "    #ca_db.tweets.drop()\n",
      "    ca_statuses_ids = ca_db.tweets.insert(ca_statuses)\n",
      "    ca_followers = list(db.tweets.find(fields=['user.followers_count']))\n",
      "    ca_followers_df = pd.DataFrame({'followers_count': tweet['user'].get('followers_count')}\n",
      "                               for tweet in ca_followers)\n",
      "    ca_max_followers = int(ca_followers_df.max())\n",
      "    print(i,ca_trendname,ca_max_followers)\n",
      "    ca_max_followers_pertrend[i] = ca_max_followers"
     ],
     "language": "python",
     "metadata": {},
     "outputs": [
      {
       "output_type": "stream",
       "stream": "stdout",
       "text": [
        "(0, u'#WeTheFourth', 4512)\n",
        "(1, u'Trevor Daley', 5795)"
       ]
      },
      {
       "output_type": "stream",
       "stream": "stdout",
       "text": [
        "\n",
        "(2, u'Best of 3', 60438)"
       ]
      },
      {
       "output_type": "stream",
       "stream": "stdout",
       "text": [
        "\n",
        "(3, u'Denis L\\xe9vesque', 7541)"
       ]
      },
      {
       "output_type": "stream",
       "stream": "stdout",
       "text": [
        "\n",
        "(4, u'H\\xe9l\\xe8ne Florent', 28047)"
       ]
      },
      {
       "output_type": "stream",
       "stream": "stdout",
       "text": [
        "\n",
        "(5, u'#saysomething', 100164)"
       ]
      },
      {
       "output_type": "stream",
       "stream": "stdout",
       "text": [
        "\n",
        "(6, u'Claude Legault', 98810)"
       ]
      },
      {
       "output_type": "stream",
       "stream": "stdout",
       "text": [
        "\n",
        "(7, u'#galaartis', 31234)"
       ]
      },
      {
       "output_type": "stream",
       "stream": "stdout",
       "text": [
        "\n",
        "(8, u'Telus Cup', 19420)"
       ]
      },
      {
       "output_type": "stream",
       "stream": "stdout",
       "text": [
        "\n"
       ]
      }
     ],
     "prompt_number": 116
    },
    {
     "cell_type": "code",
     "collapsed": false,
     "input": [
      "max(ca_max_followers_pertrend)"
     ],
     "language": "python",
     "metadata": {},
     "outputs": [
      {
       "metadata": {},
       "output_type": "pyout",
       "prompt_number": 118,
       "text": [
        "100164"
       ]
      }
     ],
     "prompt_number": 118
    },
    {
     "cell_type": "code",
     "collapsed": false,
     "input": [
      "usonly_trends_set_list = list(usonly_trends_set)\n",
      "us_max_followers_pertrend = [0]*len(usonly_trends_set_list)"
     ],
     "language": "python",
     "metadata": {},
     "outputs": [],
     "prompt_number": 119
    },
    {
     "cell_type": "code",
     "collapsed": false,
     "input": [
      "for i in range(len(usonly_trends_set_list)):\n",
      "    us_trendname = usonly_trends_set_list[i]\n",
      "    us_search_results = twitter_api.search.tweets(q=us_trendname, count=count)\n",
      "    us_statuses = us_search_results['statuses']\n",
      "    ca_db.tweets.drop()\n",
      "    #us_statuses_ids = ca_db.tweets.insert(us_statuses)\n",
      "    ca_db.tweets.insert(us_statuses)\n",
      "    us_followers = list(db.tweets.find(fields=['user.followers_count']))\n",
      "    us_followers_df = pd.DataFrame({'followers_count': tweet['user'].get('followers_count')}\n",
      "                               for tweet in us_followers)\n",
      "    us_max_followers = int(us_followers_df.max())\n",
      "    print(i,us_trendname,us_max_followers)\n",
      "    us_max_followers_pertrend[i] = us_max_followers"
     ],
     "language": "python",
     "metadata": {},
     "outputs": [
      {
       "output_type": "stream",
       "stream": "stdout",
       "text": [
        "(0, u'#COFBLA14', 23636)\n",
        "(1, u'#Oathkeeper', 1923)"
       ]
      },
      {
       "output_type": "stream",
       "stream": "stdout",
       "text": [
        "\n",
        "(2, u'Jaime and Brienne', 3971)"
       ]
      },
      {
       "output_type": "stream",
       "stream": "stdout",
       "text": [
        "\n",
        "(3, u'#WhyBeInARelationshipWhen', 9084)"
       ]
      },
      {
       "output_type": "stream",
       "stream": "stdout",
       "text": [
        "\n",
        "(4, u'Vilonia', 13612)"
       ]
      },
      {
       "output_type": "stream",
       "stream": "stdout",
       "text": [
        "\n",
        "(5, u'#WatchingCosmos', 19997)"
       ]
      },
      {
       "output_type": "stream",
       "stream": "stdout",
       "text": [
        "\n",
        "(6, u'Mayflower', 15300)"
       ]
      },
      {
       "output_type": "stream",
       "stream": "stdout",
       "text": [
        "\n",
        "(7, u'Clean White', 109287)"
       ]
      },
      {
       "output_type": "stream",
       "stream": "stdout",
       "text": [
        "\n",
        "(8, u'Ser Pounce', 28136)"
       ]
      },
      {
       "output_type": "stream",
       "stream": "stdout",
       "text": [
        "\n"
       ]
      }
     ],
     "prompt_number": 120
    },
    {
     "cell_type": "code",
     "collapsed": false,
     "input": [
      "max(us_max_followers_pertrend)"
     ],
     "language": "python",
     "metadata": {},
     "outputs": [
      {
       "metadata": {},
       "output_type": "pyout",
       "prompt_number": 121,
       "text": [
        "109287"
       ]
      }
     ],
     "prompt_number": 121
    },
    {
     "cell_type": "markdown",
     "metadata": {},
     "source": [
      "US has maximum follower_count of 109287, over CA with 100164\n",
      "\n",
      "Note that only 100 tweets for each trend was pulled.  It seemed like I could pull an endless number of tweets for each trend, and wouldn't know where to stop, so I kept it at 100.  Perhaps I could define a period of time and only take instances within that time window and then be able to say that \"US > CA over this time period\".\n"
     ]
    },
    {
     "cell_type": "markdown",
     "metadata": {
      "slideshow": {
       "slide_type": "fragment"
      }
     },
     "source": [
      "Individually:\n",
      "------------\n",
      "Find tweets where `'retweet_count': {\"$gt\": 0}`.  \n",
      "What is their `count`?  \n",
      "Is there anything about them that stands out as retweetable?"
     ]
    },
    {
     "cell_type": "markdown",
     "metadata": {
      "slideshow": {
       "slide_type": "notes"
      }
     },
     "source": [
      "Further exercises:  \n",
      "\n",
      "* Twitter - _Mining-the-Social-Web-2nd-Edition_: [Chapter 1 - Mining Twitter](http://nbviewer.ipython.org/github/ptwobrussell/Mining-the-Social-Web-2nd-Edition/blob/master/ipynb/__Chapter%201%20-%20Mining%20Twitter%20%28Full-Text%20Sampler%29.ipynb)\n",
      "* Mongo - [Aggregation Framework](http://docs.mongodb.org/manual/aggregation/)"
     ]
    },
    {
     "cell_type": "markdown",
     "metadata": {
      "slideshow": {
       "slide_type": "slide"
      }
     },
     "source": [
      "Next week:\n",
      "==============\n",
      "Exploring Data\n",
      "--------------"
     ]
    }
   ],
   "metadata": {}
  }
 ]
}