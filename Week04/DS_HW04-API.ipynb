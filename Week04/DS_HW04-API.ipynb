{
 "metadata": {
  "celltoolbar": "Slideshow",
  "name": "",
  "signature": "sha256:a7af19d28001e4c30e92f19ff74cdc4c59b3b2fd799a2a3384899b2290f18af4"
 },
 "nbformat": 3,
 "nbformat_minor": 0,
 "worksheets": [
  {
   "cells": [
    {
     "cell_type": "markdown",
     "metadata": {
      "slideshow": {
       "slide_type": "slide"
      }
     },
     "source": [
      "Lab\n",
      "===================\n",
      "Twitter & MongoDB\n",
      "-------------------\n",
      "Alessandro D. Gagliardi"
     ]
    },
    {
     "cell_type": "markdown",
     "metadata": {
      "slideshow": {
       "slide_type": "slide"
      }
     },
     "source": [
      "Lab\n",
      "============\n",
      "1-2 Pairs\n",
      "------------"
     ]
    },
    {
     "cell_type": "markdown",
     "metadata": {
      "slideshow": {
       "slide_type": "notes"
      }
     },
     "source": [
      "Raise two fingers if you understand the material well.  \n",
      "Raise one finger if you understand this material OK.  \n",
      "Now, 1 find a 2 and sit next to them. While you work through this exercise, only 1's can type."
     ]
    },
    {
     "cell_type": "markdown",
     "metadata": {
      "slideshow": {
       "slide_type": "fragment"
      }
     },
     "source": [
      "The [Yahoo! Where On Earth ID](https://developer.yahoo.com/geo/geoplanet/) of Canada is 23424775.  \n",
      "Use it to find Twitter trends in Canada and compare it to US trends. What's the difference between them?  \n",
      "\n",
      "- Insert the last 100 tweets for all Canada-only trends into a `canada` collection.  \n",
      "- Insert the last 100 tweets for all US-only trends into a `us` collections.  \n",
      "- For this (small and not very representative) sample, which users have the highest `follower_count`?"
     ]
    },
    {
     "cell_type": "code",
     "collapsed": false,
     "input": [
      "# INITIAL SET-UP FROM ORIGINAL LAB NOTEBOOK\n",
      "# standard library:\n",
      "import os  \n",
      "\n",
      "from pprint import pprint\n",
      "\n",
      "# other modules:\n",
      "import matplotlib.pyplot as plt\n",
      "import pandas as pd\n",
      "import twitter\n",
      "import yaml\n",
      "\n",
      "from pymongo import MongoClient"
     ],
     "language": "python",
     "metadata": {},
     "outputs": [],
     "prompt_number": 1
    },
    {
     "cell_type": "code",
     "collapsed": false,
     "input": [
      "credentials = yaml.load(open(os.path.expanduser('/Users/crista/Desktop/gads2014course/api_cred.yml')))\n",
      "\n",
      "auth = twitter.oauth.OAuth(credentials['ACCESS_TOKEN'], \n",
      "                           credentials['ACCESS_TOKEN_SECRET'],\n",
      "                           credentials['API_KEY'],\n",
      "                           credentials['API_SECRET'])\n",
      "\n",
      "twitter_api = twitter.Twitter(auth=auth)"
     ],
     "language": "python",
     "metadata": {},
     "outputs": [],
     "prompt_number": 2
    },
    {
     "cell_type": "code",
     "collapsed": false,
     "input": [
      "# GETTING SOME TRENDS FOR CANADA AND US\n",
      "CANADA_WOE_ID = 23424775\n",
      "US_WOE_ID = 23424977\n",
      "\n",
      "# Prefix ID with the underscore for query string parameterization.\n",
      "# Without the underscore, the twitter package appends the ID value\n",
      "# to the URL itself as a special case keyword argument.\n",
      "\n",
      "canada_trends = twitter_api.trends.place(_id=CANADA_WOE_ID)\n",
      "us_trends = twitter_api.trends.place(_id=US_WOE_ID)\n",
      "\n",
      "pprint(canada_trends)"
     ],
     "language": "python",
     "metadata": {},
     "outputs": [
      {
       "output_type": "stream",
       "stream": "stdout",
       "text": [
        "[{u'as_of': u'2014-05-03T18:13:55Z',\n",
        "  u'created_at': u'2014-05-03T18:08:23Z',\n",
        "  u'locations': [{u'name': u'Canada', u'woeid': 23424775}],\n",
        "  u'trends': [{u'name': u'#CHUMFMRaptors',\n",
        "               u'promoted_content': None,\n",
        "               u'query': u'%23CHUMFMRaptors',\n",
        "               u'url': u'http://twitter.com/search?q=%23CHUMFMRaptors'},\n",
        "              {u'name': u'Mike Weaver',\n",
        "               u'promoted_content': None,\n",
        "               u'query': u'%22Mike+Weaver%22',\n",
        "               u'url': u'http://twitter.com/search?q=%22Mike+Weaver%22'},\n",
        "              {u'name': u'#ScottsUsedHere',\n",
        "               u'promoted_content': None,\n",
        "               u'query': u'%23ScottsUsedHere',\n",
        "               u'url': u'http://twitter.com/search?q=%23ScottsUsedHere'},\n",
        "              {u'name': u'Ross Barkley',\n",
        "               u'promoted_content': None,\n",
        "               u'query': u'%22Ross+Barkley%22',\n",
        "               u'url': u'http://twitter.com/search?q=%22Ross+Barkley%22'},\n",
        "              {u'name': u'#gafesummit',\n",
        "               u'promoted_content': None,\n",
        "               u'query': u'%23gafesummit',\n",
        "               u'url': u'http://twitter.com/search?q=%23gafesummit'},\n",
        "              {u'name': u'#Chara',\n",
        "               u'promoted_content': None,\n",
        "               u'query': u'%23Chara',\n",
        "               u'url': u'http://twitter.com/search?q=%23Chara'},\n",
        "              {u'name': u'#FreeComicBookDay',\n",
        "               u'promoted_content': None,\n",
        "               u'query': u'%23FreeComicBookDay',\n",
        "               u'url': u'http://twitter.com/search?q=%23FreeComicBookDay'},\n",
        "              {u'name': u'Everton',\n",
        "               u'promoted_content': None,\n",
        "               u'query': u'Everton',\n",
        "               u'url': u'http://twitter.com/search?q=Everton'},\n",
        "              {u'name': u'Prust',\n",
        "               u'promoted_content': None,\n",
        "               u'query': u'Prust',\n",
        "               u'url': u'http://twitter.com/search?q=Prust'},\n",
        "              {u'name': u'Vanek',\n",
        "               u'promoted_content': None,\n",
        "               u'query': u'Vanek',\n",
        "               u'url': u'http://twitter.com/search?q=Vanek'}]}]\n"
       ]
      }
     ],
     "prompt_number": 3
    },
    {
     "cell_type": "code",
     "collapsed": false,
     "input": [
      "pprint(us_trends)"
     ],
     "language": "python",
     "metadata": {},
     "outputs": [
      {
       "output_type": "stream",
       "stream": "stdout",
       "text": [
        "[{u'as_of': u'2014-05-03T18:13:55Z',\n",
        "  u'created_at': u'2014-05-03T18:08:23Z',\n",
        "  u'locations': [{u'name': u'United States', u'woeid': 23424977}],\n",
        "  u'trends': [{u'name': u'#VictoriaLiveChat',\n",
        "               u'promoted_content': None,\n",
        "               u'query': u'%23VictoriaLiveChat',\n",
        "               u'url': u'http://twitter.com/search?q=%23VictoriaLiveChat'},\n",
        "              {u'name': u'Happy Derby Day',\n",
        "               u'promoted_content': None,\n",
        "               u'query': u'%22Happy+Derby+Day%22',\n",
        "               u'url': u'http://twitter.com/search?q=%22Happy+Derby+Day%22'},\n",
        "              {u'name': u'Brian Scott',\n",
        "               u'promoted_content': None,\n",
        "               u'query': u'%22Brian+Scott%22',\n",
        "               u'url': u'http://twitter.com/search?q=%22Brian+Scott%22'},\n",
        "              {u'name': u'Carey Price',\n",
        "               u'promoted_content': None,\n",
        "               u'query': u'%22Carey+Price%22',\n",
        "               u'url': u'http://twitter.com/search?q=%22Carey+Price%22'},\n",
        "              {u'name': u'#FreeComicBookDay',\n",
        "               u'promoted_content': None,\n",
        "               u'query': u'%23FreeComicBookDay',\n",
        "               u'url': u'http://twitter.com/search?q=%23FreeComicBookDay'},\n",
        "              {u'name': u'Naismith',\n",
        "               u'promoted_content': None,\n",
        "               u'query': u'Naismith',\n",
        "               u'url': u'http://twitter.com/search?q=Naismith'},\n",
        "              {u'name': u'#HappyBirthdayLukeAndJai',\n",
        "               u'promoted_content': None,\n",
        "               u'query': u'%23HappyBirthdayLukeAndJai',\n",
        "               u'url': u'http://twitter.com/search?q=%23HappyBirthdayLukeAndJai'},\n",
        "              {u'name': u'The SAT',\n",
        "               u'promoted_content': None,\n",
        "               u'query': u'%22The+SAT%22',\n",
        "               u'url': u'http://twitter.com/search?q=%22The+SAT%22'},\n",
        "              {u'name': u'OpTic Nation',\n",
        "               u'promoted_content': None,\n",
        "               u'query': u'%22OpTic+Nation%22',\n",
        "               u'url': u'http://twitter.com/search?q=%22OpTic+Nation%22'},\n",
        "              {u'name': u'#Twinspics',\n",
        "               u'promoted_content': None,\n",
        "               u'query': u'%23Twinspics',\n",
        "               u'url': u'http://twitter.com/search?q=%23Twinspics'}]}]\n"
       ]
      }
     ],
     "prompt_number": 4
    },
    {
     "cell_type": "code",
     "collapsed": false,
     "input": [
      "# EXTRACTING LIST OF TRENDS FOR EACH COUNTRY\n",
      "canada_trends_set = set([trend['name'] for trends in canada_trends\n",
      "                        for trend in trends['trends']])\n",
      "\n",
      "us_trends_set = set([trend['name'] for trends in us_trends\n",
      "                     for trend in trends['trends']]) \n",
      "\n",
      "shared_trends = canada_trends_set.intersection(us_trends_set)\n",
      "\n",
      "print('number in canada_trends: ' + str(len(canada_trends_set)))\n",
      "print('number in us_trends: ' + str(len(us_trends_set)))\n",
      "print('number in intersection: ' + str(len(shared_trends)))\n",
      "print('shared trends:')\n",
      "shared_trends"
     ],
     "language": "python",
     "metadata": {},
     "outputs": [
      {
       "output_type": "stream",
       "stream": "stdout",
       "text": [
        "number in canada_trends: 10\n",
        "number in us_trends: 10\n",
        "number in intersection: 1\n",
        "shared trends:\n"
       ]
      },
      {
       "metadata": {},
       "output_type": "pyout",
       "prompt_number": 6,
       "text": [
        "{u'#FreeComicBookDay'}"
       ]
      }
     ],
     "prompt_number": 6
    },
    {
     "cell_type": "code",
     "collapsed": false,
     "input": [
      "# SETS OF COUNTRY-ONLY TRENDS\n",
      "canadaonly_trends_set = canada_trends_set.difference(us_trends_set)\n",
      "usonly_trends_set = us_trends_set.difference(canada_trends_set)\n",
      "print('number in canadaonly_trends: ' + str(len(canadaonly_trends_set)))\n",
      "print('number in usonly_trends: ' + str(len(usonly_trends_set)))"
     ],
     "language": "python",
     "metadata": {},
     "outputs": [
      {
       "output_type": "stream",
       "stream": "stdout",
       "text": [
        "number in canadaonly_trends: 9\n",
        "number in usonly_trends: 9\n"
       ]
      }
     ],
     "prompt_number": 7
    },
    {
     "cell_type": "code",
     "collapsed": false,
     "input": [
      "usonly_trends_set"
     ],
     "language": "python",
     "metadata": {},
     "outputs": [
      {
       "metadata": {},
       "output_type": "pyout",
       "prompt_number": 8,
       "text": [
        "{u'#HappyBirthdayLukeAndJai',\n",
        " u'#Twinspics',\n",
        " u'#VictoriaLiveChat',\n",
        " u'Brian Scott',\n",
        " u'Carey Price',\n",
        " u'Happy Derby Day',\n",
        " u'Naismith',\n",
        " u'OpTic Nation',\n",
        " u'The SAT'}"
       ]
      }
     ],
     "prompt_number": 8
    },
    {
     "cell_type": "code",
     "collapsed": false,
     "input": [
      "canadaonly_trends_set"
     ],
     "language": "python",
     "metadata": {},
     "outputs": [
      {
       "metadata": {},
       "output_type": "pyout",
       "prompt_number": 9,
       "text": [
        "{u'#CHUMFMRaptors',\n",
        " u'#Chara',\n",
        " u'#ScottsUsedHere',\n",
        " u'#gafesummit',\n",
        " u'Everton',\n",
        " u'Mike Weaver',\n",
        " u'Prust',\n",
        " u'Ross Barkley',\n",
        " u'Vanek'}"
       ]
      }
     ],
     "prompt_number": 9
    },
    {
     "cell_type": "code",
     "collapsed": false,
     "input": [
      "# CONVERTING SETS TO LISTS FOR EASY ITERATION\n",
      "canadaonly_trends_set_list = list(canadaonly_trends_set)\n",
      "usonly_trends_set_list = list(usonly_trends_set)\n",
      "canadaonly_trends_set_list[0]"
     ],
     "language": "python",
     "metadata": {},
     "outputs": [
      {
       "metadata": {},
       "output_type": "pyout",
       "prompt_number": 11,
       "text": [
        "u'#CHUMFMRaptors'"
       ]
      }
     ],
     "prompt_number": 11
    },
    {
     "cell_type": "code",
     "collapsed": false,
     "input": [
      "c = MongoClient()\n",
      "db = c.twitter"
     ],
     "language": "python",
     "metadata": {},
     "outputs": [],
     "prompt_number": 13
    },
    {
     "cell_type": "code",
     "collapsed": false,
     "input": [
      "db.collection_names()"
     ],
     "language": "python",
     "metadata": {},
     "outputs": [
      {
       "metadata": {},
       "output_type": "pyout",
       "prompt_number": 28,
       "text": [
        "[u'tweets', u'system.indexes']"
       ]
      }
     ],
     "prompt_number": 28
    },
    {
     "cell_type": "code",
     "collapsed": false,
     "input": [
      "# PULLING 100 TWEETS FOR EACH TREND IN CANADA-ONLY LIST, PUTTING INTO CANADA COLLECTION\n",
      "count = 100\n",
      "for i in range(len(canadaonly_trends_set_list)):\n",
      "    ca_trendname = canadaonly_trends_set_list[i]\n",
      "    ca_search_results = twitter_api.search.tweets(q=ca_trendname, count=count)\n",
      "    ca_statuses = ca_search_results['statuses']\n",
      "    ca_statuses_ids = db.canada.insert(ca_statuses)"
     ],
     "language": "python",
     "metadata": {},
     "outputs": [],
     "prompt_number": 29
    },
    {
     "cell_type": "code",
     "collapsed": false,
     "input": [
      "db.collection_names()"
     ],
     "language": "python",
     "metadata": {},
     "outputs": [
      {
       "metadata": {},
       "output_type": "pyout",
       "prompt_number": 31,
       "text": [
        "[u'tweets', u'system.indexes', u'canada']"
       ]
      }
     ],
     "prompt_number": 31
    },
    {
     "cell_type": "code",
     "collapsed": false,
     "input": [
      "db.canada.count()"
     ],
     "language": "python",
     "metadata": {},
     "outputs": [
      {
       "metadata": {},
       "output_type": "pyout",
       "prompt_number": 33,
       "text": [
        "900"
       ]
      }
     ],
     "prompt_number": 33
    },
    {
     "cell_type": "code",
     "collapsed": false,
     "input": [
      "# PULLING LIST OF FOLLOWER_COUNTS\n",
      "ca_followers = list(db.canada.find(fields=['user.followers_count']))\n",
      "ca_followers[0]"
     ],
     "language": "python",
     "metadata": {},
     "outputs": [
      {
       "metadata": {},
       "output_type": "pyout",
       "prompt_number": 37,
       "text": [
        "{u'_id': ObjectId('536536b4e86be60d4245a6f6'),\n",
        " u'user': {u'followers_count': 11}}"
       ]
      }
     ],
     "prompt_number": 37
    },
    {
     "cell_type": "code",
     "collapsed": false,
     "input": [
      "ca_followers_df = pd.DataFrame({'followers_count': tweet['user'].get('followers_count')}\n",
      "                               for tweet in ca_followers)"
     ],
     "language": "python",
     "metadata": {},
     "outputs": [],
     "prompt_number": 39
    },
    {
     "cell_type": "code",
     "collapsed": false,
     "input": [
      "# ANSWER FOR CANADA:  MAX NUMBER OF FOLLOWERS IS 559,073\n",
      "ca_followers_df.max()"
     ],
     "language": "python",
     "metadata": {},
     "outputs": [
      {
       "metadata": {},
       "output_type": "pyout",
       "prompt_number": 47,
       "text": [
        "followers_count    559073\n",
        "dtype: int64"
       ]
      }
     ],
     "prompt_number": 47
    },
    {
     "cell_type": "code",
     "collapsed": false,
     "input": [
      "# double-checking that I accessed dataframe correctly\n",
      "x = [ca_followers_df[u'followers_count'][i] for i in range(900)]\n",
      "max(x)"
     ],
     "language": "python",
     "metadata": {},
     "outputs": [
      {
       "metadata": {},
       "output_type": "pyout",
       "prompt_number": 55,
       "text": [
        "559073"
       ]
      }
     ],
     "prompt_number": 55
    },
    {
     "cell_type": "code",
     "collapsed": false,
     "input": [
      "# PULLING 100 TWEETS FOR EACH TREND IN US-ONLY LIST, PUTTING INTO US COLLECTION\n",
      "for i in range(len(usonly_trends_set_list)):\n",
      "    us_trendname =usonly_trends_set_list[i]\n",
      "    us_search_results = twitter_api.search.tweets(q=us_trendname, count=count)\n",
      "    us_statuses = us_search_results['statuses']\n",
      "    us_statuses_ids = db.us.insert(us_statuses)"
     ],
     "language": "python",
     "metadata": {},
     "outputs": [],
     "prompt_number": 61
    },
    {
     "cell_type": "code",
     "collapsed": false,
     "input": [
      "db.collection_names()"
     ],
     "language": "python",
     "metadata": {},
     "outputs": [
      {
       "metadata": {},
       "output_type": "pyout",
       "prompt_number": 63,
       "text": [
        "[u'tweets', u'system.indexes', u'canada', u'us']"
       ]
      }
     ],
     "prompt_number": 63
    },
    {
     "cell_type": "code",
     "collapsed": false,
     "input": [
      "db.us.count()"
     ],
     "language": "python",
     "metadata": {},
     "outputs": [
      {
       "metadata": {},
       "output_type": "pyout",
       "prompt_number": 64,
       "text": [
        "900"
       ]
      }
     ],
     "prompt_number": 64
    },
    {
     "cell_type": "code",
     "collapsed": false,
     "input": [
      "# PULLING LIST OF FOLLOWER_COUNTS\n",
      "us_followers = list(db.us.find(fields=['user.followers_count']))\n",
      "us_followers_df = pd.DataFrame({'followers_count': tweet['user'].get('followers_count')}\n",
      "                               for tweet in us_followers)"
     ],
     "language": "python",
     "metadata": {},
     "outputs": [],
     "prompt_number": 65
    },
    {
     "cell_type": "code",
     "collapsed": false,
     "input": [
      "# ANSWER FOR US:  MAX NUMBER OF FOLLOWERS IS 262,754\n",
      "us_followers_df.max()"
     ],
     "language": "python",
     "metadata": {},
     "outputs": [
      {
       "metadata": {},
       "output_type": "pyout",
       "prompt_number": 66,
       "text": [
        "followers_count    262754\n",
        "dtype: int64"
       ]
      }
     ],
     "prompt_number": 66
    },
    {
     "cell_type": "markdown",
     "metadata": {
      "slideshow": {
       "slide_type": "notes"
      }
     },
     "source": [
      "US has maximum follower_count of 262,754, while CA has 559,073.  So CA is greater."
     ]
    },
    {
     "cell_type": "markdown",
     "metadata": {
      "slideshow": {
       "slide_type": "fragment"
      }
     },
     "source": [
      "Individually:\n",
      "------------\n",
      "Find tweets where `'retweet_count': {\"$gt\": 0}`.  \n",
      "What is their `count`?  \n",
      "Is there anything about them that stands out as retweetable?"
     ]
    },
    {
     "cell_type": "code",
     "collapsed": false,
     "input": [
      "db.canada.find_one()"
     ],
     "language": "python",
     "metadata": {},
     "outputs": [
      {
       "metadata": {},
       "output_type": "pyout",
       "prompt_number": 69,
       "text": [
        "{u'_id': ObjectId('536536b4e86be60d4245a6f6'),\n",
        " u'contributors': None,\n",
        " u'coordinates': None,\n",
        " u'created_at': u'Sat May 03 18:33:03 +0000 2014',\n",
        " u'entities': {u'hashtags': [{u'indices': [0, 14], u'text': u'CHUMFMRaptors'}],\n",
        "  u'symbols': [],\n",
        "  u'urls': [],\n",
        "  u'user_mentions': [{u'id': 28595747,\n",
        "    u'id_str': u'28595747',\n",
        "    u'indices': [15, 26],\n",
        "    u'name': u'CHUM FM',\n",
        "    u'screen_name': u'1045CHUMFM'}]},\n",
        " u'favorite_count': 0,\n",
        " u'favorited': False,\n",
        " u'geo': None,\n",
        " u'id': 462661128158339072L,\n",
        " u'id_str': u'462661128158339072',\n",
        " u'in_reply_to_screen_name': None,\n",
        " u'in_reply_to_status_id': None,\n",
        " u'in_reply_to_status_id_str': None,\n",
        " u'in_reply_to_user_id': None,\n",
        " u'in_reply_to_user_id_str': None,\n",
        " u'lang': u'vi',\n",
        " u'metadata': {u'iso_language_code': u'vi', u'result_type': u'recent'},\n",
        " u'place': None,\n",
        " u'retweet_count': 0,\n",
        " u'retweeted': False,\n",
        " u'source': u'web',\n",
        " u'text': u'#CHUMFMRaptors @1045CHUMFM 364',\n",
        " u'truncated': False,\n",
        " u'user': {u'contributors_enabled': False,\n",
        "  u'created_at': u'Tue Apr 16 02:14:48 +0000 2013',\n",
        "  u'default_profile': True,\n",
        "  u'default_profile_image': False,\n",
        "  u'description': u'Eminem. Raptors.',\n",
        "  u'entities': {u'description': {u'urls': []}},\n",
        "  u'favourites_count': 4,\n",
        "  u'follow_request_sent': False,\n",
        "  u'followers_count': 11,\n",
        "  u'following': False,\n",
        "  u'friends_count': 55,\n",
        "  u'geo_enabled': False,\n",
        "  u'id': 1355844019,\n",
        "  u'id_str': u'1355844019',\n",
        "  u'is_translation_enabled': False,\n",
        "  u'is_translator': False,\n",
        "  u'lang': u'en',\n",
        "  u'listed_count': 1,\n",
        "  u'location': u'Canada',\n",
        "  u'name': u'WE THE NORTH ',\n",
        "  u'notifications': False,\n",
        "  u'profile_background_color': u'C0DEED',\n",
        "  u'profile_background_image_url': u'http://abs.twimg.com/images/themes/theme1/bg.png',\n",
        "  u'profile_background_image_url_https': u'https://abs.twimg.com/images/themes/theme1/bg.png',\n",
        "  u'profile_background_tile': False,\n",
        "  u'profile_banner_url': u'https://pbs.twimg.com/profile_banners/1355844019/1387161922',\n",
        "  u'profile_image_url': u'http://pbs.twimg.com/profile_images/462414475380154368/8dytqnU4_normal.jpeg',\n",
        "  u'profile_image_url_https': u'https://pbs.twimg.com/profile_images/462414475380154368/8dytqnU4_normal.jpeg',\n",
        "  u'profile_link_color': u'0084B4',\n",
        "  u'profile_sidebar_border_color': u'C0DEED',\n",
        "  u'profile_sidebar_fill_color': u'DDEEF6',\n",
        "  u'profile_text_color': u'333333',\n",
        "  u'profile_use_background_image': True,\n",
        "  u'protected': False,\n",
        "  u'screen_name': u'Mahaakhaan34',\n",
        "  u'statuses_count': 776,\n",
        "  u'time_zone': u'Eastern Time (US & Canada)',\n",
        "  u'url': None,\n",
        "  u'utc_offset': -14400,\n",
        "  u'verified': False}}"
       ]
      }
     ],
     "prompt_number": 69
    },
    {
     "cell_type": "code",
     "collapsed": false,
     "input": [
      "pop_ca_tweets = db.canada.find({'retweet_count': {\"$gt\": 0}})\n",
      "pop_ca_tweets.count()"
     ],
     "language": "python",
     "metadata": {},
     "outputs": [
      {
       "metadata": {},
       "output_type": "pyout",
       "prompt_number": 111,
       "text": [
        "394"
       ]
      }
     ],
     "prompt_number": 111
    },
    {
     "cell_type": "code",
     "collapsed": false,
     "input": [
      "pop_us_tweets = db.us.find({'retweet_count': {\"$gt\": 0}})\n",
      "pop_us_tweets.count()"
     ],
     "language": "python",
     "metadata": {},
     "outputs": [
      {
       "metadata": {},
       "output_type": "pyout",
       "prompt_number": 112,
       "text": [
        "353"
       ]
      }
     ],
     "prompt_number": 112
    },
    {
     "cell_type": "code",
     "collapsed": false,
     "input": [
      "unpop_ca_tweets = db.canada.find({'retweet_count': {\"$lte\": 0}})\n",
      "unpop_ca_tweets.count()"
     ],
     "language": "python",
     "metadata": {},
     "outputs": [
      {
       "metadata": {},
       "output_type": "pyout",
       "prompt_number": 113,
       "text": [
        "506"
       ]
      }
     ],
     "prompt_number": 113
    },
    {
     "cell_type": "code",
     "collapsed": false,
     "input": [
      "unpop_us_tweets = db.us.find({'retweet_count': {\"$lte\": 0}})\n",
      "unpop_us_tweets.count()"
     ],
     "language": "python",
     "metadata": {},
     "outputs": [
      {
       "metadata": {},
       "output_type": "pyout",
       "prompt_number": 114,
       "text": [
        "547"
       ]
      }
     ],
     "prompt_number": 114
    },
    {
     "cell_type": "code",
     "collapsed": false,
     "input": [
      "pop_ca_tweets = list(db.canada.find({'retweet_count': {\"$gt\": 0}},\n",
      "                fields=['retweet_count','favorite_count',\n",
      "                    'entities.user_mentions','entities.hashtags',\n",
      "                    'user.followers_count','user.friends_count',\n",
      "                    'text']))"
     ],
     "language": "python",
     "metadata": {},
     "outputs": [],
     "prompt_number": 115
    },
    {
     "cell_type": "code",
     "collapsed": false,
     "input": [
      "pop_ca_tweets_df = pd.DataFrame({'retweet_count': tweet['retweet_count'],\n",
      "                'favorite_count': tweet['favorite_count'],\n",
      "                'user_mentions': len(tweet['entities']['user_mentions']), \n",
      "                'hashtags': len(tweet['entities']['hashtags']),\n",
      "                'followers_count': tweet['user'].get('followers_count'),\n",
      "                'friends_count': tweet['user'].get('friends_count'),\n",
      "                'text_len': len(tweet['text'])}\n",
      "                for tweet in pop_ca_tweets)\n",
      "pop_ca_tweets_df.head()"
     ],
     "language": "python",
     "metadata": {},
     "outputs": [
      {
       "html": [
        "<div style=\"max-height:1000px;max-width:1500px;overflow:auto;\">\n",
        "<table border=\"1\" class=\"dataframe\">\n",
        "  <thead>\n",
        "    <tr style=\"text-align: right;\">\n",
        "      <th></th>\n",
        "      <th>favorite_count</th>\n",
        "      <th>followers_count</th>\n",
        "      <th>friends_count</th>\n",
        "      <th>hashtags</th>\n",
        "      <th>retweet_count</th>\n",
        "      <th>text_len</th>\n",
        "      <th>user_mentions</th>\n",
        "    </tr>\n",
        "  </thead>\n",
        "  <tbody>\n",
        "    <tr>\n",
        "      <th>0</th>\n",
        "      <td> 0</td>\n",
        "      <td>   159</td>\n",
        "      <td>  181</td>\n",
        "      <td> 1</td>\n",
        "      <td>  2</td>\n",
        "      <td>  48</td>\n",
        "      <td> 2</td>\n",
        "    </tr>\n",
        "    <tr>\n",
        "      <th>1</th>\n",
        "      <td> 0</td>\n",
        "      <td> 18740</td>\n",
        "      <td> 1340</td>\n",
        "      <td> 1</td>\n",
        "      <td>  2</td>\n",
        "      <td>  48</td>\n",
        "      <td> 2</td>\n",
        "    </tr>\n",
        "    <tr>\n",
        "      <th>2</th>\n",
        "      <td> 0</td>\n",
        "      <td>   133</td>\n",
        "      <td>   86</td>\n",
        "      <td> 1</td>\n",
        "      <td> 20</td>\n",
        "      <td> 140</td>\n",
        "      <td> 2</td>\n",
        "    </tr>\n",
        "    <tr>\n",
        "      <th>3</th>\n",
        "      <td> 0</td>\n",
        "      <td>    11</td>\n",
        "      <td>   55</td>\n",
        "      <td> 1</td>\n",
        "      <td>  2</td>\n",
        "      <td>  30</td>\n",
        "      <td> 1</td>\n",
        "    </tr>\n",
        "    <tr>\n",
        "      <th>4</th>\n",
        "      <td> 0</td>\n",
        "      <td>     1</td>\n",
        "      <td>    6</td>\n",
        "      <td> 1</td>\n",
        "      <td>  6</td>\n",
        "      <td> 110</td>\n",
        "      <td> 1</td>\n",
        "    </tr>\n",
        "  </tbody>\n",
        "</table>\n",
        "<p>5 rows \u00d7 7 columns</p>\n",
        "</div>"
       ],
       "metadata": {},
       "output_type": "pyout",
       "prompt_number": 117,
       "text": [
        "   favorite_count  followers_count  friends_count  hashtags  retweet_count  \\\n",
        "0               0              159            181         1              2   \n",
        "1               0            18740           1340         1              2   \n",
        "2               0              133             86         1             20   \n",
        "3               0               11             55         1              2   \n",
        "4               0                1              6         1              6   \n",
        "\n",
        "   text_len  user_mentions  \n",
        "0        48              2  \n",
        "1        48              2  \n",
        "2       140              2  \n",
        "3        30              1  \n",
        "4       110              1  \n",
        "\n",
        "[5 rows x 7 columns]"
       ]
      }
     ],
     "prompt_number": 117
    },
    {
     "cell_type": "code",
     "collapsed": false,
     "input": [
      "pop_ca_tweets_df.describe()"
     ],
     "language": "python",
     "metadata": {},
     "outputs": [
      {
       "html": [
        "<div style=\"max-height:1000px;max-width:1500px;overflow:auto;\">\n",
        "<table border=\"1\" class=\"dataframe\">\n",
        "  <thead>\n",
        "    <tr style=\"text-align: right;\">\n",
        "      <th></th>\n",
        "      <th>favorite_count</th>\n",
        "      <th>followers_count</th>\n",
        "      <th>friends_count</th>\n",
        "      <th>hashtags</th>\n",
        "      <th>retweet_count</th>\n",
        "      <th>text_len</th>\n",
        "      <th>user_mentions</th>\n",
        "    </tr>\n",
        "  </thead>\n",
        "  <tbody>\n",
        "    <tr>\n",
        "      <th>count</th>\n",
        "      <td> 394.000000</td>\n",
        "      <td>    394.000000</td>\n",
        "      <td>   394.000000</td>\n",
        "      <td> 394.000000</td>\n",
        "      <td>  394.000000</td>\n",
        "      <td> 394.000000</td>\n",
        "      <td> 394.000000</td>\n",
        "    </tr>\n",
        "    <tr>\n",
        "      <th>mean</th>\n",
        "      <td>   0.312183</td>\n",
        "      <td>   4593.629442</td>\n",
        "      <td>   693.428934</td>\n",
        "      <td>   0.992386</td>\n",
        "      <td>  101.302030</td>\n",
        "      <td> 105.035533</td>\n",
        "      <td>   1.213198</td>\n",
        "    </tr>\n",
        "    <tr>\n",
        "      <th>std</th>\n",
        "      <td>   1.682572</td>\n",
        "      <td>  40544.550724</td>\n",
        "      <td>  1235.041220</td>\n",
        "      <td>   1.209564</td>\n",
        "      <td>  322.329755</td>\n",
        "      <td>  34.572250</td>\n",
        "      <td>   0.899663</td>\n",
        "    </tr>\n",
        "    <tr>\n",
        "      <th>min</th>\n",
        "      <td>   0.000000</td>\n",
        "      <td>      1.000000</td>\n",
        "      <td>     5.000000</td>\n",
        "      <td>   0.000000</td>\n",
        "      <td>    1.000000</td>\n",
        "      <td>  17.000000</td>\n",
        "      <td>   0.000000</td>\n",
        "    </tr>\n",
        "    <tr>\n",
        "      <th>25%</th>\n",
        "      <td>   0.000000</td>\n",
        "      <td>    100.250000</td>\n",
        "      <td>   172.750000</td>\n",
        "      <td>   0.000000</td>\n",
        "      <td>    1.000000</td>\n",
        "      <td>  79.000000</td>\n",
        "      <td>   1.000000</td>\n",
        "    </tr>\n",
        "    <tr>\n",
        "      <th>50%</th>\n",
        "      <td>   0.000000</td>\n",
        "      <td>    254.000000</td>\n",
        "      <td>   332.000000</td>\n",
        "      <td>   1.000000</td>\n",
        "      <td>    6.000000</td>\n",
        "      <td> 116.000000</td>\n",
        "      <td>   1.000000</td>\n",
        "    </tr>\n",
        "    <tr>\n",
        "      <th>75%</th>\n",
        "      <td>   0.000000</td>\n",
        "      <td>    690.000000</td>\n",
        "      <td>   708.750000</td>\n",
        "      <td>   1.000000</td>\n",
        "      <td>   49.000000</td>\n",
        "      <td> 139.000000</td>\n",
        "      <td>   1.000000</td>\n",
        "    </tr>\n",
        "    <tr>\n",
        "      <th>max</th>\n",
        "      <td>  26.000000</td>\n",
        "      <td> 559073.000000</td>\n",
        "      <td> 13897.000000</td>\n",
        "      <td>   6.000000</td>\n",
        "      <td> 2703.000000</td>\n",
        "      <td> 144.000000</td>\n",
        "      <td>   8.000000</td>\n",
        "    </tr>\n",
        "  </tbody>\n",
        "</table>\n",
        "<p>8 rows \u00d7 7 columns</p>\n",
        "</div>"
       ],
       "metadata": {},
       "output_type": "pyout",
       "prompt_number": 118,
       "text": [
        "       favorite_count  followers_count  friends_count    hashtags  \\\n",
        "count      394.000000       394.000000     394.000000  394.000000   \n",
        "mean         0.312183      4593.629442     693.428934    0.992386   \n",
        "std          1.682572     40544.550724    1235.041220    1.209564   \n",
        "min          0.000000         1.000000       5.000000    0.000000   \n",
        "25%          0.000000       100.250000     172.750000    0.000000   \n",
        "50%          0.000000       254.000000     332.000000    1.000000   \n",
        "75%          0.000000       690.000000     708.750000    1.000000   \n",
        "max         26.000000    559073.000000   13897.000000    6.000000   \n",
        "\n",
        "       retweet_count    text_len  user_mentions  \n",
        "count     394.000000  394.000000     394.000000  \n",
        "mean      101.302030  105.035533       1.213198  \n",
        "std       322.329755   34.572250       0.899663  \n",
        "min         1.000000   17.000000       0.000000  \n",
        "25%         1.000000   79.000000       1.000000  \n",
        "50%         6.000000  116.000000       1.000000  \n",
        "75%        49.000000  139.000000       1.000000  \n",
        "max      2703.000000  144.000000       8.000000  \n",
        "\n",
        "[8 rows x 7 columns]"
       ]
      }
     ],
     "prompt_number": 118
    },
    {
     "cell_type": "code",
     "collapsed": false,
     "input": [
      "unpop_ca_tweets = list(db.canada.find({'retweet_count': {\"$lte\": 0}},\n",
      "                fields=['retweet_count','favorite_count',\n",
      "                    'entities.user_mentions','entities.hashtags',\n",
      "                    'user.followers_count','user.friends_count',\n",
      "                    'text']))\n",
      "unpop_ca_tweets_df = pd.DataFrame({'retweet_count': tweet['retweet_count'],\n",
      "                'favorite_count': tweet['favorite_count'],\n",
      "                'user_mentions': len(tweet['entities']['user_mentions']), \n",
      "                'hashtags': len(tweet['entities']['hashtags']),\n",
      "                'followers_count': tweet['user'].get('followers_count'),\n",
      "                'friends_count': tweet['user'].get('friends_count'),\n",
      "                'text_len': len(tweet['text'])}\n",
      "                for tweet in unpop_ca_tweets)\n",
      "unpop_ca_tweets_df.describe()"
     ],
     "language": "python",
     "metadata": {},
     "outputs": [
      {
       "html": [
        "<div style=\"max-height:1000px;max-width:1500px;overflow:auto;\">\n",
        "<table border=\"1\" class=\"dataframe\">\n",
        "  <thead>\n",
        "    <tr style=\"text-align: right;\">\n",
        "      <th></th>\n",
        "      <th>favorite_count</th>\n",
        "      <th>followers_count</th>\n",
        "      <th>friends_count</th>\n",
        "      <th>hashtags</th>\n",
        "      <th>retweet_count</th>\n",
        "      <th>text_len</th>\n",
        "      <th>user_mentions</th>\n",
        "    </tr>\n",
        "  </thead>\n",
        "  <tbody>\n",
        "    <tr>\n",
        "      <th>count</th>\n",
        "      <td> 506.000000</td>\n",
        "      <td>   506.000000</td>\n",
        "      <td>   506.000000</td>\n",
        "      <td> 506.000000</td>\n",
        "      <td> 506</td>\n",
        "      <td> 506.000000</td>\n",
        "      <td> 506.000000</td>\n",
        "    </tr>\n",
        "    <tr>\n",
        "      <th>mean</th>\n",
        "      <td>   0.160079</td>\n",
        "      <td>   739.537549</td>\n",
        "      <td>   492.918972</td>\n",
        "      <td>   1.164032</td>\n",
        "      <td>   0</td>\n",
        "      <td>  74.241107</td>\n",
        "      <td>   0.579051</td>\n",
        "    </tr>\n",
        "    <tr>\n",
        "      <th>std</th>\n",
        "      <td>   0.491580</td>\n",
        "      <td>  3798.467819</td>\n",
        "      <td>   846.223674</td>\n",
        "      <td>   1.227882</td>\n",
        "      <td>   0</td>\n",
        "      <td>  37.805353</td>\n",
        "      <td>   0.746395</td>\n",
        "    </tr>\n",
        "    <tr>\n",
        "      <th>min</th>\n",
        "      <td>   0.000000</td>\n",
        "      <td>     0.000000</td>\n",
        "      <td>     0.000000</td>\n",
        "      <td>   0.000000</td>\n",
        "      <td>   0</td>\n",
        "      <td>   9.000000</td>\n",
        "      <td>   0.000000</td>\n",
        "    </tr>\n",
        "    <tr>\n",
        "      <th>25%</th>\n",
        "      <td>   0.000000</td>\n",
        "      <td>    21.250000</td>\n",
        "      <td>    81.250000</td>\n",
        "      <td>   0.000000</td>\n",
        "      <td>   0</td>\n",
        "      <td>  41.000000</td>\n",
        "      <td>   0.000000</td>\n",
        "    </tr>\n",
        "    <tr>\n",
        "      <th>50%</th>\n",
        "      <td>   0.000000</td>\n",
        "      <td>   140.000000</td>\n",
        "      <td>   223.000000</td>\n",
        "      <td>   1.000000</td>\n",
        "      <td>   0</td>\n",
        "      <td>  68.000000</td>\n",
        "      <td>   0.000000</td>\n",
        "    </tr>\n",
        "    <tr>\n",
        "      <th>75%</th>\n",
        "      <td>   0.000000</td>\n",
        "      <td>   404.000000</td>\n",
        "      <td>   591.750000</td>\n",
        "      <td>   1.000000</td>\n",
        "      <td>   0</td>\n",
        "      <td> 108.750000</td>\n",
        "      <td>   1.000000</td>\n",
        "    </tr>\n",
        "    <tr>\n",
        "      <th>max</th>\n",
        "      <td>   6.000000</td>\n",
        "      <td> 65417.000000</td>\n",
        "      <td> 12537.000000</td>\n",
        "      <td>  12.000000</td>\n",
        "      <td>   0</td>\n",
        "      <td> 147.000000</td>\n",
        "      <td>   5.000000</td>\n",
        "    </tr>\n",
        "  </tbody>\n",
        "</table>\n",
        "<p>8 rows \u00d7 7 columns</p>\n",
        "</div>"
       ],
       "metadata": {},
       "output_type": "pyout",
       "prompt_number": 119,
       "text": [
        "       favorite_count  followers_count  friends_count    hashtags  \\\n",
        "count      506.000000       506.000000     506.000000  506.000000   \n",
        "mean         0.160079       739.537549     492.918972    1.164032   \n",
        "std          0.491580      3798.467819     846.223674    1.227882   \n",
        "min          0.000000         0.000000       0.000000    0.000000   \n",
        "25%          0.000000        21.250000      81.250000    0.000000   \n",
        "50%          0.000000       140.000000     223.000000    1.000000   \n",
        "75%          0.000000       404.000000     591.750000    1.000000   \n",
        "max          6.000000     65417.000000   12537.000000   12.000000   \n",
        "\n",
        "       retweet_count    text_len  user_mentions  \n",
        "count            506  506.000000     506.000000  \n",
        "mean               0   74.241107       0.579051  \n",
        "std                0   37.805353       0.746395  \n",
        "min                0    9.000000       0.000000  \n",
        "25%                0   41.000000       0.000000  \n",
        "50%                0   68.000000       0.000000  \n",
        "75%                0  108.750000       1.000000  \n",
        "max                0  147.000000       5.000000  \n",
        "\n",
        "[8 rows x 7 columns]"
       ]
      }
     ],
     "prompt_number": 119
    },
    {
     "cell_type": "code",
     "collapsed": false,
     "input": [
      "pop_us_tweets = list(db.us.find({'retweet_count': {\"$gt\": 0}},\n",
      "                fields=['retweet_count','favorite_count',\n",
      "                    'entities.user_mentions','entities.hashtags',\n",
      "                    'user.followers_count','user.friends_count',\n",
      "                    'text']))\n",
      "pop_us_tweets_df = pd.DataFrame({'retweet_count': tweet['retweet_count'],\n",
      "                'favorite_count': tweet['favorite_count'],\n",
      "                'user_mentions': len(tweet['entities']['user_mentions']), \n",
      "                'hashtags': len(tweet['entities']['hashtags']),\n",
      "                'followers_count': tweet['user'].get('followers_count'),\n",
      "                'friends_count': tweet['user'].get('friends_count'),\n",
      "                'text_len': len(tweet['text'])}\n",
      "                for tweet in pop_us_tweets)\n",
      "pop_us_tweets_df.describe()"
     ],
     "language": "python",
     "metadata": {},
     "outputs": [
      {
       "html": [
        "<div style=\"max-height:1000px;max-width:1500px;overflow:auto;\">\n",
        "<table border=\"1\" class=\"dataframe\">\n",
        "  <thead>\n",
        "    <tr style=\"text-align: right;\">\n",
        "      <th></th>\n",
        "      <th>favorite_count</th>\n",
        "      <th>followers_count</th>\n",
        "      <th>friends_count</th>\n",
        "      <th>hashtags</th>\n",
        "      <th>retweet_count</th>\n",
        "      <th>text_len</th>\n",
        "      <th>user_mentions</th>\n",
        "    </tr>\n",
        "  </thead>\n",
        "  <tbody>\n",
        "    <tr>\n",
        "      <th>count</th>\n",
        "      <td> 353.000000</td>\n",
        "      <td>    353.000000</td>\n",
        "      <td>   353.000000</td>\n",
        "      <td> 353.000000</td>\n",
        "      <td>  353.000000</td>\n",
        "      <td> 353.000000</td>\n",
        "      <td> 353.000000</td>\n",
        "    </tr>\n",
        "    <tr>\n",
        "      <th>mean</th>\n",
        "      <td>   0.637394</td>\n",
        "      <td>   4171.555241</td>\n",
        "      <td>   663.583569</td>\n",
        "      <td>   0.886686</td>\n",
        "      <td>   76.895184</td>\n",
        "      <td> 110.762040</td>\n",
        "      <td>   1.192635</td>\n",
        "    </tr>\n",
        "    <tr>\n",
        "      <th>std</th>\n",
        "      <td>   6.705151</td>\n",
        "      <td>  26316.947455</td>\n",
        "      <td>  1080.455065</td>\n",
        "      <td>   1.409654</td>\n",
        "      <td>  164.072731</td>\n",
        "      <td>  33.341212</td>\n",
        "      <td>   0.736432</td>\n",
        "    </tr>\n",
        "    <tr>\n",
        "      <th>min</th>\n",
        "      <td>   0.000000</td>\n",
        "      <td>      1.000000</td>\n",
        "      <td>     0.000000</td>\n",
        "      <td>   0.000000</td>\n",
        "      <td>    1.000000</td>\n",
        "      <td>  23.000000</td>\n",
        "      <td>   0.000000</td>\n",
        "    </tr>\n",
        "    <tr>\n",
        "      <th>25%</th>\n",
        "      <td>   0.000000</td>\n",
        "      <td>     94.000000</td>\n",
        "      <td>   155.000000</td>\n",
        "      <td>   0.000000</td>\n",
        "      <td>    3.000000</td>\n",
        "      <td>  89.000000</td>\n",
        "      <td>   1.000000</td>\n",
        "    </tr>\n",
        "    <tr>\n",
        "      <th>50%</th>\n",
        "      <td>   0.000000</td>\n",
        "      <td>    223.000000</td>\n",
        "      <td>   313.000000</td>\n",
        "      <td>   0.000000</td>\n",
        "      <td>   24.000000</td>\n",
        "      <td> 128.000000</td>\n",
        "      <td>   1.000000</td>\n",
        "    </tr>\n",
        "    <tr>\n",
        "      <th>75%</th>\n",
        "      <td>   0.000000</td>\n",
        "      <td>    746.000000</td>\n",
        "      <td>   705.000000</td>\n",
        "      <td>   1.000000</td>\n",
        "      <td>   73.000000</td>\n",
        "      <td> 140.000000</td>\n",
        "      <td>   1.000000</td>\n",
        "    </tr>\n",
        "    <tr>\n",
        "      <th>max</th>\n",
        "      <td> 118.000000</td>\n",
        "      <td> 262754.000000</td>\n",
        "      <td> 13071.000000</td>\n",
        "      <td>   7.000000</td>\n",
        "      <td> 1023.000000</td>\n",
        "      <td> 148.000000</td>\n",
        "      <td>   6.000000</td>\n",
        "    </tr>\n",
        "  </tbody>\n",
        "</table>\n",
        "<p>8 rows \u00d7 7 columns</p>\n",
        "</div>"
       ],
       "metadata": {},
       "output_type": "pyout",
       "prompt_number": 120,
       "text": [
        "       favorite_count  followers_count  friends_count    hashtags  \\\n",
        "count      353.000000       353.000000     353.000000  353.000000   \n",
        "mean         0.637394      4171.555241     663.583569    0.886686   \n",
        "std          6.705151     26316.947455    1080.455065    1.409654   \n",
        "min          0.000000         1.000000       0.000000    0.000000   \n",
        "25%          0.000000        94.000000     155.000000    0.000000   \n",
        "50%          0.000000       223.000000     313.000000    0.000000   \n",
        "75%          0.000000       746.000000     705.000000    1.000000   \n",
        "max        118.000000    262754.000000   13071.000000    7.000000   \n",
        "\n",
        "       retweet_count    text_len  user_mentions  \n",
        "count     353.000000  353.000000     353.000000  \n",
        "mean       76.895184  110.762040       1.192635  \n",
        "std       164.072731   33.341212       0.736432  \n",
        "min         1.000000   23.000000       0.000000  \n",
        "25%         3.000000   89.000000       1.000000  \n",
        "50%        24.000000  128.000000       1.000000  \n",
        "75%        73.000000  140.000000       1.000000  \n",
        "max      1023.000000  148.000000       6.000000  \n",
        "\n",
        "[8 rows x 7 columns]"
       ]
      }
     ],
     "prompt_number": 120
    },
    {
     "cell_type": "code",
     "collapsed": false,
     "input": [
      "unpop_us_tweets = list(db.us.find({'retweet_count': {\"$lte\": 0}},\n",
      "                fields=['retweet_count','favorite_count',\n",
      "                    'entities.user_mentions','entities.hashtags',\n",
      "                    'user.followers_count','user.friends_count',\n",
      "                    'text']))\n",
      "unpop_us_tweets_df = pd.DataFrame({'retweet_count': tweet['retweet_count'],\n",
      "                'favorite_count': tweet['favorite_count'],\n",
      "                'user_mentions': len(tweet['entities']['user_mentions']), \n",
      "                'hashtags': len(tweet['entities']['hashtags']),\n",
      "                'followers_count': tweet['user'].get('followers_count'),\n",
      "                'friends_count': tweet['user'].get('friends_count'),\n",
      "                'text_len': len(tweet['text'])}\n",
      "                for tweet in unpop_us_tweets)\n",
      "unpop_us_tweets_df.describe()"
     ],
     "language": "python",
     "metadata": {},
     "outputs": [
      {
       "html": [
        "<div style=\"max-height:1000px;max-width:1500px;overflow:auto;\">\n",
        "<table border=\"1\" class=\"dataframe\">\n",
        "  <thead>\n",
        "    <tr style=\"text-align: right;\">\n",
        "      <th></th>\n",
        "      <th>favorite_count</th>\n",
        "      <th>followers_count</th>\n",
        "      <th>friends_count</th>\n",
        "      <th>hashtags</th>\n",
        "      <th>retweet_count</th>\n",
        "      <th>text_len</th>\n",
        "      <th>user_mentions</th>\n",
        "    </tr>\n",
        "  </thead>\n",
        "  <tbody>\n",
        "    <tr>\n",
        "      <th>count</th>\n",
        "      <td> 547.000000</td>\n",
        "      <td>    547.000000</td>\n",
        "      <td>   547.000000</td>\n",
        "      <td> 547.000000</td>\n",
        "      <td> 547</td>\n",
        "      <td> 547.000000</td>\n",
        "      <td> 547.000000</td>\n",
        "    </tr>\n",
        "    <tr>\n",
        "      <th>mean</th>\n",
        "      <td>   0.087751</td>\n",
        "      <td>   1612.385740</td>\n",
        "      <td>   954.758684</td>\n",
        "      <td>   0.914077</td>\n",
        "      <td>   0</td>\n",
        "      <td>  85.654479</td>\n",
        "      <td>   0.539305</td>\n",
        "    </tr>\n",
        "    <tr>\n",
        "      <th>std</th>\n",
        "      <td>   0.362601</td>\n",
        "      <td>   6503.348325</td>\n",
        "      <td>  1537.071274</td>\n",
        "      <td>   0.991689</td>\n",
        "      <td>   0</td>\n",
        "      <td>  36.335930</td>\n",
        "      <td>   0.943364</td>\n",
        "    </tr>\n",
        "    <tr>\n",
        "      <th>min</th>\n",
        "      <td>   0.000000</td>\n",
        "      <td>      0.000000</td>\n",
        "      <td>     0.000000</td>\n",
        "      <td>   0.000000</td>\n",
        "      <td>   0</td>\n",
        "      <td>  15.000000</td>\n",
        "      <td>   0.000000</td>\n",
        "    </tr>\n",
        "    <tr>\n",
        "      <th>25%</th>\n",
        "      <td>   0.000000</td>\n",
        "      <td>    149.000000</td>\n",
        "      <td>   142.500000</td>\n",
        "      <td>   0.000000</td>\n",
        "      <td>   0</td>\n",
        "      <td>  54.500000</td>\n",
        "      <td>   0.000000</td>\n",
        "    </tr>\n",
        "    <tr>\n",
        "      <th>50%</th>\n",
        "      <td>   0.000000</td>\n",
        "      <td>    418.000000</td>\n",
        "      <td>   364.000000</td>\n",
        "      <td>   1.000000</td>\n",
        "      <td>   0</td>\n",
        "      <td>  86.000000</td>\n",
        "      <td>   0.000000</td>\n",
        "    </tr>\n",
        "    <tr>\n",
        "      <th>75%</th>\n",
        "      <td>   0.000000</td>\n",
        "      <td>   1226.000000</td>\n",
        "      <td>  1193.500000</td>\n",
        "      <td>   1.000000</td>\n",
        "      <td>   0</td>\n",
        "      <td> 121.000000</td>\n",
        "      <td>   1.000000</td>\n",
        "    </tr>\n",
        "    <tr>\n",
        "      <th>max</th>\n",
        "      <td>   4.000000</td>\n",
        "      <td> 120607.000000</td>\n",
        "      <td> 15032.000000</td>\n",
        "      <td>   7.000000</td>\n",
        "      <td>   0</td>\n",
        "      <td> 146.000000</td>\n",
        "      <td>   9.000000</td>\n",
        "    </tr>\n",
        "  </tbody>\n",
        "</table>\n",
        "<p>8 rows \u00d7 7 columns</p>\n",
        "</div>"
       ],
       "metadata": {},
       "output_type": "pyout",
       "prompt_number": 121,
       "text": [
        "       favorite_count  followers_count  friends_count    hashtags  \\\n",
        "count      547.000000       547.000000     547.000000  547.000000   \n",
        "mean         0.087751      1612.385740     954.758684    0.914077   \n",
        "std          0.362601      6503.348325    1537.071274    0.991689   \n",
        "min          0.000000         0.000000       0.000000    0.000000   \n",
        "25%          0.000000       149.000000     142.500000    0.000000   \n",
        "50%          0.000000       418.000000     364.000000    1.000000   \n",
        "75%          0.000000      1226.000000    1193.500000    1.000000   \n",
        "max          4.000000    120607.000000   15032.000000    7.000000   \n",
        "\n",
        "       retweet_count    text_len  user_mentions  \n",
        "count            547  547.000000     547.000000  \n",
        "mean               0   85.654479       0.539305  \n",
        "std                0   36.335930       0.943364  \n",
        "min                0   15.000000       0.000000  \n",
        "25%                0   54.500000       0.000000  \n",
        "50%                0   86.000000       0.000000  \n",
        "75%                0  121.000000       1.000000  \n",
        "max                0  146.000000       9.000000  \n",
        "\n",
        "[8 rows x 7 columns]"
       ]
      }
     ],
     "prompt_number": 121
    },
    {
     "cell_type": "markdown",
     "metadata": {},
     "source": [
      "RESULTS\n",
      "There are 394 Canada tweets that were retweeted, and 506 that weren't.\n",
      "There are 353 US tweets that were retweeted, and 547 that weren't.\n",
      "\n",
      "Retweeted tweets had higher values for followers_count and friends_count, text length and user mentions than non-retweeted tweets, for both Canada and US.  In general, medians and maxes were compared, given that distributions unlikely to be normal, except for user_mentions, where the median was 0 in both cases, so the mean was used.\n",
      "\n",
      "CA retweeted vs unretweeted\n",
      "followers_count:  median=254 vs 140, max=559073 vs 65417\n",
      "friends_count: median=332 vs 223, max=13897 vs 12537\n",
      "text length: median=105 vs 68, max=144 vs 147\n",
      "user_mentions: (medians 0), mean 1.213 vs 0.579, max 8 vs 5\n",
      "\n",
      "US similar pattern"
     ]
    },
    {
     "cell_type": "markdown",
     "metadata": {
      "slideshow": {
       "slide_type": "notes"
      }
     },
     "source": [
      "Further exercises:  \n",
      "\n",
      "* Twitter - _Mining-the-Social-Web-2nd-Edition_: [Chapter 1 - Mining Twitter](http://nbviewer.ipython.org/github/ptwobrussell/Mining-the-Social-Web-2nd-Edition/blob/master/ipynb/__Chapter%201%20-%20Mining%20Twitter%20%28Full-Text%20Sampler%29.ipynb)\n",
      "* Mongo - [Aggregation Framework](http://docs.mongodb.org/manual/aggregation/)"
     ]
    },
    {
     "cell_type": "markdown",
     "metadata": {
      "slideshow": {
       "slide_type": "slide"
      }
     },
     "source": [
      "Next week:\n",
      "==============\n",
      "Exploring Data\n",
      "--------------"
     ]
    }
   ],
   "metadata": {}
  }
 ]
}