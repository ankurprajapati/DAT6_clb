{
 "metadata": {
  "name": "",
  "signature": "sha256:e234cf926eede6fea0d465578c7e29550d33498c910185e89ffb2f568cf5bce1"
 },
 "nbformat": 3,
 "nbformat_minor": 0,
 "worksheets": [
  {
   "cells": [
    {
     "cell_type": "code",
     "collapsed": false,
     "input": [
      "%matplotlib inline\n",
      "import pandas as pd\n",
      "import statsmodels.api as sm\n",
      "import numpy as np"
     ],
     "language": "python",
     "metadata": {},
     "outputs": [],
     "prompt_number": 1
    },
    {
     "cell_type": "markdown",
     "metadata": {},
     "source": [
      "### DATA\n",
      "#### Tables (CSV files)\n",
      "<ul>\n",
      "<li>offers (37 rows):  info about each offer type\n",
      "<li>transactions (n rows):  1-year transaction history for each customer\n",
      "<li>trainHistory (160,067 rows):  offer given to each customer and their behavioral response\n",
      "</ul>\n",
      "\n",
      "Note:  All data has been de-identified."
     ]
    },
    {
     "cell_type": "markdown",
     "metadata": {},
     "source": [
      "### Table:  trainHistory\n",
      "#### Fields\n",
      "<ul>\n",
      "<li>id - A unique id representing a customer\n",
      "<li>chain - An integer representing a store chain\n",
      "<li>offer - An id representing a certain offer\n",
      "<li>market - An id representing a geographical region\n",
      "<li>repeattrips - The number of times the customer made a repeat purchase\n",
      "<li>repeater - A boolean, equal to repeattrips > 0\n",
      "<li>offerdate - The date a customer received the offer\n",
      "</ul>"
     ]
    },
    {
     "cell_type": "code",
     "collapsed": false,
     "input": [
      "hdata = pd.read_csv('./Final_Project/trainHistory.csv')\n",
      "hdata.head(3)"
     ],
     "language": "python",
     "metadata": {},
     "outputs": [
      {
       "html": [
        "<div style=\"max-height:1000px;max-width:1500px;overflow:auto;\">\n",
        "<table border=\"1\" class=\"dataframe\">\n",
        "  <thead>\n",
        "    <tr style=\"text-align: right;\">\n",
        "      <th></th>\n",
        "      <th>id</th>\n",
        "      <th>chain</th>\n",
        "      <th>offer</th>\n",
        "      <th>market</th>\n",
        "      <th>repeattrips</th>\n",
        "      <th>repeater</th>\n",
        "      <th>offerdate</th>\n",
        "    </tr>\n",
        "  </thead>\n",
        "  <tbody>\n",
        "    <tr>\n",
        "      <th>0</th>\n",
        "      <td>    86246</td>\n",
        "      <td> 205</td>\n",
        "      <td> 1208251</td>\n",
        "      <td> 34</td>\n",
        "      <td>  5</td>\n",
        "      <td> t</td>\n",
        "      <td> 2013-04-24</td>\n",
        "    </tr>\n",
        "    <tr>\n",
        "      <th>1</th>\n",
        "      <td>    86252</td>\n",
        "      <td> 205</td>\n",
        "      <td> 1197502</td>\n",
        "      <td> 34</td>\n",
        "      <td> 16</td>\n",
        "      <td> t</td>\n",
        "      <td> 2013-03-27</td>\n",
        "    </tr>\n",
        "    <tr>\n",
        "      <th>2</th>\n",
        "      <td> 12682470</td>\n",
        "      <td>  18</td>\n",
        "      <td> 1197502</td>\n",
        "      <td> 11</td>\n",
        "      <td>  0</td>\n",
        "      <td> f</td>\n",
        "      <td> 2013-03-28</td>\n",
        "    </tr>\n",
        "  </tbody>\n",
        "</table>\n",
        "<p>3 rows \u00d7 7 columns</p>\n",
        "</div>"
       ],
       "metadata": {},
       "output_type": "pyout",
       "prompt_number": 2,
       "text": [
        "         id  chain    offer  market  repeattrips repeater   offerdate\n",
        "0     86246    205  1208251      34            5        t  2013-04-24\n",
        "1     86252    205  1197502      34           16        t  2013-03-27\n",
        "2  12682470     18  1197502      11            0        f  2013-03-28\n",
        "\n",
        "[3 rows x 7 columns]"
       ]
      }
     ],
     "prompt_number": 2
    },
    {
     "cell_type": "code",
     "collapsed": false,
     "input": [
      "hdata.describe()"
     ],
     "language": "python",
     "metadata": {},
     "outputs": [
      {
       "html": [
        "<div style=\"max-height:1000px;max-width:1500px;overflow:auto;\">\n",
        "<table border=\"1\" class=\"dataframe\">\n",
        "  <thead>\n",
        "    <tr style=\"text-align: right;\">\n",
        "      <th></th>\n",
        "      <th>id</th>\n",
        "      <th>chain</th>\n",
        "      <th>offer</th>\n",
        "      <th>market</th>\n",
        "      <th>repeattrips</th>\n",
        "    </tr>\n",
        "  </thead>\n",
        "  <tbody>\n",
        "    <tr>\n",
        "      <th>count</th>\n",
        "      <td> 1.600570e+05</td>\n",
        "      <td> 160057.000000</td>\n",
        "      <td>  160057.000000</td>\n",
        "      <td> 160057.000000</td>\n",
        "      <td> 160057.000000</td>\n",
        "    </tr>\n",
        "    <tr>\n",
        "      <th>mean</th>\n",
        "      <td> 1.869324e+09</td>\n",
        "      <td>    126.810311</td>\n",
        "      <td> 1201983.981450</td>\n",
        "      <td>     19.950599</td>\n",
        "      <td>      0.656335</td>\n",
        "    </tr>\n",
        "    <tr>\n",
        "      <th>std</th>\n",
        "      <td> 1.570833e+09</td>\n",
        "      <td>    127.934288</td>\n",
        "      <td>    4705.530615</td>\n",
        "      <td>     19.099009</td>\n",
        "      <td>      6.786516</td>\n",
        "    </tr>\n",
        "    <tr>\n",
        "      <th>min</th>\n",
        "      <td> 8.624600e+04</td>\n",
        "      <td>      2.000000</td>\n",
        "      <td> 1194044.000000</td>\n",
        "      <td>      1.000000</td>\n",
        "      <td>      0.000000</td>\n",
        "    </tr>\n",
        "    <tr>\n",
        "      <th>25%</th>\n",
        "      <td> 4.981822e+08</td>\n",
        "      <td>     21.000000</td>\n",
        "      <td> 1197502.000000</td>\n",
        "      <td>     10.000000</td>\n",
        "      <td>      0.000000</td>\n",
        "    </tr>\n",
        "    <tr>\n",
        "      <th>50%</th>\n",
        "      <td> 7.674864e+08</td>\n",
        "      <td>     96.000000</td>\n",
        "      <td> 1200581.000000</td>\n",
        "      <td>     14.000000</td>\n",
        "      <td>      0.000000</td>\n",
        "    </tr>\n",
        "    <tr>\n",
        "      <th>75%</th>\n",
        "      <td> 3.285613e+09</td>\n",
        "      <td>    165.000000</td>\n",
        "      <td> 1208251.000000</td>\n",
        "      <td>     24.000000</td>\n",
        "      <td>      1.000000</td>\n",
        "    </tr>\n",
        "    <tr>\n",
        "      <th>max</th>\n",
        "      <td> 4.809911e+09</td>\n",
        "      <td>    526.000000</td>\n",
        "      <td> 1208503.000000</td>\n",
        "      <td>     96.000000</td>\n",
        "      <td>   2124.000000</td>\n",
        "    </tr>\n",
        "  </tbody>\n",
        "</table>\n",
        "<p>8 rows \u00d7 5 columns</p>\n",
        "</div>"
       ],
       "metadata": {},
       "output_type": "pyout",
       "prompt_number": 3,
       "text": [
        "                 id          chain           offer         market  \\\n",
        "count  1.600570e+05  160057.000000   160057.000000  160057.000000   \n",
        "mean   1.869324e+09     126.810311  1201983.981450      19.950599   \n",
        "std    1.570833e+09     127.934288     4705.530615      19.099009   \n",
        "min    8.624600e+04       2.000000  1194044.000000       1.000000   \n",
        "25%    4.981822e+08      21.000000  1197502.000000      10.000000   \n",
        "50%    7.674864e+08      96.000000  1200581.000000      14.000000   \n",
        "75%    3.285613e+09     165.000000  1208251.000000      24.000000   \n",
        "max    4.809911e+09     526.000000  1208503.000000      96.000000   \n",
        "\n",
        "         repeattrips  \n",
        "count  160057.000000  \n",
        "mean        0.656335  \n",
        "std         6.786516  \n",
        "min         0.000000  \n",
        "25%         0.000000  \n",
        "50%         0.000000  \n",
        "75%         1.000000  \n",
        "max      2124.000000  \n",
        "\n",
        "[8 rows x 5 columns]"
       ]
      }
     ],
     "prompt_number": 3
    },
    {
     "cell_type": "code",
     "collapsed": false,
     "input": [
      "# hdata['repeater'][:5] == 't'\n",
      "# how do I count up number of 't' and 'f'?\n",
      "hdata.groupby('repeater').count()['id']"
     ],
     "language": "python",
     "metadata": {},
     "outputs": [
      {
       "metadata": {},
       "output_type": "pyout",
       "prompt_number": 4,
       "text": [
        "repeater\n",
        "f           116619\n",
        "t            43438\n",
        "Name: id, dtype: int64"
       ]
      }
     ],
     "prompt_number": 4
    },
    {
     "cell_type": "code",
     "collapsed": false,
     "input": [
      "# hdata.groupby('market').count()['market']\n",
      "len(pd.Series(hdata['market']).unique())"
     ],
     "language": "python",
     "metadata": {},
     "outputs": [
      {
       "metadata": {},
       "output_type": "pyout",
       "prompt_number": 5,
       "text": [
        "34"
       ]
      }
     ],
     "prompt_number": 5
    },
    {
     "cell_type": "code",
     "collapsed": false,
     "input": [
      "len(pd.Series(hdata['chain']).unique())"
     ],
     "language": "python",
     "metadata": {},
     "outputs": [
      {
       "metadata": {},
       "output_type": "pyout",
       "prompt_number": 6,
       "text": [
        "130"
       ]
      }
     ],
     "prompt_number": 6
    },
    {
     "cell_type": "code",
     "collapsed": false,
     "input": [
      "hdata['repeattrips'].hist()"
     ],
     "language": "python",
     "metadata": {},
     "outputs": [
      {
       "metadata": {},
       "output_type": "pyout",
       "prompt_number": 7,
       "text": [
        "<matplotlib.axes.AxesSubplot at 0x1093d6390>"
       ]
      },
      {
       "metadata": {},
       "output_type": "display_data",
       "png": "[encoded data removed]",
       "text": [
        "<matplotlib.figure.Figure at 0x1093d60d0>"
       ]
      }
     ],
     "prompt_number": 7
    },
    {
     "cell_type": "markdown",
     "metadata": {},
     "source": [
      "#### Further description of trainHistory\n",
      "<ul>\n",
      "<li>160057 customers\n",
      "<li>43438 repeaters, 116619 non-repeaters\n",
      "<li>34 markets, 130 chains\n",
      "<li>repeattrips is highly skewed, may have some bad data, will need to be cleaned\n",
      "<ul>"
     ]
    },
    {
     "cell_type": "markdown",
     "metadata": {},
     "source": [
      "### Table:  offers\n",
      "#### Fields\n",
      "<ul>\n",
      "<li>offer - An id representing a certain offer\n",
      "<li>category - The product category (e.g. sparkling water)\n",
      "<li>quantity - The number of units one must purchase to get the discount\n",
      "<li>company - An id of the company that sells the item\n",
      "<li>offervalue - The dollar value of the offer\n",
      "<li>brand - An id of the brand to which the item belongs\n",
      "</ul>"
     ]
    },
    {
     "cell_type": "code",
     "collapsed": false,
     "input": [
      "odata = pd.read_csv('./Final_Project/offers.csv')\n",
      "odata.head(3)"
     ],
     "language": "python",
     "metadata": {},
     "outputs": [
      {
       "html": [
        "<div style=\"max-height:1000px;max-width:1500px;overflow:auto;\">\n",
        "<table border=\"1\" class=\"dataframe\">\n",
        "  <thead>\n",
        "    <tr style=\"text-align: right;\">\n",
        "      <th></th>\n",
        "      <th>offer</th>\n",
        "      <th>category</th>\n",
        "      <th>quantity</th>\n",
        "      <th>company</th>\n",
        "      <th>offervalue</th>\n",
        "      <th>brand</th>\n",
        "    </tr>\n",
        "  </thead>\n",
        "  <tbody>\n",
        "    <tr>\n",
        "      <th>0</th>\n",
        "      <td> 1190530</td>\n",
        "      <td> 9115</td>\n",
        "      <td> 1</td>\n",
        "      <td> 108500080</td>\n",
        "      <td> 5.00</td>\n",
        "      <td> 93904</td>\n",
        "    </tr>\n",
        "    <tr>\n",
        "      <th>1</th>\n",
        "      <td> 1194044</td>\n",
        "      <td> 9909</td>\n",
        "      <td> 1</td>\n",
        "      <td> 107127979</td>\n",
        "      <td> 1.00</td>\n",
        "      <td>  6732</td>\n",
        "    </tr>\n",
        "    <tr>\n",
        "      <th>2</th>\n",
        "      <td> 1197502</td>\n",
        "      <td> 3203</td>\n",
        "      <td> 1</td>\n",
        "      <td> 106414464</td>\n",
        "      <td> 0.75</td>\n",
        "      <td> 13474</td>\n",
        "    </tr>\n",
        "  </tbody>\n",
        "</table>\n",
        "<p>3 rows \u00d7 6 columns</p>\n",
        "</div>"
       ],
       "metadata": {},
       "output_type": "pyout",
       "prompt_number": 8,
       "text": [
        "     offer  category  quantity    company  offervalue  brand\n",
        "0  1190530      9115         1  108500080        5.00  93904\n",
        "1  1194044      9909         1  107127979        1.00   6732\n",
        "2  1197502      3203         1  106414464        0.75  13474\n",
        "\n",
        "[3 rows x 6 columns]"
       ]
      }
     ],
     "prompt_number": 8
    },
    {
     "cell_type": "code",
     "collapsed": false,
     "input": [
      "odata.describe()"
     ],
     "language": "python",
     "metadata": {},
     "outputs": [
      {
       "html": [
        "<div style=\"max-height:1000px;max-width:1500px;overflow:auto;\">\n",
        "<table border=\"1\" class=\"dataframe\">\n",
        "  <thead>\n",
        "    <tr style=\"text-align: right;\">\n",
        "      <th></th>\n",
        "      <th>offer</th>\n",
        "      <th>category</th>\n",
        "      <th>quantity</th>\n",
        "      <th>company</th>\n",
        "      <th>offervalue</th>\n",
        "      <th>brand</th>\n",
        "    </tr>\n",
        "  </thead>\n",
        "  <tbody>\n",
        "    <tr>\n",
        "      <th>count</th>\n",
        "      <td>      37.000000</td>\n",
        "      <td>   37.000000</td>\n",
        "      <td> 37.000000</td>\n",
        "      <td> 3.700000e+01</td>\n",
        "      <td> 37.000000</td>\n",
        "      <td>     37.000000</td>\n",
        "    </tr>\n",
        "    <tr>\n",
        "      <th>mean</th>\n",
        "      <td> 1207323.783784</td>\n",
        "      <td> 4775.378378</td>\n",
        "      <td>  1.027027</td>\n",
        "      <td> 2.376693e+08</td>\n",
        "      <td>  1.648649</td>\n",
        "      <td>  19675.135135</td>\n",
        "    </tr>\n",
        "    <tr>\n",
        "      <th>std</th>\n",
        "      <td>   10099.627152</td>\n",
        "      <td> 2492.239124</td>\n",
        "      <td>  0.164399</td>\n",
        "      <td> 3.389608e+08</td>\n",
        "      <td>  0.734704</td>\n",
        "      <td>  28084.740447</td>\n",
        "    </tr>\n",
        "    <tr>\n",
        "      <th>min</th>\n",
        "      <td> 1190530.000000</td>\n",
        "      <td>  706.000000</td>\n",
        "      <td>  1.000000</td>\n",
        "      <td> 1.033200e+08</td>\n",
        "      <td>  0.750000</td>\n",
        "      <td>    875.000000</td>\n",
        "    </tr>\n",
        "    <tr>\n",
        "      <th>25%</th>\n",
        "      <td> 1199258.000000</td>\n",
        "      <td> 2202.000000</td>\n",
        "      <td>  1.000000</td>\n",
        "      <td> 1.044600e+08</td>\n",
        "      <td>  1.500000</td>\n",
        "      <td>   4294.000000</td>\n",
        "    </tr>\n",
        "    <tr>\n",
        "      <th>50%</th>\n",
        "      <td> 1204576.000000</td>\n",
        "      <td> 5558.000000</td>\n",
        "      <td>  1.000000</td>\n",
        "      <td> 1.054500e+08</td>\n",
        "      <td>  1.500000</td>\n",
        "      <td>   7668.000000</td>\n",
        "    </tr>\n",
        "    <tr>\n",
        "      <th>75%</th>\n",
        "      <td> 1219900.000000</td>\n",
        "      <td> 6202.000000</td>\n",
        "      <td>  1.000000</td>\n",
        "      <td> 1.071280e+08</td>\n",
        "      <td>  1.500000</td>\n",
        "      <td>  17286.000000</td>\n",
        "    </tr>\n",
        "    <tr>\n",
        "      <th>max</th>\n",
        "      <td> 1230218.000000</td>\n",
        "      <td> 9909.000000</td>\n",
        "      <td>  2.000000</td>\n",
        "      <td> 1.089520e+09</td>\n",
        "      <td>  5.000000</td>\n",
        "      <td> 102504.000000</td>\n",
        "    </tr>\n",
        "  </tbody>\n",
        "</table>\n",
        "<p>8 rows \u00d7 6 columns</p>\n",
        "</div>"
       ],
       "metadata": {},
       "output_type": "pyout",
       "prompt_number": 9,
       "text": [
        "                offer     category   quantity       company  offervalue  \\\n",
        "count       37.000000    37.000000  37.000000  3.700000e+01   37.000000   \n",
        "mean   1207323.783784  4775.378378   1.027027  2.376693e+08    1.648649   \n",
        "std      10099.627152  2492.239124   0.164399  3.389608e+08    0.734704   \n",
        "min    1190530.000000   706.000000   1.000000  1.033200e+08    0.750000   \n",
        "25%    1199258.000000  2202.000000   1.000000  1.044600e+08    1.500000   \n",
        "50%    1204576.000000  5558.000000   1.000000  1.054500e+08    1.500000   \n",
        "75%    1219900.000000  6202.000000   1.000000  1.071280e+08    1.500000   \n",
        "max    1230218.000000  9909.000000   2.000000  1.089520e+09    5.000000   \n",
        "\n",
        "               brand  \n",
        "count      37.000000  \n",
        "mean    19675.135135  \n",
        "std     28084.740447  \n",
        "min       875.000000  \n",
        "25%      4294.000000  \n",
        "50%      7668.000000  \n",
        "75%     17286.000000  \n",
        "max    102504.000000  \n",
        "\n",
        "[8 rows x 6 columns]"
       ]
      }
     ],
     "prompt_number": 9
    },
    {
     "cell_type": "code",
     "collapsed": false,
     "input": [
      "odata['offervalue'].hist(bins=20)"
     ],
     "language": "python",
     "metadata": {},
     "outputs": [
      {
       "metadata": {},
       "output_type": "pyout",
       "prompt_number": 10,
       "text": [
        "<matplotlib.axes.AxesSubplot at 0x102013710>"
       ]
      },
      {
       "metadata": {},
       "output_type": "display_data",
       "png": "[encoded data removed]",
       "text": [
        "<matplotlib.figure.Figure at 0x102018510>"
       ]
      }
     ],
     "prompt_number": 10
    },
    {
     "cell_type": "markdown",
     "metadata": {},
     "source": [
      "### Table:  transactions\n",
      "#### Fields\n",
      "<ul>\n",
      "<li>id - A unique id representing a customer\n",
      "<li>chain - An integer representing a store chain\n",
      "<li>dept - An aggregate grouping of the Category (e.g. water)\n",
      "<li>category - The product category (e.g. sparkling water)\n",
      "<li>company - An id of the company that sells the item\n",
      "<li>brand - An id of the brand to which the item belongs\n",
      "<li>date - The date of purchase\n",
      "<li>productsize - The amount of the product purchase (e.g. 16 oz of water)\n",
      "<li>productmeasure - The units of the product purchase (e.g. ounces)\n",
      "<li>purchasequantity - The number of units purchased\n",
      "<li>purchaseamount - The dollar amount of the purchase\n",
      "</ul>"
     ]
    },
    {
     "cell_type": "markdown",
     "metadata": {},
     "source": [
      "#### NOTE:  transactions is too big to load in memory, will need to import/handle data a different way."
     ]
    },
    {
     "cell_type": "code",
     "collapsed": false,
     "input": [
      "# tdata = pd.read_csv('./Final_Project/transactions.csv')\n",
      "# tdata.head(3)"
     ],
     "language": "python",
     "metadata": {},
     "outputs": []
    },
    {
     "cell_type": "code",
     "collapsed": false,
     "input": [
      "# tdata.describe()"
     ],
     "language": "python",
     "metadata": {},
     "outputs": [],
     "prompt_number": 20
    },
    {
     "cell_type": "code",
     "collapsed": false,
     "input": [
      "# I may want to put data into a database, in which case I'll need these commands.\n",
      "\n",
      "# From Lab03\n",
      "# %load_ext sql\n",
      "# %%bash\n",
      "# sqlite3 enron.db .tables\n",
      "# %%sql sqlite:///enron.db\n",
      "# SELECT * FROM EmployeeBase LIMIT 5"
     ],
     "language": "python",
     "metadata": {},
     "outputs": [],
     "prompt_number": 22
    },
    {
     "cell_type": "code",
     "collapsed": false,
     "input": [
      "# From Lab03\n",
      "# import pandas as pd\n",
      "# import sqlite3\n",
      "# from pandas.io import sql\n",
      "# conn = sqlite3.connect('enron.db')\n",
      "# sql.frame_query(\"\"\"SELECT mid, unix_time, subject, from_eid \n",
      "#                 FROM MessageBase LIMIT 5\"\"\", conn, \"mid\")"
     ],
     "language": "python",
     "metadata": {},
     "outputs": [],
     "prompt_number": 23
    },
    {
     "cell_type": "code",
     "collapsed": false,
     "input": [],
     "language": "python",
     "metadata": {},
     "outputs": []
    }
   ],
   "metadata": {}
  }
 ]
}