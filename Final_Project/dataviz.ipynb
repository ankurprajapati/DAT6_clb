{
 "metadata": {
  "name": "",
  "signature": "sha256:21717ed0651f42b12d0b5dd36a3b7e090bf1120500dfe5371978fdddf39e38cb"
 },
 "nbformat": 3,
 "nbformat_minor": 0,
 "worksheets": [
  {
   "cells": [
    {
     "cell_type": "markdown",
     "metadata": {},
     "source": [
      "## File 1:  Data visualization.\n",
      "### In this file, I import and visualize the data, looking for overall patterns and relationships."
     ]
    },
    {
     "cell_type": "markdown",
     "metadata": {},
     "source": [
      "### NOTE TO TEACHER:  See progress so far summary at bottom of file.  06/04/14."
     ]
    },
    {
     "cell_type": "code",
     "collapsed": false,
     "input": [
      "%matplotlib inline\n",
      "import pandas as pd\n",
      "import statsmodels.api as sm\n",
      "import numpy as np\n",
      "import matplotlib.pyplot as plt"
     ],
     "language": "python",
     "metadata": {},
     "outputs": [],
     "prompt_number": 1
    },
    {
     "cell_type": "markdown",
     "metadata": {},
     "source": [
      "## DATA:  Initial data exploration\n",
      "### Tables (CSV files)\n",
      "<ul>\n",
      "<li>history (160,067 rows):  offer given to each customer and their behavioral response\n",
      "<li>offers (37 rows):  info about each offer type\n",
      "<li>transactions (? rows, 20 GB):  1 year of transaction history for each customer\n",
      "</ul>\n",
      "\n",
      "Source:  The data is associated with a Kaggle competition to identify repeat shoppers based on their purchase history.  CSVs and meta info about the data were obtained here.  All data has been de-identified.  https://www.kaggle.com/c/acquire-valued-shoppers-challenge/data"
     ]
    },
    {
     "cell_type": "markdown",
     "metadata": {},
     "source": [
      "### Table:  history\n",
      "#### Fields\n",
      "<ul>\n",
      "<li>id - A unique id representing a customer\n",
      "<li>chain - An integer representing a store chain\n",
      "<li>offer - An id representing a certain offer\n",
      "<li>market - An id representing a geographical region\n",
      "<li>repeattrips - The number of times the customer made a repeat purchase\n",
      "<li>repeater - A boolean, equal to repeattrips > 0\n",
      "<li>offerdate - The date a customer received the offer\n",
      "</ul>"
     ]
    },
    {
     "cell_type": "code",
     "collapsed": false,
     "input": [
      "hdata = pd.read_csv('history.csv')\n",
      "hdata.head(3)"
     ],
     "language": "python",
     "metadata": {},
     "outputs": [
      {
       "html": [
        "<div style=\"max-height:1000px;max-width:1500px;overflow:auto;\">\n",
        "<table border=\"1\" class=\"dataframe\">\n",
        "  <thead>\n",
        "    <tr style=\"text-align: right;\">\n",
        "      <th></th>\n",
        "      <th>id</th>\n",
        "      <th>chain</th>\n",
        "      <th>offer</th>\n",
        "      <th>market</th>\n",
        "      <th>repeattrips</th>\n",
        "      <th>repeater</th>\n",
        "      <th>offerdate</th>\n",
        "    </tr>\n",
        "  </thead>\n",
        "  <tbody>\n",
        "    <tr>\n",
        "      <th>0</th>\n",
        "      <td>    86246</td>\n",
        "      <td> 205</td>\n",
        "      <td> 1208251</td>\n",
        "      <td> 34</td>\n",
        "      <td>  5</td>\n",
        "      <td> t</td>\n",
        "      <td> 2013-04-24</td>\n",
        "    </tr>\n",
        "    <tr>\n",
        "      <th>1</th>\n",
        "      <td>    86252</td>\n",
        "      <td> 205</td>\n",
        "      <td> 1197502</td>\n",
        "      <td> 34</td>\n",
        "      <td> 16</td>\n",
        "      <td> t</td>\n",
        "      <td> 2013-03-27</td>\n",
        "    </tr>\n",
        "    <tr>\n",
        "      <th>2</th>\n",
        "      <td> 12682470</td>\n",
        "      <td>  18</td>\n",
        "      <td> 1197502</td>\n",
        "      <td> 11</td>\n",
        "      <td>  0</td>\n",
        "      <td> f</td>\n",
        "      <td> 2013-03-28</td>\n",
        "    </tr>\n",
        "  </tbody>\n",
        "</table>\n",
        "<p>3 rows \u00d7 7 columns</p>\n",
        "</div>"
       ],
       "metadata": {},
       "output_type": "pyout",
       "prompt_number": 4,
       "text": [
        "         id  chain    offer  market  repeattrips repeater   offerdate\n",
        "0     86246    205  1208251      34            5        t  2013-04-24\n",
        "1     86252    205  1197502      34           16        t  2013-03-27\n",
        "2  12682470     18  1197502      11            0        f  2013-03-28\n",
        "\n",
        "[3 rows x 7 columns]"
       ]
      }
     ],
     "prompt_number": 4
    },
    {
     "cell_type": "code",
     "collapsed": false,
     "input": [
      "hdata.describe().T"
     ],
     "language": "python",
     "metadata": {},
     "outputs": [
      {
       "html": [
        "<div style=\"max-height:1000px;max-width:1500px;overflow:auto;\">\n",
        "<table border=\"1\" class=\"dataframe\">\n",
        "  <thead>\n",
        "    <tr style=\"text-align: right;\">\n",
        "      <th></th>\n",
        "      <th>count</th>\n",
        "      <th>mean</th>\n",
        "      <th>std</th>\n",
        "      <th>min</th>\n",
        "      <th>25%</th>\n",
        "      <th>50%</th>\n",
        "      <th>75%</th>\n",
        "      <th>max</th>\n",
        "    </tr>\n",
        "  </thead>\n",
        "  <tbody>\n",
        "    <tr>\n",
        "      <th>id</th>\n",
        "      <td> 160057</td>\n",
        "      <td> 1.869324e+09</td>\n",
        "      <td> 1.570833e+09</td>\n",
        "      <td>   86246</td>\n",
        "      <td> 498182177</td>\n",
        "      <td> 767486408</td>\n",
        "      <td> 3285612741</td>\n",
        "      <td> 4809911000</td>\n",
        "    </tr>\n",
        "    <tr>\n",
        "      <th>chain</th>\n",
        "      <td> 160057</td>\n",
        "      <td> 1.268103e+02</td>\n",
        "      <td> 1.279343e+02</td>\n",
        "      <td>       2</td>\n",
        "      <td>        21</td>\n",
        "      <td>        96</td>\n",
        "      <td>        165</td>\n",
        "      <td>        526</td>\n",
        "    </tr>\n",
        "    <tr>\n",
        "      <th>offer</th>\n",
        "      <td> 160057</td>\n",
        "      <td> 1.201984e+06</td>\n",
        "      <td> 4.705531e+03</td>\n",
        "      <td> 1194044</td>\n",
        "      <td>   1197502</td>\n",
        "      <td>   1200581</td>\n",
        "      <td>    1208251</td>\n",
        "      <td>    1208503</td>\n",
        "    </tr>\n",
        "    <tr>\n",
        "      <th>market</th>\n",
        "      <td> 160057</td>\n",
        "      <td> 1.995060e+01</td>\n",
        "      <td> 1.909901e+01</td>\n",
        "      <td>       1</td>\n",
        "      <td>        10</td>\n",
        "      <td>        14</td>\n",
        "      <td>         24</td>\n",
        "      <td>         96</td>\n",
        "    </tr>\n",
        "    <tr>\n",
        "      <th>repeattrips</th>\n",
        "      <td> 160057</td>\n",
        "      <td> 6.563349e-01</td>\n",
        "      <td> 6.786516e+00</td>\n",
        "      <td>       0</td>\n",
        "      <td>         0</td>\n",
        "      <td>         0</td>\n",
        "      <td>          1</td>\n",
        "      <td>       2124</td>\n",
        "    </tr>\n",
        "  </tbody>\n",
        "</table>\n",
        "<p>5 rows \u00d7 8 columns</p>\n",
        "</div>"
       ],
       "metadata": {},
       "output_type": "pyout",
       "prompt_number": 5,
       "text": [
        "              count          mean           std      min        25%  \\\n",
        "id           160057  1.869324e+09  1.570833e+09    86246  498182177   \n",
        "chain        160057  1.268103e+02  1.279343e+02        2         21   \n",
        "offer        160057  1.201984e+06  4.705531e+03  1194044    1197502   \n",
        "market       160057  1.995060e+01  1.909901e+01        1         10   \n",
        "repeattrips  160057  6.563349e-01  6.786516e+00        0          0   \n",
        "\n",
        "                   50%         75%         max  \n",
        "id           767486408  3285612741  4809911000  \n",
        "chain               96         165         526  \n",
        "offer          1200581     1208251     1208503  \n",
        "market              14          24          96  \n",
        "repeattrips          0           1        2124  \n",
        "\n",
        "[5 rows x 8 columns]"
       ]
      }
     ],
     "prompt_number": 5
    },
    {
     "cell_type": "code",
     "collapsed": false,
     "input": [
      "# Number of repeat buyers\n",
      "total_repeaters = hdata[hdata.repeater == 't'].count()['id']\n",
      "total_nonrepeaters = hdata[hdata.repeater == 'f'].count()['id']\n",
      "\n",
      "print 'Total repeaters = ' + str(total_repeaters)\\\n",
      "    + ', total non-repeaters = ' + str(total_nonrepeaters)"
     ],
     "language": "python",
     "metadata": {},
     "outputs": [
      {
       "output_type": "stream",
       "stream": "stdout",
       "text": [
        "Total repeaters = 43438, total non-repeaters = 116619\n"
       ]
      }
     ],
     "prompt_number": 13
    },
    {
     "cell_type": "code",
     "collapsed": false,
     "input": [
      "# Number of unique values for each variable\n",
      "num_ids = len(hdata.id.unique())\n",
      "num_chains = len(hdata.chain.unique())\n",
      "num_offers = len(hdata.offer.unique())\n",
      "num_markets = len(hdata.market.unique())\n",
      "\n",
      "print('Total uniques')\n",
      "print 'Ids: {0}, chains: {1}, offers: {2}, markets: {3}'.format(\n",
      "    num_ids, num_chains, num_offers, num_markets)"
     ],
     "language": "python",
     "metadata": {},
     "outputs": [
      {
       "output_type": "stream",
       "stream": "stdout",
       "text": [
        "Total uniques\n",
        "Ids: 160057, chains: 130, offers: 24, markets: 34\n"
       ]
      }
     ],
     "prompt_number": 23
    },
    {
     "cell_type": "code",
     "collapsed": false,
     "input": [
      "# Date range\n",
      "print 'Date range: ', min(hdata.offerdate), max(hdata.offerdate)"
     ],
     "language": "python",
     "metadata": {},
     "outputs": [
      {
       "output_type": "stream",
       "stream": "stdout",
       "text": [
        "Date range:  2013-03-01 2013-04-30\n"
       ]
      }
     ],
     "prompt_number": 27
    },
    {
     "cell_type": "code",
     "collapsed": false,
     "input": [
      "# Distribution of number of repeat trips\n",
      "hdata.repeattrips.hist(bins=range(11))"
     ],
     "language": "python",
     "metadata": {},
     "outputs": [
      {
       "metadata": {},
       "output_type": "pyout",
       "prompt_number": 37,
       "text": [
        "<matplotlib.axes.AxesSubplot at 0x1097c0e50>"
       ]
      },
      {
       "metadata": {},
       "output_type": "display_data",
       "png": "[encoded data removed]",
       "text": [
        "<matplotlib.figure.Figure at 0x1097efe90>"
       ]
      }
     ],
     "prompt_number": 37
    },
    {
     "cell_type": "code",
     "collapsed": false,
     "input": [
      "# Distribution of number of repeat trips for repeaters only (eliminating all the zeros)\n",
      "hdata.repeattrips[hdata.repeattrips > 0].hist(bins=range(11))"
     ],
     "language": "python",
     "metadata": {},
     "outputs": [
      {
       "metadata": {},
       "output_type": "pyout",
       "prompt_number": 38,
       "text": [
        "<matplotlib.axes.AxesSubplot at 0x109b01610>"
       ]
      },
      {
       "metadata": {},
       "output_type": "display_data",
       "png": "[encoded data removed]",
       "text": [
        "<matplotlib.figure.Figure at 0x109b03210>"
       ]
      }
     ],
     "prompt_number": 38
    },
    {
     "cell_type": "code",
     "collapsed": false,
     "input": [
      "hdata.repeattrips[hdata.repeattrips >= 10].hist(bins=range(10,200,10))"
     ],
     "language": "python",
     "metadata": {},
     "outputs": [
      {
       "metadata": {},
       "output_type": "pyout",
       "prompt_number": 46,
       "text": [
        "<matplotlib.axes.AxesSubplot at 0x109b2ab90>"
       ]
      },
      {
       "metadata": {},
       "output_type": "display_data",
       "png": "[encoded data removed]",
       "text": [
        "<matplotlib.figure.Figure at 0x10a641610>"
       ]
      }
     ],
     "prompt_number": 46
    },
    {
     "cell_type": "code",
     "collapsed": false,
     "input": [
      "a = hdata.repeattrips[hdata.repeattrips > 30]\n",
      "a.sort()"
     ],
     "language": "python",
     "metadata": {},
     "outputs": [],
     "prompt_number": 94
    },
    {
     "cell_type": "code",
     "collapsed": false,
     "input": [
      "print(a)"
     ],
     "language": "python",
     "metadata": {},
     "outputs": [
      {
       "output_type": "stream",
       "stream": "stdout",
       "text": [
        "122255      31\n",
        "117539      31\n",
        "117160      31\n",
        "152697      31\n",
        "44429       32\n",
        "80146       32\n",
        "62482       32\n",
        "153263      33\n",
        "131431      33\n",
        "142248      34\n",
        "156743      34\n",
        "59088       35\n",
        "25865       35\n",
        "157786      35\n",
        "153313      36\n",
        "68196       36\n",
        "137762      37\n",
        "21952       37\n",
        "116429      38\n",
        "141564      38\n",
        "7549        40\n",
        "158068      41\n",
        "78607       42\n",
        "68723       42\n",
        "119639      42\n",
        "140829      42\n",
        "7417        44\n",
        "74998       45\n",
        "120137      57\n",
        "140520      66\n",
        "136700      70\n",
        "148319      71\n",
        "140490      72\n",
        "160038      80\n",
        "63002       82\n",
        "7839        87\n",
        "138102     104\n",
        "140693     549\n",
        "123678    1418\n",
        "123859    2124\n",
        "Name: repeattrips, dtype: int64\n"
       ]
      }
     ],
     "prompt_number": 95
    },
    {
     "cell_type": "markdown",
     "metadata": {},
     "source": [
      "#### Above are the highest repeaters.  Repeat trips over 100 are very suspect.  Data points will be eliminated from the database as outliers if repeattrips > 50, because looking at the highest values in order, it's after 50 that they seem to really jump."
     ]
    },
    {
     "cell_type": "code",
     "collapsed": false,
     "input": [
      "bad_ids = hdata.id[hdata.repeattrips > 50]\n",
      "bad_ids"
     ],
     "language": "python",
     "metadata": {},
     "outputs": [
      {
       "metadata": {},
       "output_type": "pyout",
       "prompt_number": 96,
       "text": [
        "7839       239276354\n",
        "63002      618764932\n",
        "120137    3288731255\n",
        "123678    3450535153\n",
        "123859    3465135195\n",
        "136700    4083461977\n",
        "138102    4176323168\n",
        "140490    4389020404\n",
        "140520    4394329485\n",
        "140693    4427711419\n",
        "148319    4625744661\n",
        "160038    4683851813\n",
        "Name: id, dtype: int64"
       ]
      }
     ],
     "prompt_number": 96
    },
    {
     "cell_type": "code",
     "collapsed": false,
     "input": [
      "# TO DO:  look up how to eliminate rows from a data frame based on value of a particular column\n",
      "type(bad_ids)"
     ],
     "language": "python",
     "metadata": {},
     "outputs": [
      {
       "metadata": {},
       "output_type": "pyout",
       "prompt_number": 81,
       "text": [
        "pandas.core.series.Series"
       ]
      }
     ],
     "prompt_number": 81
    },
    {
     "cell_type": "markdown",
     "metadata": {},
     "source": [
      "### Further description of history\n",
      "<ul>\n",
      "<li>160057 shoppers\n",
      "<li>date range:  2013-03-01 to 2013-04-30\n",
      "<li>43438 repeaters, 116619 non-repeaters\n",
      "<li>24 offers (types of offers), 34 markets, 130 chains\n",
      "<li>high outliers in repeattrips (number of repeat trips) will be eliminated:  users where repeattrips > 50 will be removed from the data\n",
      "<ul>"
     ]
    },
    {
     "cell_type": "markdown",
     "metadata": {},
     "source": [
      "### Table:  offers\n",
      "#### Fields\n",
      "<ul>\n",
      "<li>offer - An id representing a certain offer\n",
      "<li>category - The product category (e.g. sparkling water)\n",
      "<li>quantity - The number of units one must purchase to get the discount\n",
      "<li>company - An id of the company that sells the item\n",
      "<li>offervalue - The dollar value of the offer\n",
      "<li>brand - An id of the brand to which the item belongs\n",
      "</ul>"
     ]
    },
    {
     "cell_type": "code",
     "collapsed": false,
     "input": [
      "odata = pd.read_csv('offers.csv')\n",
      "odata.head(3)"
     ],
     "language": "python",
     "metadata": {},
     "outputs": [
      {
       "html": [
        "<div style=\"max-height:1000px;max-width:1500px;overflow:auto;\">\n",
        "<table border=\"1\" class=\"dataframe\">\n",
        "  <thead>\n",
        "    <tr style=\"text-align: right;\">\n",
        "      <th></th>\n",
        "      <th>offer</th>\n",
        "      <th>category</th>\n",
        "      <th>quantity</th>\n",
        "      <th>company</th>\n",
        "      <th>offervalue</th>\n",
        "      <th>brand</th>\n",
        "    </tr>\n",
        "  </thead>\n",
        "  <tbody>\n",
        "    <tr>\n",
        "      <th>0</th>\n",
        "      <td> 1190530</td>\n",
        "      <td> 9115</td>\n",
        "      <td> 1</td>\n",
        "      <td> 108500080</td>\n",
        "      <td> 5.00</td>\n",
        "      <td> 93904</td>\n",
        "    </tr>\n",
        "    <tr>\n",
        "      <th>1</th>\n",
        "      <td> 1194044</td>\n",
        "      <td> 9909</td>\n",
        "      <td> 1</td>\n",
        "      <td> 107127979</td>\n",
        "      <td> 1.00</td>\n",
        "      <td>  6732</td>\n",
        "    </tr>\n",
        "    <tr>\n",
        "      <th>2</th>\n",
        "      <td> 1197502</td>\n",
        "      <td> 3203</td>\n",
        "      <td> 1</td>\n",
        "      <td> 106414464</td>\n",
        "      <td> 0.75</td>\n",
        "      <td> 13474</td>\n",
        "    </tr>\n",
        "  </tbody>\n",
        "</table>\n",
        "<p>3 rows \u00d7 6 columns</p>\n",
        "</div>"
       ],
       "metadata": {},
       "output_type": "pyout",
       "prompt_number": 82,
       "text": [
        "     offer  category  quantity    company  offervalue  brand\n",
        "0  1190530      9115         1  108500080        5.00  93904\n",
        "1  1194044      9909         1  107127979        1.00   6732\n",
        "2  1197502      3203         1  106414464        0.75  13474\n",
        "\n",
        "[3 rows x 6 columns]"
       ]
      }
     ],
     "prompt_number": 82
    },
    {
     "cell_type": "code",
     "collapsed": false,
     "input": [
      "odata.describe().T"
     ],
     "language": "python",
     "metadata": {},
     "outputs": [
      {
       "html": [
        "<div style=\"max-height:1000px;max-width:1500px;overflow:auto;\">\n",
        "<table border=\"1\" class=\"dataframe\">\n",
        "  <thead>\n",
        "    <tr style=\"text-align: right;\">\n",
        "      <th></th>\n",
        "      <th>count</th>\n",
        "      <th>mean</th>\n",
        "      <th>std</th>\n",
        "      <th>min</th>\n",
        "      <th>25%</th>\n",
        "      <th>50%</th>\n",
        "      <th>75%</th>\n",
        "      <th>max</th>\n",
        "    </tr>\n",
        "  </thead>\n",
        "  <tbody>\n",
        "    <tr>\n",
        "      <th>offer</th>\n",
        "      <td> 37</td>\n",
        "      <td> 1.207324e+06</td>\n",
        "      <td> 1.009963e+04</td>\n",
        "      <td> 1.190530e+06</td>\n",
        "      <td>   1199258.0</td>\n",
        "      <td>   1204576.0</td>\n",
        "      <td>   1219900.0</td>\n",
        "      <td>    1230218</td>\n",
        "    </tr>\n",
        "    <tr>\n",
        "      <th>category</th>\n",
        "      <td> 37</td>\n",
        "      <td> 4.775378e+03</td>\n",
        "      <td> 2.492239e+03</td>\n",
        "      <td> 7.060000e+02</td>\n",
        "      <td>      2202.0</td>\n",
        "      <td>      5558.0</td>\n",
        "      <td>      6202.0</td>\n",
        "      <td>       9909</td>\n",
        "    </tr>\n",
        "    <tr>\n",
        "      <th>quantity</th>\n",
        "      <td> 37</td>\n",
        "      <td> 1.027027e+00</td>\n",
        "      <td> 1.643990e-01</td>\n",
        "      <td> 1.000000e+00</td>\n",
        "      <td>         1.0</td>\n",
        "      <td>         1.0</td>\n",
        "      <td>         1.0</td>\n",
        "      <td>          2</td>\n",
        "    </tr>\n",
        "    <tr>\n",
        "      <th>company</th>\n",
        "      <td> 37</td>\n",
        "      <td> 2.376693e+08</td>\n",
        "      <td> 3.389608e+08</td>\n",
        "      <td> 1.033200e+08</td>\n",
        "      <td> 104460040.0</td>\n",
        "      <td> 105450050.0</td>\n",
        "      <td> 107127979.0</td>\n",
        "      <td> 1089520383</td>\n",
        "    </tr>\n",
        "    <tr>\n",
        "      <th>offervalue</th>\n",
        "      <td> 37</td>\n",
        "      <td> 1.648649e+00</td>\n",
        "      <td> 7.347039e-01</td>\n",
        "      <td> 7.500000e-01</td>\n",
        "      <td>         1.5</td>\n",
        "      <td>         1.5</td>\n",
        "      <td>         1.5</td>\n",
        "      <td>          5</td>\n",
        "    </tr>\n",
        "    <tr>\n",
        "      <th>brand</th>\n",
        "      <td> 37</td>\n",
        "      <td> 1.967514e+04</td>\n",
        "      <td> 2.808474e+04</td>\n",
        "      <td> 8.750000e+02</td>\n",
        "      <td>      4294.0</td>\n",
        "      <td>      7668.0</td>\n",
        "      <td>     17286.0</td>\n",
        "      <td>     102504</td>\n",
        "    </tr>\n",
        "  </tbody>\n",
        "</table>\n",
        "<p>6 rows \u00d7 8 columns</p>\n",
        "</div>"
       ],
       "metadata": {},
       "output_type": "pyout",
       "prompt_number": 83,
       "text": [
        "            count          mean           std           min          25%  \\\n",
        "offer          37  1.207324e+06  1.009963e+04  1.190530e+06    1199258.0   \n",
        "category       37  4.775378e+03  2.492239e+03  7.060000e+02       2202.0   \n",
        "quantity       37  1.027027e+00  1.643990e-01  1.000000e+00          1.0   \n",
        "company        37  2.376693e+08  3.389608e+08  1.033200e+08  104460040.0   \n",
        "offervalue     37  1.648649e+00  7.347039e-01  7.500000e-01          1.5   \n",
        "brand          37  1.967514e+04  2.808474e+04  8.750000e+02       4294.0   \n",
        "\n",
        "                    50%          75%         max  \n",
        "offer         1204576.0    1219900.0     1230218  \n",
        "category         5558.0       6202.0        9909  \n",
        "quantity            1.0          1.0           2  \n",
        "company     105450050.0  107127979.0  1089520383  \n",
        "offervalue          1.5          1.5           5  \n",
        "brand            7668.0      17286.0      102504  \n",
        "\n",
        "[6 rows x 8 columns]"
       ]
      }
     ],
     "prompt_number": 83
    },
    {
     "cell_type": "code",
     "collapsed": false,
     "input": [
      "# Number of unique values for each variable\n",
      "num_offer = len(odata.offer.unique())\n",
      "num_category = len(odata.category.unique())\n",
      "num_quantity = len(odata.quantity.unique())\n",
      "num_company = len(odata.company.unique())\n",
      "num_offervalue = len(odata.offervalue.unique())\n",
      "num_brand = len(odata.brand.unique())\n",
      "\n",
      "print('Total uniques')\n",
      "print 'Offers: {0}, categories: {1}, quantities: {2}, companies: {3}, offer values: {4}, brands: {5}'.format(\n",
      "    num_offer, num_category, num_quantity, num_company, num_offervalue, num_brand)"
     ],
     "language": "python",
     "metadata": {},
     "outputs": [
      {
       "output_type": "stream",
       "stream": "stdout",
       "text": [
        "Total uniques\n",
        "Offers: 37, categories: 20, quantities: 2, companies: 18, offer values: 7, brands: 19\n"
       ]
      }
     ],
     "prompt_number": 105
    },
    {
     "cell_type": "code",
     "collapsed": false,
     "input": [
      "b = hdata.offer.unique()\n",
      "b.sort()\n",
      "print (b)"
     ],
     "language": "python",
     "metadata": {},
     "outputs": [
      {
       "output_type": "stream",
       "stream": "stdout",
       "text": [
        "[1194044 1197502 1198271 1198272 1198273 1198274 1198275 1199256 1199258\n",
        " 1200578 1200579 1200581 1200582 1200584 1200988 1203052 1204576 1204821\n",
        " 1204822 1208251 1208252 1208329 1208501 1208503]\n"
       ]
      }
     ],
     "prompt_number": 101
    },
    {
     "cell_type": "code",
     "collapsed": false,
     "input": [
      "c = odata.offer.unique()\n",
      "c.sort()\n",
      "print (c)"
     ],
     "language": "python",
     "metadata": {},
     "outputs": [
      {
       "output_type": "stream",
       "stream": "stdout",
       "text": [
        "[1190530 1194044 1197502 1198271 1198272 1198273 1198274 1198275 1199256\n",
        " 1199258 1200578 1200579 1200581 1200582 1200584 1200988 1203052 1203439\n",
        " 1204576 1204821 1204822 1208251 1208252 1208329 1208501 1208503 1213242\n",
        " 1219900 1219903 1220502 1220503 1221658 1221663 1221665 1221666 1221667\n",
        " 1230218]\n"
       ]
      }
     ],
     "prompt_number": 102
    },
    {
     "cell_type": "markdown",
     "metadata": {},
     "source": [
      "#### There are 24 unique offer ids in history but 37 unique offer ids in offers:  the offers table contains some offers that aren't used in this data set.  That's fine.  Just wanted to make sure there wasn't a data integrity issue."
     ]
    },
    {
     "cell_type": "code",
     "collapsed": false,
     "input": [
      "odata.offervalue.hist(bins=20)\n",
      "plt.title('Distribution of offer values')"
     ],
     "language": "python",
     "metadata": {},
     "outputs": [
      {
       "metadata": {},
       "output_type": "pyout",
       "prompt_number": 106,
       "text": [
        "<matplotlib.text.Text at 0x10a7bac10>"
       ]
      },
      {
       "metadata": {},
       "output_type": "display_data",
       "png": "[encoded data removed]",
       "text": [
        "<matplotlib.figure.Figure at 0x10a7dcb90>"
       ]
      }
     ],
     "prompt_number": 106
    },
    {
     "cell_type": "markdown",
     "metadata": {},
     "source": [
      "### Further description of offers\n",
      "add something here"
     ]
    },
    {
     "cell_type": "markdown",
     "metadata": {},
     "source": [
      "### Table:  transactions\n",
      "#### Fields\n",
      "<ul>\n",
      "<li>id - A unique id representing a customer\n",
      "<li>chain - An integer representing a store chain\n",
      "<li>dept - An aggregate grouping of the category (e.g. water)\n",
      "<li>category - The product category (e.g. sparkling water)\n",
      "<li>company - An id of the company that sells the item\n",
      "<li>brand - An id of the brand to which the item belongs\n",
      "<li>date - The date of purchase\n",
      "<li>productsize - The amount of the product purchase (e.g. 16 oz of water)\n",
      "<li>productmeasure - The units of the product purchase (e.g. ounces)\n",
      "<li>purchasequantity - The number of units purchased\n",
      "<li>purchaseamount - The dollar amount of the purchase\n",
      "</ul>"
     ]
    },
    {
     "cell_type": "markdown",
     "metadata": {},
     "source": [
      "#### NOTE:  transactions is too big to load in memory, will need to import/handle data a different way."
     ]
    },
    {
     "cell_type": "markdown",
     "metadata": {},
     "source": [
      "### Importing data to DB\n",
      "#### Importing transactions into a database.  Importing other tables as well.  First let's look at the data in transactions."
     ]
    },
    {
     "cell_type": "code",
     "collapsed": false,
     "input": [
      "f = open('transactions.csv', 'r')"
     ],
     "language": "python",
     "metadata": {},
     "outputs": [],
     "prompt_number": 1
    },
    {
     "cell_type": "code",
     "collapsed": false,
     "input": [
      "f.readline()"
     ],
     "language": "python",
     "metadata": {},
     "outputs": [
      {
       "metadata": {},
       "output_type": "pyout",
       "prompt_number": 2,
       "text": [
        "'id,chain,dept,category,company,brand,date,productsize,productmeasure,purchasequantity,purchaseamount\\n'"
       ]
      }
     ],
     "prompt_number": 2
    },
    {
     "cell_type": "code",
     "collapsed": false,
     "input": [
      "f.readline()"
     ],
     "language": "python",
     "metadata": {},
     "outputs": [
      {
       "metadata": {},
       "output_type": "pyout",
       "prompt_number": 3,
       "text": [
        "'86246,205,7,707,1078778070,12564,2012-03-02,12,OZ,1,7.59\\n'"
       ]
      }
     ],
     "prompt_number": 3
    },
    {
     "cell_type": "code",
     "collapsed": false,
     "input": [
      "f.readline()"
     ],
     "language": "python",
     "metadata": {},
     "outputs": [
      {
       "metadata": {},
       "output_type": "pyout",
       "prompt_number": 4,
       "text": [
        "'86246,205,63,6319,107654575,17876,2012-03-02,64,OZ,1,1.59\\n'"
       ]
      }
     ],
     "prompt_number": 4
    },
    {
     "cell_type": "code",
     "collapsed": false,
     "input": [
      "f.close()"
     ],
     "language": "python",
     "metadata": {},
     "outputs": [],
     "prompt_number": 5
    },
    {
     "cell_type": "markdown",
     "metadata": {},
     "source": [
      "#### Now import data from CSVs to database tables"
     ]
    },
    {
     "cell_type": "code",
     "collapsed": false,
     "input": [
      "import sqlite3"
     ],
     "language": "python",
     "metadata": {},
     "outputs": [],
     "prompt_number": 2
    },
    {
     "cell_type": "code",
     "collapsed": false,
     "input": [
      "conn = sqlite3.connect('shopping.db')\n",
      "c = conn.cursor()"
     ],
     "language": "python",
     "metadata": {},
     "outputs": [],
     "prompt_number": 3
    },
    {
     "cell_type": "code",
     "collapsed": false,
     "input": [
      "# Creating offers table\n",
      "c.execute('''CREATE TABLE offers (\n",
      "                 offer INTEGER unique,\n",
      "                 category INTEGER,\n",
      "                 quantity INTEGER,\n",
      "                 company INTEGER,\n",
      "                 offervalue DECIMAL(5,2),\n",
      "                 brand INTEGER)''')"
     ],
     "language": "python",
     "metadata": {},
     "outputs": [
      {
       "metadata": {},
       "output_type": "pyout",
       "prompt_number": 8,
       "text": [
        "<sqlite3.Cursor at 0x1039cba40>"
       ]
      }
     ],
     "prompt_number": 8
    },
    {
     "cell_type": "code",
     "collapsed": false,
     "input": [
      "#### After creating the table, I imported the CSV at the command line:\n",
      "#### sqlite3 '/Users/crista/Desktop/gads2014course/DAT6_clb/Final_Project/shopping.db'\n",
      "#### .separator ','\n",
      "#### .import '/Users/crista/Desktop/gads2014course/DAT6_clb/Final_Project/offers.csv' offers"
     ],
     "language": "python",
     "metadata": {},
     "outputs": [],
     "prompt_number": 20
    },
    {
     "cell_type": "code",
     "collapsed": false,
     "input": [
      "c.execute('SELECT * FROM offers LIMIT 10')"
     ],
     "language": "python",
     "metadata": {},
     "outputs": [
      {
       "metadata": {},
       "output_type": "pyout",
       "prompt_number": 110,
       "text": [
        "<sqlite3.Cursor at 0x102906a40>"
       ]
      }
     ],
     "prompt_number": 110
    },
    {
     "cell_type": "code",
     "collapsed": false,
     "input": [
      "print c.fetchone()"
     ],
     "language": "python",
     "metadata": {},
     "outputs": [
      {
       "output_type": "stream",
       "stream": "stdout",
       "text": [
        "(u'offer', u'category', u'quantity', u'company', u'offervalue', u'brand')\n"
       ]
      }
     ],
     "prompt_number": 111
    },
    {
     "cell_type": "code",
     "collapsed": false,
     "input": [
      "c.fetchmany(10)"
     ],
     "language": "python",
     "metadata": {},
     "outputs": [
      {
       "metadata": {},
       "output_type": "pyout",
       "prompt_number": 112,
       "text": [
        "[(1190530, 9115, 1, 108500080, 5, 93904),\n",
        " (1194044, 9909, 1, 107127979, 1, 6732),\n",
        " (1197502, 3203, 1, 106414464, 0.75, 13474),\n",
        " (1198271, 5558, 1, 107120272, 1.5, 5072),\n",
        " (1198272, 5558, 1, 107120272, 1.5, 5072),\n",
        " (1198273, 5558, 1, 107120272, 1.5, 5072),\n",
        " (1198274, 5558, 1, 107120272, 1.5, 5072),\n",
        " (1198275, 5558, 1, 107120272, 1.5, 5072),\n",
        " (1199256, 4401, 1, 105100050, 2, 13791)]"
       ]
      }
     ],
     "prompt_number": 112
    },
    {
     "cell_type": "code",
     "collapsed": false,
     "input": [
      "# Creating history table\n",
      "c.execute('''CREATE TABLE history (\n",
      "                 id INTEGER unique,\n",
      "                 chain INTEGER,\n",
      "                 offer INTEGER,\n",
      "                 market INTEGER,\n",
      "                 repeattrips INTEGER,\n",
      "                 repeater BOOL,\n",
      "                 offerdate DATE)''')"
     ],
     "language": "python",
     "metadata": {},
     "outputs": [
      {
       "metadata": {},
       "output_type": "pyout",
       "prompt_number": 26,
       "text": [
        "<sqlite3.Cursor at 0x104ac6880>"
       ]
      }
     ],
     "prompt_number": 26
    },
    {
     "cell_type": "code",
     "collapsed": false,
     "input": [
      "#### sqlite3 '/Users/crista/Desktop/gads2014course/DAT6_clb/Final_Project/shopping.db'\n",
      "#### .separator ','\n",
      "#### .import '/Users/crista/Desktop/gads2014course/DAT6_clb/Final_Project/history.csv' history"
     ],
     "language": "python",
     "metadata": {},
     "outputs": []
    },
    {
     "cell_type": "code",
     "collapsed": false,
     "input": [
      "c.execute('SELECT * FROM history LIMIT 100')\n",
      "c.fetchmany(15)"
     ],
     "language": "python",
     "metadata": {},
     "outputs": [
      {
       "metadata": {},
       "output_type": "pyout",
       "prompt_number": 113,
       "text": [
        "[(u'id',\n",
        "  u'chain',\n",
        "  u'offer',\n",
        "  u'market',\n",
        "  u'repeattrips',\n",
        "  u'repeater',\n",
        "  u'offerdate'),\n",
        " (86246, 205, 1208251, 34, 5, u't', u'2013-04-24'),\n",
        " (86252, 205, 1197502, 34, 16, u't', u'2013-03-27'),\n",
        " (12682470, 18, 1197502, 11, 0, u'f', u'2013-03-28'),\n",
        " (12996040, 15, 1197502, 9, 0, u'f', u'2013-03-25'),\n",
        " (13089312, 15, 1204821, 9, 0, u'f', u'2013-04-01'),\n",
        " (13179265, 14, 1197502, 8, 0, u'f', u'2013-03-29'),\n",
        " (13251776, 15, 1200581, 9, 0, u'f', u'2013-03-30'),\n",
        " (13540129, 14, 1200581, 8, 0, u'f', u'2013-03-30'),\n",
        " (13807224, 4, 1204576, 1, 0, u'f', u'2013-04-05'),\n",
        " (13873775, 4, 1197502, 1, 0, u'f', u'2013-03-26'),\n",
        " (13974451, 4, 1197502, 1, 0, u'f', u'2013-03-26'),\n",
        " (14088807, 3, 1200581, 2, 1, u't', u'2013-04-17'),\n",
        " (14381137, 4, 1197502, 1, 0, u'f', u'2013-04-04'),\n",
        " (14576147, 18, 1197502, 11, 0, u'f', u'2013-04-02')]"
       ]
      }
     ],
     "prompt_number": 113
    },
    {
     "cell_type": "code",
     "collapsed": false,
     "input": [
      "# Creating transactions table\n",
      "# Column names:  id,chain,dept,category,company,brand,date,\n",
      "#     productsize,productmeasure,purchasequantity,purchaseamount\n",
      "\n",
      "c.execute('''CREATE TABLE transactions (\n",
      "                 id INTEGER,\n",
      "                 chain INTEGER,\n",
      "                 dept INTEGER,\n",
      "                 category INTEGER,\n",
      "                 company INTEGER,\n",
      "                 brand INTEGER,\n",
      "                 date DATE,\n",
      "                 productsize INTEGER,\n",
      "                 productmeasure CHAR(10),\n",
      "                 purchasequantity INTEGER,\n",
      "                 purchaseamount INTEGER)''')"
     ],
     "language": "python",
     "metadata": {},
     "outputs": [
      {
       "metadata": {},
       "output_type": "pyout",
       "prompt_number": 42,
       "text": [
        "<sqlite3.Cursor at 0x104ad0340>"
       ]
      }
     ],
     "prompt_number": 42
    },
    {
     "cell_type": "code",
     "collapsed": false,
     "input": [],
     "language": "python",
     "metadata": {},
     "outputs": []
    },
    {
     "cell_type": "code",
     "collapsed": false,
     "input": [
      "#### sqlite3 '/Users/crista/Desktop/gads2014course/DAT6_clb/Final_Project/shopping.db'\n",
      "#### .separator ','\n",
      "#### .import '/Users/crista/Desktop/gads2014course/DAT6_clb/Final_Project/transactions.csv' transactions"
     ],
     "language": "python",
     "metadata": {},
     "outputs": []
    },
    {
     "cell_type": "code",
     "collapsed": false,
     "input": [
      "c.execute('SELECT * FROM transactions LIMIT 100')\n",
      "c.fetchmany(10)"
     ],
     "language": "python",
     "metadata": {},
     "outputs": [
      {
       "metadata": {},
       "output_type": "pyout",
       "prompt_number": 114,
       "text": [
        "[(u'id',\n",
        "  u'chain',\n",
        "  u'dept',\n",
        "  u'category',\n",
        "  u'company',\n",
        "  u'brand',\n",
        "  u'date',\n",
        "  u'productsize',\n",
        "  u'productmeasure',\n",
        "  u'purchasequantity',\n",
        "  u'purchaseamount'),\n",
        " (86246, 205, 7, 707, 1078778070, 12564, u'2012-03-02', 12, u'OZ', 1, 7.59),\n",
        " (86246, 205, 63, 6319, 107654575, 17876, u'2012-03-02', 64, u'OZ', 1, 1.59),\n",
        " (86246, 205, 97, 9753, 1022027929, 0, u'2012-03-02', 1, u'CT', 1, 5.99),\n",
        " (86246, 205, 25, 2509, 107996777, 31373, u'2012-03-02', 16, u'OZ', 1, 1.99),\n",
        " (86246, 205, 55, 5555, 107684070, 32094, u'2012-03-02', 16, u'OZ', 2, 10.38),\n",
        " (86246, 205, 97, 9753, 1021015020, 0, u'2012-03-02', 1, u'CT', 1, 7.8),\n",
        " (86246, 205, 99, 9909, 104538848, 15343, u'2012-03-02', 16, u'OZ', 1, 2.49),\n",
        " (86246, 205, 59, 5907, 102900020, 2012, u'2012-03-02', 16, u'OZ', 1, 1.39),\n",
        " (86246, 205, 9, 921, 101128414, 9209, u'2012-03-02', 4, u'OZ', 2, 1.5)]"
       ]
      }
     ],
     "prompt_number": 114
    },
    {
     "cell_type": "code",
     "collapsed": false,
     "input": [
      "conn.close()"
     ],
     "language": "python",
     "metadata": {},
     "outputs": [],
     "prompt_number": 78
    },
    {
     "cell_type": "markdown",
     "metadata": {},
     "source": [
      "### All tables imported.  Next, continue data exploration and extraction of variables."
     ]
    },
    {
     "cell_type": "code",
     "collapsed": false,
     "input": [
      "%load_ext sql"
     ],
     "language": "python",
     "metadata": {},
     "outputs": [],
     "prompt_number": 5
    },
    {
     "cell_type": "code",
     "collapsed": false,
     "input": [
      "%%bash\n",
      "sqlite3 shopping.db .tables"
     ],
     "language": "python",
     "metadata": {},
     "outputs": [
      {
       "output_type": "stream",
       "stream": "stdout",
       "text": [
        "history         history_offers  offers          transactions  \n"
       ]
      }
     ],
     "prompt_number": 6
    },
    {
     "cell_type": "code",
     "collapsed": false,
     "input": [
      "%%sql sqlite:///shopping.db\n",
      "SELECT * FROM transactions LIMIT 5"
     ],
     "language": "python",
     "metadata": {},
     "outputs": [
      {
       "output_type": "stream",
       "stream": "stdout",
       "text": [
        "Done.\n"
       ]
      },
      {
       "html": [
        "<table>\n",
        "    <tr>\n",
        "        <th>id</th>\n",
        "        <th>chain</th>\n",
        "        <th>dept</th>\n",
        "        <th>category</th>\n",
        "        <th>company</th>\n",
        "        <th>brand</th>\n",
        "        <th>date</th>\n",
        "        <th>productsize</th>\n",
        "        <th>productmeasure</th>\n",
        "        <th>purchasequantity</th>\n",
        "        <th>purchaseamount</th>\n",
        "    </tr>\n",
        "    <tr>\n",
        "        <td>id</td>\n",
        "        <td>chain</td>\n",
        "        <td>dept</td>\n",
        "        <td>category</td>\n",
        "        <td>company</td>\n",
        "        <td>brand</td>\n",
        "        <td>date</td>\n",
        "        <td>productsize</td>\n",
        "        <td>productmeasure</td>\n",
        "        <td>purchasequantity</td>\n",
        "        <td>purchaseamount</td>\n",
        "    </tr>\n",
        "    <tr>\n",
        "        <td>86246</td>\n",
        "        <td>205</td>\n",
        "        <td>7</td>\n",
        "        <td>707</td>\n",
        "        <td>1078778070</td>\n",
        "        <td>12564</td>\n",
        "        <td>2012-03-02</td>\n",
        "        <td>12</td>\n",
        "        <td>OZ</td>\n",
        "        <td>1</td>\n",
        "        <td>7.59</td>\n",
        "    </tr>\n",
        "    <tr>\n",
        "        <td>86246</td>\n",
        "        <td>205</td>\n",
        "        <td>63</td>\n",
        "        <td>6319</td>\n",
        "        <td>107654575</td>\n",
        "        <td>17876</td>\n",
        "        <td>2012-03-02</td>\n",
        "        <td>64</td>\n",
        "        <td>OZ</td>\n",
        "        <td>1</td>\n",
        "        <td>1.59</td>\n",
        "    </tr>\n",
        "    <tr>\n",
        "        <td>86246</td>\n",
        "        <td>205</td>\n",
        "        <td>97</td>\n",
        "        <td>9753</td>\n",
        "        <td>1022027929</td>\n",
        "        <td>0</td>\n",
        "        <td>2012-03-02</td>\n",
        "        <td>1</td>\n",
        "        <td>CT</td>\n",
        "        <td>1</td>\n",
        "        <td>5.99</td>\n",
        "    </tr>\n",
        "    <tr>\n",
        "        <td>86246</td>\n",
        "        <td>205</td>\n",
        "        <td>25</td>\n",
        "        <td>2509</td>\n",
        "        <td>107996777</td>\n",
        "        <td>31373</td>\n",
        "        <td>2012-03-02</td>\n",
        "        <td>16</td>\n",
        "        <td>OZ</td>\n",
        "        <td>1</td>\n",
        "        <td>1.99</td>\n",
        "    </tr>\n",
        "</table>"
       ],
       "metadata": {},
       "output_type": "pyout",
       "prompt_number": 4,
       "text": [
        "[(u'id', u'chain', u'dept', u'category', u'company', u'brand', u'date', u'productsize', u'productmeasure', u'purchasequantity', u'purchaseamount'),\n",
        " (86246, 205, 7, 707, 1078778070, 12564, u'2012-03-02', 12, u'OZ', 1, 7.59),\n",
        " (86246, 205, 63, 6319, 107654575, 17876, u'2012-03-02', 64, u'OZ', 1, 1.59),\n",
        " (86246, 205, 97, 9753, 1022027929, 0, u'2012-03-02', 1, u'CT', 1, 5.99),\n",
        " (86246, 205, 25, 2509, 107996777, 31373, u'2012-03-02', 16, u'OZ', 1, 1.99)]"
       ]
      }
     ],
     "prompt_number": 4
    },
    {
     "cell_type": "code",
     "collapsed": false,
     "input": [],
     "language": "python",
     "metadata": {},
     "outputs": []
    },
    {
     "cell_type": "code",
     "collapsed": false,
     "input": [
      "# %%sql sqlite:///shopping.db\n",
      "# SELECT COUNT(1) AS num_rows FROM transactions"
     ],
     "language": "python",
     "metadata": {},
     "outputs": [],
     "prompt_number": 121
    },
    {
     "cell_type": "code",
     "collapsed": false,
     "input": [
      "%%sql sqlite:///shopping.db\n",
      "SELECT * FROM offers LIMIT 5"
     ],
     "language": "python",
     "metadata": {},
     "outputs": [
      {
       "output_type": "stream",
       "stream": "stdout",
       "text": [
        "Done.\n"
       ]
      },
      {
       "html": [
        "<table>\n",
        "    <tr>\n",
        "        <th>offer</th>\n",
        "        <th>category</th>\n",
        "        <th>quantity</th>\n",
        "        <th>company</th>\n",
        "        <th>offervalue</th>\n",
        "        <th>brand</th>\n",
        "    </tr>\n",
        "    <tr>\n",
        "        <td>offer</td>\n",
        "        <td>category</td>\n",
        "        <td>quantity</td>\n",
        "        <td>company</td>\n",
        "        <td>offervalue</td>\n",
        "        <td>brand</td>\n",
        "    </tr>\n",
        "    <tr>\n",
        "        <td>1190530</td>\n",
        "        <td>9115</td>\n",
        "        <td>1</td>\n",
        "        <td>108500080</td>\n",
        "        <td>5</td>\n",
        "        <td>93904</td>\n",
        "    </tr>\n",
        "    <tr>\n",
        "        <td>1194044</td>\n",
        "        <td>9909</td>\n",
        "        <td>1</td>\n",
        "        <td>107127979</td>\n",
        "        <td>1</td>\n",
        "        <td>6732</td>\n",
        "    </tr>\n",
        "    <tr>\n",
        "        <td>1197502</td>\n",
        "        <td>3203</td>\n",
        "        <td>1</td>\n",
        "        <td>106414464</td>\n",
        "        <td>0.75</td>\n",
        "        <td>13474</td>\n",
        "    </tr>\n",
        "    <tr>\n",
        "        <td>1198271</td>\n",
        "        <td>5558</td>\n",
        "        <td>1</td>\n",
        "        <td>107120272</td>\n",
        "        <td>1.5</td>\n",
        "        <td>5072</td>\n",
        "    </tr>\n",
        "</table>"
       ],
       "metadata": {},
       "output_type": "pyout",
       "prompt_number": 5,
       "text": [
        "[(u'offer', u'category', u'quantity', u'company', u'offervalue', u'brand'),\n",
        " (1190530, 9115, 1, 108500080, 5, 93904),\n",
        " (1194044, 9909, 1, 107127979, 1, 6732),\n",
        " (1197502, 3203, 1, 106414464, 0.75, 13474),\n",
        " (1198271, 5558, 1, 107120272, 1.5, 5072)]"
       ]
      }
     ],
     "prompt_number": 5
    },
    {
     "cell_type": "code",
     "collapsed": false,
     "input": [
      "%%sql sqlite:///shopping.db\n",
      "SELECT * FROM history LIMIT 5"
     ],
     "language": "python",
     "metadata": {},
     "outputs": [
      {
       "output_type": "stream",
       "stream": "stdout",
       "text": [
        "Done.\n"
       ]
      },
      {
       "html": [
        "<table>\n",
        "    <tr>\n",
        "        <th>id</th>\n",
        "        <th>chain</th>\n",
        "        <th>offer</th>\n",
        "        <th>market</th>\n",
        "        <th>repeattrips</th>\n",
        "        <th>repeater</th>\n",
        "        <th>offerdate</th>\n",
        "    </tr>\n",
        "    <tr>\n",
        "        <td>id</td>\n",
        "        <td>chain</td>\n",
        "        <td>offer</td>\n",
        "        <td>market</td>\n",
        "        <td>repeattrips</td>\n",
        "        <td>repeater</td>\n",
        "        <td>offerdate</td>\n",
        "    </tr>\n",
        "    <tr>\n",
        "        <td>86246</td>\n",
        "        <td>205</td>\n",
        "        <td>1208251</td>\n",
        "        <td>34</td>\n",
        "        <td>5</td>\n",
        "        <td>t</td>\n",
        "        <td>2013-04-24</td>\n",
        "    </tr>\n",
        "    <tr>\n",
        "        <td>86252</td>\n",
        "        <td>205</td>\n",
        "        <td>1197502</td>\n",
        "        <td>34</td>\n",
        "        <td>16</td>\n",
        "        <td>t</td>\n",
        "        <td>2013-03-27</td>\n",
        "    </tr>\n",
        "    <tr>\n",
        "        <td>12682470</td>\n",
        "        <td>18</td>\n",
        "        <td>1197502</td>\n",
        "        <td>11</td>\n",
        "        <td>0</td>\n",
        "        <td>f</td>\n",
        "        <td>2013-03-28</td>\n",
        "    </tr>\n",
        "    <tr>\n",
        "        <td>12996040</td>\n",
        "        <td>15</td>\n",
        "        <td>1197502</td>\n",
        "        <td>9</td>\n",
        "        <td>0</td>\n",
        "        <td>f</td>\n",
        "        <td>2013-03-25</td>\n",
        "    </tr>\n",
        "</table>"
       ],
       "metadata": {},
       "output_type": "pyout",
       "prompt_number": 6,
       "text": [
        "[(u'id', u'chain', u'offer', u'market', u'repeattrips', u'repeater', u'offerdate'),\n",
        " (86246, 205, 1208251, 34, 5, u't', u'2013-04-24'),\n",
        " (86252, 205, 1197502, 34, 16, u't', u'2013-03-27'),\n",
        " (12682470, 18, 1197502, 11, 0, u'f', u'2013-03-28'),\n",
        " (12996040, 15, 1197502, 9, 0, u'f', u'2013-03-25')]"
       ]
      }
     ],
     "prompt_number": 6
    },
    {
     "cell_type": "code",
     "collapsed": false,
     "input": [
      "%%sql sqlite:///shopping.db\n",
      "SELECT ht.id, offerdate, ht.offer, chain, market\n",
      "    , repeattrips, category, quantity, company, offervalue, brand \n",
      "FROM history ht\n",
      "JOIN offers ot\n",
      "ON ht.offer = ot.offer\n",
      "LIMIT 10"
     ],
     "language": "python",
     "metadata": {},
     "outputs": [
      {
       "output_type": "stream",
       "stream": "stdout",
       "text": [
        "Done.\n"
       ]
      },
      {
       "html": [
        "<table>\n",
        "    <tr>\n",
        "        <th>id</th>\n",
        "        <th>offerdate</th>\n",
        "        <th>offer</th>\n",
        "        <th>chain</th>\n",
        "        <th>market</th>\n",
        "        <th>repeattrips</th>\n",
        "        <th>category</th>\n",
        "        <th>quantity</th>\n",
        "        <th>company</th>\n",
        "        <th>offervalue</th>\n",
        "        <th>brand</th>\n",
        "    </tr>\n",
        "    <tr>\n",
        "        <td>id</td>\n",
        "        <td>offerdate</td>\n",
        "        <td>offer</td>\n",
        "        <td>chain</td>\n",
        "        <td>market</td>\n",
        "        <td>repeattrips</td>\n",
        "        <td>category</td>\n",
        "        <td>quantity</td>\n",
        "        <td>company</td>\n",
        "        <td>offervalue</td>\n",
        "        <td>brand</td>\n",
        "    </tr>\n",
        "    <tr>\n",
        "        <td>86246</td>\n",
        "        <td>2013-04-24</td>\n",
        "        <td>1208251</td>\n",
        "        <td>205</td>\n",
        "        <td>34</td>\n",
        "        <td>5</td>\n",
        "        <td>2202</td>\n",
        "        <td>1</td>\n",
        "        <td>104460040</td>\n",
        "        <td>2</td>\n",
        "        <td>3718</td>\n",
        "    </tr>\n",
        "    <tr>\n",
        "        <td>86252</td>\n",
        "        <td>2013-03-27</td>\n",
        "        <td>1197502</td>\n",
        "        <td>205</td>\n",
        "        <td>34</td>\n",
        "        <td>16</td>\n",
        "        <td>3203</td>\n",
        "        <td>1</td>\n",
        "        <td>106414464</td>\n",
        "        <td>0.75</td>\n",
        "        <td>13474</td>\n",
        "    </tr>\n",
        "    <tr>\n",
        "        <td>12682470</td>\n",
        "        <td>2013-03-28</td>\n",
        "        <td>1197502</td>\n",
        "        <td>18</td>\n",
        "        <td>11</td>\n",
        "        <td>0</td>\n",
        "        <td>3203</td>\n",
        "        <td>1</td>\n",
        "        <td>106414464</td>\n",
        "        <td>0.75</td>\n",
        "        <td>13474</td>\n",
        "    </tr>\n",
        "    <tr>\n",
        "        <td>12996040</td>\n",
        "        <td>2013-03-25</td>\n",
        "        <td>1197502</td>\n",
        "        <td>15</td>\n",
        "        <td>9</td>\n",
        "        <td>0</td>\n",
        "        <td>3203</td>\n",
        "        <td>1</td>\n",
        "        <td>106414464</td>\n",
        "        <td>0.75</td>\n",
        "        <td>13474</td>\n",
        "    </tr>\n",
        "    <tr>\n",
        "        <td>13089312</td>\n",
        "        <td>2013-04-01</td>\n",
        "        <td>1204821</td>\n",
        "        <td>15</td>\n",
        "        <td>9</td>\n",
        "        <td>0</td>\n",
        "        <td>5619</td>\n",
        "        <td>1</td>\n",
        "        <td>107717272</td>\n",
        "        <td>1.5</td>\n",
        "        <td>102504</td>\n",
        "    </tr>\n",
        "    <tr>\n",
        "        <td>13179265</td>\n",
        "        <td>2013-03-29</td>\n",
        "        <td>1197502</td>\n",
        "        <td>14</td>\n",
        "        <td>8</td>\n",
        "        <td>0</td>\n",
        "        <td>3203</td>\n",
        "        <td>1</td>\n",
        "        <td>106414464</td>\n",
        "        <td>0.75</td>\n",
        "        <td>13474</td>\n",
        "    </tr>\n",
        "    <tr>\n",
        "        <td>13251776</td>\n",
        "        <td>2013-03-30</td>\n",
        "        <td>1200581</td>\n",
        "        <td>15</td>\n",
        "        <td>9</td>\n",
        "        <td>0</td>\n",
        "        <td>1726</td>\n",
        "        <td>1</td>\n",
        "        <td>104460040</td>\n",
        "        <td>1.25</td>\n",
        "        <td>7668</td>\n",
        "    </tr>\n",
        "    <tr>\n",
        "        <td>13540129</td>\n",
        "        <td>2013-03-30</td>\n",
        "        <td>1200581</td>\n",
        "        <td>14</td>\n",
        "        <td>8</td>\n",
        "        <td>0</td>\n",
        "        <td>1726</td>\n",
        "        <td>1</td>\n",
        "        <td>104460040</td>\n",
        "        <td>1.25</td>\n",
        "        <td>7668</td>\n",
        "    </tr>\n",
        "    <tr>\n",
        "        <td>13807224</td>\n",
        "        <td>2013-04-05</td>\n",
        "        <td>1204576</td>\n",
        "        <td>4</td>\n",
        "        <td>1</td>\n",
        "        <td>0</td>\n",
        "        <td>5616</td>\n",
        "        <td>1</td>\n",
        "        <td>104610040</td>\n",
        "        <td>1</td>\n",
        "        <td>15889</td>\n",
        "    </tr>\n",
        "</table>"
       ],
       "metadata": {},
       "output_type": "pyout",
       "prompt_number": 8,
       "text": [
        "[(u'id', u'offerdate', u'offer', u'chain', u'market', u'repeattrips', u'category', u'quantity', u'company', u'offervalue', u'brand'),\n",
        " (86246, u'2013-04-24', 1208251, 205, 34, 5, 2202, 1, 104460040, 2, 3718),\n",
        " (86252, u'2013-03-27', 1197502, 205, 34, 16, 3203, 1, 106414464, 0.75, 13474),\n",
        " (12682470, u'2013-03-28', 1197502, 18, 11, 0, 3203, 1, 106414464, 0.75, 13474),\n",
        " (12996040, u'2013-03-25', 1197502, 15, 9, 0, 3203, 1, 106414464, 0.75, 13474),\n",
        " (13089312, u'2013-04-01', 1204821, 15, 9, 0, 5619, 1, 107717272, 1.5, 102504),\n",
        " (13179265, u'2013-03-29', 1197502, 14, 8, 0, 3203, 1, 106414464, 0.75, 13474),\n",
        " (13251776, u'2013-03-30', 1200581, 15, 9, 0, 1726, 1, 104460040, 1.25, 7668),\n",
        " (13540129, u'2013-03-30', 1200581, 14, 8, 0, 1726, 1, 104460040, 1.25, 7668),\n",
        " (13807224, u'2013-04-05', 1204576, 4, 1, 0, 5616, 1, 104610040, 1, 15889)]"
       ]
      }
     ],
     "prompt_number": 8
    },
    {
     "cell_type": "code",
     "collapsed": false,
     "input": [
      "%%sql sqlite:///shopping.db\n",
      "CREATE TABLE history_offers AS\n",
      "SELECT ht.id, offerdate, ht.offer, chain, market\n",
      "    , repeattrips, category, quantity, company, offervalue, brand \n",
      "FROM history ht\n",
      "JOIN offers ot\n",
      "ON ht.offer = ot.offer"
     ],
     "language": "python",
     "metadata": {},
     "outputs": [
      {
       "output_type": "stream",
       "stream": "stdout",
       "text": [
        "Done.\n"
       ]
      },
      {
       "metadata": {},
       "output_type": "pyout",
       "prompt_number": 9,
       "text": [
        "[]"
       ]
      }
     ],
     "prompt_number": 9
    },
    {
     "cell_type": "code",
     "collapsed": false,
     "input": [
      "%%sql sqlite:///shopping.db\n",
      "SELECT * FROM history_offers LIMIT 10"
     ],
     "language": "python",
     "metadata": {},
     "outputs": [
      {
       "output_type": "stream",
       "stream": "stdout",
       "text": [
        "Done.\n"
       ]
      },
      {
       "html": [
        "<table>\n",
        "    <tr>\n",
        "        <th>id</th>\n",
        "        <th>offerdate</th>\n",
        "        <th>offer</th>\n",
        "        <th>chain</th>\n",
        "        <th>market</th>\n",
        "        <th>repeattrips</th>\n",
        "        <th>category</th>\n",
        "        <th>quantity</th>\n",
        "        <th>company</th>\n",
        "        <th>offervalue</th>\n",
        "        <th>brand</th>\n",
        "    </tr>\n",
        "    <tr>\n",
        "        <td>id</td>\n",
        "        <td>offerdate</td>\n",
        "        <td>offer</td>\n",
        "        <td>chain</td>\n",
        "        <td>market</td>\n",
        "        <td>repeattrips</td>\n",
        "        <td>category</td>\n",
        "        <td>quantity</td>\n",
        "        <td>company</td>\n",
        "        <td>offervalue</td>\n",
        "        <td>brand</td>\n",
        "    </tr>\n",
        "    <tr>\n",
        "        <td>86246</td>\n",
        "        <td>2013-04-24</td>\n",
        "        <td>1208251</td>\n",
        "        <td>205</td>\n",
        "        <td>34</td>\n",
        "        <td>5</td>\n",
        "        <td>2202</td>\n",
        "        <td>1</td>\n",
        "        <td>104460040</td>\n",
        "        <td>2</td>\n",
        "        <td>3718</td>\n",
        "    </tr>\n",
        "    <tr>\n",
        "        <td>86252</td>\n",
        "        <td>2013-03-27</td>\n",
        "        <td>1197502</td>\n",
        "        <td>205</td>\n",
        "        <td>34</td>\n",
        "        <td>16</td>\n",
        "        <td>3203</td>\n",
        "        <td>1</td>\n",
        "        <td>106414464</td>\n",
        "        <td>0.75</td>\n",
        "        <td>13474</td>\n",
        "    </tr>\n",
        "    <tr>\n",
        "        <td>12682470</td>\n",
        "        <td>2013-03-28</td>\n",
        "        <td>1197502</td>\n",
        "        <td>18</td>\n",
        "        <td>11</td>\n",
        "        <td>0</td>\n",
        "        <td>3203</td>\n",
        "        <td>1</td>\n",
        "        <td>106414464</td>\n",
        "        <td>0.75</td>\n",
        "        <td>13474</td>\n",
        "    </tr>\n",
        "    <tr>\n",
        "        <td>12996040</td>\n",
        "        <td>2013-03-25</td>\n",
        "        <td>1197502</td>\n",
        "        <td>15</td>\n",
        "        <td>9</td>\n",
        "        <td>0</td>\n",
        "        <td>3203</td>\n",
        "        <td>1</td>\n",
        "        <td>106414464</td>\n",
        "        <td>0.75</td>\n",
        "        <td>13474</td>\n",
        "    </tr>\n",
        "    <tr>\n",
        "        <td>13089312</td>\n",
        "        <td>2013-04-01</td>\n",
        "        <td>1204821</td>\n",
        "        <td>15</td>\n",
        "        <td>9</td>\n",
        "        <td>0</td>\n",
        "        <td>5619</td>\n",
        "        <td>1</td>\n",
        "        <td>107717272</td>\n",
        "        <td>1.5</td>\n",
        "        <td>102504</td>\n",
        "    </tr>\n",
        "    <tr>\n",
        "        <td>13179265</td>\n",
        "        <td>2013-03-29</td>\n",
        "        <td>1197502</td>\n",
        "        <td>14</td>\n",
        "        <td>8</td>\n",
        "        <td>0</td>\n",
        "        <td>3203</td>\n",
        "        <td>1</td>\n",
        "        <td>106414464</td>\n",
        "        <td>0.75</td>\n",
        "        <td>13474</td>\n",
        "    </tr>\n",
        "    <tr>\n",
        "        <td>13251776</td>\n",
        "        <td>2013-03-30</td>\n",
        "        <td>1200581</td>\n",
        "        <td>15</td>\n",
        "        <td>9</td>\n",
        "        <td>0</td>\n",
        "        <td>1726</td>\n",
        "        <td>1</td>\n",
        "        <td>104460040</td>\n",
        "        <td>1.25</td>\n",
        "        <td>7668</td>\n",
        "    </tr>\n",
        "    <tr>\n",
        "        <td>13540129</td>\n",
        "        <td>2013-03-30</td>\n",
        "        <td>1200581</td>\n",
        "        <td>14</td>\n",
        "        <td>8</td>\n",
        "        <td>0</td>\n",
        "        <td>1726</td>\n",
        "        <td>1</td>\n",
        "        <td>104460040</td>\n",
        "        <td>1.25</td>\n",
        "        <td>7668</td>\n",
        "    </tr>\n",
        "    <tr>\n",
        "        <td>13807224</td>\n",
        "        <td>2013-04-05</td>\n",
        "        <td>1204576</td>\n",
        "        <td>4</td>\n",
        "        <td>1</td>\n",
        "        <td>0</td>\n",
        "        <td>5616</td>\n",
        "        <td>1</td>\n",
        "        <td>104610040</td>\n",
        "        <td>1</td>\n",
        "        <td>15889</td>\n",
        "    </tr>\n",
        "</table>"
       ],
       "metadata": {},
       "output_type": "pyout",
       "prompt_number": 7,
       "text": [
        "[(u'id', u'offerdate', u'offer', u'chain', u'market', u'repeattrips', u'category', u'quantity', u'company', u'offervalue', u'brand'),\n",
        " (86246, u'2013-04-24', 1208251, 205, 34, 5, 2202, 1, 104460040, 2, 3718),\n",
        " (86252, u'2013-03-27', 1197502, 205, 34, 16, 3203, 1, 106414464, 0.75, 13474),\n",
        " (12682470, u'2013-03-28', 1197502, 18, 11, 0, 3203, 1, 106414464, 0.75, 13474),\n",
        " (12996040, u'2013-03-25', 1197502, 15, 9, 0, 3203, 1, 106414464, 0.75, 13474),\n",
        " (13089312, u'2013-04-01', 1204821, 15, 9, 0, 5619, 1, 107717272, 1.5, 102504),\n",
        " (13179265, u'2013-03-29', 1197502, 14, 8, 0, 3203, 1, 106414464, 0.75, 13474),\n",
        " (13251776, u'2013-03-30', 1200581, 15, 9, 0, 1726, 1, 104460040, 1.25, 7668),\n",
        " (13540129, u'2013-03-30', 1200581, 14, 8, 0, 1726, 1, 104460040, 1.25, 7668),\n",
        " (13807224, u'2013-04-05', 1204576, 4, 1, 0, 5616, 1, 104610040, 1, 15889)]"
       ]
      }
     ],
     "prompt_number": 7
    },
    {
     "cell_type": "markdown",
     "metadata": {},
     "source": [
      "#### PROBLEM:  Creating an index of shopper ids is failing to complete.  Taking more than 2 hours and returning an error.  Will continue to debug this but in the meantime will take subsample of transactions table to build first iteration of model."
     ]
    },
    {
     "cell_type": "code",
     "collapsed": false,
     "input": [
      "# THIS TAKES FOREVER AND THROWS AN ERROR\n",
      "# %%sql sqlite:///shopping.db\n",
      "# CREATE INDEX id_idx\n",
      "# ON transactions (id)\n",
      "\n",
      "CREATE TABLE t1(a, b);\n",
      "CREATE UNIQUE INDEX t1b ON t1(b);\n",
      "\n",
      "SELECT * FROM transactions\n",
      "ORDER BY RANDOM() LIMIT 10000"
     ],
     "language": "python",
     "metadata": {},
     "outputs": []
    },
    {
     "cell_type": "code",
     "collapsed": false,
     "input": [
      "# %%sql sqlite:///shopping.db\n",
      "# CREATE VIEW trans_small\n",
      "# AS\n",
      "# SELECT *\n",
      "# FROM transactions\n",
      "# LIMIT 100"
     ],
     "language": "python",
     "metadata": {},
     "outputs": [
      {
       "ename": "SyntaxError",
       "evalue": "invalid syntax (<ipython-input-131-c331a25f0efd>, line 2)",
       "output_type": "pyerr",
       "traceback": [
        "\u001b[0;36m  File \u001b[0;32m\"<ipython-input-131-c331a25f0efd>\"\u001b[0;36m, line \u001b[0;32m2\u001b[0m\n\u001b[0;31m    %%sql sqlite:///shopping.db\u001b[0m\n\u001b[0m    ^\u001b[0m\n\u001b[0;31mSyntaxError\u001b[0m\u001b[0;31m:\u001b[0m invalid syntax\n"
       ]
      }
     ],
     "prompt_number": 131
    },
    {
     "cell_type": "code",
     "collapsed": false,
     "input": [
      "%%sql sqlite:///shopping.db\n",
      "CREATE TABLE trans_temp1 AS\n",
      "SELECT * FROM transactions LIMIT 10000000"
     ],
     "language": "python",
     "metadata": {},
     "outputs": [
      {
       "output_type": "stream",
       "stream": "stdout",
       "text": [
        "Done.\n"
       ]
      },
      {
       "metadata": {},
       "output_type": "pyout",
       "prompt_number": 22,
       "text": [
        "[]"
       ]
      }
     ],
     "prompt_number": 22
    },
    {
     "cell_type": "code",
     "collapsed": false,
     "input": [
      "%%bash\n",
      "sqlite3 shopping.db .tables"
     ],
     "language": "python",
     "metadata": {},
     "outputs": [
      {
       "output_type": "stream",
       "stream": "stdout",
       "text": [
        "history         history_offers  offers          trans_temp1     transactions  \n"
       ]
      }
     ],
     "prompt_number": 23
    },
    {
     "cell_type": "code",
     "collapsed": false,
     "input": [
      "%%sql sqlite:///shopping.db\n",
      "DROP TABLE offers"
     ],
     "language": "python",
     "metadata": {},
     "outputs": [
      {
       "output_type": "stream",
       "stream": "stdout",
       "text": [
        "(OperationalError) database is locked u'DROP TABLE offers' ()\n"
       ]
      }
     ],
     "prompt_number": 79
    },
    {
     "cell_type": "code",
     "collapsed": false,
     "input": [
      "%%sql sqlite:///shopping.db\n",
      "SELECT * FROM trans_temp1 LIMIT 5"
     ],
     "language": "python",
     "metadata": {},
     "outputs": [
      {
       "output_type": "stream",
       "stream": "stdout",
       "text": [
        "Done.\n"
       ]
      },
      {
       "html": [
        "<table>\n",
        "    <tr>\n",
        "        <th>id</th>\n",
        "        <th>chain</th>\n",
        "        <th>dept</th>\n",
        "        <th>category</th>\n",
        "        <th>company</th>\n",
        "        <th>brand</th>\n",
        "        <th>date</th>\n",
        "        <th>productsize</th>\n",
        "        <th>productmeasure</th>\n",
        "        <th>purchasequantity</th>\n",
        "        <th>purchaseamount</th>\n",
        "    </tr>\n",
        "    <tr>\n",
        "        <td>id</td>\n",
        "        <td>chain</td>\n",
        "        <td>dept</td>\n",
        "        <td>category</td>\n",
        "        <td>company</td>\n",
        "        <td>brand</td>\n",
        "        <td>date</td>\n",
        "        <td>productsize</td>\n",
        "        <td>productmeasure</td>\n",
        "        <td>purchasequantity</td>\n",
        "        <td>purchaseamount</td>\n",
        "    </tr>\n",
        "    <tr>\n",
        "        <td>86246</td>\n",
        "        <td>205</td>\n",
        "        <td>7</td>\n",
        "        <td>707</td>\n",
        "        <td>1078778070</td>\n",
        "        <td>12564</td>\n",
        "        <td>2012-03-02</td>\n",
        "        <td>12</td>\n",
        "        <td>OZ</td>\n",
        "        <td>1</td>\n",
        "        <td>7.59</td>\n",
        "    </tr>\n",
        "    <tr>\n",
        "        <td>86246</td>\n",
        "        <td>205</td>\n",
        "        <td>63</td>\n",
        "        <td>6319</td>\n",
        "        <td>107654575</td>\n",
        "        <td>17876</td>\n",
        "        <td>2012-03-02</td>\n",
        "        <td>64</td>\n",
        "        <td>OZ</td>\n",
        "        <td>1</td>\n",
        "        <td>1.59</td>\n",
        "    </tr>\n",
        "    <tr>\n",
        "        <td>86246</td>\n",
        "        <td>205</td>\n",
        "        <td>97</td>\n",
        "        <td>9753</td>\n",
        "        <td>1022027929</td>\n",
        "        <td>0</td>\n",
        "        <td>2012-03-02</td>\n",
        "        <td>1</td>\n",
        "        <td>CT</td>\n",
        "        <td>1</td>\n",
        "        <td>5.99</td>\n",
        "    </tr>\n",
        "    <tr>\n",
        "        <td>86246</td>\n",
        "        <td>205</td>\n",
        "        <td>25</td>\n",
        "        <td>2509</td>\n",
        "        <td>107996777</td>\n",
        "        <td>31373</td>\n",
        "        <td>2012-03-02</td>\n",
        "        <td>16</td>\n",
        "        <td>OZ</td>\n",
        "        <td>1</td>\n",
        "        <td>1.99</td>\n",
        "    </tr>\n",
        "</table>"
       ],
       "metadata": {},
       "output_type": "pyout",
       "prompt_number": 24,
       "text": [
        "[(u'id', u'chain', u'dept', u'category', u'company', u'brand', u'date', u'productsize', u'productmeasure', u'purchasequantity', u'purchaseamount'),\n",
        " (86246, 205, 7, 707, 1078778070, 12564, u'2012-03-02', 12, u'OZ', 1, 7.59),\n",
        " (86246, 205, 63, 6319, 107654575, 17876, u'2012-03-02', 64, u'OZ', 1, 1.59),\n",
        " (86246, 205, 97, 9753, 1022027929, 0, u'2012-03-02', 1, u'CT', 1, 5.99),\n",
        " (86246, 205, 25, 2509, 107996777, 31373, u'2012-03-02', 16, u'OZ', 1, 1.99)]"
       ]
      }
     ],
     "prompt_number": 24
    },
    {
     "cell_type": "markdown",
     "metadata": {},
     "source": [
      "### Extracting variables to use in model"
     ]
    },
    {
     "cell_type": "code",
     "collapsed": false,
     "input": [],
     "language": "python",
     "metadata": {},
     "outputs": []
    },
    {
     "cell_type": "code",
     "collapsed": false,
     "input": [],
     "language": "python",
     "metadata": {},
     "outputs": []
    },
    {
     "cell_type": "code",
     "collapsed": false,
     "input": [],
     "language": "python",
     "metadata": {},
     "outputs": []
    },
    {
     "cell_type": "code",
     "collapsed": false,
     "input": [
      "%%sql sqlite:///shopping.db\n",
      "SELECT COUNT(DISTINCT id) AS num_shoppers\n",
      "FROM trans_temp1\n",
      "LIMIT 5"
     ],
     "language": "python",
     "metadata": {},
     "outputs": [
      {
       "output_type": "stream",
       "stream": "stdout",
       "text": [
        "Done.\n"
       ]
      },
      {
       "html": [
        "<table>\n",
        "    <tr>\n",
        "        <th>num_shoppers</th>\n",
        "    </tr>\n",
        "    <tr>\n",
        "        <td>9607</td>\n",
        "    </tr>\n",
        "</table>"
       ],
       "metadata": {},
       "output_type": "pyout",
       "prompt_number": 25,
       "text": [
        "[(9607,)]"
       ]
      }
     ],
     "prompt_number": 25
    },
    {
     "cell_type": "code",
     "collapsed": false,
     "input": [
      "%%sql sqlite:///shopping.db\n",
      "SELECT\n",
      "    (CASE WHEN prev_chain IS NOT NULL THEN 1 ELSE 0 END) AS chain_match\n",
      "    , COUNT(DISTINCT id) AS num_shoppers\n",
      "FROM\n",
      "    (\n",
      "    SELECT tab_ho.id, tab_ho.chain AS offer_chain, tab_tt.chain AS prev_chain\n",
      "    FROM history_offers tab_ho\n",
      "    LEFT JOIN trans_temp1 tab_tt\n",
      "    ON tab_ho.id = tab_tt.id\n",
      "    AND tab_ho.chain = tab_tt.chain\n",
      "    GROUP BY 1, 2, 3\n",
      "    ) m\n",
      "GROUP BY 1"
     ],
     "language": "python",
     "metadata": {},
     "outputs": [
      {
       "output_type": "stream",
       "stream": "stdout",
       "text": [
        "Done.\n"
       ]
      },
      {
       "html": [
        "<table>\n",
        "    <tr>\n",
        "        <th>chain_match</th>\n",
        "        <th>num_shoppers</th>\n",
        "    </tr>\n",
        "    <tr>\n",
        "        <td>0</td>\n",
        "        <td>156591</td>\n",
        "    </tr>\n",
        "    <tr>\n",
        "        <td>1</td>\n",
        "        <td>3467</td>\n",
        "    </tr>\n",
        "</table>"
       ],
       "metadata": {},
       "output_type": "pyout",
       "prompt_number": 28,
       "text": [
        "[(0, 156591), (1, 3467)]"
       ]
      }
     ],
     "prompt_number": 28
    },
    {
     "cell_type": "code",
     "collapsed": false,
     "input": [
      "%%sql sqlite:///shopping.db\n",
      "SELECT (CASE WHEN trans_id IS NOT NULL THEN 1 ELSE 0 END) AS trans_id\n",
      "    , (CASE WHEN chain IS NOT NULL THEN 1 ELSE 0 END) AS chain\n",
      "    , COUNT(offer_id) AS num_ids\n",
      "FROM\n",
      "    (\n",
      "    SELECT ho.id AS offer_id, trans.id AS trans_id, trans.chain\n",
      "    FROM\n",
      "        (\n",
      "        SELECT DISTINCT id, chain\n",
      "        FROM history_offers\n",
      "        ) ho\n",
      "    LEFT JOIN\n",
      "        (\n",
      "        SELECT DISTINCT id, chain\n",
      "        FROM trans_temp1\n",
      "        ) trans\n",
      "    ON ho.id = trans.id\n",
      "    AND ho.chain = trans.chain\n",
      "    ) m\n",
      "GROUP BY 1, 2\n",
      "ORDER BY 1 DESC, 2 DESC\n",
      "\n",
      "LIMIT 10"
     ],
     "language": "python",
     "metadata": {},
     "outputs": [
      {
       "output_type": "stream",
       "stream": "stdout",
       "text": [
        "Done.\n"
       ]
      },
      {
       "html": [
        "<table>\n",
        "    <tr>\n",
        "        <th>trans_id</th>\n",
        "        <th>chain</th>\n",
        "        <th>num_ids</th>\n",
        "    </tr>\n",
        "    <tr>\n",
        "        <td>1</td>\n",
        "        <td>1</td>\n",
        "        <td>3467</td>\n",
        "    </tr>\n",
        "    <tr>\n",
        "        <td>0</td>\n",
        "        <td>0</td>\n",
        "        <td>156591</td>\n",
        "    </tr>\n",
        "</table>"
       ],
       "metadata": {},
       "output_type": "pyout",
       "prompt_number": 34,
       "text": [
        "[(1, 1, 3467), (0, 0, 156591)]"
       ]
      }
     ],
     "prompt_number": 34
    },
    {
     "cell_type": "markdown",
     "metadata": {},
     "source": [
      "### All shoppers in this subsample of transactions purchased something from the same chain as the offer they received."
     ]
    },
    {
     "cell_type": "code",
     "collapsed": false,
     "input": [
      "%%sql sqlite:///shopping.db\n",
      "SELECT offer_id, num_purchases\n",
      "FROM\n",
      "    (\n",
      "    SELECT ho.id AS offer_id, trans.id AS trans_id\n",
      "        , trans.chain AS chain, trans.num_purchases\n",
      "    FROM\n",
      "        (\n",
      "        SELECT DISTINCT id, chain\n",
      "        FROM history_offers\n",
      "        ) ho\n",
      "    LEFT JOIN\n",
      "        (\n",
      "        SELECT id, chain, COUNT(category) AS num_purchases\n",
      "        FROM trans_temp1\n",
      "        GROUP BY 1, 2\n",
      "        ) trans\n",
      "    ON ho.id = trans.id\n",
      "    AND ho.chain = trans.chain\n",
      "    ) m\n",
      "WHERE trans_id IS NOT NULL\n",
      "AND chain IS NOT NULL\n",
      "LIMIT 10"
     ],
     "language": "python",
     "metadata": {},
     "outputs": [
      {
       "output_type": "stream",
       "stream": "stdout",
       "text": [
        "Done.\n"
       ]
      },
      {
       "html": [
        "<table>\n",
        "    <tr>\n",
        "        <th>offer_id</th>\n",
        "        <th>num_purchases</th>\n",
        "    </tr>\n",
        "    <tr>\n",
        "        <td>id</td>\n",
        "        <td>1</td>\n",
        "    </tr>\n",
        "    <tr>\n",
        "        <td>86246</td>\n",
        "        <td>12609</td>\n",
        "    </tr>\n",
        "    <tr>\n",
        "        <td>86252</td>\n",
        "        <td>12087</td>\n",
        "    </tr>\n",
        "    <tr>\n",
        "        <td>12682470</td>\n",
        "        <td>806</td>\n",
        "    </tr>\n",
        "    <tr>\n",
        "        <td>12996040</td>\n",
        "        <td>326</td>\n",
        "    </tr>\n",
        "    <tr>\n",
        "        <td>13089312</td>\n",
        "        <td>1218</td>\n",
        "    </tr>\n",
        "    <tr>\n",
        "        <td>13179265</td>\n",
        "        <td>903</td>\n",
        "    </tr>\n",
        "    <tr>\n",
        "        <td>13251776</td>\n",
        "        <td>2391</td>\n",
        "    </tr>\n",
        "    <tr>\n",
        "        <td>13540129</td>\n",
        "        <td>1139</td>\n",
        "    </tr>\n",
        "    <tr>\n",
        "        <td>13807224</td>\n",
        "        <td>1304</td>\n",
        "    </tr>\n",
        "</table>"
       ],
       "metadata": {},
       "output_type": "pyout",
       "prompt_number": 37,
       "text": [
        "[(u'id', 1),\n",
        " (86246, 12609),\n",
        " (86252, 12087),\n",
        " (12682470, 806),\n",
        " (12996040, 326),\n",
        " (13089312, 1218),\n",
        " (13179265, 903),\n",
        " (13251776, 2391),\n",
        " (13540129, 1139),\n",
        " (13807224, 1304)]"
       ]
      }
     ],
     "prompt_number": 37
    },
    {
     "cell_type": "code",
     "collapsed": false,
     "input": [
      "%%sql sqlite:///shopping.db\n",
      "SELECT offer_id, num_purchases\n",
      "FROM\n",
      "    (\n",
      "    SELECT ho.id AS offer_id, trans.id AS trans_id\n",
      "        , trans.category AS category, trans.num_purchases\n",
      "    FROM\n",
      "        (\n",
      "        SELECT DISTINCT id, category\n",
      "        FROM history_offers\n",
      "        ) ho\n",
      "    LEFT JOIN\n",
      "        (\n",
      "        SELECT id, category, COUNT(*) AS num_purchases\n",
      "        FROM trans_temp1\n",
      "        GROUP BY 1, 2\n",
      "        ) trans\n",
      "    ON ho.id = trans.id\n",
      "    AND ho.category = trans.category\n",
      "    ) m\n",
      "WHERE trans_id IS NOT NULL\n",
      "AND category IS NOT NULL\n",
      "LIMIT 10"
     ],
     "language": "python",
     "metadata": {},
     "outputs": [
      {
       "output_type": "stream",
       "stream": "stdout",
       "text": [
        "Done.\n"
       ]
      },
      {
       "html": [
        "<table>\n",
        "    <tr>\n",
        "        <th>offer_id</th>\n",
        "        <th>num_purchases</th>\n",
        "    </tr>\n",
        "    <tr>\n",
        "        <td>id</td>\n",
        "        <td>1</td>\n",
        "    </tr>\n",
        "    <tr>\n",
        "        <td>86252</td>\n",
        "        <td>6</td>\n",
        "    </tr>\n",
        "    <tr>\n",
        "        <td>12682470</td>\n",
        "        <td>1</td>\n",
        "    </tr>\n",
        "    <tr>\n",
        "        <td>13251776</td>\n",
        "        <td>10</td>\n",
        "    </tr>\n",
        "    <tr>\n",
        "        <td>13540129</td>\n",
        "        <td>3</td>\n",
        "    </tr>\n",
        "    <tr>\n",
        "        <td>13807224</td>\n",
        "        <td>16</td>\n",
        "    </tr>\n",
        "    <tr>\n",
        "        <td>14088807</td>\n",
        "        <td>5</td>\n",
        "    </tr>\n",
        "    <tr>\n",
        "        <td>16203579</td>\n",
        "        <td>1</td>\n",
        "    </tr>\n",
        "    <tr>\n",
        "        <td>16238376</td>\n",
        "        <td>5</td>\n",
        "    </tr>\n",
        "    <tr>\n",
        "        <td>16691816</td>\n",
        "        <td>6</td>\n",
        "    </tr>\n",
        "</table>"
       ],
       "metadata": {},
       "output_type": "pyout",
       "prompt_number": 38,
       "text": [
        "[(u'id', 1),\n",
        " (86252, 6),\n",
        " (12682470, 1),\n",
        " (13251776, 10),\n",
        " (13540129, 3),\n",
        " (13807224, 16),\n",
        " (14088807, 5),\n",
        " (16203579, 1),\n",
        " (16238376, 5),\n",
        " (16691816, 6)]"
       ]
      }
     ],
     "prompt_number": 38
    },
    {
     "cell_type": "code",
     "collapsed": false,
     "input": [
      "%%sql sqlite:///shopping.db\n",
      "SELECT id, COUNT(*) AS num_purchases\n",
      "FROM trans_temp1\n",
      "GROUP BY 1\n",
      "LIMIT 10"
     ],
     "language": "python",
     "metadata": {},
     "outputs": [
      {
       "output_type": "stream",
       "stream": "stdout",
       "text": [
        "Done.\n"
       ]
      },
      {
       "html": [
        "<table>\n",
        "    <tr>\n",
        "        <th>id</th>\n",
        "        <th>num_purchases</th>\n",
        "    </tr>\n",
        "    <tr>\n",
        "        <td>86246</td>\n",
        "        <td>12609</td>\n",
        "    </tr>\n",
        "    <tr>\n",
        "        <td>86252</td>\n",
        "        <td>12087</td>\n",
        "    </tr>\n",
        "    <tr>\n",
        "        <td>12262064</td>\n",
        "        <td>1101</td>\n",
        "    </tr>\n",
        "    <tr>\n",
        "        <td>12277270</td>\n",
        "        <td>1361</td>\n",
        "    </tr>\n",
        "    <tr>\n",
        "        <td>12332190</td>\n",
        "        <td>684</td>\n",
        "    </tr>\n",
        "    <tr>\n",
        "        <td>12524696</td>\n",
        "        <td>985</td>\n",
        "    </tr>\n",
        "    <tr>\n",
        "        <td>12682470</td>\n",
        "        <td>806</td>\n",
        "    </tr>\n",
        "    <tr>\n",
        "        <td>12996040</td>\n",
        "        <td>326</td>\n",
        "    </tr>\n",
        "    <tr>\n",
        "        <td>13074629</td>\n",
        "        <td>1374</td>\n",
        "    </tr>\n",
        "    <tr>\n",
        "        <td>13089312</td>\n",
        "        <td>1218</td>\n",
        "    </tr>\n",
        "</table>"
       ],
       "metadata": {},
       "output_type": "pyout",
       "prompt_number": 39,
       "text": [
        "[(86246, 12609),\n",
        " (86252, 12087),\n",
        " (12262064, 1101),\n",
        " (12277270, 1361),\n",
        " (12332190, 684),\n",
        " (12524696, 985),\n",
        " (12682470, 806),\n",
        " (12996040, 326),\n",
        " (13074629, 1374),\n",
        " (13089312, 1218)]"
       ]
      }
     ],
     "prompt_number": 39
    },
    {
     "cell_type": "code",
     "collapsed": false,
     "input": [
      "%%sql sqlite:///shopping.db\n",
      "SELECT id, COUNT(DISTINCT date) AS num_trips\n",
      "FROM trans_temp1\n",
      "GROUP BY 1\n",
      "LIMIT 10"
     ],
     "language": "python",
     "metadata": {},
     "outputs": [
      {
       "output_type": "stream",
       "stream": "stdout",
       "text": [
        "Done.\n"
       ]
      },
      {
       "html": [
        "<table>\n",
        "    <tr>\n",
        "        <th>id</th>\n",
        "        <th>num_trips</th>\n",
        "    </tr>\n",
        "    <tr>\n",
        "        <td>86246</td>\n",
        "        <td>381</td>\n",
        "    </tr>\n",
        "    <tr>\n",
        "        <td>86252</td>\n",
        "        <td>368</td>\n",
        "    </tr>\n",
        "    <tr>\n",
        "        <td>12262064</td>\n",
        "        <td>237</td>\n",
        "    </tr>\n",
        "    <tr>\n",
        "        <td>12277270</td>\n",
        "        <td>184</td>\n",
        "    </tr>\n",
        "    <tr>\n",
        "        <td>12332190</td>\n",
        "        <td>113</td>\n",
        "    </tr>\n",
        "    <tr>\n",
        "        <td>12524696</td>\n",
        "        <td>161</td>\n",
        "    </tr>\n",
        "    <tr>\n",
        "        <td>12682470</td>\n",
        "        <td>141</td>\n",
        "    </tr>\n",
        "    <tr>\n",
        "        <td>12996040</td>\n",
        "        <td>39</td>\n",
        "    </tr>\n",
        "    <tr>\n",
        "        <td>13074629</td>\n",
        "        <td>147</td>\n",
        "    </tr>\n",
        "    <tr>\n",
        "        <td>13089312</td>\n",
        "        <td>132</td>\n",
        "    </tr>\n",
        "</table>"
       ],
       "metadata": {},
       "output_type": "pyout",
       "prompt_number": 40,
       "text": [
        "[(86246, 381),\n",
        " (86252, 368),\n",
        " (12262064, 237),\n",
        " (12277270, 184),\n",
        " (12332190, 113),\n",
        " (12524696, 161),\n",
        " (12682470, 141),\n",
        " (12996040, 39),\n",
        " (13074629, 147),\n",
        " (13089312, 132)]"
       ]
      }
     ],
     "prompt_number": 40
    },
    {
     "cell_type": "code",
     "collapsed": false,
     "input": [
      "from pandas.io import sql\n",
      "conn = sqlite3.connect('shopping.db')"
     ],
     "language": "python",
     "metadata": {},
     "outputs": [],
     "prompt_number": 72
    },
    {
     "cell_type": "code",
     "collapsed": false,
     "input": [
      "sql.frame_query(\"\"\"SELECT id, category, date \n",
      "                FROM trans_temp1 LIMIT 5\"\"\", conn, \"id\")"
     ],
     "language": "python",
     "metadata": {},
     "outputs": [
      {
       "html": [
        "<div style=\"max-height:1000px;max-width:1500px;overflow:auto;\">\n",
        "<table border=\"1\" class=\"dataframe\">\n",
        "  <thead>\n",
        "    <tr style=\"text-align: right;\">\n",
        "      <th></th>\n",
        "      <th>category</th>\n",
        "      <th>date</th>\n",
        "    </tr>\n",
        "    <tr>\n",
        "      <th>id</th>\n",
        "      <th></th>\n",
        "      <th></th>\n",
        "    </tr>\n",
        "  </thead>\n",
        "  <tbody>\n",
        "    <tr>\n",
        "      <th>id</th>\n",
        "      <td> category</td>\n",
        "      <td>       date</td>\n",
        "    </tr>\n",
        "    <tr>\n",
        "      <th>86246</th>\n",
        "      <td>      707</td>\n",
        "      <td> 2012-03-02</td>\n",
        "    </tr>\n",
        "    <tr>\n",
        "      <th>86246</th>\n",
        "      <td>     6319</td>\n",
        "      <td> 2012-03-02</td>\n",
        "    </tr>\n",
        "    <tr>\n",
        "      <th>86246</th>\n",
        "      <td>     9753</td>\n",
        "      <td> 2012-03-02</td>\n",
        "    </tr>\n",
        "    <tr>\n",
        "      <th>86246</th>\n",
        "      <td>     2509</td>\n",
        "      <td> 2012-03-02</td>\n",
        "    </tr>\n",
        "  </tbody>\n",
        "</table>\n",
        "<p>5 rows \u00d7 2 columns</p>\n",
        "</div>"
       ],
       "metadata": {},
       "output_type": "pyout",
       "prompt_number": 76,
       "text": [
        "       category        date\n",
        "id                         \n",
        "id     category        date\n",
        "86246       707  2012-03-02\n",
        "86246      6319  2012-03-02\n",
        "86246      9753  2012-03-02\n",
        "86246      2509  2012-03-02\n",
        "\n",
        "[5 rows x 2 columns]"
       ]
      }
     ],
     "prompt_number": 76
    },
    {
     "cell_type": "code",
     "collapsed": false,
     "input": [
      "%%sql sqlite:///shopping.db\n",
      "SELECT id, (strftime('%s',ho_date) - strftime('%s',trans_date))/(3600*24) AS delay_days\n",
      "FROM\n",
      "    (\n",
      "    SELECT trans.id, MAX(trans.date) AS trans_date, MAX(ho.date) AS ho_date\n",
      "    FROM\n",
      "        (\n",
      "        SELECT DISTINCT id, date\n",
      "        FROM trans_temp1\n",
      "        ) trans\n",
      "    INNER JOIN\n",
      "        (\n",
      "        SELECT DISTINCT id, offerdate AS date\n",
      "        FROM history_offers\n",
      "        ) ho\n",
      "    ON trans.id = ho.id\n",
      "    AND trans.date <= ho.date\n",
      "    GROUP BY 1\n",
      "    ) m\n",
      "LIMIT 10"
     ],
     "language": "python",
     "metadata": {},
     "outputs": [
      {
       "output_type": "stream",
       "stream": "stdout",
       "text": [
        "Done.\n"
       ]
      },
      {
       "html": [
        "<table>\n",
        "    <tr>\n",
        "        <th>id</th>\n",
        "        <th>delay</th>\n",
        "    </tr>\n",
        "    <tr>\n",
        "        <td>86246</td>\n",
        "        <td>1</td>\n",
        "    </tr>\n",
        "    <tr>\n",
        "        <td>86252</td>\n",
        "        <td>1</td>\n",
        "    </tr>\n",
        "    <tr>\n",
        "        <td>12682470</td>\n",
        "        <td>7</td>\n",
        "    </tr>\n",
        "    <tr>\n",
        "        <td>12996040</td>\n",
        "        <td>5</td>\n",
        "    </tr>\n",
        "    <tr>\n",
        "        <td>13089312</td>\n",
        "        <td>1</td>\n",
        "    </tr>\n",
        "    <tr>\n",
        "        <td>13179265</td>\n",
        "        <td>5</td>\n",
        "    </tr>\n",
        "    <tr>\n",
        "        <td>13251776</td>\n",
        "        <td>6</td>\n",
        "    </tr>\n",
        "    <tr>\n",
        "        <td>13540129</td>\n",
        "        <td>1</td>\n",
        "    </tr>\n",
        "    <tr>\n",
        "        <td>13807224</td>\n",
        "        <td>2</td>\n",
        "    </tr>\n",
        "    <tr>\n",
        "        <td>13873775</td>\n",
        "        <td>3</td>\n",
        "    </tr>\n",
        "</table>"
       ],
       "metadata": {},
       "output_type": "pyout",
       "prompt_number": 63,
       "text": [
        "[(86246, 1),\n",
        " (86252, 1),\n",
        " (12682470, 7),\n",
        " (12996040, 5),\n",
        " (13089312, 1),\n",
        " (13179265, 5),\n",
        " (13251776, 6),\n",
        " (13540129, 1),\n",
        " (13807224, 2),\n",
        " (13873775, 3)]"
       ]
      }
     ],
     "prompt_number": 63
    },
    {
     "cell_type": "code",
     "collapsed": false,
     "input": [],
     "language": "python",
     "metadata": {},
     "outputs": [],
     "prompt_number": 63
    },
    {
     "cell_type": "markdown",
     "metadata": {},
     "source": [
      "### Things that might have predictive power (brainstorm)\n",
      "#### First pass variables\n",
      "<ul>\n",
      "<li> Total purchase volume:  number of shopping trips, number of items\n",
      "<li> Recency of last purchase\n",
      "<li> Match between (variable) of offer and shopper's previous purchases:  category, chain, brand, company\n",
      "<li> Offer parameters:  offer value\n",
      "<li> ...\n",
      "</ul>\n",
      "\n",
      "#### Second pass variables\n",
      "<ul>\n",
      "<li> Frequency of purchases\n",
      "<li> Previous repeat purchases\n",
      "<li> ...\n",
      "</ul>\n"
     ]
    },
    {
     "cell_type": "markdown",
     "metadata": {},
     "source": [
      "#### Operationalization of variables to test\n",
      "<ul>\n",
      "<li> volume1:  [Purchase volume]  total number of shopping trips, defined as number of distinct dates\n",
      "<li> volume2:  [Purchase volume]  total number of items shopper has purchased\n",
      "<li> timing1:  [Recency of last purchase]  number of days between offer date and date of previous purchase\n",
      "<li> match1:  [Offer match] number of previous purchases of same category as offer\n",
      "<li> match2:  [Offer match] number of previous purchases of same brand as offer\n",
      "<li> offer1:  [Offer parameters] offer value, given by history_offers.offervalue\n",
      "</ul>\n",
      "\n",
      "Note that category and brand are related, so for brand use same brand-different category so as not to be redundant with offer category."
     ]
    },
    {
     "cell_type": "markdown",
     "metadata": {},
     "source": [
      "### NOTE TO TEACHER:  Progress so far, 06/04/14.\n",
      "I put the data into a database, visualized and explored metaparameters of the smaller tables, and am currently working on handling the large table (\"transactions\"), which is 20 GB.  I've extracted some of the variables I would start with in a model.  After I resolve how to handle data volume, I will start with a logistic regression model, using some of the simplest variables (aka features), and see what my baseline model performance is (precision, recall, ROC).  Then I will explore the feature space, details of the model, and different types of models.\n",
      "\n",
      "I'll try to get a minimum of one working model handed in as soon as I can.  I'm aware that this will be past the due date."
     ]
    },
    {
     "cell_type": "code",
     "collapsed": false,
     "input": [],
     "language": "python",
     "metadata": {},
     "outputs": []
    }
   ],
   "metadata": {}
  }
 ]
}