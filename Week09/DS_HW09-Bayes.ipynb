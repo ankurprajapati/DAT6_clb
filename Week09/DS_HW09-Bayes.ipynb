{
 "metadata": {
  "name": "",
  "signature": "sha256:aed565153d1f36c0889f46d7f7d41aea038f79c9df049a3536de4a7548521c4a"
 },
 "nbformat": 3,
 "nbformat_minor": 0,
 "worksheets": [
  {
   "cells": [
    {
     "cell_type": "markdown",
     "metadata": {},
     "source": [
      "Lab\n",
      "==========================================\n",
      "Text Feature Extraction for Classification\n",
      "------------------------------------------\n",
      "Alessandro D. Gagliardi  \n",
      "*(adapted from Olivier Grisel's tutorial)*"
     ]
    },
    {
     "cell_type": "markdown",
     "metadata": {},
     "source": [
      "1-2 Pairs\n",
      "=========\n",
      "\n",
      "```bash\n",
      "$ unzip Classification_data -d Classification_data\n",
      "```\n",
      "\n",
      "1. Load the dateset using `load_files` (hint: our `categories` are now `spam`, `easy_ham`, etc.)\n",
      "2. Write a pre-processor callable to remove the message headers.\n",
      "3. Set up a pipeline for cross validation and model selection using `spam` and `easy_ham`.\n",
      "    - Which parameters should be optimized?\n",
      "    - Do you expect the results to be different from the parameters above? Why/why not?\n",
      "    - Are there other parameters we should optimize that we haven't tested?\n",
      "4. Use `GridSearchCV` to find optimal parameters for vectorizor and classifier.\n",
      "5. Run classifier against `hard_ham`. What percentage of `hard_ham` does it correctly identify as not `spam`?\n",
      "6. Display the most discriminative features. Anything stick out?\n",
      "7. Run classifier against `spam_2`, `easy_ham_2`, `hard_ham_2`. \n",
      "    - Plot the ROC curve (along with AUC) for each case. \n",
      "    - Print the confusion matrix"
     ]
    },
    {
     "cell_type": "markdown",
     "metadata": {},
     "source": [
      "### Classification data exercise\n",
      "#### 1. Load the dateset using `load_files` (hint: our `categories` are now `spam`, `easy_ham`, etc.)"
     ]
    },
    {
     "cell_type": "code",
     "collapsed": false,
     "input": [
      "# Load all libraries from original lab file\n",
      "%matplotlib inline\n",
      "import matplotlib.pyplot as plt\n",
      "import numpy as np\n",
      "import pandas as pd\n",
      "from sklearn.datasets import load_files\n",
      "from sklearn.feature_extraction.text import TfidfVectorizer\n",
      "from sklearn.naive_bayes import MultinomialNB\n",
      "from sklearn.pipeline import Pipeline\n",
      "from sklearn.cross_validation import cross_val_score\n",
      "from scipy.stats import sem\n",
      "from sklearn.grid_search import GridSearchCV\n",
      "from sklearn.metrics import classification_report\n",
      "from sklearn.metrics import confusion_matrix"
     ],
     "language": "python",
     "metadata": {},
     "outputs": [],
     "prompt_number": 1
    },
    {
     "cell_type": "code",
     "collapsed": false,
     "input": [
      "categories = [\n",
      "    'spam',\n",
      "    'easy_ham'\n",
      "]\n",
      "meat_train_data = load_files('Classification_data/meat-train',\n",
      "    categories=categories, encoding='latin-1')"
     ],
     "language": "python",
     "metadata": {},
     "outputs": [],
     "prompt_number": 80
    },
    {
     "cell_type": "code",
     "collapsed": false,
     "input": [
      "meat_train_data.target.shape"
     ],
     "language": "python",
     "metadata": {},
     "outputs": [
      {
       "metadata": {},
       "output_type": "pyout",
       "prompt_number": 112,
       "text": [
        "(3002,)"
       ]
      }
     ],
     "prompt_number": 112
    },
    {
     "cell_type": "markdown",
     "metadata": {},
     "source": [
      "#### 2. Write a pre-processor callable to remove the message headers."
     ]
    },
    {
     "cell_type": "code",
     "collapsed": false,
     "input": [
      "def display_sample(i, dataset):\n",
      "    print(\"Class name: \" + dataset.target_names[dataset.target[i]])\n",
      "    print(\"Text content:\\n\")\n",
      "    print(dataset.data[i])"
     ],
     "language": "python",
     "metadata": {},
     "outputs": [],
     "prompt_number": 81
    },
    {
     "cell_type": "code",
     "collapsed": false,
     "input": [
      "display_sample(1,meat_train_data)"
     ],
     "language": "python",
     "metadata": {},
     "outputs": [
      {
       "output_type": "stream",
       "stream": "stdout",
       "text": [
        "Class name: easy_ham\n",
        "Text content:\n",
        "\n",
        "From rpm-list-admin@freshrpms.net  Mon Sep  9 18:02:11 2002\n",
        "Return-Path: <rpm-zzzlist-admin@freshrpms.net>\n",
        "Delivered-To: yyyy@localhost.spamassassin.taint.org\n",
        "Received: from localhost (jalapeno [127.0.0.1])\n",
        "\tby jmason.org (Postfix) with ESMTP id 3E2D316EFC\n",
        "\tfor <jm@localhost>; Mon,  9 Sep 2002 18:02:11 +0100 (IST)\n",
        "Received: from jalapeno [127.0.0.1]\n",
        "\tby localhost with IMAP (fetchmail-5.9.0)\n",
        "\tfor jm@localhost (single-drop); Mon, 09 Sep 2002 18:02:11 +0100 (IST)\n",
        "Received: from auth02.nl.egwn.net (auth02.nl.egwn.net [193.172.5.4]) by\n",
        "    dogma.slashnull.org (8.11.6/8.11.6) with ESMTP id g158cT825777 for\n",
        "    <jm-rpm@jmason.org>; Tue, 5 Feb 2002 08:38:30 GMT\n",
        "Received: from auth02.nl.egwn.net (localhost [127.0.0.1]) by\n",
        "    auth02.nl.egwn.net (8.11.6/8.11.6/EGWN) with ESMTP id g158a2326068;\n",
        "    Tue, 5 Feb 2002 09:36:02 +0100\n",
        "Received: from drone4.qsi.net.nz (drone4-svc-skyt.qsi.net.nz\n",
        "    [202.89.128.4]) by auth02.nl.egwn.net (8.11.6/8.11.6/EGWN) with SMTP id\n",
        "    g158ZO326055 for <rpm-list@freshrpms.net>; Tue, 5 Feb 2002 09:35:24 +0100\n",
        "Received: (qmail 1216 invoked by uid 0); 5 Feb 2002 08:35:50 -0000\n",
        "Received: from unknown (HELO se7en.org) ([202.89.145.8]) (envelope-sender\n",
        "    <mark@talios.com>) by 0 (qmail-ldap-1.03) with SMTP for\n",
        "    <rpm-list@freshrpms.net>; 5 Feb 2002 08:35:50 -0000\n",
        "Received: from spawn.se7en.org ([10.0.0.3]) by se7en.org with esmtp (Exim\n",
        "    3.12 #1 (Debian)) id 16Y2h9-00040z-00 for <rpm-list@freshrpms.net>;\n",
        "    Tue, 05 Feb 2002 23:19:23 +1300\n",
        "From: Mark Derricutt <mark@talios.com>\n",
        "To: rpm-zzzlist@freshrpms.net\n",
        "Subject: Problem with an rpm...\n",
        "Message-Id: <1740000.1012898468@spawn.se7en.org>\n",
        "X-Mailer: Mulberry/2.2.0b1 (Linux/x86)\n",
        "MIME-Version: 1.0\n",
        "Content-Type: text/plain; charset=us-ascii; format=flowed\n",
        "Content-Transfer-Encoding: 7bit\n",
        "Content-Disposition: inline\n",
        "Sender: rpm-zzzlist-admin@freshrpms.net\n",
        "Errors-To: rpm-zzzlist-admin@freshrpms.net\n",
        "X-Beenthere: rpm-zzzlist@freshrpms.net\n",
        "X-Mailman-Version: 2.0.1\n",
        "Precedence: bulk\n",
        "Reply-To: rpm-zzzlist@freshrpms.net\n",
        "List-Help: <mailto:rpm-zzzlist-request@freshrpms.net?subject=help>\n",
        "List-Post: <mailto:rpm-zzzlist@freshrpms.net>\n",
        "List-Subscribe: <http://lists.freshrpms.net/mailman/listinfo/rpm-zzzlist>,\n",
        "    <mailto:rpm-list-request@freshrpms.net?subject=subscribe>\n",
        "List-Id: Freshrpms RPM discussion list <rpm-zzzlist.freshrpms.net>\n",
        "List-Unsubscribe: <http://lists.freshrpms.net/mailman/listinfo/rpm-zzzlist>,\n",
        "    <mailto:rpm-list-request@freshrpms.net?subject=unsubscribe>\n",
        "List-Archive: <http://lists.freshrpms.net/pipermail/rpm-zzzlist/>\n",
        "X-Original-Date: Tue, 05 Feb 2002 21:41:08 +1300\n",
        "Date: Tue, 05 Feb 2002 21:41:08 +1300\n",
        "\n",
        "Hiya, I just myself an rpm, and when I did -Uvh to upgrade the earlier \n",
        "version I had installed (also from my rpm) I got:\n",
        "\n",
        "[root@spawn i386]# rpm -Uvh mulberry-2.2-b1.i386.rpm\n",
        "Preparing...                ########################################### \n",
        "[100%]\n",
        "   1:mulberry               ########################################### \n",
        "[100%]\n",
        "error: db3 error(-30998) from db->close: DB_INCOMPLETE: Cache flush was \n",
        "unable to complete\n",
        "\n",
        "Whats the DB_INCOMPLETE mean?\n",
        "\n",
        "It all seems to have installed ok thou...\n",
        "\n",
        "                                    -- \\m/ --\n",
        "  \"...if I seem super human I have been misunderstood.\" (c) Dream Theater\n",
        "         mark@talios.com - ICQ: 1934853 JID: talios@myjabber.net\n",
        "\n",
        "\n",
        "_______________________________________________\n",
        "RPM-List mailing list <RPM-List@freshrpms.net>\n",
        "http://lists.freshrpms.net/mailman/listinfo/rpm-list\n",
        "\n",
        "\n"
       ]
      }
     ],
     "prompt_number": 82
    },
    {
     "cell_type": "code",
     "collapsed": false,
     "input": [
      "def strip_headers(post):\n",
      "    \"\"\"Find the first blank line and drop the headers to keep the body\"\"\"\n",
      "    if '\\n\\n' in post:\n",
      "        headers, body = post.split('\\n\\n', 1)\n",
      "        return body.lower()\n",
      "    else:\n",
      "        # Unexpected post inner-structure, be conservative\n",
      "        # and keep everything\n",
      "        return post.lower()"
     ],
     "language": "python",
     "metadata": {},
     "outputs": [],
     "prompt_number": 83
    },
    {
     "cell_type": "code",
     "collapsed": false,
     "input": [
      "print(meat_train_data.data[2])"
     ],
     "language": "python",
     "metadata": {},
     "outputs": [
      {
       "output_type": "stream",
       "stream": "stdout",
       "text": [
        "From exelle@webinfo.fi  Mon Sep 23 15:02:06 2002\n",
        "Return-Path: <exelle@webinfo.fi>\n",
        "Delivered-To: zzzz@localhost.spamassassin.taint.org\n",
        "Received: from localhost (jalapeno [127.0.0.1])\n",
        "\tby zzzzason.org (Postfix) with ESMTP id 8D1D716F03\n",
        "\tfor <zzzz@localhost>; Mon, 23 Sep 2002 15:02:05 +0100 (IST)\n",
        "Received: from jalapeno [127.0.0.1]\n",
        "\tby localhost with IMAP (fetchmail-5.9.0)\n",
        "\tfor zzzz@localhost (single-drop); Mon, 23 Sep 2002 15:02:05 +0100 (IST)\n",
        "Received: from webnote.net (mail.webnote.net [193.120.211.219]) by\n",
        "    dogma.slashnull.org (8.11.6/8.11.6) with ESMTP id g8NBpKC14790 for\n",
        "    <zzzz@jmason.org>; Mon, 23 Sep 2002 12:51:20 +0100\n",
        "Received: from webinfo.fi ([211.184.2.252]) by webnote.net (8.9.3/8.9.3)\n",
        "    with SMTP id MAA14513; Mon, 23 Sep 2002 12:51:49 +0100\n",
        "Date: Mon, 23 Sep 2002 12:51:49 +0100\n",
        "From: exelle@webinfo.fi\n",
        "Reply-To: <exelle@webinfo.fi>\n",
        "Message-Id: <005e58c17aab$8136d2b8$4ee83ab7@qrlwcm>\n",
        "To: glen5@mail.gr\n",
        "Subject: HOME REPS WANTED-FORTUNE 500 COMP HIRING\n",
        "MIME-Version: 1.0\n",
        "Content-Type: text/plain; charset=\"iso-8859-1\"\n",
        "X-Priority: 3 (Normal)\n",
        "X-Msmail-Priority: Normal\n",
        "X-Mailer: Microsoft Outlook Express 5.00.2615.200\n",
        "Importance: Normal\n",
        "Content-Transfer-Encoding: 8bit\n",
        "\n",
        "\n",
        "Question?\n",
        "\n",
        "Do you want a different job?\n",
        "Do you want to be your own boss?\n",
        "Do you need extra income?\n",
        "Do you need to start a new life?\n",
        "Does your current job seem to go nowhere?\n",
        "\n",
        "If you answered yes to these questions, then here is your solution.\n",
        "\n",
        "We are a fortune 500 company looking for motivated individuals who are \n",
        "looking\n",
        "to a substantial income working from home.\n",
        "\n",
        "Thousands of individual are currently do this RIGHT NOW.\n",
        "So if you are looking to be employed at home, with a career that will\n",
        "provide you vast opportunities and a substantial income, please fill\n",
        "out our online information request form here now:\n",
        "\n",
        "http://ter.netblah.com:27000\n",
        "\n",
        "\n",
        "\n",
        "\n",
        "\n",
        "\n",
        "\n",
        "\n",
        "\n",
        "To miss out on this opportunity, click here\n",
        "\n",
        "http://ter.netblah.com:27000/remove.html\n",
        "\n",
        "\n",
        "\n"
       ]
      }
     ],
     "prompt_number": 84
    },
    {
     "cell_type": "code",
     "collapsed": false,
     "input": [
      "print(strip_headers(meat_train_data.data[2]))"
     ],
     "language": "python",
     "metadata": {},
     "outputs": [
      {
       "output_type": "stream",
       "stream": "stdout",
       "text": [
        "\n",
        "question?\n",
        "\n",
        "do you want a different job?\n",
        "do you want to be your own boss?\n",
        "do you need extra income?\n",
        "do you need to start a new life?\n",
        "does your current job seem to go nowhere?\n",
        "\n",
        "if you answered yes to these questions, then here is your solution.\n",
        "\n",
        "we are a fortune 500 company looking for motivated individuals who are \n",
        "looking\n",
        "to a substantial income working from home.\n",
        "\n",
        "thousands of individual are currently do this right now.\n",
        "so if you are looking to be employed at home, with a career that will\n",
        "provide you vast opportunities and a substantial income, please fill\n",
        "out our online information request form here now:\n",
        "\n",
        "http://ter.netblah.com:27000\n",
        "\n",
        "\n",
        "\n",
        "\n",
        "\n",
        "\n",
        "\n",
        "\n",
        "\n",
        "to miss out on this opportunity, click here\n",
        "\n",
        "http://ter.netblah.com:27000/remove.html\n",
        "\n",
        "\n",
        "\n"
       ]
      }
     ],
     "prompt_number": 85
    },
    {
     "cell_type": "markdown",
     "metadata": {},
     "source": [
      "#### 3. Set up a pipeline for cross validation and model selection using `spam` and `easy_ham`.\n",
      "    - Which parameters should be optimized?\n",
      "    - Do you expect the results to be different from the parameters above? Why/why not?\n",
      "    - Are there other parameters we should optimize that we haven't tested?"
     ]
    },
    {
     "cell_type": "code",
     "collapsed": false,
     "input": [
      "pipeline = Pipeline((\n",
      "    ('vec', TfidfVectorizer(preprocessor=strip_headers, min_df=2)),\n",
      "    ('clf', MultinomialNB()),\n",
      "))"
     ],
     "language": "python",
     "metadata": {},
     "outputs": [],
     "prompt_number": 89
    },
    {
     "cell_type": "code",
     "collapsed": false,
     "input": [
      "scores = cross_val_score(pipeline, meat_train_data.data,\n",
      "                         meat_train_data.target, cv=3, n_jobs=3)\n",
      "scores.mean(), sem(scores)"
     ],
     "language": "python",
     "metadata": {},
     "outputs": [
      {
       "metadata": {},
       "output_type": "pyout",
       "prompt_number": 90,
       "text": [
        "(0.92038528138528142, 0.0033439085136645254)"
       ]
      }
     ],
     "prompt_number": 90
    },
    {
     "cell_type": "markdown",
     "metadata": {},
     "source": [
      "##### Which parameters should be optimized?\n",
      "Same ones as before.  The data is similar in being email-length messages from individuals.\n",
      "\n",
      "##### Do you expect the results to be different from the parameters above?  Why/why not?\n",
      "I expect them to be similar given the similar nature of the data.\n",
      "\n",
      "##### Are there other parameters we should optimize that we haven't tested?\n",
      "Looking over the documentation, for the TF-IDF vectorizer, we could explore max_df and ngram_range as we did before, as well as perhaps max_features and stop_words.  For the Bayes classifier, checking alpha as before seems wise, but otherwise the defaults seem like good ones."
     ]
    },
    {
     "cell_type": "markdown",
     "metadata": {},
     "source": [
      "#### 4. Use `GridSearchCV` to find optimal parameters for vectorizor and classifier."
     ]
    },
    {
     "cell_type": "code",
     "collapsed": false,
     "input": [
      "#### NEEDS TO BE RUN, WASN'T RUN THIS TIME\n",
      "parameters = {\n",
      "    'vec__max_df': [0.8, 1.0],\n",
      "    'vec__ngram_range': [(1, 1), (1, 2)],\n",
      "    'clf__alpha': np.logspace(0, 4)\n",
      "}\n",
      "\n",
      "gs = GridSearchCV(pipeline, parameters, verbose=2, refit=False, n_jobs=3)\n",
      "_ = gs.fit(meat_train_data.data, meat_train_data.target)"
     ],
     "language": "python",
     "metadata": {},
     "outputs": [
      {
       "output_type": "stream",
       "stream": "stdout",
       "text": [
        "Fitting 3 folds for each of 200 candidates, totalling 600 fits\n",
        "[GridSearchCV]  vec__max_df=0.8, vec__ngram_range=(1, 2), clf__alpha=1.0 -  12.7s[GridSearchCV]  vec__max_df=0.8, vec__ngram_range=(1, 2), clf__alpha=1.0 -  12.6s\n",
        "\n",
        "\n",
        "[GridSearchCV] vec__max_df=1.0, vec__ngram_range=(1, 1), clf__alpha=1.0 ........[GridSearchCV] vec__max_df=1.0, vec__ngram_range=(1, 1), clf__alpha=1.0 ........[GridSearchCV] vec__max_df=1.0, vec__ngram_range=(1, 1), clf__alpha=1.0 ........\n",
        "\n",
        "\n",
        "[GridSearchCV]  vec__max_df=1.0, vec__ngram_range=(1, 1), clf__alpha=1.0 -   4.0s[GridSearchCV]  vec__max_df=1.0, vec__ngram_range=(1, 1), clf__alpha=1.0 -   4.1s[GridSearchCV]  vec__max_df=1.0, vec__ngram_range=(1, 1), clf__alpha=1.0 -   3.9s\n",
        "\n",
        "\n",
        "[GridSearchCV] vec__max_df=1.0, vec__ngram_range=(1, 2), clf__alpha=1.0 ........[GridSearchCV] vec__max_df=1.0, vec__ngram_range=(1, 2), clf__alpha=1.0 ........[GridSearchCV] vec__max_df=1.0, vec__ngram_range=(1, 2), clf__alpha=1.0 ........\n",
        "\n",
        "\n",
        "[GridSearchCV]  vec__max_df=1.0, vec__ngram_range=(1, 2), clf__alpha=1.0 -  13.4s[GridSearchCV]  vec__max_df=1.0, vec__ngram_range=(1, 2), clf__alpha=1.0 -  13.4s[GridSearchCV]  vec__max_df=1.0, vec__ngram_range=(1, 2), clf__alpha=1.0 -  13.6s\n",
        "\n",
        "\n"
       ]
      },
      {
       "output_type": "stream",
       "stream": "stdout",
       "text": [
        "[GridSearchCV] vec__max_df=0.8, vec__ngram_range=(1, 1), clf__alpha=1.0 ........\n",
        "[GridSearchCV] vec__max_df=0.8, vec__ngram_range=(1, 1), clf__alpha=1.0 ........\n",
        "[GridSearchCV] vec__max_df=0.8, vec__ngram_range=(1, 1), clf__alpha=1.0 ........\n",
        "[GridSearchCV]  vec__max_df=0.8, vec__ngram_range=(1, 1), clf__alpha=1.0 -   4.0s[GridSearchCV]  vec__max_df=0.8, vec__ngram_range=(1, 1), clf__alpha=1.0 -   4.0s[GridSearchCV]  vec__max_df=0.8, vec__ngram_range=(1, 1), clf__alpha=1.0 -   4.2s\n",
        "\n",
        "\n",
        "[GridSearchCV] vec__max_df=0.8, vec__ngram_range=(1, 2), clf__alpha=1.0 ........[GridSearchCV] vec__max_df=0.8, vec__ngram_range=(1, 2), clf__alpha=1.0 ........[GridSearchCV] vec__max_df=0.8, vec__ngram_range=(1, 2), clf__alpha=1.0 ........\n",
        "\n",
        "\n",
        "[GridSearchCV]  vec__max_df=0.8, vec__ngram_range=(1, 2), clf__alpha=1.0 -  12.7s[GridSearchCV]  vec__max_df=0.8, vec__ngram_range=(1, 2), clf__alpha=1.0 -  12.8s[GridSearchCV]  vec__max_df=0.8, vec__ngram_range=(1, 2), clf__alpha=1.0 -  12.7s\n",
        "\n",
        "\n",
        "[GridSearchCV] vec__max_df=1.0, vec__ngram_range=(1, 1), clf__alpha=1.0 ........[GridSearchCV] vec__max_df=1.0, vec__ngram_range=(1, 1), clf__alpha=1.0 ........[GridSearchCV] vec__max_df=1.0, vec__ngram_range=(1, 1), clf__alpha=1.0 ........\n",
        "\n",
        "\n",
        "[GridSearchCV]  vec__max_df=1.0, vec__ngram_range=(1, 1), clf__alpha=1.0 -   3.9s[GridSearchCV]  vec__max_df=1.0, vec__ngram_range=(1, 1), clf__alpha=1.0 -   3.8s[GridSearchCV]  vec__max_df=1.0, vec__ngram_range=(1, 1), clf__alpha=1.0 -   3.8s\n",
        "\n",
        "\n",
        "[GridSearchCV] vec__max_df=1.0, vec__ngram_range=(1, 2), clf__alpha=1.0 ........[GridSearchCV] vec__max_df=1.0, vec__ngram_range=(1, 2), clf__alpha=1.0 ........[GridSearchCV] vec__max_df=1.0, vec__ngram_range=(1, 2), clf__alpha=1.0 ........\n",
        "\n",
        "\n",
        "[GridSearchCV]  vec__max_df=1.0, vec__ngram_range=(1, 2), clf__alpha=1.0 -  12.5s[GridSearchCV]  vec__max_df=1.0, vec__ngram_range=(1, 2), clf__alpha=1.0 -  12.7s[GridSearchCV]  vec__max_df=1.0, vec__ngram_range=(1, 2), clf__alpha=1.0 -  12.4s\n",
        "\n",
        "\n",
        "[GridSearchCV] vec__max_df=0.8, vec__ngram_range=(1, 1), clf__alpha=1.20679264064 [GridSearchCV] vec__max_df=0.8, vec__ngram_range=(1, 1), clf__alpha=1.20679264064 [GridSearchCV] vec__max_df=0.8, vec__ngram_range=(1, 1), clf__alpha=1.20679264064 \n",
        "\n",
        "\n",
        "[GridSearchCV]  vec__max_df=0.8, vec__ngram_range=(1, 1), clf__alpha=1.20679264064 -   4.2s[GridSearchCV]  vec__max_df=0.8, vec__ngram_range=(1, 1), clf__alpha=1.20679264064 -   4.1s[GridSearchCV]  vec__max_df=0.8, vec__ngram_range=(1, 1), clf__alpha=1.20679264064 -   4.3s\n",
        "\n",
        "\n",
        "[GridSearchCV] vec__max_df=0.8, vec__ngram_range=(1, 2), clf__alpha=1.20679264064 [GridSearchCV] vec__max_df=0.8, vec__ngram_range=(1, 2), clf__alpha=1.20679264064 [GridSearchCV] vec__max_df=0.8, vec__ngram_range=(1, 2), clf__alpha=1.20679264064 \n",
        "\n",
        "\n",
        "[GridSearchCV]  vec__max_df=0.8, vec__ngram_range=(1, 2), clf__alpha=1.20679264064 -  12.4s[GridSearchCV]  vec__max_df=0.8, vec__ngram_range=(1, 2), clf__alpha=1.20679264064 -  12.8s[GridSearchCV]  vec__max_df=0.8, vec__ngram_range=(1, 2), clf__alpha=1.20679264064 -  12.4s\n",
        "\n",
        "\n",
        "[GridSearchCV] vec__max_df=1.0, vec__ngram_range=(1, 1), clf__alpha=1.20679264064 [GridSearchCV] vec__max_df=1.0, vec__ngram_range=(1, 1), clf__alpha=1.20679264064 [GridSearchCV] vec__max_df=1.0, vec__ngram_range=(1, 1), clf__alpha=1.20679264064 \n",
        "\n",
        "\n",
        "[GridSearchCV]  vec__max_df=1.0, vec__ngram_range=(1, 1), clf__alpha=1.20679264064 -   4.0s[GridSearchCV]  vec__max_df=1.0, vec__ngram_range=(1, 1), clf__alpha=1.20679264064 -   3.8s[GridSearchCV]  vec__max_df=1.0, vec__ngram_range=(1, 1), clf__alpha=1.20679264064 -   3.8s\n",
        "\n",
        "\n",
        "[GridSearchCV] vec__max_df=1.0, vec__ngram_range=(1, 2), clf__alpha=1.20679264064 [GridSearchCV] vec__max_df=1.0, vec__ngram_range=(1, 2), clf__alpha=1.20679264064 [GridSearchCV] vec__max_df=1.0, vec__ngram_range=(1, 2), clf__alpha=1.20679264064 \n",
        "\n",
        "\n",
        "[GridSearchCV]  vec__max_df=1.0, vec__ngram_range=(1, 2), clf__alpha=1.20679264064 -  12.2s[GridSearchCV]  vec__max_df=1.0, vec__ngram_range=(1, 2), clf__alpha=1.20679264064 -  12.4s[GridSearchCV]  vec__max_df=1.0, vec__ngram_range=(1, 2), clf__alpha=1.20679264064 -  12.7s\n",
        "\n",
        "\n",
        "[GridSearchCV] vec__max_df=0.8, vec__ngram_range=(1, 1), clf__alpha=1.4563484775 [GridSearchCV] vec__max_df=0.8, vec__ngram_range=(1, 1), clf__alpha=1.4563484775 [GridSearchCV] vec__max_df=0.8, vec__ngram_range=(1, 1), clf__alpha=1.4563484775 \n",
        "\n",
        "\n",
        "[GridSearchCV]  vec__max_df=0.8, vec__ngram_range=(1, 1), clf__alpha=1.4563484775 -   4.1s[GridSearchCV]  vec__max_df=0.8, vec__ngram_range=(1, 1), clf__alpha=1.4563484775 -   3.8s[GridSearchCV]  vec__max_df=0.8, vec__ngram_range=(1, 1), clf__alpha=1.4563484775 -   3.9s\n",
        "\n",
        "\n",
        "[GridSearchCV] vec__max_df=0.8, vec__ngram_range=(1, 2), clf__alpha=1.4563484775 [GridSearchCV] vec__max_df=0.8, vec__ngram_range=(1, 2), clf__alpha=1.4563484775 [GridSearchCV] vec__max_df=0.8, vec__ngram_range=(1, 2), clf__alpha=1.4563484775 \n",
        "\n",
        "\n",
        "[GridSearchCV]  vec__max_df=0.8, vec__ngram_range=(1, 2), clf__alpha=1.4563484775 -  12.5s[GridSearchCV]  vec__max_df=0.8, vec__ngram_range=(1, 2), clf__alpha=1.4563484775 -  12.5s[GridSearchCV]  vec__max_df=0.8, vec__ngram_range=(1, 2), clf__alpha=1.4563484775 -  12.7s\n",
        "\n",
        "\n",
        "[GridSearchCV] vec__max_df=1.0, vec__ngram_range=(1, 1), clf__alpha=1.4563484775 [GridSearchCV] vec__max_df=1.0, vec__ngram_range=(1, 1), clf__alpha=1.4563484775 [GridSearchCV] vec__max_df=1.0, vec__ngram_range=(1, 1), clf__alpha=1.4563484775 \n",
        "\n",
        "\n",
        "[GridSearchCV]  vec__max_df=1.0, vec__ngram_range=(1, 1), clf__alpha=1.4563484775 -   4.1s[GridSearchCV]  vec__max_df=1.0, vec__ngram_range=(1, 1), clf__alpha=1.4563484775 -   3.9s[GridSearchCV]  vec__max_df=1.0, vec__ngram_range=(1, 1), clf__alpha=1.4563484775 -   3.8s\n",
        "\n",
        "\n",
        "[GridSearchCV] vec__max_df=1.0, vec__ngram_range=(1, 2), clf__alpha=1.4563484775 [GridSearchCV] vec__max_df=1.0, vec__ngram_range=(1, 2), clf__alpha=1.4563484775 [GridSearchCV] vec__max_df=1.0, vec__ngram_range=(1, 2), clf__alpha=1.4563484775 \n",
        "\n",
        "\n",
        "[GridSearchCV]  vec__max_df=1.0, vec__ngram_range=(1, 2), clf__alpha=1.4563484775 -  12.5s[GridSearchCV]  vec__max_df=1.0, vec__ngram_range=(1, 2), clf__alpha=1.4563484775 -  13.2s[GridSearchCV]  vec__max_df=1.0, vec__ngram_range=(1, 2), clf__alpha=1.4563484775 -  12.5s\n",
        "\n",
        "\n",
        "[GridSearchCV] vec__max_df=0.8, vec__ngram_range=(1, 1), clf__alpha=1.75751062485 [GridSearchCV] vec__max_df=0.8, vec__ngram_range=(1, 1), clf__alpha=1.75751062485 [GridSearchCV] vec__max_df=0.8, vec__ngram_range=(1, 1), clf__alpha=1.75751062485 \n",
        "\n",
        "\n",
        "[GridSearchCV]  vec__max_df=0.8, vec__ngram_range=(1, 1), clf__alpha=1.75751062485 -   4.0s[GridSearchCV]  vec__max_df=0.8, vec__ngram_range=(1, 1), clf__alpha=1.75751062485 -   3.9s[GridSearchCV]  vec__max_df=0.8, vec__ngram_range=(1, 1), clf__alpha=1.75751062485 -   4.1s\n",
        "\n",
        "\n",
        "[GridSearchCV] vec__max_df=0.8, vec__ngram_range=(1, 2), clf__alpha=1.75751062485 [GridSearchCV] vec__max_df=0.8, vec__ngram_range=(1, 2), clf__alpha=1.75751062485 [GridSearchCV] vec__max_df=0.8, vec__ngram_range=(1, 2), clf__alpha=1.75751062485 \n",
        "\n",
        "\n",
        "[GridSearchCV]  vec__max_df=0.8, vec__ngram_range=(1, 2), clf__alpha=1.75751062485 -  12.7s[GridSearchCV]  vec__max_df=0.8, vec__ngram_range=(1, 2), clf__alpha=1.75751062485 -  12.6s[GridSearchCV]  vec__max_df=0.8, vec__ngram_range=(1, 2), clf__alpha=1.75751062485 -  12.6s\n",
        "\n",
        "\n",
        "[GridSearchCV] vec__max_df=1.0, vec__ngram_range=(1, 1), clf__alpha=1.75751062485 [GridSearchCV] vec__max_df=1.0, vec__ngram_range=(1, 1), clf__alpha=1.75751062485 [GridSearchCV] vec__max_df=1.0, vec__ngram_range=(1, 1), clf__alpha=1.75751062485 \n",
        "\n",
        "\n",
        "[GridSearchCV]  vec__max_df=1.0, vec__ngram_range=(1, 1), clf__alpha=1.75751062485 -   3.8s[GridSearchCV]  vec__max_df=1.0, vec__ngram_range=(1, 1), clf__alpha=1.75751062485 -   3.9s[GridSearchCV]  vec__max_df=1.0, vec__ngram_range=(1, 1), clf__alpha=1.75751062485 -   4.0s\n",
        "\n",
        "\n",
        "[GridSearchCV] vec__max_df=1.0, vec__ngram_range=(1, 2), clf__alpha=1.75751062485 [GridSearchCV] vec__max_df=1.0, vec__ngram_range=(1, 2), clf__alpha=1.75751062485 [GridSearchCV] vec__max_df=1.0, vec__ngram_range=(1, 2), clf__alpha=1.75751062485 \n",
        "\n",
        "\n",
        "[GridSearchCV]  vec__max_df=1.0, vec__ngram_range=(1, 2), clf__alpha=1.75751062485 -  12.3s[GridSearchCV]  vec__max_df=1.0, vec__ngram_range=(1, 2), clf__alpha=1.75751062485 -  12.4s[GridSearchCV]  vec__max_df=1.0, vec__ngram_range=(1, 2), clf__alpha=1.75751062485 -  12.6s\n",
        "\n",
        "\n",
        "[GridSearchCV] vec__max_df=0.8, vec__ngram_range=(1, 1), clf__alpha=2.12095088792 [GridSearchCV] vec__max_df=0.8, vec__ngram_range=(1, 1), clf__alpha=2.12095088792 [GridSearchCV] vec__max_df=0.8, vec__ngram_range=(1, 1), clf__alpha=2.12095088792 \n",
        "\n",
        "\n",
        "[GridSearchCV]  vec__max_df=0.8, vec__ngram_range=(1, 1), clf__alpha=2.12095088792 -   3.8s[GridSearchCV]  vec__max_df=0.8, vec__ngram_range=(1, 1), clf__alpha=2.12095088792 -   4.1s[GridSearchCV]  vec__max_df=0.8, vec__ngram_range=(1, 1), clf__alpha=2.12095088792 -   4.1s\n",
        "\n",
        "\n",
        "[GridSearchCV] vec__max_df=0.8, vec__ngram_range=(1, 2), clf__alpha=2.12095088792 [GridSearchCV] vec__max_df=0.8, vec__ngram_range=(1, 2), clf__alpha=2.12095088792 [GridSearchCV] vec__max_df=0.8, vec__ngram_range=(1, 2), clf__alpha=2.12095088792 \n",
        "\n",
        "\n",
        "[GridSearchCV]  vec__max_df=0.8, vec__ngram_range=(1, 2), clf__alpha=2.12095088792 -  12.7s[GridSearchCV]  vec__max_df=0.8, vec__ngram_range=(1, 2), clf__alpha=2.12095088792 -  13.0s[GridSearchCV]  vec__max_df=0.8, vec__ngram_range=(1, 2), clf__alpha=2.12095088792 -  12.4s\n",
        "\n",
        "\n",
        "[GridSearchCV] vec__max_df=1.0, vec__ngram_range=(1, 1), clf__alpha=2.12095088792 [GridSearchCV] vec__max_df=1.0, vec__ngram_range=(1, 1), clf__alpha=2.12095088792 [GridSearchCV] vec__max_df=1.0, vec__ngram_range=(1, 1), clf__alpha=2.12095088792 \n",
        "\n",
        "\n",
        "[GridSearchCV]  vec__max_df=1.0, vec__ngram_range=(1, 1), clf__alpha=2.12095088792 -   3.8s[GridSearchCV]  vec__max_df=1.0, vec__ngram_range=(1, 1), clf__alpha=2.12095088792 -   3.9s[GridSearchCV]  vec__max_df=1.0, vec__ngram_range=(1, 1), clf__alpha=2.12095088792 -   3.7s\n",
        "\n",
        "\n",
        "[GridSearchCV] vec__max_df=1.0, vec__ngram_range=(1, 2), clf__alpha=2.12095088792 [GridSearchCV] vec__max_df=1.0, vec__ngram_range=(1, 2), clf__alpha=2.12095088792 [GridSearchCV] vec__max_df=1.0, vec__ngram_range=(1, 2), clf__alpha=2.12095088792 \n",
        "\n",
        "\n",
        "[GridSearchCV]  vec__max_df=1.0, vec__ngram_range=(1, 2), clf__alpha=2.12095088792 -  12.4s[GridSearchCV]  vec__max_df=1.0, vec__ngram_range=(1, 2), clf__alpha=2.12095088792 -  12.4s[GridSearchCV]  vec__max_df=1.0, vec__ngram_range=(1, 2), clf__alpha=2.12095088792 -  12.6s\n",
        "\n",
        "\n",
        "[GridSearchCV] vec__max_df=0.8, vec__ngram_range=(1, 1), clf__alpha=2.5595479227 [GridSearchCV] vec__max_df=0.8, vec__ngram_range=(1, 1), clf__alpha=2.5595479227 [GridSearchCV] vec__max_df=0.8, vec__ngram_range=(1, 1), clf__alpha=2.5595479227 \n",
        "\n",
        "\n",
        "[GridSearchCV]  vec__max_df=0.8, vec__ngram_range=(1, 1), clf__alpha=2.5595479227 -   3.9s[GridSearchCV]  vec__max_df=0.8, vec__ngram_range=(1, 1), clf__alpha=2.5595479227 -   4.1s[GridSearchCV]  vec__max_df=0.8, vec__ngram_range=(1, 1), clf__alpha=2.5595479227 -   4.0s\n",
        "\n",
        "\n",
        "[GridSearchCV] vec__max_df=0.8, vec__ngram_range=(1, 2), clf__alpha=2.5595479227 [GridSearchCV] vec__max_df=0.8, vec__ngram_range=(1, 2), clf__alpha=2.5595479227 [GridSearchCV] vec__max_df=0.8, vec__ngram_range=(1, 2), clf__alpha=2.5595479227 \n",
        "\n",
        "\n",
        "[GridSearchCV]  vec__max_df=0.8, vec__ngram_range=(1, 2), clf__alpha=2.5595479227 -  12.7s"
       ]
      },
      {
       "output_type": "stream",
       "stream": "stderr",
       "text": [
        "[Parallel(n_jobs=3)]: Done   1 jobs       | elapsed:    4.3s\n",
        "[Parallel(n_jobs=3)]: Done  41 jobs       | elapsed:  2.0min\n",
        "[Parallel(n_jobs=3)]: Done 162 jobs       | elapsed:  7.7min\n",
        "[Parallel(n_jobs=3)]: Done 365 jobs       | elapsed: 17.7min\n"
       ]
      },
      {
       "ename": "KeyboardInterrupt",
       "evalue": "",
       "output_type": "pyerr",
       "traceback": [
        "\u001b[0;31m---------------------------------------------------------------------------\u001b[0m\n\u001b[0;31mKeyboardInterrupt\u001b[0m                         Traceback (most recent call last)",
        "\u001b[0;32m<ipython-input-12-76e5aa15c7c5>\u001b[0m in \u001b[0;36m<module>\u001b[0;34m()\u001b[0m\n\u001b[1;32m      8\u001b[0m \u001b[0;34m\u001b[0m\u001b[0m\n\u001b[1;32m      9\u001b[0m \u001b[0mgs\u001b[0m \u001b[0;34m=\u001b[0m \u001b[0mGridSearchCV\u001b[0m\u001b[0;34m(\u001b[0m\u001b[0mpipeline\u001b[0m\u001b[0;34m,\u001b[0m \u001b[0mparameters\u001b[0m\u001b[0;34m,\u001b[0m \u001b[0mverbose\u001b[0m\u001b[0;34m=\u001b[0m\u001b[0;36m2\u001b[0m\u001b[0;34m,\u001b[0m \u001b[0mrefit\u001b[0m\u001b[0;34m=\u001b[0m\u001b[0mFalse\u001b[0m\u001b[0;34m,\u001b[0m \u001b[0mn_jobs\u001b[0m\u001b[0;34m=\u001b[0m\u001b[0;36m3\u001b[0m\u001b[0;34m)\u001b[0m\u001b[0;34m\u001b[0m\u001b[0m\n\u001b[0;32m---> 10\u001b[0;31m \u001b[0m_\u001b[0m \u001b[0;34m=\u001b[0m \u001b[0mgs\u001b[0m\u001b[0;34m.\u001b[0m\u001b[0mfit\u001b[0m\u001b[0;34m(\u001b[0m\u001b[0mmeat_train_data\u001b[0m\u001b[0;34m.\u001b[0m\u001b[0mdata\u001b[0m\u001b[0;34m,\u001b[0m \u001b[0mmeat_train_data\u001b[0m\u001b[0;34m.\u001b[0m\u001b[0mtarget\u001b[0m\u001b[0;34m)\u001b[0m\u001b[0;34m\u001b[0m\u001b[0m\n\u001b[0m",
        "\u001b[0;32m/Users/crista/anaconda/lib/python2.7/site-packages/sklearn/grid_search.pyc\u001b[0m in \u001b[0;36mfit\u001b[0;34m(self, X, y, **params)\u001b[0m\n\u001b[1;32m    705\u001b[0m                           \u001b[0;34m\" The params argument will be removed in 0.15.\"\u001b[0m\u001b[0;34m,\u001b[0m\u001b[0;34m\u001b[0m\u001b[0m\n\u001b[1;32m    706\u001b[0m                           DeprecationWarning)\n\u001b[0;32m--> 707\u001b[0;31m         \u001b[0;32mreturn\u001b[0m \u001b[0mself\u001b[0m\u001b[0;34m.\u001b[0m\u001b[0m_fit\u001b[0m\u001b[0;34m(\u001b[0m\u001b[0mX\u001b[0m\u001b[0;34m,\u001b[0m \u001b[0my\u001b[0m\u001b[0;34m,\u001b[0m \u001b[0mParameterGrid\u001b[0m\u001b[0;34m(\u001b[0m\u001b[0mself\u001b[0m\u001b[0;34m.\u001b[0m\u001b[0mparam_grid\u001b[0m\u001b[0;34m)\u001b[0m\u001b[0;34m)\u001b[0m\u001b[0;34m\u001b[0m\u001b[0m\n\u001b[0m\u001b[1;32m    708\u001b[0m \u001b[0;34m\u001b[0m\u001b[0m\n\u001b[1;32m    709\u001b[0m \u001b[0;34m\u001b[0m\u001b[0m\n",
        "\u001b[0;32m/Users/crista/anaconda/lib/python2.7/site-packages/sklearn/grid_search.pyc\u001b[0m in \u001b[0;36m_fit\u001b[0;34m(self, X, y, parameter_iterable)\u001b[0m\n\u001b[1;32m    491\u001b[0m                     \u001b[0mX\u001b[0m\u001b[0;34m,\u001b[0m \u001b[0my\u001b[0m\u001b[0;34m,\u001b[0m \u001b[0mbase_estimator\u001b[0m\u001b[0;34m,\u001b[0m \u001b[0mparameters\u001b[0m\u001b[0;34m,\u001b[0m \u001b[0mtrain\u001b[0m\u001b[0;34m,\u001b[0m \u001b[0mtest\u001b[0m\u001b[0;34m,\u001b[0m\u001b[0;34m\u001b[0m\u001b[0m\n\u001b[1;32m    492\u001b[0m                     self.scorer_, self.verbose, **self.fit_params)\n\u001b[0;32m--> 493\u001b[0;31m                 \u001b[0;32mfor\u001b[0m \u001b[0mparameters\u001b[0m \u001b[0;32min\u001b[0m \u001b[0mparameter_iterable\u001b[0m\u001b[0;34m\u001b[0m\u001b[0m\n\u001b[0m\u001b[1;32m    494\u001b[0m                 for train, test in cv)\n\u001b[1;32m    495\u001b[0m \u001b[0;34m\u001b[0m\u001b[0m\n",
        "\u001b[0;32m/Users/crista/anaconda/lib/python2.7/site-packages/sklearn/externals/joblib/parallel.pyc\u001b[0m in \u001b[0;36m__call__\u001b[0;34m(self, iterable)\u001b[0m\n\u001b[1;32m    517\u001b[0m                 \u001b[0mself\u001b[0m\u001b[0;34m.\u001b[0m\u001b[0mdispatch\u001b[0m\u001b[0;34m(\u001b[0m\u001b[0mfunction\u001b[0m\u001b[0;34m,\u001b[0m \u001b[0margs\u001b[0m\u001b[0;34m,\u001b[0m \u001b[0mkwargs\u001b[0m\u001b[0;34m)\u001b[0m\u001b[0;34m\u001b[0m\u001b[0m\n\u001b[1;32m    518\u001b[0m \u001b[0;34m\u001b[0m\u001b[0m\n\u001b[0;32m--> 519\u001b[0;31m             \u001b[0mself\u001b[0m\u001b[0;34m.\u001b[0m\u001b[0mretrieve\u001b[0m\u001b[0;34m(\u001b[0m\u001b[0;34m)\u001b[0m\u001b[0;34m\u001b[0m\u001b[0m\n\u001b[0m\u001b[1;32m    520\u001b[0m             \u001b[0;31m# Make sure that we get a last message telling us we are done\u001b[0m\u001b[0;34m\u001b[0m\u001b[0;34m\u001b[0m\u001b[0m\n\u001b[1;32m    521\u001b[0m             \u001b[0melapsed_time\u001b[0m \u001b[0;34m=\u001b[0m \u001b[0mtime\u001b[0m\u001b[0;34m.\u001b[0m\u001b[0mtime\u001b[0m\u001b[0;34m(\u001b[0m\u001b[0;34m)\u001b[0m \u001b[0;34m-\u001b[0m \u001b[0mself\u001b[0m\u001b[0;34m.\u001b[0m\u001b[0m_start_time\u001b[0m\u001b[0;34m\u001b[0m\u001b[0m\n",
        "\u001b[0;32m/Users/crista/anaconda/lib/python2.7/site-packages/sklearn/externals/joblib/parallel.pyc\u001b[0m in \u001b[0;36mretrieve\u001b[0;34m(self)\u001b[0m\n\u001b[1;32m    431\u001b[0m                             \u001b[0;31m# We can now allow subprocesses again\u001b[0m\u001b[0;34m\u001b[0m\u001b[0;34m\u001b[0m\u001b[0m\n\u001b[1;32m    432\u001b[0m                             \u001b[0mos\u001b[0m\u001b[0;34m.\u001b[0m\u001b[0menviron\u001b[0m\u001b[0;34m.\u001b[0m\u001b[0mpop\u001b[0m\u001b[0;34m(\u001b[0m\u001b[0;34m'__JOBLIB_SPAWNED_PARALLEL__'\u001b[0m\u001b[0;34m,\u001b[0m \u001b[0;36m0\u001b[0m\u001b[0;34m)\u001b[0m\u001b[0;34m\u001b[0m\u001b[0m\n\u001b[0;32m--> 433\u001b[0;31m                         \u001b[0;32mraise\u001b[0m \u001b[0mexception\u001b[0m\u001b[0;34m\u001b[0m\u001b[0m\n\u001b[0m\u001b[1;32m    434\u001b[0m                     \u001b[0;32melif\u001b[0m \u001b[0misinstance\u001b[0m\u001b[0;34m(\u001b[0m\u001b[0mexception\u001b[0m\u001b[0;34m,\u001b[0m \u001b[0mTransportableException\u001b[0m\u001b[0;34m)\u001b[0m\u001b[0;34m:\u001b[0m\u001b[0;34m\u001b[0m\u001b[0m\n\u001b[1;32m    435\u001b[0m                         \u001b[0;31m# Capture exception to add information on the local\u001b[0m\u001b[0;34m\u001b[0m\u001b[0;34m\u001b[0m\u001b[0m\n",
        "\u001b[0;31mKeyboardInterrupt\u001b[0m: "
       ]
      },
      {
       "output_type": "stream",
       "stream": "stdout",
       "text": [
        "[GridSearchCV]  vec__max_df=0.8, vec__ngram_range=(1, 2), clf__alpha=2.5595479227 -  12.1s[GridSearchCV]  vec__max_df=0.8, vec__ngram_range=(1, 2), clf__alpha=2.5595479227 -  12.9s\n",
        "\n",
        "\n",
        "[GridSearchCV] vec__max_df=1.0, vec__ngram_range=(1, 1), clf__alpha=2.5595479227 [GridSearchCV] vec__max_df=1.0, vec__ngram_range=(1, 1), clf__alpha=2.5595479227 [GridSearchCV] vec__max_df=1.0, vec__ngram_range=(1, 1), clf__alpha=2.5595479227 \n",
        "\n",
        "\n",
        "[GridSearchCV]  vec__max_df=1.0, vec__ngram_range=(1, 1), clf__alpha=2.5595479227 -   3.8s[GridSearchCV]  vec__max_df=1.0, vec__ngram_range=(1, 1), clf__alpha=2.5595479227 -   3.7s[GridSearchCV]  vec__max_df=1.0, vec__ngram_range=(1, 1), clf__alpha=2.5595479227 -   3.8s\n",
        "\n",
        "\n",
        "[GridSearchCV] vec__max_df=1.0, vec__ngram_range=(1, 2), clf__alpha=2.5595479227 [GridSearchCV] vec__max_df=1.0, vec__ngram_range=(1, 2), clf__alpha=2.5595479227 [GridSearchCV] vec__max_df=1.0, vec__ngram_range=(1, 2), clf__alpha=2.5595479227 \n",
        "\n",
        "\n",
        "[GridSearchCV]  vec__max_df=1.0, vec__ngram_range=(1, 2), clf__alpha=2.5595479227 -  13.0s[GridSearchCV]  vec__max_df=1.0, vec__ngram_range=(1, 2), clf__alpha=2.5595479227 -  13.0s[GridSearchCV]  vec__max_df=1.0, vec__ngram_range=(1, 2), clf__alpha=2.5595479227 -  13.0s\n",
        "\n",
        "\n",
        "[GridSearchCV] vec__max_df=0.8, vec__ngram_range=(1, 1), clf__alpha=3.08884359648 [GridSearchCV] vec__max_df=0.8, vec__ngram_range=(1, 1), clf__alpha=3.08884359648 [GridSearchCV] vec__max_df=0.8, vec__ngram_range=(1, 1), clf__alpha=3.08884359648 \n",
        "\n",
        "\n",
        "[GridSearchCV]  vec__max_df=0.8, vec__ngram_range=(1, 1), clf__alpha=3.08884359648 -   4.1s[GridSearchCV]  vec__max_df=0.8, vec__ngram_range=(1, 1), clf__alpha=3.08884359648 -   4.1s[GridSearchCV]  vec__max_df=0.8, vec__ngram_range=(1, 1), clf__alpha=3.08884359648 -   3.7s\n",
        "\n",
        "\n",
        "[GridSearchCV] vec__max_df=0.8, vec__ngram_range=(1, 2), clf__alpha=3.08884359648 [GridSearchCV] vec__max_df=0.8, vec__ngram_range=(1, 2), clf__alpha=3.08884359648 [GridSearchCV] vec__max_df=0.8, vec__ngram_range=(1, 2), clf__alpha=3.08884359648 \n",
        "\n",
        "\n",
        "[GridSearchCV]  vec__max_df=0.8, vec__ngram_range=(1, 2), clf__alpha=3.08884359648 -  12.5s[GridSearchCV]  vec__max_df=0.8, vec__ngram_range=(1, 2), clf__alpha=3.08884359648 -  12.4s[GridSearchCV]  vec__max_df=0.8, vec__ngram_range=(1, 2), clf__alpha=3.08884359648 -  12.8s\n",
        "\n",
        "\n",
        "[GridSearchCV] vec__max_df=1.0, vec__ngram_range=(1, 1), clf__alpha=3.08884359648 [GridSearchCV] vec__max_df=1.0, vec__ngram_range=(1, 1), clf__alpha=3.08884359648 [GridSearchCV] vec__max_df=1.0, vec__ngram_range=(1, 1), clf__alpha=3.08884359648 \n",
        "\n",
        "\n",
        "[GridSearchCV]  vec__max_df=1.0, vec__ngram_range=(1, 1), clf__alpha=3.08884359648 -   3.8s[GridSearchCV]  vec__max_df=1.0, vec__ngram_range=(1, 1), clf__alpha=3.08884359648 -   3.9s[GridSearchCV]  vec__max_df=1.0, vec__ngram_range=(1, 1), clf__alpha=3.08884359648 -   3.8s\n",
        "\n",
        "\n",
        "[GridSearchCV] vec__max_df=1.0, vec__ngram_range=(1, 2), clf__alpha=3.08884359648 [GridSearchCV] vec__max_df=1.0, vec__ngram_range=(1, 2), clf__alpha=3.08884359648 [GridSearchCV] vec__max_df=1.0, vec__ngram_range=(1, 2), clf__alpha=3.08884359648 \n",
        "\n",
        "\n",
        "[GridSearchCV]  vec__max_df=1.0, vec__ngram_range=(1, 2), clf__alpha=3.08884359648 -  12.4s[GridSearchCV]  vec__max_df=1.0, vec__ngram_range=(1, 2), clf__alpha=3.08884359648 -  12.3s[GridSearchCV]  vec__max_df=1.0, vec__ngram_range=(1, 2), clf__alpha=3.08884359648 -  12.3s\n",
        "\n",
        "\n",
        "[GridSearchCV] vec__max_df=0.8, vec__ngram_range=(1, 1), clf__alpha=3.72759372031 [GridSearchCV] vec__max_df=0.8, vec__ngram_range=(1, 1), clf__alpha=3.72759372031 [GridSearchCV] vec__max_df=0.8, vec__ngram_range=(1, 1), clf__alpha=3.72759372031 \n",
        "\n",
        "\n",
        "[GridSearchCV]  vec__max_df=0.8, vec__ngram_range=(1, 1), clf__alpha=3.72759372031 -   3.9s[GridSearchCV]  vec__max_df=0.8, vec__ngram_range=(1, 1), clf__alpha=3.72759372031 -   4.4s[GridSearchCV]  vec__max_df=0.8, vec__ngram_range=(1, 1), clf__alpha=3.72759372031 -   3.7s\n",
        "\n",
        "\n",
        "[GridSearchCV] vec__max_df=0.8, vec__ngram_range=(1, 2), clf__alpha=3.72759372031 [GridSearchCV] vec__max_df=0.8, vec__ngram_range=(1, 2), clf__alpha=3.72759372031 [GridSearchCV] vec__max_df=0.8, vec__ngram_range=(1, 2), clf__alpha=3.72759372031 \n",
        "\n",
        "\n",
        "[GridSearchCV]  vec__max_df=0.8, vec__ngram_range=(1, 2), clf__alpha=3.72759372031 -  12.6s[GridSearchCV]  vec__max_df=0.8, vec__ngram_range=(1, 2), clf__alpha=3.72759372031 -  12.7s[GridSearchCV]  vec__max_df=0.8, vec__ngram_range=(1, 2), clf__alpha=3.72759372031 -  12.6s\n",
        "\n",
        "\n",
        "[GridSearchCV] vec__max_df=1.0, vec__ngram_range=(1, 1), clf__alpha=3.72759372031 [GridSearchCV] vec__max_df=1.0, vec__ngram_range=(1, 1), clf__alpha=3.72759372031 [GridSearchCV] vec__max_df=1.0, vec__ngram_range=(1, 1), clf__alpha=3.72759372031 \n",
        "\n",
        "\n",
        "[GridSearchCV]  vec__max_df=1.0, vec__ngram_range=(1, 1), clf__alpha=3.72759372031 -   3.6s[GridSearchCV]  vec__max_df=1.0, vec__ngram_range=(1, 1), clf__alpha=3.72759372031 -   3.9s[GridSearchCV]  vec__max_df=1.0, vec__ngram_range=(1, 1), clf__alpha=3.72759372031 -   4.0s\n",
        "\n",
        "\n",
        "[GridSearchCV] vec__max_df=1.0, vec__ngram_range=(1, 2), clf__alpha=3.72759372031 [GridSearchCV] vec__max_df=1.0, vec__ngram_range=(1, 2), clf__alpha=3.72759372031 [GridSearchCV] vec__max_df=1.0, vec__ngram_range=(1, 2), clf__alpha=3.72759372031 \n",
        "\n",
        "\n",
        "[GridSearchCV]  vec__max_df=1.0, vec__ngram_range=(1, 2), clf__alpha=3.72759372031 -  12.1s[GridSearchCV]  vec__max_df=1.0, vec__ngram_range=(1, 2), clf__alpha=3.72759372031 -  12.1s[GridSearchCV]  vec__max_df=1.0, vec__ngram_range=(1, 2), clf__alpha=3.72759372031 -  12.7s\n",
        "\n",
        "\n",
        "[GridSearchCV] vec__max_df=0.8, vec__ngram_range=(1, 1), clf__alpha=4.49843266897 [GridSearchCV] vec__max_df=0.8, vec__ngram_range=(1, 1), clf__alpha=4.49843266897 [GridSearchCV] vec__max_df=0.8, vec__ngram_range=(1, 1), clf__alpha=4.49843266897 \n",
        "\n",
        "\n",
        "[GridSearchCV]  vec__max_df=0.8, vec__ngram_range=(1, 1), clf__alpha=4.49843266897 -   3.9s[GridSearchCV]  vec__max_df=0.8, vec__ngram_range=(1, 1), clf__alpha=4.49843266897 -   4.2s[GridSearchCV]  vec__max_df=0.8, vec__ngram_range=(1, 1), clf__alpha=4.49843266897 -   3.8s\n",
        "\n",
        "\n",
        "[GridSearchCV] vec__max_df=0.8, vec__ngram_range=(1, 2), clf__alpha=4.49843266897 [GridSearchCV] vec__max_df=0.8, vec__ngram_range=(1, 2), clf__alpha=4.49843266897 [GridSearchCV] vec__max_df=0.8, vec__ngram_range=(1, 2), clf__alpha=4.49843266897 \n",
        "\n",
        "\n",
        "[GridSearchCV]  vec__max_df=0.8, vec__ngram_range=(1, 2), clf__alpha=4.49843266897 -  12.4s[GridSearchCV]  vec__max_df=0.8, vec__ngram_range=(1, 2), clf__alpha=4.49843266897 -  11.8s[GridSearchCV]  vec__max_df=0.8, vec__ngram_range=(1, 2), clf__alpha=4.49843266897 -  12.8s\n",
        "\n",
        "\n",
        "[GridSearchCV] vec__max_df=1.0, vec__ngram_range=(1, 1), clf__alpha=4.49843266897 [GridSearchCV] vec__max_df=1.0, vec__ngram_range=(1, 1), clf__alpha=4.49843266897 [GridSearchCV] vec__max_df=1.0, vec__ngram_range=(1, 1), clf__alpha=4.49843266897 \n",
        "\n",
        "\n",
        "[GridSearchCV]  vec__max_df=1.0, vec__ngram_range=(1, 1), clf__alpha=4.49843266897 -   4.0s[GridSearchCV]  vec__max_df=1.0, vec__ngram_range=(1, 1), clf__alpha=4.49843266897 -   3.6s[GridSearchCV]  vec__max_df=1.0, vec__ngram_range=(1, 1), clf__alpha=4.49843266897 -   3.9s\n",
        "\n",
        "\n",
        "[GridSearchCV] vec__max_df=1.0, vec__ngram_range=(1, 2), clf__alpha=4.49843266897 [GridSearchCV] vec__max_df=1.0, vec__ngram_range=(1, 2), clf__alpha=4.49843266897 [GridSearchCV] vec__max_df=1.0, vec__ngram_range=(1, 2), clf__alpha=4.49843266897 \n",
        "\n",
        "\n",
        "[GridSearchCV]  vec__max_df=1.0, vec__ngram_range=(1, 2), clf__alpha=4.49843266897 -  12.1s[GridSearchCV]  vec__max_df=1.0, vec__ngram_range=(1, 2), clf__alpha=4.49843266897 -  12.9s[GridSearchCV]  vec__max_df=1.0, vec__ngram_range=(1, 2), clf__alpha=4.49843266897 -  12.0s\n",
        "\n",
        "\n",
        "[GridSearchCV] vec__max_df=0.8, vec__ngram_range=(1, 1), clf__alpha=5.42867543932 [GridSearchCV] vec__max_df=0.8, vec__ngram_range=(1, 1), clf__alpha=5.42867543932 [GridSearchCV] vec__max_df=0.8, vec__ngram_range=(1, 1), clf__alpha=5.42867543932 \n",
        "\n",
        "\n",
        "[GridSearchCV]  vec__max_df=0.8, vec__ngram_range=(1, 1), clf__alpha=5.42867543932 -   3.9s[GridSearchCV]  vec__max_df=0.8, vec__ngram_range=(1, 1), clf__alpha=5.42867543932 -   4.1s[GridSearchCV]  vec__max_df=0.8, vec__ngram_range=(1, 1), clf__alpha=5.42867543932 -   4.1s\n",
        "\n",
        "\n",
        "[GridSearchCV] vec__max_df=0.8, vec__ngram_range=(1, 2), clf__alpha=5.42867543932 [GridSearchCV] vec__max_df=0.8, vec__ngram_range=(1, 2), clf__alpha=5.42867543932 [GridSearchCV] vec__max_df=0.8, vec__ngram_range=(1, 2), clf__alpha=5.42867543932 \n",
        "\n",
        "\n",
        "[GridSearchCV]  vec__max_df=0.8, vec__ngram_range=(1, 2), clf__alpha=5.42867543932 -  12.2s[GridSearchCV]  vec__max_df=0.8, vec__ngram_range=(1, 2), clf__alpha=5.42867543932 -  12.4s[GridSearchCV]  vec__max_df=0.8, vec__ngram_range=(1, 2), clf__alpha=5.42867543932 -  12.6s\n",
        "\n",
        "\n",
        "[GridSearchCV] vec__max_df=1.0, vec__ngram_range=(1, 1), clf__alpha=5.42867543932 [GridSearchCV] vec__max_df=1.0, vec__ngram_range=(1, 1), clf__alpha=5.42867543932 [GridSearchCV] vec__max_df=1.0, vec__ngram_range=(1, 1), clf__alpha=5.42867543932 \n",
        "\n",
        "\n",
        "[GridSearchCV]  vec__max_df=1.0, vec__ngram_range=(1, 1), clf__alpha=5.42867543932 -   4.0s[GridSearchCV]  vec__max_df=1.0, vec__ngram_range=(1, 1), clf__alpha=5.42867543932 -   3.8s[GridSearchCV]  vec__max_df=1.0, vec__ngram_range=(1, 1), clf__alpha=5.42867543932 -   3.7s\n",
        "\n",
        "\n",
        "[GridSearchCV] vec__max_df=1.0, vec__ngram_range=(1, 2), clf__alpha=5.42867543932 [GridSearchCV] vec__max_df=1.0, vec__ngram_range=(1, 2), clf__alpha=5.42867543932 [GridSearchCV] vec__max_df=1.0, vec__ngram_range=(1, 2), clf__alpha=5.42867543932 \n",
        "\n",
        "\n",
        "[GridSearchCV]  vec__max_df=1.0, vec__ngram_range=(1, 2), clf__alpha=5.42867543932 -  12.4s[GridSearchCV]  vec__max_df=1.0, vec__ngram_range=(1, 2), clf__alpha=5.42867543932 -  12.6s[GridSearchCV]  vec__max_df=1.0, vec__ngram_range=(1, 2), clf__alpha=5.42867543932 -  12.2s\n",
        "\n",
        "\n",
        "[GridSearchCV] vec__max_df=0.8, vec__ngram_range=(1, 1), clf__alpha=6.5512855686 [GridSearchCV] vec__max_df=0.8, vec__ngram_range=(1, 1), clf__alpha=6.5512855686 [GridSearchCV] vec__max_df=0.8, vec__ngram_range=(1, 1), clf__alpha=6.5512855686 \n",
        "\n",
        "\n",
        "[GridSearchCV]  vec__max_df=0.8, vec__ngram_range=(1, 1), clf__alpha=6.5512855686 -   4.1s[GridSearchCV]  vec__max_df=0.8, vec__ngram_range=(1, 1), clf__alpha=6.5512855686 -   4.1s[GridSearchCV]  vec__max_df=0.8, vec__ngram_range=(1, 1), clf__alpha=6.5512855686 -   3.8s\n",
        "\n",
        "\n",
        "[GridSearchCV] vec__max_df=0.8, vec__ngram_range=(1, 2), clf__alpha=6.5512855686 [GridSearchCV] vec__max_df=0.8, vec__ngram_range=(1, 2), clf__alpha=6.5512855686 [GridSearchCV] vec__max_df=0.8, vec__ngram_range=(1, 2), clf__alpha=6.5512855686 \n",
        "\n",
        "\n",
        "[GridSearchCV]  vec__max_df=0.8, vec__ngram_range=(1, 2), clf__alpha=6.5512855686 -  12.7s[GridSearchCV]  vec__max_df=0.8, vec__ngram_range=(1, 2), clf__alpha=6.5512855686 -  12.2s[GridSearchCV]  vec__max_df=0.8, vec__ngram_range=(1, 2), clf__alpha=6.5512855686 -  12.5s\n",
        "\n",
        "\n",
        "[GridSearchCV] vec__max_df=1.0, vec__ngram_range=(1, 1), clf__alpha=6.5512855686 [GridSearchCV] vec__max_df=1.0, vec__ngram_range=(1, 1), clf__alpha=6.5512855686 [GridSearchCV] vec__max_df=1.0, vec__ngram_range=(1, 1), clf__alpha=6.5512855686 \n",
        "\n",
        "\n",
        "[GridSearchCV]  vec__max_df=1.0, vec__ngram_range=(1, 1), clf__alpha=6.5512855686 -   4.1s[GridSearchCV]  vec__max_df=1.0, vec__ngram_range=(1, 1), clf__alpha=6.5512855686 -   4.1s[GridSearchCV]  vec__max_df=1.0, vec__ngram_range=(1, 1), clf__alpha=6.5512855686 -   4.0s\n",
        "\n"
       ]
      }
     ],
     "prompt_number": 12
    },
    {
     "cell_type": "code",
     "collapsed": false,
     "input": [
      "#### NEEDS TO BE RUN, WASN'T RUN THIS TIME\n",
      "gs.best_score_"
     ],
     "language": "python",
     "metadata": {},
     "outputs": [
      {
       "metadata": {},
       "output_type": "pyout",
       "prompt_number": 96,
       "text": [
        "0.99633577614923385"
       ]
      }
     ],
     "prompt_number": 96
    },
    {
     "cell_type": "code",
     "collapsed": false,
     "input": [
      "#### NEEDS TO BE RUN, WASN'T RUN THIS TIME\n",
      "gs.best_params_"
     ],
     "language": "python",
     "metadata": {},
     "outputs": [
      {
       "metadata": {},
       "output_type": "pyout",
       "prompt_number": 97,
       "text": [
        "{'clf__alpha': 0.0001, 'vec__max_df': 0.2, 'vec__ngram_range': (1, 2)}"
       ]
      }
     ],
     "prompt_number": 97
    },
    {
     "cell_type": "markdown",
     "metadata": {},
     "source": [
      "#### 5. Run classifier against `hard_ham`. What percentage of `hard_ham` does it correctly identify as not `spam`?"
     ]
    },
    {
     "cell_type": "code",
     "collapsed": false,
     "input": [
      "# Rebuild the pipeline using best parameters.\n",
      "# pipeline = Pipeline((\n",
      "#    ('vec', TfidfVectorizer(max_df = 0.8, ngram_range = (1, 2), use_idf=True,\n",
      "#            preprocessor=strip_headers, min_df = 2)),\n",
      "#    ('clf', MultinomialNB(alpha = 0.001)),\n",
      "# ))"
     ],
     "language": "python",
     "metadata": {},
     "outputs": [],
     "prompt_number": 95
    },
    {
     "cell_type": "code",
     "collapsed": false,
     "input": [
      "pipeline = Pipeline((\n",
      "    ('vec', TfidfVectorizer(preprocessor=strip_headers, min_df=2)),\n",
      "    ('clf', MultinomialNB()),\n",
      "))"
     ],
     "language": "python",
     "metadata": {},
     "outputs": [],
     "prompt_number": 103
    },
    {
     "cell_type": "code",
     "collapsed": false,
     "input": [
      "# I have to set up a new set of sorted files, and include spam,\n",
      "# in order to test the classifier on hard_ham and evaluate it against spam.\n",
      "categories_hh = [\n",
      "    'spam',\n",
      "    'hard_ham'\n",
      "]\n",
      "meat_train_data_hh = load_files('Classification_data/meat-train',\n",
      "    categories=categories_hh, encoding='latin-1')"
     ],
     "language": "python",
     "metadata": {},
     "outputs": [],
     "prompt_number": 104
    },
    {
     "cell_type": "code",
     "collapsed": false,
     "input": [
      "# CONFUSED AT THIS POINT\n",
      "# Does this run data through classifier without storing the classifier fit\n",
      "#    (modifying the pipeline object)?  Because above, it modified the pipeline object.\n",
      "# What is cross-validation again?\n",
      "scores = cross_val_score(pipeline, meat_train_data_hh.data,\n",
      "                         meat_train_data_hh.target, cv=3, n_jobs=3)\n",
      "scores.mean(), sem(scores)"
     ],
     "language": "python",
     "metadata": {},
     "outputs": [
      {
       "metadata": {},
       "output_type": "pyout",
       "prompt_number": 105,
       "text": [
        "(0.84687915006640102, 0.0046625855818466658)"
       ]
      }
     ],
     "prompt_number": 105
    },
    {
     "cell_type": "markdown",
     "metadata": {},
     "source": [
      "The model correctly identified 95% of the samples of hard_ham."
     ]
    },
    {
     "cell_type": "markdown",
     "metadata": {},
     "source": [
      "#### 6. Display the most discriminative features. Anything stick out?"
     ]
    },
    {
     "cell_type": "code",
     "collapsed": false,
     "input": [
      "# What's happening in this step?  Is it required?\n",
      "# I can't get the steps of the pipeline without fitting it first, right?\n",
      "# If so, why did it work above?\n",
      "_ = pipeline.fit(meat_train_data_hh.data, meat_train_data_hh.target)"
     ],
     "language": "python",
     "metadata": {},
     "outputs": [],
     "prompt_number": 107
    },
    {
     "cell_type": "code",
     "collapsed": false,
     "input": [
      "vec_name, vec = pipeline.steps[0]\n",
      "clf_name, clf = pipeline.steps[1]\n",
      "\n",
      "feature_names = vec.get_feature_names()\n",
      "target_names = meat_train_data_hh.target_names\n",
      "\n",
      "feature_weights = clf.coef_\n",
      "\n",
      "feature_weights.shape"
     ],
     "language": "python",
     "metadata": {},
     "outputs": [
      {
       "metadata": {},
       "output_type": "pyout",
       "prompt_number": 108,
       "text": [
        "(1, 19168)"
       ]
      }
     ],
     "prompt_number": 108
    },
    {
     "cell_type": "code",
     "collapsed": false,
     "input": [
      "target_names"
     ],
     "language": "python",
     "metadata": {},
     "outputs": [
      {
       "metadata": {},
       "output_type": "pyout",
       "prompt_number": 109,
       "text": [
        "['hard_ham', 'spam']"
       ]
      }
     ],
     "prompt_number": 109
    },
    {
     "cell_type": "code",
     "collapsed": false,
     "input": [
      "meat_train_data_hh.target.shape"
     ],
     "language": "python",
     "metadata": {},
     "outputs": [
      {
       "metadata": {},
       "output_type": "pyout",
       "prompt_number": 111,
       "text": [
        "(751,)"
       ]
      }
     ],
     "prompt_number": 111
    },
    {
     "cell_type": "markdown",
     "metadata": {},
     "source": [
      "### Errors:  stuck, tried to debug but still can't figure it out, will get help in office hours"
     ]
    },
    {
     "cell_type": "code",
     "collapsed": false,
     "input": [
      "def display_important_features(feature_names, target_names, weights, n_top=30):\n",
      "    for i, target_name in enumerate(target_names):\n",
      "        print(u\"Class: \" + target_name)\n",
      "        print(u\"\")\n",
      "        \n",
      "        sorted_features_indices = weights[i].argsort()[::-1]\n",
      "        \n",
      "        most_important = sorted_features_indices[:n_top]\n",
      "        print(u\", \".join(u\"{0}: {1:.4f}\".format(feature_names[j], weights[i, j])\n",
      "                        for j in most_important))\n",
      "        print(u\"...\")\n",
      "        \n",
      "        least_important = sorted_features_indices[-n_top:]\n",
      "        print(u\", \".join(u\"{0}: {1:.4f}\".format(feature_names[j], weights[i, j])\n",
      "                        for j in least_important))\n",
      "        print(u\"\")\n",
      "        \n",
      "display_important_features(feature_names, target_names, feature_weights)\n",
      "\n",
      "# ERROR BELOW, need to get help on this"
     ],
     "language": "python",
     "metadata": {},
     "outputs": [
      {
       "output_type": "stream",
       "stream": "stdout",
       "text": [
        "Class: hard_ham\n",
        "\n",
        "3d: -5.7737, font: -6.1442, to: -6.4060, the: -6.4489, you: -6.5860, td: -6.6363, br: -6.6620, and: -6.7533, of: -6.8909, http: -6.9430, tr: -7.0874, size: -7.0949, com: -7.1073, your: -7.1224, for: -7.1319, width: -7.1862, in: -7.2039, this: -7.2747, color: -7.2879, www: -7.2954, face: -7.3904, is: -7.4558, we: -7.4691, align: -7.4693, content: -7.4777, nbsp: -7.5431, center: -7.5522, are: -7.5706, that: -7.5951, our: -7.5987\n",
        "...\n",
        "drama: -10.0533, drags: -10.0533, sublink: -10.0533, subcat: -10.0533, sub_topmv: -10.0533, sub_top10: -10.0533, sub_tip: -10.0533, sub_thiswk: -10.0533, sub_steals: -10.0533, sub_sfeat: -10.0533, sub_scoop: -10.0533, sub_rev: -10.0533, sub_ques: -10.0533, sub_qa: -10.0533, sub_picks: -10.0533, sub_overh: -10.0533, sub_news: -10.0533, sub_new: -10.0533, sub_iq: -10.0533, sub_hp: -10.0533, sub_hot: -10.0533, sub_feat: -10.0533, sub_end: -10.0533, sub_ceo: -10.0533, sub_brok: -10.0533, sub_add: -10.0533, drafts: -10.0533, drag: -10.0533, dragon: -10.0533, importance: -10.0533\n",
        "\n",
        "Class: spam\n",
        "\n"
       ]
      },
      {
       "ename": "IndexError",
       "evalue": "index 1 is out of bounds for axis 0 with size 1",
       "output_type": "pyerr",
       "traceback": [
        "\u001b[0;31m---------------------------------------------------------------------------\u001b[0m\n\u001b[0;31mIndexError\u001b[0m                                Traceback (most recent call last)",
        "\u001b[0;32m<ipython-input-110-ddafc8031928>\u001b[0m in \u001b[0;36m<module>\u001b[0;34m()\u001b[0m\n\u001b[1;32m     16\u001b[0m         \u001b[0;32mprint\u001b[0m\u001b[0;34m(\u001b[0m\u001b[0;34mu\"\"\u001b[0m\u001b[0;34m)\u001b[0m\u001b[0;34m\u001b[0m\u001b[0m\n\u001b[1;32m     17\u001b[0m \u001b[0;34m\u001b[0m\u001b[0m\n\u001b[0;32m---> 18\u001b[0;31m \u001b[0mdisplay_important_features\u001b[0m\u001b[0;34m(\u001b[0m\u001b[0mfeature_names\u001b[0m\u001b[0;34m,\u001b[0m \u001b[0mtarget_names\u001b[0m\u001b[0;34m,\u001b[0m \u001b[0mfeature_weights\u001b[0m\u001b[0;34m)\u001b[0m\u001b[0;34m\u001b[0m\u001b[0m\n\u001b[0m\u001b[1;32m     19\u001b[0m \u001b[0;34m\u001b[0m\u001b[0m\n\u001b[1;32m     20\u001b[0m \u001b[0;31m# ERROR BELOW, need to get help on this\u001b[0m\u001b[0;34m\u001b[0m\u001b[0;34m\u001b[0m\u001b[0m\n",
        "\u001b[0;32m<ipython-input-110-ddafc8031928>\u001b[0m in \u001b[0;36mdisplay_important_features\u001b[0;34m(feature_names, target_names, weights, n_top)\u001b[0m\n\u001b[1;32m      4\u001b[0m         \u001b[0;32mprint\u001b[0m\u001b[0;34m(\u001b[0m\u001b[0;34mu\"\"\u001b[0m\u001b[0;34m)\u001b[0m\u001b[0;34m\u001b[0m\u001b[0m\n\u001b[1;32m      5\u001b[0m \u001b[0;34m\u001b[0m\u001b[0m\n\u001b[0;32m----> 6\u001b[0;31m         \u001b[0msorted_features_indices\u001b[0m \u001b[0;34m=\u001b[0m \u001b[0mweights\u001b[0m\u001b[0;34m[\u001b[0m\u001b[0mi\u001b[0m\u001b[0;34m]\u001b[0m\u001b[0;34m.\u001b[0m\u001b[0margsort\u001b[0m\u001b[0;34m(\u001b[0m\u001b[0;34m)\u001b[0m\u001b[0;34m[\u001b[0m\u001b[0;34m:\u001b[0m\u001b[0;34m:\u001b[0m\u001b[0;34m-\u001b[0m\u001b[0;36m1\u001b[0m\u001b[0;34m]\u001b[0m\u001b[0;34m\u001b[0m\u001b[0m\n\u001b[0m\u001b[1;32m      7\u001b[0m \u001b[0;34m\u001b[0m\u001b[0m\n\u001b[1;32m      8\u001b[0m         \u001b[0mmost_important\u001b[0m \u001b[0;34m=\u001b[0m \u001b[0msorted_features_indices\u001b[0m\u001b[0;34m[\u001b[0m\u001b[0;34m:\u001b[0m\u001b[0mn_top\u001b[0m\u001b[0;34m]\u001b[0m\u001b[0;34m\u001b[0m\u001b[0m\n",
        "\u001b[0;31mIndexError\u001b[0m: index 1 is out of bounds for axis 0 with size 1"
       ]
      }
     ],
     "prompt_number": 110
    },
    {
     "cell_type": "markdown",
     "metadata": {},
     "source": [
      "#### 7. Run classifier against `spam_2`, `easy_ham_2`, `hard_ham_2`. \n",
      "    - Plot the ROC curve (along with AUC) for each case. \n",
      "    - Print the confusion matrix"
     ]
    },
    {
     "cell_type": "code",
     "collapsed": false,
     "input": [
      "categories_test = [\n",
      "    'spam',\n",
      "    'easy_ham',\n",
      "    'ham'\n",
      "]\n",
      "\n",
      "meat_test_data = load_files('Classification_data/meat-test',\n",
      "    categories=categories_test, encoding='latin-1')"
     ],
     "language": "python",
     "metadata": {},
     "outputs": [],
     "prompt_number": 38
    },
    {
     "cell_type": "code",
     "collapsed": false,
     "input": [
      "scores = cross_val_score(pipeline, meat_test_data.data,\n",
      "                         meat_test_data.target, cv=3, n_jobs=3)\n",
      "scores.mean(), sem(scores)"
     ],
     "language": "python",
     "metadata": {},
     "outputs": [
      {
       "metadata": {},
       "output_type": "pyout",
       "prompt_number": 39,
       "text": [
        "(0.99035369774919613, 0.0024752423116382849)"
       ]
      }
     ],
     "prompt_number": 39
    },
    {
     "cell_type": "code",
     "collapsed": false,
     "input": [
      "X_test = meat_test_data.data\n",
      "y_test = meat_test_data.target\n",
      "\n",
      "# NOT SURE ABOUT THIS STEP\n",
      "# __ = pipeline.fit(X_test,y_test)\n",
      "clf = pipeline.fit(X_test,y_test)\n",
      "clf.score(X_test, y_test)\n",
      "target_predicted_proba = clf.predict_proba(X_test)\n",
      "target_predicted_proba[:5]\n",
      "\n",
      "# AGAIN GET ERROR, need to get help on this"
     ],
     "language": "python",
     "metadata": {},
     "outputs": [
      {
       "metadata": {},
       "output_type": "pyout",
       "prompt_number": 40,
       "text": [
        "array([[  1.00000000e+00,   2.00742714e-20],\n",
        "       [  1.00000000e+00,   3.91898377e-26],\n",
        "       [  1.00000000e+00,   1.67273508e-26],\n",
        "       [  2.36226183e-43,   1.00000000e+00],\n",
        "       [  1.00000000e+00,   1.13867455e-25]])"
       ]
      }
     ],
     "prompt_number": 40
    },
    {
     "cell_type": "code",
     "collapsed": false,
     "input": [
      "def plot_roc_curve(target_test, target_predicted_proba, categories):\n",
      "    from sklearn.metrics import roc_curve\n",
      "    from sklearn.metrics import auc\n",
      "    \n",
      "    for pos_label, category in enumerate(categories):\n",
      "        fpr, tpr, thresholds = roc_curve(target_test, target_predicted_proba[:, pos_label], pos_label)\n",
      "        roc_auc = auc(fpr, tpr)\n",
      "        plt.plot(fpr, tpr, label='{} ROC curve (area = {:.3f})'.format(category, roc_auc))\n",
      "    \n",
      "    plt.plot([0, 1], [0, 1], 'k--')  # random predictions curve\n",
      "    plt.xlim([0.0, 1.0])\n",
      "    plt.ylim([0.0, 1.0])\n",
      "    plt.xlabel('False Positive Rate or (1 - Specifity)')\n",
      "    plt.ylabel('True Positive Rate or (Sensitivity)')\n",
      "    plt.title('Receiver Operating Characteristic')\n",
      "    plt.legend(loc=\"lower right\")"
     ],
     "language": "python",
     "metadata": {},
     "outputs": [],
     "prompt_number": 41
    },
    {
     "cell_type": "code",
     "collapsed": false,
     "input": [
      "plot_roc_curve(y_test, target_predicted_proba, meat_test_data.target_names)"
     ],
     "language": "python",
     "metadata": {},
     "outputs": [
      {
       "metadata": {},
       "output_type": "display_data",
       "png": "[encoded data removed]",
       "text": [
        "<matplotlib.figure.Figure at 0x10aa9f4d0>"
       ]
      }
     ],
     "prompt_number": 42
    },
    {
     "cell_type": "code",
     "collapsed": false,
     "input": [
      "from sklearn.metrics import classification_report\n",
      "\n",
      "predicted = pipeline.predict(X_test)\n",
      "\n",
      "print(classification_report(y_test, predicted,\n",
      "                            target_names=meat_test_data.target_names))"
     ],
     "language": "python",
     "metadata": {},
     "outputs": [
      {
       "output_type": "stream",
       "stream": "stdout",
       "text": [
        "             precision    recall  f1-score   support\n",
        "\n",
        "   easy_ham       1.00      1.00      1.00      1401\n",
        "       spam       1.00      1.00      1.00      1398\n",
        "\n",
        "avg / total       1.00      1.00      1.00      2799\n",
        "\n"
       ]
      }
     ],
     "prompt_number": 43
    },
    {
     "cell_type": "code",
     "collapsed": false,
     "input": [
      "from sklearn.metrics import confusion_matrix\n",
      "\n",
      "pd.DataFrame(confusion_matrix(y_test, predicted), \n",
      "             index = pd.MultiIndex.from_product([['actual'], meat_test_data.target_names]),\n",
      "             columns = pd.MultiIndex.from_product([['predicted'], meat_test_data.target_names]))"
     ],
     "language": "python",
     "metadata": {},
     "outputs": []
    },
    {
     "cell_type": "markdown",
     "metadata": {},
     "source": [
      "Homework\n",
      "========\n",
      "\n",
      "1. Read the Na\u00efve Bayes documentation at [scikit-learn.org](http://scikit-learn.org/stable/modules/naive_bayes.html). There are three Na\u00efve Bayes classifiers described. Which of the other two might also be appropriate for this task?\n",
      "2. Explain your choice and apply it to either the spam/ham dataset (if you completed the pair assignment) or the newsgroups dataset (if you didn't).\n",
      "3. Use grid search cross validation to find the best parameters for both the vectorizor and classifier.\n",
      "    - Do different parameters for the vectorizor work better for this classifier?\n",
      "4. Does this classifier do better or worse than the multinomial classifier?\n",
      "5. Advanced: consider the descriptions of the two classifiers in light of which does better for this problem. Can you posit a theory as to why one classifier should do better than the other?"
     ]
    }
   ],
   "metadata": {}
  }
 ]
}