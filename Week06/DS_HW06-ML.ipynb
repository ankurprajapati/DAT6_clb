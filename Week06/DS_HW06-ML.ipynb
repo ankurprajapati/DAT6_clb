{
 "metadata": {
  "name": "",
  "signature": "sha256:0672d029d30c5f1f332e19edce2db1bfc337a9ea0810c02a04c41e2ee4699bf9"
 },
 "nbformat": 3,
 "nbformat_minor": 0,
 "worksheets": [
  {
   "cells": [
    {
     "cell_type": "markdown",
     "metadata": {
      "slideshow": {
       "slide_type": "slide"
      }
     },
     "source": [
      "Lab\n",
      "==========================\n",
      "Multiple Linear Regression\n",
      "--------------------------\n",
      "Alessandro D. Gagliardi"
     ]
    },
    {
     "cell_type": "markdown",
     "metadata": {
      "slideshow": {
       "slide_type": "slide"
      }
     },
     "source": [
      "1-2 Pairs\n",
      "=========\n",
      "(Based on [RABE](http://www.ilr.cornell.edu/~hadi/RABE4/) 3.15)\n",
      "---------\n",
      "A national insurance organization wanted to study the consumption pattern of cigarettes in all 50 states and the District of Columbia. The variables chosen for the study are:\n",
      "\n",
      "* Age: Median age of a person living in a state.\n",
      "\n",
      "* HS: Percentage of people over 25 years of age in a state who had completed high school.\n",
      "\n",
      "* Income: Per capita personal income for a state (income in dollars).\n",
      "\n",
      "* Black: Percentage of blacks living in a state.\n",
      "\n",
      "* Female: Percentage of females living in a state.\n",
      "\n",
      "* Price: Weighted average price (in cents) of a pack ofcigarettes in a state.\n",
      "\n",
      "* Sales: Number of packs of cigarettes sold in a state on a per capita basis.\n",
      "\n",
      "The data can be found at [http://www1.aucegypt.edu/faculty/hadi/RABE5/Data5/P088.txt](http://www1.aucegypt.edu/faculty/hadi/RABE5/Data5/P088.txt).\n",
      "\n",
      "Below, specify the null and alternative hypotheses, the test used, and your conclusion using a 5% level of significance.\n",
      "\n",
      "1. Test the hypothesis that the variable `Female` is not needed in the regression equation relating Sales to the six predictor variables.\n",
      "\n",
      "2. Test the hypothesis that the variables `Female` and `HS` are not needed in the above regression equation.\n",
      "\n",
      "3. Compute a 95% confidence interval for the true regression coefficient of the variable `Income`.\n",
      "\n",
      "4. What percentage of the variation in `Sales` can be accounted for when `Income` is removed from the above regression equation? Which model did you use?"
     ]
    },
    {
     "cell_type": "code",
     "collapsed": false,
     "input": [
      "# initial imports from in-class lab section\n",
      "%matplotlib inline\n",
      "import matplotlib.pyplot as plt\n",
      "import pandas as pd\n",
      "import scipy.stats as stats\n",
      "import statsmodels.formula.api as smf"
     ],
     "language": "python",
     "metadata": {},
     "outputs": [],
     "prompt_number": 60
    },
    {
     "cell_type": "markdown",
     "metadata": {},
     "source": [
      "### Below, specify the null and alternative hypotheses, the test used, and your conclusion using a 5% level of significance.\n",
      "### 1. Test the hypothesis that the variable Female is not needed in the regression equation relating Sales to the six predictor variables."
     ]
    },
    {
     "cell_type": "code",
     "collapsed": false,
     "input": [
      "# Null hypothesis:  Percent female is not a significant predictor of cigarettes sales\n",
      "# Alternative hypothesis:  Percent female is a significant predictor of cigarettes sales\n",
      "# Real-world implication:  Result is or is not consistent with the hypothesis that\n",
      "#   women buy more cigarettes than men.  If it is, when the percent of women is higher,\n",
      "#   cigarette sales per person will be higher.  This isn't proof but result will support\n",
      "#   or fail to support the idea.\n",
      "# Test used:  linear regression and significance, or lack thereof, of p-value of coefficient\n",
      "#   for that variable (e.g. female) in a linear regression model.\n",
      "d = pd.read_table('http://www1.aucegypt.edu/faculty/hadi/RABE5/Data5/P088.txt')\n",
      "d.head()"
     ],
     "language": "python",
     "metadata": {},
     "outputs": [
      {
       "html": [
        "<div style=\"max-height:1000px;max-width:1500px;overflow:auto;\">\n",
        "<table border=\"1\" class=\"dataframe\">\n",
        "  <thead>\n",
        "    <tr style=\"text-align: right;\">\n",
        "      <th></th>\n",
        "      <th>State</th>\n",
        "      <th>Age</th>\n",
        "      <th>HS</th>\n",
        "      <th>Income</th>\n",
        "      <th>Black</th>\n",
        "      <th>Female</th>\n",
        "      <th>Price</th>\n",
        "      <th>Sales</th>\n",
        "    </tr>\n",
        "  </thead>\n",
        "  <tbody>\n",
        "    <tr>\n",
        "      <th>0</th>\n",
        "      <td> AL</td>\n",
        "      <td> 27.0</td>\n",
        "      <td> 41.3</td>\n",
        "      <td> 2948</td>\n",
        "      <td> 26.2</td>\n",
        "      <td> 51.7</td>\n",
        "      <td> 42.7</td>\n",
        "      <td>  89.8</td>\n",
        "    </tr>\n",
        "    <tr>\n",
        "      <th>1</th>\n",
        "      <td> AK</td>\n",
        "      <td> 22.9</td>\n",
        "      <td> 66.7</td>\n",
        "      <td> 4644</td>\n",
        "      <td>  3.0</td>\n",
        "      <td> 45.7</td>\n",
        "      <td> 41.8</td>\n",
        "      <td> 121.3</td>\n",
        "    </tr>\n",
        "    <tr>\n",
        "      <th>2</th>\n",
        "      <td> AZ</td>\n",
        "      <td> 26.3</td>\n",
        "      <td> 58.1</td>\n",
        "      <td> 3665</td>\n",
        "      <td>  3.0</td>\n",
        "      <td> 50.8</td>\n",
        "      <td> 38.5</td>\n",
        "      <td> 115.2</td>\n",
        "    </tr>\n",
        "    <tr>\n",
        "      <th>3</th>\n",
        "      <td> AR</td>\n",
        "      <td> 29.1</td>\n",
        "      <td> 39.9</td>\n",
        "      <td> 2878</td>\n",
        "      <td> 18.3</td>\n",
        "      <td> 51.5</td>\n",
        "      <td> 38.8</td>\n",
        "      <td> 100.3</td>\n",
        "    </tr>\n",
        "    <tr>\n",
        "      <th>4</th>\n",
        "      <td> CA</td>\n",
        "      <td> 28.1</td>\n",
        "      <td> 62.6</td>\n",
        "      <td> 4493</td>\n",
        "      <td>  7.0</td>\n",
        "      <td> 50.8</td>\n",
        "      <td> 39.7</td>\n",
        "      <td> 123.0</td>\n",
        "    </tr>\n",
        "  </tbody>\n",
        "</table>\n",
        "<p>5 rows \u00d7 8 columns</p>\n",
        "</div>"
       ],
       "metadata": {},
       "output_type": "pyout",
       "prompt_number": 61,
       "text": [
        "  State   Age    HS  Income  Black  Female  Price  Sales\n",
        "0    AL  27.0  41.3    2948   26.2    51.7   42.7   89.8\n",
        "1    AK  22.9  66.7    4644    3.0    45.7   41.8  121.3\n",
        "2    AZ  26.3  58.1    3665    3.0    50.8   38.5  115.2\n",
        "3    AR  29.1  39.9    2878   18.3    51.5   38.8  100.3\n",
        "4    CA  28.1  62.6    4493    7.0    50.8   39.7  123.0\n",
        "\n",
        "[5 rows x 8 columns]"
       ]
      }
     ],
     "prompt_number": 61
    },
    {
     "cell_type": "code",
     "collapsed": false,
     "input": [
      "d.describe()"
     ],
     "language": "python",
     "metadata": {},
     "outputs": [
      {
       "html": [
        "<div style=\"max-height:1000px;max-width:1500px;overflow:auto;\">\n",
        "<table border=\"1\" class=\"dataframe\">\n",
        "  <thead>\n",
        "    <tr style=\"text-align: right;\">\n",
        "      <th></th>\n",
        "      <th>Age</th>\n",
        "      <th>HS</th>\n",
        "      <th>Income</th>\n",
        "      <th>Black</th>\n",
        "      <th>Female</th>\n",
        "      <th>Price</th>\n",
        "      <th>Sales</th>\n",
        "    </tr>\n",
        "  </thead>\n",
        "  <tbody>\n",
        "    <tr>\n",
        "      <th>count</th>\n",
        "      <td> 51.000000</td>\n",
        "      <td> 51.000000</td>\n",
        "      <td>   51.000000</td>\n",
        "      <td> 51.000000</td>\n",
        "      <td> 51.000000</td>\n",
        "      <td> 51.000000</td>\n",
        "      <td>  51.000000</td>\n",
        "    </tr>\n",
        "    <tr>\n",
        "      <th>mean</th>\n",
        "      <td> 27.466667</td>\n",
        "      <td> 53.149020</td>\n",
        "      <td> 3763.705882</td>\n",
        "      <td>  9.992157</td>\n",
        "      <td> 50.950980</td>\n",
        "      <td> 38.074510</td>\n",
        "      <td> 121.541176</td>\n",
        "    </tr>\n",
        "    <tr>\n",
        "      <th>std</th>\n",
        "      <td>  1.876983</td>\n",
        "      <td>  8.001184</td>\n",
        "      <td>  594.715639</td>\n",
        "      <td> 12.648318</td>\n",
        "      <td>  1.111463</td>\n",
        "      <td>  4.128576</td>\n",
        "      <td>  32.070374</td>\n",
        "    </tr>\n",
        "    <tr>\n",
        "      <th>min</th>\n",
        "      <td> 22.900000</td>\n",
        "      <td> 37.800000</td>\n",
        "      <td> 2626.000000</td>\n",
        "      <td>  0.200000</td>\n",
        "      <td> 45.700000</td>\n",
        "      <td> 29.000000</td>\n",
        "      <td>  65.500000</td>\n",
        "    </tr>\n",
        "    <tr>\n",
        "      <th>25%</th>\n",
        "      <td> 26.400000</td>\n",
        "      <td> 48.300000</td>\n",
        "      <td> 3271.000000</td>\n",
        "      <td>  1.600000</td>\n",
        "      <td> 50.750000</td>\n",
        "      <td> 34.700000</td>\n",
        "      <td> 105.350000</td>\n",
        "    </tr>\n",
        "    <tr>\n",
        "      <th>50%</th>\n",
        "      <td> 27.400000</td>\n",
        "      <td> 53.300000</td>\n",
        "      <td> 3751.000000</td>\n",
        "      <td>  6.000000</td>\n",
        "      <td> 51.100000</td>\n",
        "      <td> 38.900000</td>\n",
        "      <td> 119.000000</td>\n",
        "    </tr>\n",
        "    <tr>\n",
        "      <th>75%</th>\n",
        "      <td> 28.750000</td>\n",
        "      <td> 59.100000</td>\n",
        "      <td> 4116.500000</td>\n",
        "      <td> 13.550000</td>\n",
        "      <td> 51.500000</td>\n",
        "      <td> 41.350000</td>\n",
        "      <td> 124.550000</td>\n",
        "    </tr>\n",
        "    <tr>\n",
        "      <th>max</th>\n",
        "      <td> 32.300000</td>\n",
        "      <td> 67.300000</td>\n",
        "      <td> 5079.000000</td>\n",
        "      <td> 71.100000</td>\n",
        "      <td> 53.500000</td>\n",
        "      <td> 45.500000</td>\n",
        "      <td> 265.700000</td>\n",
        "    </tr>\n",
        "  </tbody>\n",
        "</table>\n",
        "<p>8 rows \u00d7 7 columns</p>\n",
        "</div>"
       ],
       "metadata": {},
       "output_type": "pyout",
       "prompt_number": 62,
       "text": [
        "             Age         HS       Income      Black     Female      Price  \\\n",
        "count  51.000000  51.000000    51.000000  51.000000  51.000000  51.000000   \n",
        "mean   27.466667  53.149020  3763.705882   9.992157  50.950980  38.074510   \n",
        "std     1.876983   8.001184   594.715639  12.648318   1.111463   4.128576   \n",
        "min    22.900000  37.800000  2626.000000   0.200000  45.700000  29.000000   \n",
        "25%    26.400000  48.300000  3271.000000   1.600000  50.750000  34.700000   \n",
        "50%    27.400000  53.300000  3751.000000   6.000000  51.100000  38.900000   \n",
        "75%    28.750000  59.100000  4116.500000  13.550000  51.500000  41.350000   \n",
        "max    32.300000  67.300000  5079.000000  71.100000  53.500000  45.500000   \n",
        "\n",
        "            Sales  \n",
        "count   51.000000  \n",
        "mean   121.541176  \n",
        "std     32.070374  \n",
        "min     65.500000  \n",
        "25%    105.350000  \n",
        "50%    119.000000  \n",
        "75%    124.550000  \n",
        "max    265.700000  \n",
        "\n",
        "[8 rows x 7 columns]"
       ]
      }
     ],
     "prompt_number": 62
    },
    {
     "cell_type": "code",
     "collapsed": false,
     "input": [
      "lmd = smf.ols('Sales ~ Age + HS + Income + Black + Female + Price', data=d)\n",
      "fitd = lmd.fit()\n",
      "print fitd.summary()"
     ],
     "language": "python",
     "metadata": {},
     "outputs": [
      {
       "output_type": "stream",
       "stream": "stdout",
       "text": [
        "                            OLS Regression Results                            \n",
        "==============================================================================\n",
        "Dep. Variable:                  Sales   R-squared:                       0.321\n",
        "Model:                            OLS   Adj. R-squared:                  0.228\n",
        "Method:                 Least Squares   F-statistic:                     3.464\n",
        "Date:                Tue, 13 May 2014   Prob (F-statistic):            0.00686\n",
        "Time:                        21:14:12   Log-Likelihood:                -238.86\n",
        "No. Observations:                  51   AIC:                             491.7\n",
        "Df Residuals:                      44   BIC:                             505.2\n",
        "Df Model:                           6                                         \n",
        "==============================================================================\n",
        "                 coef    std err          t      P>|t|      [95.0% Conf. Int.]\n",
        "------------------------------------------------------------------------------\n",
        "Intercept    103.3448    245.607      0.421      0.676      -391.644   598.334\n",
        "Age            4.5205      3.220      1.404      0.167        -1.969    11.009\n",
        "HS            -0.0616      0.815     -0.076      0.940        -1.703     1.580\n",
        "Income         0.0189      0.010      1.855      0.070        -0.002     0.040\n",
        "Black          0.3575      0.487      0.734      0.467        -0.624     1.339\n",
        "Female        -1.0529      5.561     -0.189      0.851       -12.260    10.155\n",
        "Price         -3.2549      1.031     -3.156      0.003        -5.334    -1.176\n",
        "==============================================================================\n",
        "Omnibus:                       56.254   Durbin-Watson:                   1.663\n",
        "Prob(Omnibus):                  0.000   Jarque-Bera (JB):              358.088\n",
        "Skew:                           2.842   Prob(JB):                     1.75e-78\n",
        "Kurtosis:                      14.670   Cond. No.                     2.37e+05\n",
        "==============================================================================\n",
        "\n",
        "Warnings:\n",
        "[1] The condition number is large, 2.37e+05. This might indicate that there are\n",
        "strong multicollinearity or other numerical problems.\n"
       ]
      }
     ],
     "prompt_number": 63
    },
    {
     "cell_type": "markdown",
     "metadata": {},
     "source": [
      "#### RESULT:  I conclude that we can't reject the null hypothesis because coefficient for gender is not significant, and the 95% confidence intervals span 0, which means we can't rule out a coefficient value of 0, i.e. no effect."
     ]
    },
    {
     "cell_type": "code",
     "collapsed": false,
     "input": [
      "lmd = smf.ols('Sales ~ Age + HS + Income + Black + Price', data=d)\n",
      "fitd = lmd.fit()\n",
      "print fitd.summary()"
     ],
     "language": "python",
     "metadata": {},
     "outputs": [
      {
       "output_type": "stream",
       "stream": "stdout",
       "text": [
        "                            OLS Regression Results                            \n",
        "==============================================================================\n",
        "Dep. Variable:                  Sales   R-squared:                       0.320\n",
        "Model:                            OLS   Adj. R-squared:                  0.245\n",
        "Method:                 Least Squares   F-statistic:                     4.241\n",
        "Date:                Tue, 13 May 2014   Prob (F-statistic):            0.00304\n",
        "Time:                        21:14:14   Log-Likelihood:                -238.88\n",
        "No. Observations:                  51   AIC:                             489.8\n",
        "Df Residuals:                      45   BIC:                             501.4\n",
        "Df Model:                           5                                         \n",
        "==============================================================================\n",
        "                 coef    std err          t      P>|t|      [95.0% Conf. Int.]\n",
        "------------------------------------------------------------------------------\n",
        "Intercept     59.4633     80.388      0.740      0.463      -102.446   221.372\n",
        "Age            4.1178      2.391      1.722      0.092        -0.698     8.934\n",
        "HS            -0.0668      0.805     -0.083      0.934        -1.689     1.555\n",
        "Income         0.0195      0.010      1.997      0.052        -0.000     0.039\n",
        "Black          0.3115      0.418      0.746      0.460        -0.530     1.153\n",
        "Price         -3.2520      1.020     -3.188      0.003        -5.307    -1.197\n",
        "==============================================================================\n",
        "Omnibus:                       56.194   Durbin-Watson:                   1.659\n",
        "Prob(Omnibus):                  0.000   Jarque-Bera (JB):              353.488\n",
        "Skew:                           2.846   Prob(JB):                     1.74e-77\n",
        "Kurtosis:                      14.573   Cond. No.                     7.85e+04\n",
        "==============================================================================\n",
        "\n",
        "Warnings:\n",
        "[1] The condition number is large, 7.85e+04. This might indicate that there are\n",
        "strong multicollinearity or other numerical problems.\n"
       ]
      }
     ],
     "prompt_number": 64
    },
    {
     "cell_type": "markdown",
     "metadata": {},
     "source": [
      "#### RESULT: Moreover, when we remove gender from the model and compare model performance, all t statistics for the other variables grow larger, and the adjusted r-squared increases, indicating that gender wasn't contributing anything unique to the model fit.  In addition, r-squared hardly decreases."
     ]
    },
    {
     "cell_type": "markdown",
     "metadata": {},
     "source": [
      "### 2. Test the hypothesis that the variables Female and HS are not needed in the above regression equation."
     ]
    },
    {
     "cell_type": "markdown",
     "metadata": {},
     "source": [
      "#### RESULT:  First we note that the p-value for HS in the last model is nearly 1, not significant at all.  The 95% confidence interval for the coefficient is quite wide and spans 0.  HS is not needed in this regression model, at least when the other variables are present."
     ]
    },
    {
     "cell_type": "code",
     "collapsed": false,
     "input": [
      "lmd = smf.ols('Sales ~ Age + Income + Black + Price', data=d)\n",
      "fitd = lmd.fit()\n",
      "print fitd.summary()"
     ],
     "language": "python",
     "metadata": {},
     "outputs": [
      {
       "output_type": "stream",
       "stream": "stdout",
       "text": [
        "                            OLS Regression Results                            \n",
        "==============================================================================\n",
        "Dep. Variable:                  Sales   R-squared:                       0.320\n",
        "Model:                            OLS   Adj. R-squared:                  0.261\n",
        "Method:                 Least Squares   F-statistic:                     5.416\n",
        "Date:                Tue, 13 May 2014   Prob (F-statistic):            0.00117\n",
        "Time:                        21:14:18   Log-Likelihood:                -238.88\n",
        "No. Observations:                  51   AIC:                             487.8\n",
        "Df Residuals:                      46   BIC:                             497.4\n",
        "Df Model:                           4                                         \n",
        "==============================================================================\n",
        "                 coef    std err          t      P>|t|      [95.0% Conf. Int.]\n",
        "------------------------------------------------------------------------------\n",
        "Intercept     55.3296     62.395      0.887      0.380       -70.266   180.925\n",
        "Age            4.1915      2.196      1.909      0.062        -0.228     8.611\n",
        "Income         0.0189      0.007      2.745      0.009         0.005     0.033\n",
        "Black          0.3342      0.312      1.071      0.290        -0.294     0.962\n",
        "Price         -3.2399      0.999     -3.244      0.002        -5.250    -1.230\n",
        "==============================================================================\n",
        "Omnibus:                       56.030   Durbin-Watson:                   1.661\n",
        "Prob(Omnibus):                  0.000   Jarque-Bera (JB):              350.319\n",
        "Skew:                           2.838   Prob(JB):                     8.49e-77\n",
        "Kurtosis:                      14.517   Cond. No.                     6.16e+04\n",
        "==============================================================================\n",
        "\n",
        "Warnings:\n",
        "[1] The condition number is large, 6.16e+04. This might indicate that there are\n",
        "strong multicollinearity or other numerical problems.\n"
       ]
      }
     ],
     "prompt_number": 65
    },
    {
     "cell_type": "markdown",
     "metadata": {},
     "source": [
      "#### RESULT:  When we remove HS as a model parameter, r-squared does not go down and adjusted r-squared increases, consistent with it being an unnecessary parameter."
     ]
    },
    {
     "cell_type": "markdown",
     "metadata": {},
     "source": [
      "### 3. Compute a 95% confidence interval for the true regression coefficient of the variable Income."
     ]
    },
    {
     "cell_type": "code",
     "collapsed": false,
     "input": [
      "lmd = smf.ols('Sales ~ Income', data=d)\n",
      "fitd = lmd.fit()\n",
      "print fitd.summary()"
     ],
     "language": "python",
     "metadata": {},
     "outputs": [
      {
       "output_type": "stream",
       "stream": "stdout",
       "text": [
        "                            OLS Regression Results                            \n",
        "==============================================================================\n",
        "Dep. Variable:                  Sales   R-squared:                       0.106\n",
        "Model:                            OLS   Adj. R-squared:                  0.088\n",
        "Method:                 Least Squares   F-statistic:                     5.829\n",
        "Date:                Tue, 13 May 2014   Prob (F-statistic):             0.0195\n",
        "Time:                        21:14:22   Log-Likelihood:                -245.86\n",
        "No. Observations:                  51   AIC:                             495.7\n",
        "Df Residuals:                      49   BIC:                             499.6\n",
        "Df Model:                           1                                         \n",
        "==============================================================================\n",
        "                 coef    std err          t      P>|t|      [95.0% Conf. Int.]\n",
        "------------------------------------------------------------------------------\n",
        "Intercept     55.3625     27.743      1.996      0.052        -0.389   111.114\n",
        "Income         0.0176      0.007      2.414      0.020         0.003     0.032\n",
        "==============================================================================\n",
        "Omnibus:                       47.570   Durbin-Watson:                   1.787\n",
        "Prob(Omnibus):                  0.000   Jarque-Bera (JB):              216.600\n",
        "Skew:                           2.434   Prob(JB):                     9.25e-48\n",
        "Kurtosis:                      11.845   Cond. No.                     2.46e+04\n",
        "==============================================================================\n",
        "\n",
        "Warnings:\n",
        "[1] The condition number is large, 2.46e+04. This might indicate that there are\n",
        "strong multicollinearity or other numerical problems.\n"
       ]
      }
     ],
     "prompt_number": 66
    },
    {
     "cell_type": "markdown",
     "metadata": {},
     "source": [
      "#### RESULT:  The regression coefficient for Income (I'm assuming \"true regression coefficient\" means by itself, not sure what else \"true\" would mean) is 0.0176, and its 95% confidence interval is (0.003, 0.032)."
     ]
    },
    {
     "cell_type": "markdown",
     "metadata": {},
     "source": [
      "### 4. What percentage of the variation in Sales can be accounted for when Income is removed from the above regression equation? Which model did you use?"
     ]
    },
    {
     "cell_type": "code",
     "collapsed": false,
     "input": [
      "lmd = smf.ols('Sales ~ Age + Black + Price', data=d)\n",
      "fitd = lmd.fit()\n",
      "print fitd.summary()"
     ],
     "language": "python",
     "metadata": {},
     "outputs": [
      {
       "output_type": "stream",
       "stream": "stdout",
       "text": [
        "                            OLS Regression Results                            \n",
        "==============================================================================\n",
        "Dep. Variable:                  Sales   R-squared:                       0.209\n",
        "Model:                            OLS   Adj. R-squared:                  0.158\n",
        "Method:                 Least Squares   F-statistic:                     4.135\n",
        "Date:                Tue, 13 May 2014   Prob (F-statistic):             0.0111\n",
        "Time:                        21:14:26   Log-Likelihood:                -242.75\n",
        "No. Observations:                  51   AIC:                             493.5\n",
        "Df Residuals:                      47   BIC:                             501.2\n",
        "Df Model:                           3                                         \n",
        "==============================================================================\n",
        "                 coef    std err          t      P>|t|      [95.0% Conf. Int.]\n",
        "------------------------------------------------------------------------------\n",
        "Intercept     72.8741     66.242      1.100      0.277       -60.387   206.136\n",
        "Age            5.4900      2.288      2.399      0.020         0.887    10.093\n",
        "Black          0.3794      0.333      1.141      0.260        -0.290     1.049\n",
        "Price         -2.7818      1.051     -2.647      0.011        -4.896    -0.668\n",
        "==============================================================================\n",
        "Omnibus:                       49.852   Durbin-Watson:                   1.448\n",
        "Prob(Omnibus):                  0.000   Jarque-Bera (JB):              224.714\n",
        "Skew:                           2.612   Prob(JB):                     1.60e-49\n",
        "Kurtosis:                      11.858   Cond. No.                         775.\n",
        "==============================================================================\n"
       ]
      }
     ],
     "prompt_number": 67
    },
    {
     "cell_type": "markdown",
     "metadata": {},
     "source": [
      "#### RESULT:  The amount of variation accounted for without Income in the model is 0.209 or 20.9%.  The model I used is Sales = f(Age, Black, Price), where f is an ordinary least squares model.  But the previous model, with Income included, performs better, as reflected in the higher adjusted r-squared."
     ]
    },
    {
     "cell_type": "markdown",
     "metadata": {},
     "source": [
      "Homework\n",
      "========"
     ]
    },
    {
     "cell_type": "markdown",
     "metadata": {},
     "source": [
      "Level 1\n",
      "--------\n",
      "\n",
      "Use `enron.db` from last week.\n",
      "\n",
      "1. Select a `DataFrame` containing the recipient count (as before) and the `department` of the sender for each message.\n",
      "\n",
      "2. Create a histogram of the recipient count.\n",
      "\n",
      "3. Create a new column based on the `log` of the recipient count.\n",
      "\n",
      "4. Create a histogram of that log.\n",
      "\n",
      "6. Create a boxplot of the log, splitting the data based on the `department` of the sender.\n",
      "\n",
      "7. Compute the sample mean and standard deviation of the log in the three groups.\n",
      "\n",
      "8. Compute a 95% confidence interval for the difference in recipient count between the three groups. \n",
      "\n",
      "5. At level $\\alpha=5\\%$, test the null hypothesis that the average recipient count does not differ between the three groups. What assumptions are you making? What can you conclude?"
     ]
    },
    {
     "cell_type": "code",
     "collapsed": false,
     "input": [
      "%load_ext sql"
     ],
     "language": "python",
     "metadata": {},
     "outputs": [],
     "prompt_number": 68
    },
    {
     "cell_type": "code",
     "collapsed": false,
     "input": [
      "%%bash\n",
      "sqlite3 data/enron.db .tables"
     ],
     "language": "python",
     "metadata": {},
     "outputs": [
      {
       "output_type": "stream",
       "stream": "stdout",
       "text": [
        "Employee          EmployeeWithVars  MessageBase       RecipientBase   \n",
        "EmployeeBase      Message           Recipient       \n"
       ]
      }
     ],
     "prompt_number": 69
    },
    {
     "cell_type": "code",
     "collapsed": false,
     "input": [
      "# import pandas as pd\n",
      "import sqlite3\n",
      "from pandas.io import sql\n",
      "import numpy as np\n",
      "conn = sqlite3.connect('data/enron.db')"
     ],
     "language": "python",
     "metadata": {},
     "outputs": [],
     "prompt_number": 70
    },
    {
     "cell_type": "code",
     "collapsed": false,
     "input": [
      "%%sql sqlite:///data/enron.db\n",
      "SELECT * FROM RecipientBase LIMIT 5"
     ],
     "language": "python",
     "metadata": {},
     "outputs": [
      {
       "output_type": "stream",
       "stream": "stdout",
       "text": [
        "Done.\n"
       ]
      },
      {
       "html": [
        "<table>\n",
        "    <tr>\n",
        "        <th>mid</th>\n",
        "        <th>rno</th>\n",
        "        <th>to_eid</th>\n",
        "    </tr>\n",
        "    <tr>\n",
        "        <td>1</td>\n",
        "        <td>1</td>\n",
        "        <td>59</td>\n",
        "    </tr>\n",
        "    <tr>\n",
        "        <td>2</td>\n",
        "        <td>1</td>\n",
        "        <td>15</td>\n",
        "    </tr>\n",
        "    <tr>\n",
        "        <td>3</td>\n",
        "        <td>1</td>\n",
        "        <td>15</td>\n",
        "    </tr>\n",
        "    <tr>\n",
        "        <td>4</td>\n",
        "        <td>1</td>\n",
        "        <td>109</td>\n",
        "    </tr>\n",
        "    <tr>\n",
        "        <td>4</td>\n",
        "        <td>2</td>\n",
        "        <td>49</td>\n",
        "    </tr>\n",
        "</table>"
       ],
       "metadata": {},
       "output_type": "pyout",
       "prompt_number": 71,
       "text": [
        "[(1, 1, 59), (2, 1, 15), (3, 1, 15), (4, 1, 109), (4, 2, 49)]"
       ]
      }
     ],
     "prompt_number": 71
    },
    {
     "cell_type": "code",
     "collapsed": false,
     "input": [
      "%%sql sqlite:///data/enron.db\n",
      "SELECT * FROM MessageBase LIMIT 5"
     ],
     "language": "python",
     "metadata": {},
     "outputs": [
      {
       "output_type": "stream",
       "stream": "stdout",
       "text": [
        "Done.\n"
       ]
      },
      {
       "html": [
        "<table>\n",
        "    <tr>\n",
        "        <th>mid</th>\n",
        "        <th>filename</th>\n",
        "        <th>unix_time</th>\n",
        "        <th>subject</th>\n",
        "        <th>from_eid</th>\n",
        "    </tr>\n",
        "    <tr>\n",
        "        <td>1</td>\n",
        "        <td>taylor-m/sent/11</td>\n",
        "        <td>910930020</td>\n",
        "        <td>Cd$ CME letter</td>\n",
        "        <td>138</td>\n",
        "    </tr>\n",
        "    <tr>\n",
        "        <td>2</td>\n",
        "        <td>taylor-m/sent/17</td>\n",
        "        <td>911459940</td>\n",
        "        <td>Indemnification</td>\n",
        "        <td>138</td>\n",
        "    </tr>\n",
        "    <tr>\n",
        "        <td>3</td>\n",
        "        <td>taylor-m/sent/18</td>\n",
        "        <td>911463840</td>\n",
        "        <td>Re: Indemnification</td>\n",
        "        <td>138</td>\n",
        "    </tr>\n",
        "    <tr>\n",
        "        <td>4</td>\n",
        "        <td>taylor-m/sent/23</td>\n",
        "        <td>911874180</td>\n",
        "        <td>Re: Coral Energy, L.P.</td>\n",
        "        <td>138</td>\n",
        "    </tr>\n",
        "    <tr>\n",
        "        <td>5</td>\n",
        "        <td>taylor-m/sent/27</td>\n",
        "        <td>912396120</td>\n",
        "        <td>Bankruptcy Code revisions</td>\n",
        "        <td>138</td>\n",
        "    </tr>\n",
        "</table>"
       ],
       "metadata": {},
       "output_type": "pyout",
       "prompt_number": 72,
       "text": [
        "[(1, u'taylor-m/sent/11', 910930020, u'Cd$ CME letter', 138),\n",
        " (2, u'taylor-m/sent/17', 911459940, u'Indemnification', 138),\n",
        " (3, u'taylor-m/sent/18', 911463840, u'Re: Indemnification', 138),\n",
        " (4, u'taylor-m/sent/23', 911874180, u'Re: Coral Energy, L.P.', 138),\n",
        " (5, u'taylor-m/sent/27', 912396120, u'Bankruptcy Code revisions', 138)]"
       ]
      }
     ],
     "prompt_number": 72
    },
    {
     "cell_type": "code",
     "collapsed": false,
     "input": [
      "%%sql sqlite:///data/enron.db\n",
      "SELECT rb.mid, recip_count, mb.from_eid, eb.department\n",
      "FROM\n",
      "    (SELECT mid, MAX(rno) AS recip_count FROM RecipientBase GROUP BY 1) rb\n",
      "LEFT JOIN MessageBase mb\n",
      "ON rb.mid = mb.mid\n",
      "LEFT JOIN EmployeeBase eb\n",
      "ON mb.from_eid = eb.eid\n",
      "LIMIT 10"
     ],
     "language": "python",
     "metadata": {},
     "outputs": [
      {
       "output_type": "stream",
       "stream": "stdout",
       "text": [
        "Done.\n"
       ]
      },
      {
       "html": [
        "<table>\n",
        "    <tr>\n",
        "        <th>mid</th>\n",
        "        <th>recip_count</th>\n",
        "        <th>from_eid</th>\n",
        "        <th>department</th>\n",
        "    </tr>\n",
        "    <tr>\n",
        "        <td>1</td>\n",
        "        <td>1</td>\n",
        "        <td>138</td>\n",
        "        <td>Legal</td>\n",
        "    </tr>\n",
        "    <tr>\n",
        "        <td>2</td>\n",
        "        <td>1</td>\n",
        "        <td>138</td>\n",
        "        <td>Legal</td>\n",
        "    </tr>\n",
        "    <tr>\n",
        "        <td>3</td>\n",
        "        <td>1</td>\n",
        "        <td>138</td>\n",
        "        <td>Legal</td>\n",
        "    </tr>\n",
        "    <tr>\n",
        "        <td>4</td>\n",
        "        <td>4</td>\n",
        "        <td>138</td>\n",
        "        <td>Legal</td>\n",
        "    </tr>\n",
        "    <tr>\n",
        "        <td>5</td>\n",
        "        <td>2</td>\n",
        "        <td>138</td>\n",
        "        <td>Legal</td>\n",
        "    </tr>\n",
        "    <tr>\n",
        "        <td>6</td>\n",
        "        <td>1</td>\n",
        "        <td>138</td>\n",
        "        <td>Legal</td>\n",
        "    </tr>\n",
        "    <tr>\n",
        "        <td>7</td>\n",
        "        <td>1</td>\n",
        "        <td>138</td>\n",
        "        <td>Legal</td>\n",
        "    </tr>\n",
        "    <tr>\n",
        "        <td>8</td>\n",
        "        <td>1</td>\n",
        "        <td>138</td>\n",
        "        <td>Legal</td>\n",
        "    </tr>\n",
        "    <tr>\n",
        "        <td>9</td>\n",
        "        <td>1</td>\n",
        "        <td>138</td>\n",
        "        <td>Legal</td>\n",
        "    </tr>\n",
        "    <tr>\n",
        "        <td>10</td>\n",
        "        <td>1</td>\n",
        "        <td>138</td>\n",
        "        <td>Legal</td>\n",
        "    </tr>\n",
        "</table>"
       ],
       "metadata": {},
       "output_type": "pyout",
       "prompt_number": 73,
       "text": [
        "[(1, 1, 138, u'Legal'),\n",
        " (2, 1, 138, u'Legal'),\n",
        " (3, 1, 138, u'Legal'),\n",
        " (4, 4, 138, u'Legal'),\n",
        " (5, 2, 138, u'Legal'),\n",
        " (6, 1, 138, u'Legal'),\n",
        " (7, 1, 138, u'Legal'),\n",
        " (8, 1, 138, u'Legal'),\n",
        " (9, 1, 138, u'Legal'),\n",
        " (10, 1, 138, u'Legal')]"
       ]
      }
     ],
     "prompt_number": 73
    },
    {
     "cell_type": "markdown",
     "metadata": {},
     "source": [
      "### 1. Select a DataFrame containing the recipient count (as before) and the department of the sender for each message."
     ]
    },
    {
     "cell_type": "code",
     "collapsed": false,
     "input": [
      "msg_table = sql.frame_query(\"\"\"\n",
      "SELECT rb.mid, recip_count, mb.from_eid, eb.department\n",
      "FROM\n",
      "    (SELECT mid, MAX(rno) AS recip_count FROM RecipientBase GROUP BY 1) rb\n",
      "LEFT JOIN MessageBase mb\n",
      "ON rb.mid = mb.mid\n",
      "LEFT JOIN EmployeeBase eb\n",
      "ON mb.from_eid = eb.eid\"\"\",conn,\"mid\")\n",
      "msg_table.head()"
     ],
     "language": "python",
     "metadata": {},
     "outputs": [
      {
       "html": [
        "<div style=\"max-height:1000px;max-width:1500px;overflow:auto;\">\n",
        "<table border=\"1\" class=\"dataframe\">\n",
        "  <thead>\n",
        "    <tr style=\"text-align: right;\">\n",
        "      <th></th>\n",
        "      <th>recip_count</th>\n",
        "      <th>from_eid</th>\n",
        "      <th>department</th>\n",
        "    </tr>\n",
        "    <tr>\n",
        "      <th>mid</th>\n",
        "      <th></th>\n",
        "      <th></th>\n",
        "      <th></th>\n",
        "    </tr>\n",
        "  </thead>\n",
        "  <tbody>\n",
        "    <tr>\n",
        "      <th>1</th>\n",
        "      <td> 1</td>\n",
        "      <td> 138</td>\n",
        "      <td> Legal</td>\n",
        "    </tr>\n",
        "    <tr>\n",
        "      <th>2</th>\n",
        "      <td> 1</td>\n",
        "      <td> 138</td>\n",
        "      <td> Legal</td>\n",
        "    </tr>\n",
        "    <tr>\n",
        "      <th>3</th>\n",
        "      <td> 1</td>\n",
        "      <td> 138</td>\n",
        "      <td> Legal</td>\n",
        "    </tr>\n",
        "    <tr>\n",
        "      <th>4</th>\n",
        "      <td> 4</td>\n",
        "      <td> 138</td>\n",
        "      <td> Legal</td>\n",
        "    </tr>\n",
        "    <tr>\n",
        "      <th>5</th>\n",
        "      <td> 2</td>\n",
        "      <td> 138</td>\n",
        "      <td> Legal</td>\n",
        "    </tr>\n",
        "  </tbody>\n",
        "</table>\n",
        "<p>5 rows \u00d7 3 columns</p>\n",
        "</div>"
       ],
       "metadata": {},
       "output_type": "pyout",
       "prompt_number": 74,
       "text": [
        "     recip_count  from_eid department\n",
        "mid                                  \n",
        "1              1       138      Legal\n",
        "2              1       138      Legal\n",
        "3              1       138      Legal\n",
        "4              4       138      Legal\n",
        "5              2       138      Legal\n",
        "\n",
        "[5 rows x 3 columns]"
       ]
      }
     ],
     "prompt_number": 74
    },
    {
     "cell_type": "code",
     "collapsed": false,
     "input": [
      "msg_table.describe()"
     ],
     "language": "python",
     "metadata": {},
     "outputs": [
      {
       "html": [
        "<div style=\"max-height:1000px;max-width:1500px;overflow:auto;\">\n",
        "<table border=\"1\" class=\"dataframe\">\n",
        "  <thead>\n",
        "    <tr style=\"text-align: right;\">\n",
        "      <th></th>\n",
        "      <th>recip_count</th>\n",
        "      <th>from_eid</th>\n",
        "    </tr>\n",
        "  </thead>\n",
        "  <tbody>\n",
        "    <tr>\n",
        "      <th>count</th>\n",
        "      <td> 21635.000000</td>\n",
        "      <td> 21635.000000</td>\n",
        "    </tr>\n",
        "    <tr>\n",
        "      <th>mean</th>\n",
        "      <td>     1.774347</td>\n",
        "      <td>    78.820800</td>\n",
        "    </tr>\n",
        "    <tr>\n",
        "      <th>std</th>\n",
        "      <td>     1.877923</td>\n",
        "      <td>    45.203487</td>\n",
        "    </tr>\n",
        "    <tr>\n",
        "      <th>min</th>\n",
        "      <td>     1.000000</td>\n",
        "      <td>     1.000000</td>\n",
        "    </tr>\n",
        "    <tr>\n",
        "      <th>25%</th>\n",
        "      <td>     1.000000</td>\n",
        "      <td>    42.000000</td>\n",
        "    </tr>\n",
        "    <tr>\n",
        "      <th>50%</th>\n",
        "      <td>     1.000000</td>\n",
        "      <td>    72.000000</td>\n",
        "    </tr>\n",
        "    <tr>\n",
        "      <th>75%</th>\n",
        "      <td>     2.000000</td>\n",
        "      <td>   120.000000</td>\n",
        "    </tr>\n",
        "    <tr>\n",
        "      <th>max</th>\n",
        "      <td>    57.000000</td>\n",
        "      <td>   156.000000</td>\n",
        "    </tr>\n",
        "  </tbody>\n",
        "</table>\n",
        "<p>8 rows \u00d7 2 columns</p>\n",
        "</div>"
       ],
       "metadata": {},
       "output_type": "pyout",
       "prompt_number": 75,
       "text": [
        "        recip_count      from_eid\n",
        "count  21635.000000  21635.000000\n",
        "mean       1.774347     78.820800\n",
        "std        1.877923     45.203487\n",
        "min        1.000000      1.000000\n",
        "25%        1.000000     42.000000\n",
        "50%        1.000000     72.000000\n",
        "75%        2.000000    120.000000\n",
        "max       57.000000    156.000000\n",
        "\n",
        "[8 rows x 2 columns]"
       ]
      }
     ],
     "prompt_number": 75
    },
    {
     "cell_type": "markdown",
     "metadata": {},
     "source": [
      "### 2. Create a histogram of the recipient count."
     ]
    },
    {
     "cell_type": "code",
     "collapsed": false,
     "input": [
      "msg_table.recip_count.hist(bins=range(0,60,2))\n",
      "plt.xlabel('Recipient Count')\n",
      "plt.ylabel('Frequency')"
     ],
     "language": "python",
     "metadata": {},
     "outputs": [
      {
       "metadata": {},
       "output_type": "pyout",
       "prompt_number": 76,
       "text": [
        "<matplotlib.text.Text at 0x109e10f50>"
       ]
      },
      {
       "metadata": {},
       "output_type": "display_data",
       "png": "[encoded data removed]",
       "text": [
        "<matplotlib.figure.Figure at 0x109e11dd0>"
       ]
      }
     ],
     "prompt_number": 76
    },
    {
     "cell_type": "code",
     "collapsed": false,
     "input": [
      "import numpy as np"
     ],
     "language": "python",
     "metadata": {},
     "outputs": [],
     "prompt_number": 77
    },
    {
     "cell_type": "markdown",
     "metadata": {},
     "source": [
      "### 3. Create a new column based on the log of the recipient count."
     ]
    },
    {
     "cell_type": "code",
     "collapsed": false,
     "input": [
      "msg_table['log_recip_count'] = np.log(msg_table['recip_count'])"
     ],
     "language": "python",
     "metadata": {},
     "outputs": [],
     "prompt_number": 78
    },
    {
     "cell_type": "code",
     "collapsed": false,
     "input": [
      "msg_table.describe()"
     ],
     "language": "python",
     "metadata": {},
     "outputs": [
      {
       "html": [
        "<div style=\"max-height:1000px;max-width:1500px;overflow:auto;\">\n",
        "<table border=\"1\" class=\"dataframe\">\n",
        "  <thead>\n",
        "    <tr style=\"text-align: right;\">\n",
        "      <th></th>\n",
        "      <th>recip_count</th>\n",
        "      <th>from_eid</th>\n",
        "      <th>log_recip_count</th>\n",
        "    </tr>\n",
        "  </thead>\n",
        "  <tbody>\n",
        "    <tr>\n",
        "      <th>count</th>\n",
        "      <td> 21635.000000</td>\n",
        "      <td> 21635.000000</td>\n",
        "      <td> 21635.000000</td>\n",
        "    </tr>\n",
        "    <tr>\n",
        "      <th>mean</th>\n",
        "      <td>     1.774347</td>\n",
        "      <td>    78.820800</td>\n",
        "      <td>     0.342640</td>\n",
        "    </tr>\n",
        "    <tr>\n",
        "      <th>std</th>\n",
        "      <td>     1.877923</td>\n",
        "      <td>    45.203487</td>\n",
        "      <td>     0.579779</td>\n",
        "    </tr>\n",
        "    <tr>\n",
        "      <th>min</th>\n",
        "      <td>     1.000000</td>\n",
        "      <td>     1.000000</td>\n",
        "      <td>     0.000000</td>\n",
        "    </tr>\n",
        "    <tr>\n",
        "      <th>25%</th>\n",
        "      <td>     1.000000</td>\n",
        "      <td>    42.000000</td>\n",
        "      <td>     0.000000</td>\n",
        "    </tr>\n",
        "    <tr>\n",
        "      <th>50%</th>\n",
        "      <td>     1.000000</td>\n",
        "      <td>    72.000000</td>\n",
        "      <td>     0.000000</td>\n",
        "    </tr>\n",
        "    <tr>\n",
        "      <th>75%</th>\n",
        "      <td>     2.000000</td>\n",
        "      <td>   120.000000</td>\n",
        "      <td>     0.693147</td>\n",
        "    </tr>\n",
        "    <tr>\n",
        "      <th>max</th>\n",
        "      <td>    57.000000</td>\n",
        "      <td>   156.000000</td>\n",
        "      <td>     4.043051</td>\n",
        "    </tr>\n",
        "  </tbody>\n",
        "</table>\n",
        "<p>8 rows \u00d7 3 columns</p>\n",
        "</div>"
       ],
       "metadata": {},
       "output_type": "pyout",
       "prompt_number": 79,
       "text": [
        "        recip_count      from_eid  log_recip_count\n",
        "count  21635.000000  21635.000000     21635.000000\n",
        "mean       1.774347     78.820800         0.342640\n",
        "std        1.877923     45.203487         0.579779\n",
        "min        1.000000      1.000000         0.000000\n",
        "25%        1.000000     42.000000         0.000000\n",
        "50%        1.000000     72.000000         0.000000\n",
        "75%        2.000000    120.000000         0.693147\n",
        "max       57.000000    156.000000         4.043051\n",
        "\n",
        "[8 rows x 3 columns]"
       ]
      }
     ],
     "prompt_number": 79
    },
    {
     "cell_type": "markdown",
     "metadata": {},
     "source": [
      "### 4. Create a histogram of that log."
     ]
    },
    {
     "cell_type": "code",
     "collapsed": false,
     "input": [
      "msg_table.log_recip_count.hist(bins=10)\n",
      "plt.xlabel('Log Recipient Count')\n",
      "plt.ylabel('Frequency')"
     ],
     "language": "python",
     "metadata": {},
     "outputs": [
      {
       "metadata": {},
       "output_type": "pyout",
       "prompt_number": 80,
       "text": [
        "<matplotlib.text.Text at 0x10ae47d50>"
       ]
      },
      {
       "metadata": {},
       "output_type": "display_data",
       "png": "[encoded data removed]",
       "text": [
        "<matplotlib.figure.Figure at 0x10ae7e190>"
       ]
      }
     ],
     "prompt_number": 80
    },
    {
     "cell_type": "markdown",
     "metadata": {},
     "source": [
      "### 5. Create a boxplot of the log, splitting the data based on the department of the sender."
     ]
    },
    {
     "cell_type": "code",
     "collapsed": false,
     "input": [
      "msg_table.boxplot(column='log_recip_count',by='department',figsize=(12,6))"
     ],
     "language": "python",
     "metadata": {},
     "outputs": [
      {
       "metadata": {},
       "output_type": "pyout",
       "prompt_number": 81,
       "text": [
        "<matplotlib.axes.AxesSubplot at 0x10bb00c90>"
       ]
      },
      {
       "metadata": {},
       "output_type": "display_data",
       "png": "[encoded data removed]",
       "text": [
        "<matplotlib.figure.Figure at 0x10a9e8650>"
       ]
      }
     ],
     "prompt_number": 81
    },
    {
     "cell_type": "markdown",
     "metadata": {},
     "source": [
      "### 6. Compute the sample mean and standard deviation of the log in the three groups."
     ]
    },
    {
     "cell_type": "code",
     "collapsed": false,
     "input": [
      "### Mean and s.d. can be pulled directly from the describe function.\n",
      "logrc_legal = msg_table[msg_table.department=='Legal']['log_recip_count'].describe()\n",
      "logrc_trading = msg_table[msg_table.department=='Trading']['log_recip_count'].describe()\n",
      "logrc_other = msg_table[msg_table.department=='Other']['log_recip_count'].describe()"
     ],
     "language": "python",
     "metadata": {},
     "outputs": [],
     "prompt_number": 82
    },
    {
     "cell_type": "code",
     "collapsed": false,
     "input": [
      "print('Legal: mean={0:4.3}, sd={1:4.3}'.format(logrc_legal['mean'],logrc_legal['std']))\n",
      "print('Trading: mean={0:4.3}, sd={1:4.3}'.format(logrc_trading['mean'],logrc_trading['std']))\n",
      "print('Other: mean={0:4.3}, sd={1:4.3}'.format(logrc_other['mean'],logrc_other['std']))"
     ],
     "language": "python",
     "metadata": {},
     "outputs": [
      {
       "output_type": "stream",
       "stream": "stdout",
       "text": [
        "Legal: mean=0.401, sd=0.594\n",
        "Trading: mean=0.26, sd=0.533\n",
        "Other: mean=0.307, sd=0.578\n"
       ]
      }
     ],
     "prompt_number": 83
    },
    {
     "cell_type": "markdown",
     "metadata": {},
     "source": [
      "### 7. Compute a 95% confidence interval for the difference in recipient count between the three groups.\n",
      "### 8. At level \u03b1=5%, test the null hypothesis that the average recipient count does not differ between the three groups. What assumptions are you making? What can you conclude?"
     ]
    },
    {
     "cell_type": "code",
     "collapsed": false,
     "input": [
      "import statsmodels.api as sm"
     ],
     "language": "python",
     "metadata": {},
     "outputs": [],
     "prompt_number": 84
    },
    {
     "cell_type": "code",
     "collapsed": false,
     "input": [
      "mod = sm.OLS.from_formula(\"recip_count ~ department == 'Legal' + department == 'Trading'\",\n",
      "            msg_table)\n",
      "res = mod.fit()\n",
      "print res.summary(alpha = .05)"
     ],
     "language": "python",
     "metadata": {},
     "outputs": [
      {
       "output_type": "stream",
       "stream": "stdout",
       "text": [
        "                            OLS Regression Results                            \n",
        "==============================================================================\n",
        "Dep. Variable:            recip_count   R-squared:                       0.002\n",
        "Model:                            OLS   Adj. R-squared:                  0.002\n",
        "Method:                 Least Squares   F-statistic:                     25.04\n",
        "Date:                Tue, 13 May 2014   Prob (F-statistic):           1.38e-11\n",
        "Time:                        21:15:18   Log-Likelihood:                -44307.\n",
        "No. Observations:               21635   AIC:                         8.862e+04\n",
        "Df Residuals:                   21632   BIC:                         8.864e+04\n",
        "Df Model:                           2                                         \n",
        "===================================================================================================\n",
        "                                      coef    std err          t      P>|t|      [95.0% Conf. Int.]\n",
        "---------------------------------------------------------------------------------------------------\n",
        "Intercept                           1.7490      0.023     77.179      0.000         1.705     1.793\n",
        "department == 'Legal'[T.True]       0.1067      0.029      3.657      0.000         0.050     0.164\n",
        "department == 'Trading'[T.True]    -0.1278      0.036     -3.524      0.000        -0.199    -0.057\n",
        "==============================================================================\n",
        "Omnibus:                    30631.783   Durbin-Watson:                   1.884\n",
        "Prob(Omnibus):                  0.000   Jarque-Bera (JB):         22422822.273\n",
        "Skew:                           8.057   Prob(JB):                         0.00\n",
        "Kurtosis:                     159.889   Cond. No.                         4.01\n",
        "==============================================================================\n"
       ]
      }
     ],
     "prompt_number": 85
    },
    {
     "cell_type": "markdown",
     "metadata": {},
     "source": [
      "#### RESULT:  Dept=Legal has a coefficient of 0.1067, c.i. of (0.050,0.164) and is statistically significant, dept=Trading has a coefficient of -0.1278, c.i. of (-0.199, -0.057) and is statistically significant.  However, r-squared is nearly 0, so this doesn't seem like a good model.\n"
     ]
    },
    {
     "cell_type": "code",
     "collapsed": false,
     "input": [
      "mod = sm.OLS.from_formula(\"log_recip_count ~ department == 'Legal' + department == 'Trading'\",\n",
      "            msg_table)\n",
      "res = mod.fit()\n",
      "print res.summary(alpha = .05)"
     ],
     "language": "python",
     "metadata": {},
     "outputs": [
      {
       "output_type": "stream",
       "stream": "stdout",
       "text": [
        "                            OLS Regression Results                            \n",
        "==============================================================================\n",
        "Dep. Variable:        log_recip_count   R-squared:                       0.010\n",
        "Model:                            OLS   Adj. R-squared:                  0.010\n",
        "Method:                 Least Squares   F-statistic:                     111.7\n",
        "Date:                Tue, 13 May 2014   Prob (F-statistic):           5.44e-49\n",
        "Time:                        21:15:22   Log-Likelihood:                -18794.\n",
        "No. Observations:               21635   AIC:                         3.759e+04\n",
        "Df Residuals:                   21632   BIC:                         3.762e+04\n",
        "Df Model:                           2                                         \n",
        "===================================================================================================\n",
        "                                      coef    std err          t      P>|t|      [95.0% Conf. Int.]\n",
        "---------------------------------------------------------------------------------------------------\n",
        "Intercept                           0.3072      0.007     44.091      0.000         0.294     0.321\n",
        "department == 'Legal'[T.True]       0.0938      0.009     10.449      0.000         0.076     0.111\n",
        "department == 'Trading'[T.True]    -0.0477      0.011     -4.278      0.000        -0.070    -0.026\n",
        "==============================================================================\n",
        "Omnibus:                     6257.587   Durbin-Watson:                   1.858\n",
        "Prob(Omnibus):                  0.000   Jarque-Bera (JB):            14622.508\n",
        "Skew:                           1.652   Prob(JB):                         0.00\n",
        "Kurtosis:                       5.303   Cond. No.                         4.01\n",
        "==============================================================================\n"
       ]
      }
     ],
     "prompt_number": 86
    },
    {
     "cell_type": "markdown",
     "metadata": {},
     "source": [
      "#### RESULT:  Using the log of recipient count instead creates a better model.  However, r-squared is still pretty low."
     ]
    },
    {
     "cell_type": "markdown",
     "metadata": {},
     "source": [
      "Level 2\n",
      "-------\n",
      "A criminologist studying the relationship between income level and assults in U.S. cities (among other things) collected the following data for 2215 communities. The dataset can be found in the [UCI machine learning site](http://archive.ics.uci.edu/ml/datasets/Communities+and+Crime+Unnormalized).\n",
      "\n",
      "We are interested in the per capita assult rate and its relation to median income."
     ]
    },
    {
     "cell_type": "code",
     "collapsed": false,
     "input": [
      "crime = pd.read_csv(\"http://archive.ics.uci.edu/ml/machine-learning-databases/00211/CommViolPredUnnormalizedData.txt\",\n",
      "                    header = None, na_values  = '?',\n",
      "                    names = ['communityname', 'state', 'countyCode', 'communityCode', 'fold', 'population', 'householdsize', 'racepctblack', 'racePctWhite', 'racePctAsian', 'racePctHisp', 'agePct12t21', 'agePct12t29', 'agePct16t24', 'agePct65up', 'numbUrban', 'pctUrban', 'medIncome', 'pctWWage', 'pctWFarmSelf', 'pctWInvInc', 'pctWSocSec', 'pctWPubAsst', 'pctWRetire', 'medFamInc', 'perCapInc', 'whitePerCap', 'blackPerCap', 'indianPerCap', 'AsianPerCap', 'OtherPerCap', 'HispPerCap', 'NumUnderPov', 'PctPopUnderPov', 'PctLess9thGrade', 'PctNotHSGrad', 'PctBSorMore', 'PctUnemployed', 'PctEmploy', 'PctEmplManu', 'PctEmplProfServ', 'PctOccupManu', 'PctOccupMgmtProf', 'MalePctDivorce', 'MalePctNevMarr', 'FemalePctDiv', 'TotalPctDiv', 'PersPerFam', 'PctFam2Par', 'PctKids2Par', 'PctYoungKids2Par', 'PctTeen2Par', 'PctWorkMomYoungKids', 'PctWorkMom', 'NumKidsBornNeverMar', 'PctKidsBornNeverMar', 'NumImmig', 'PctImmigRecent', 'PctImmigRec5', 'PctImmigRec8', 'PctImmigRec10', 'PctRecentImmig', 'PctRecImmig5', 'PctRecImmig8', 'PctRecImmig10', 'PctSpeakEnglOnly', 'PctNotSpeakEnglWell', 'PctLargHouseFam', 'PctLargHouseOccup', 'PersPerOccupHous', 'PersPerOwnOccHous', 'PersPerRentOccHous', 'PctPersOwnOccup', 'PctPersDenseHous', 'PctHousLess3BR', 'MedNumBR', 'HousVacant', 'PctHousOccup', 'PctHousOwnOcc', 'PctVacantBoarded', 'PctVacMore6Mos', 'MedYrHousBuilt', 'PctHousNoPhone', 'PctWOFullPlumb', 'OwnOccLowQuart', 'OwnOccMedVal', 'OwnOccHiQuart', 'OwnOccQrange', 'RentLowQ', 'RentMedian', 'RentHighQ', 'RentQrange', 'MedRent', 'MedRentPctHousInc', 'MedOwnCostPctInc', 'MedOwnCostPctIncNoMtg', 'NumInShelters', 'NumStreet', 'PctForeignBorn', 'PctBornSameState', 'PctSameHouse85', 'PctSameCity85', 'PctSameState85', 'LemasSwornFT', 'LemasSwFTPerPop', 'LemasSwFTFieldOps', 'LemasSwFTFieldPerPop', 'LemasTotalReq', 'LemasTotReqPerPop', 'PolicReqPerOffic', 'PolicPerPop', 'RacialMatchCommPol', 'PctPolicWhite', 'PctPolicBlack', 'PctPolicHisp', 'PctPolicAsian', 'PctPolicMinor', 'OfficAssgnDrugUnits', 'NumKindsDrugsSeiz', 'PolicAveOTWorked', 'LandArea', 'PopDens', 'PctUsePubTrans', 'PolicCars', 'PolicOperBudg', 'LemasPctPolicOnPatr', 'LemasGangUnitDeploy', 'LemasPctOfficDrugUn', 'PolicBudgPerPop', 'murders', 'murdPerPop', 'rapes', 'rapesPerPop', 'robberies', 'robbbPerPop', 'assaults', 'assaultPerPop', 'burglaries', 'burglPerPop', 'larcenies', 'larcPerPop', 'autoTheft', 'autoTheftPerPop', 'arsons', 'arsonsPerPop', 'ViolentCrimesPerPop', 'nonViolPerPop'])"
     ],
     "language": "python",
     "metadata": {},
     "outputs": [],
     "prompt_number": 91
    },
    {
     "cell_type": "markdown",
     "metadata": {},
     "source": [
      "1. Fit a simple linear regression model to the data with `np.log(crime.assaults)` as the dependent variable and `np.log(crime.medIncome)` as the independent variable. Plot the estimated regression line.\n",
      "\n",
      "4. Test whether there is a linear relationship between `assaults` and `medIncome` at level $\\alpha=0.05$. State the null hypothesis, the alternative, the conclusion and the $p$-value.\n",
      "\n",
      "5. Give a 95% confidence interval for the slope of the regression line. Interpret your interval.\n",
      "\n",
      "6. Report the $R^2$ and the adjusted $R^2$ of the model, as well as an estimate of the variance of the errors in the model.\n",
      "\n",
      "7. Go to [archive.ics.uci.edu/ml/datasets/Communities+and+Crime+Unnormalized](http://archive.ics.uci.edu/ml/datasets/Communities+and+Crime+Unnormalized) and pick out a few other factors that might help you predict `assults`."
     ]
    },
    {
     "cell_type": "markdown",
     "metadata": {},
     "source": [
      "### 1. Fit a simple linear regression model to the data with np.log(crime.assaults) as the dependent variable and np.log(crime.medIncome) as the independent variable. Plot the estimated regression line."
     ]
    },
    {
     "cell_type": "code",
     "collapsed": false,
     "input": [
      "crime['assaults'].describe()"
     ],
     "language": "python",
     "metadata": {},
     "outputs": [
      {
       "metadata": {},
       "output_type": "pyout",
       "prompt_number": 97,
       "text": [
        "count     2202.000000\n",
        "mean       326.528156\n",
        "std       1987.947941\n",
        "min          0.000000\n",
        "25%         18.000000\n",
        "50%         56.000000\n",
        "75%        180.000000\n",
        "max      62778.000000\n",
        "Name: assaults, dtype: float64"
       ]
      }
     ],
     "prompt_number": 97
    },
    {
     "cell_type": "code",
     "collapsed": false,
     "input": [
      "income_df = pd.DataFrame(crime,columns=['assaults','medIncome'])\n",
      "income_df.head()"
     ],
     "language": "python",
     "metadata": {},
     "outputs": [
      {
       "html": [
        "<div style=\"max-height:1000px;max-width:1500px;overflow:auto;\">\n",
        "<table border=\"1\" class=\"dataframe\">\n",
        "  <thead>\n",
        "    <tr style=\"text-align: right;\">\n",
        "      <th></th>\n",
        "      <th>assaults</th>\n",
        "      <th>medIncome</th>\n",
        "    </tr>\n",
        "  </thead>\n",
        "  <tbody>\n",
        "    <tr>\n",
        "      <th>0</th>\n",
        "      <td>  4</td>\n",
        "      <td> 75122</td>\n",
        "    </tr>\n",
        "    <tr>\n",
        "      <th>1</th>\n",
        "      <td> 24</td>\n",
        "      <td> 47917</td>\n",
        "    </tr>\n",
        "    <tr>\n",
        "      <th>2</th>\n",
        "      <td> 14</td>\n",
        "      <td> 35669</td>\n",
        "    </tr>\n",
        "    <tr>\n",
        "      <th>3</th>\n",
        "      <td> 33</td>\n",
        "      <td> 20580</td>\n",
        "    </tr>\n",
        "    <tr>\n",
        "      <th>4</th>\n",
        "      <td> 14</td>\n",
        "      <td> 17390</td>\n",
        "    </tr>\n",
        "  </tbody>\n",
        "</table>\n",
        "<p>5 rows \u00d7 2 columns</p>\n",
        "</div>"
       ],
       "metadata": {},
       "output_type": "pyout",
       "prompt_number": 103,
       "text": [
        "   assaults  medIncome\n",
        "0         4      75122\n",
        "1        24      47917\n",
        "2        14      35669\n",
        "3        33      20580\n",
        "4        14      17390\n",
        "\n",
        "[5 rows x 2 columns]"
       ]
      }
     ],
     "prompt_number": 103
    },
    {
     "cell_type": "code",
     "collapsed": false,
     "input": [
      "income_df['log_assaults'] = np.log(1+income_df['assaults'])\n",
      "income_df['log_medIncome'] = np.log(1+income_df['medIncome'])\n",
      "income_df.head()"
     ],
     "language": "python",
     "metadata": {},
     "outputs": [
      {
       "html": [
        "<div style=\"max-height:1000px;max-width:1500px;overflow:auto;\">\n",
        "<table border=\"1\" class=\"dataframe\">\n",
        "  <thead>\n",
        "    <tr style=\"text-align: right;\">\n",
        "      <th></th>\n",
        "      <th>assaults</th>\n",
        "      <th>medIncome</th>\n",
        "      <th>log_assaults</th>\n",
        "      <th>log_medIncome</th>\n",
        "    </tr>\n",
        "  </thead>\n",
        "  <tbody>\n",
        "    <tr>\n",
        "      <th>0</th>\n",
        "      <td>  4</td>\n",
        "      <td> 75122</td>\n",
        "      <td> 1.609438</td>\n",
        "      <td> 11.226882</td>\n",
        "    </tr>\n",
        "    <tr>\n",
        "      <th>1</th>\n",
        "      <td> 24</td>\n",
        "      <td> 47917</td>\n",
        "      <td> 3.218876</td>\n",
        "      <td> 10.777246</td>\n",
        "    </tr>\n",
        "    <tr>\n",
        "      <th>2</th>\n",
        "      <td> 14</td>\n",
        "      <td> 35669</td>\n",
        "      <td> 2.708050</td>\n",
        "      <td> 10.482065</td>\n",
        "    </tr>\n",
        "    <tr>\n",
        "      <th>3</th>\n",
        "      <td> 33</td>\n",
        "      <td> 20580</td>\n",
        "      <td> 3.526361</td>\n",
        "      <td>  9.932124</td>\n",
        "    </tr>\n",
        "    <tr>\n",
        "      <th>4</th>\n",
        "      <td> 14</td>\n",
        "      <td> 17390</td>\n",
        "      <td> 2.708050</td>\n",
        "      <td>  9.763708</td>\n",
        "    </tr>\n",
        "  </tbody>\n",
        "</table>\n",
        "<p>5 rows \u00d7 4 columns</p>\n",
        "</div>"
       ],
       "metadata": {},
       "output_type": "pyout",
       "prompt_number": 113,
       "text": [
        "   assaults  medIncome  log_assaults  log_medIncome\n",
        "0         4      75122      1.609438      11.226882\n",
        "1        24      47917      3.218876      10.777246\n",
        "2        14      35669      2.708050      10.482065\n",
        "3        33      20580      3.526361       9.932124\n",
        "4        14      17390      2.708050       9.763708\n",
        "\n",
        "[5 rows x 4 columns]"
       ]
      }
     ],
     "prompt_number": 113
    },
    {
     "cell_type": "code",
     "collapsed": false,
     "input": [
      "lmd = smf.ols('log_assaults ~ log_medIncome', data=income_df)\n",
      "fitd = lmd.fit()\n",
      "print fitd.summary()"
     ],
     "language": "python",
     "metadata": {},
     "outputs": [
      {
       "output_type": "stream",
       "stream": "stdout",
       "text": [
        "                            OLS Regression Results                            \n",
        "==============================================================================\n",
        "Dep. Variable:           log_assaults   R-squared:                       0.138\n",
        "Model:                            OLS   Adj. R-squared:                  0.138\n",
        "Method:                 Least Squares   F-statistic:                     352.5\n",
        "Date:                Tue, 13 May 2014   Prob (F-statistic):           4.51e-73\n",
        "Time:                        21:42:51   Log-Likelihood:                -4056.8\n",
        "No. Observations:                2202   AIC:                             8118.\n",
        "Df Residuals:                    2200   BIC:                             8129.\n",
        "Df Model:                           1                                         \n",
        "=================================================================================\n",
        "                    coef    std err          t      P>|t|      [95.0% Conf. Int.]\n",
        "---------------------------------------------------------------------------------\n",
        "Intercept        21.2535      0.912     23.293      0.000        19.464    23.043\n",
        "log_medIncome    -1.6520      0.088    -18.776      0.000        -1.825    -1.479\n",
        "==============================================================================\n",
        "Omnibus:                       42.142   Durbin-Watson:                   2.009\n",
        "Prob(Omnibus):                  0.000   Jarque-Bera (JB):               52.485\n",
        "Skew:                           0.257   Prob(JB):                     4.01e-12\n",
        "Kurtosis:                       3.555   Cond. No.                         293.\n",
        "==============================================================================\n"
       ]
      }
     ],
     "prompt_number": 114
    },
    {
     "cell_type": "code",
     "collapsed": false,
     "input": [
      "fitd.params"
     ],
     "language": "python",
     "metadata": {},
     "outputs": [
      {
       "metadata": {},
       "output_type": "pyout",
       "prompt_number": 121,
       "text": [
        "Intercept        21.253548\n",
        "log_medIncome    -1.652037\n",
        "dtype: float64"
       ]
      }
     ],
     "prompt_number": 121
    },
    {
     "cell_type": "code",
     "collapsed": false,
     "input": [
      "plt.scatter(income_df['log_medIncome'],income_df['log_assaults'])\n",
      "plt.xlabel('log of medIncome')\n",
      "plt.ylabel('log of assaults')\n",
      "plt.plot([income_df['log_medIncome'].min(),income_df['log_medIncome'].max()],\n",
      "         [fitd.params.Intercept+fitd.params.log_medIncome*income_df['log_medIncome'].min(),\n",
      "          fitd.params.Intercept+fitd.params.log_medIncome*income_df['log_medIncome'].max()],\n",
      "         linewidth=3)"
     ],
     "language": "python",
     "metadata": {},
     "outputs": [
      {
       "metadata": {},
       "output_type": "pyout",
       "prompt_number": 122,
       "text": [
        "[<matplotlib.lines.Line2D at 0x10e5ad2d0>]"
       ]
      },
      {
       "metadata": {},
       "output_type": "display_data",
       "png": "[encoded data removed]",
       "text": [
        "<matplotlib.figure.Figure at 0x10e5ad050>"
       ]
      }
     ],
     "prompt_number": 122
    },
    {
     "cell_type": "markdown",
     "metadata": {},
     "source": [
      "### 2. Test whether there is a linear relationship between assaults and medIncome at level \u03b1=0.05. State the null hypothesis, the alternative, the conclusion and the p-value."
     ]
    },
    {
     "cell_type": "markdown",
     "metadata": {},
     "source": [
      "#### Null hypothesis:  There is no linear relationship between assaults and medIncome.  (Actually, we've log transformed the data first, so the null hypothesis is that there's a linear relationship between the LOG of these two variables.)  Alternatively, there is a linear relationship, in which case the slope of the regression will be significantly different from 0.  At alpha = 0.05 (95% confidence), the slope is -1.65 with 95% confidence interval of (-1.83,-1.48), and a p-value < .001.  So the result is significant (the p-value is < .05 and the CIs for the slope do not include 0)."
     ]
    },
    {
     "cell_type": "markdown",
     "metadata": {},
     "source": [
      "### 3. Give a 95% confidence interval for the slope of the regression line. Interpret your interval."
     ]
    },
    {
     "cell_type": "markdown",
     "metadata": {},
     "source": [
      "#### The 95% confidence interval is (-1.83,-1.48).  The slope of -1.65 is in log units, i.e. units of log-medIncome.  For every unit of log-medIncome, we expect a decrease in log-assaults of -1.65 units."
     ]
    },
    {
     "cell_type": "markdown",
     "metadata": {},
     "source": [
      "### 4. Report the R2 and the adjusted R2 of the model, as well as an estimate of the variance of the errors in the model."
     ]
    },
    {
     "cell_type": "markdown",
     "metadata": {},
     "source": [
      "#### R-squared and adjusted r-squared = .138.  They are the same because the model only has one parameter.  The std of the error on the coefficient for log-medIncome is .088, so the variance is std^2 = (.088)^2 = .0077, or 0.77%."
     ]
    },
    {
     "cell_type": "markdown",
     "metadata": {},
     "source": [
      "### 5. Go to archive.ics.uci.edu/ml/datasets/Communities+and+Crime+Unnormalized and pick out a few other factors that might help you predict assaults."
     ]
    },
    {
     "cell_type": "markdown",
     "metadata": {},
     "source": [
      "#### Additional variables selected:  PopDens, PolicPerPop, RentMedian, racePctWhite, racepctblack, racePctHisp, racePctAsian, PctPopUnderPov, PctUnemployed\n"
     ]
    },
    {
     "cell_type": "code",
     "collapsed": false,
     "input": [
      "pop_df = pd.DataFrame(crime,columns=['assaults','medIncome',\n",
      "        'PopDens', 'PolicPerPop', 'RentMedian', 'racePctWhite', 'racepctblack', 'racePctHisp',\n",
      "        'racePctAsian', 'PctPopUnderPov', 'PctUnemployed'])"
     ],
     "language": "python",
     "metadata": {},
     "outputs": [],
     "prompt_number": 130
    },
    {
     "cell_type": "code",
     "collapsed": false,
     "input": [
      "pop_df['PopDens'].describe()"
     ],
     "language": "python",
     "metadata": {},
     "outputs": [
      {
       "metadata": {},
       "output_type": "pyout",
       "prompt_number": 131,
       "text": [
        "count     2215.000000\n",
        "mean      2783.835034\n",
        "std       2828.993341\n",
        "min         10.000000\n",
        "25%       1181.900000\n",
        "50%       2027.300000\n",
        "75%       3321.700000\n",
        "max      44229.900000\n",
        "Name: PopDens, dtype: float64"
       ]
      }
     ],
     "prompt_number": 131
    },
    {
     "cell_type": "code",
     "collapsed": false,
     "input": [
      "pop_df['log_assaults'] = np.log(1+pop_df['assaults'])\n",
      "pop_df.head()"
     ],
     "language": "python",
     "metadata": {},
     "outputs": [
      {
       "html": [
        "<div style=\"max-height:1000px;max-width:1500px;overflow:auto;\">\n",
        "<table border=\"1\" class=\"dataframe\">\n",
        "  <thead>\n",
        "    <tr style=\"text-align: right;\">\n",
        "      <th></th>\n",
        "      <th>assaults</th>\n",
        "      <th>medIncome</th>\n",
        "      <th>PopDens</th>\n",
        "      <th>PolicPerPop</th>\n",
        "      <th>RentMedian</th>\n",
        "      <th>racePctWhite</th>\n",
        "      <th>racepctblack</th>\n",
        "      <th>racePctHisp</th>\n",
        "      <th>racePctAsian</th>\n",
        "      <th>PctPopUnderPov</th>\n",
        "      <th>PctUnemployed</th>\n",
        "      <th>log_assaults</th>\n",
        "    </tr>\n",
        "  </thead>\n",
        "  <tbody>\n",
        "    <tr>\n",
        "      <th>0</th>\n",
        "      <td>  4</td>\n",
        "      <td> 75122</td>\n",
        "      <td> 1845.9</td>\n",
        "      <td>NaN</td>\n",
        "      <td> 1001</td>\n",
        "      <td> 91.78</td>\n",
        "      <td> 1.37</td>\n",
        "      <td> 1.88</td>\n",
        "      <td> 6.50</td>\n",
        "      <td>  1.96</td>\n",
        "      <td> 2.70</td>\n",
        "      <td> 1.609438</td>\n",
        "    </tr>\n",
        "    <tr>\n",
        "      <th>1</th>\n",
        "      <td> 24</td>\n",
        "      <td> 47917</td>\n",
        "      <td> 2186.7</td>\n",
        "      <td>NaN</td>\n",
        "      <td>  560</td>\n",
        "      <td> 95.57</td>\n",
        "      <td> 0.80</td>\n",
        "      <td> 0.85</td>\n",
        "      <td> 3.44</td>\n",
        "      <td>  3.98</td>\n",
        "      <td> 2.43</td>\n",
        "      <td> 3.218876</td>\n",
        "    </tr>\n",
        "    <tr>\n",
        "      <th>2</th>\n",
        "      <td> 14</td>\n",
        "      <td> 35669</td>\n",
        "      <td> 2780.9</td>\n",
        "      <td>NaN</td>\n",
        "      <td>  428</td>\n",
        "      <td> 94.33</td>\n",
        "      <td> 0.74</td>\n",
        "      <td> 2.35</td>\n",
        "      <td> 3.43</td>\n",
        "      <td>  4.75</td>\n",
        "      <td> 4.01</td>\n",
        "      <td> 2.708050</td>\n",
        "    </tr>\n",
        "    <tr>\n",
        "      <th>3</th>\n",
        "      <td> 33</td>\n",
        "      <td> 20580</td>\n",
        "      <td> 3217.7</td>\n",
        "      <td>NaN</td>\n",
        "      <td>  250</td>\n",
        "      <td> 97.35</td>\n",
        "      <td> 1.70</td>\n",
        "      <td> 0.70</td>\n",
        "      <td> 0.50</td>\n",
        "      <td> 17.23</td>\n",
        "      <td> 9.86</td>\n",
        "      <td> 3.526361</td>\n",
        "    </tr>\n",
        "    <tr>\n",
        "      <th>4</th>\n",
        "      <td> 14</td>\n",
        "      <td> 17390</td>\n",
        "      <td>  974.2</td>\n",
        "      <td>NaN</td>\n",
        "      <td>  283</td>\n",
        "      <td> 89.16</td>\n",
        "      <td> 0.53</td>\n",
        "      <td> 0.52</td>\n",
        "      <td> 1.17</td>\n",
        "      <td> 29.99</td>\n",
        "      <td> 9.08</td>\n",
        "      <td> 2.708050</td>\n",
        "    </tr>\n",
        "  </tbody>\n",
        "</table>\n",
        "<p>5 rows \u00d7 12 columns</p>\n",
        "</div>"
       ],
       "metadata": {},
       "output_type": "pyout",
       "prompt_number": 132,
       "text": [
        "   assaults  medIncome  PopDens  PolicPerPop  RentMedian  racePctWhite  \\\n",
        "0         4      75122   1845.9          NaN        1001         91.78   \n",
        "1        24      47917   2186.7          NaN         560         95.57   \n",
        "2        14      35669   2780.9          NaN         428         94.33   \n",
        "3        33      20580   3217.7          NaN         250         97.35   \n",
        "4        14      17390    974.2          NaN         283         89.16   \n",
        "\n",
        "   racepctblack  racePctHisp  racePctAsian  PctPopUnderPov  PctUnemployed  \\\n",
        "0          1.37         1.88          6.50            1.96           2.70   \n",
        "1          0.80         0.85          3.44            3.98           2.43   \n",
        "2          0.74         2.35          3.43            4.75           4.01   \n",
        "3          1.70         0.70          0.50           17.23           9.86   \n",
        "4          0.53         0.52          1.17           29.99           9.08   \n",
        "\n",
        "   log_assaults  \n",
        "0      1.609438  \n",
        "1      3.218876  \n",
        "2      2.708050  \n",
        "3      3.526361  \n",
        "4      2.708050  \n",
        "\n",
        "[5 rows x 12 columns]"
       ]
      }
     ],
     "prompt_number": 132
    },
    {
     "cell_type": "code",
     "collapsed": false,
     "input": [
      "lmpop = smf.ols('log_assaults ~ PopDens + PctPopUnderPov + racePctWhite + PctUnemployed', data=pop_df)\n",
      "fitpop = lmpop.fit()\n",
      "print fitpop.summary()"
     ],
     "language": "python",
     "metadata": {},
     "outputs": [
      {
       "output_type": "stream",
       "stream": "stdout",
       "text": [
        "                            OLS Regression Results                            \n",
        "==============================================================================\n",
        "Dep. Variable:           log_assaults   R-squared:                       0.366\n",
        "Model:                            OLS   Adj. R-squared:                  0.365\n",
        "Method:                 Least Squares   F-statistic:                     317.2\n",
        "Date:                Tue, 13 May 2014   Prob (F-statistic):          1.44e-215\n",
        "Time:                        22:38:01   Log-Likelihood:                -3718.6\n",
        "No. Observations:                2202   AIC:                             7447.\n",
        "Df Residuals:                    2197   BIC:                             7476.\n",
        "Df Model:                           4                                         \n",
        "==================================================================================\n",
        "                     coef    std err          t      P>|t|      [95.0% Conf. Int.]\n",
        "----------------------------------------------------------------------------------\n",
        "Intercept          7.0206      0.237     29.677      0.000         6.557     7.484\n",
        "PopDens         6.121e-05   1.05e-05      5.803      0.000      4.05e-05  8.19e-05\n",
        "PctPopUnderPov     0.0352      0.005      6.586      0.000         0.025     0.046\n",
        "racePctWhite      -0.0425      0.002    -19.422      0.000        -0.047    -0.038\n",
        "PctUnemployed      0.0170      0.016      1.088      0.277        -0.014     0.048\n",
        "==============================================================================\n",
        "Omnibus:                       12.776   Durbin-Watson:                   1.992\n",
        "Prob(Omnibus):                  0.002   Jarque-Bera (JB):               14.334\n",
        "Skew:                           0.127   Prob(JB):                     0.000772\n",
        "Kurtosis:                       3.303   Cond. No.                     3.36e+04\n",
        "==============================================================================\n",
        "\n",
        "Warnings:\n",
        "[1] The condition number is large, 3.36e+04. This might indicate that there are\n",
        "strong multicollinearity or other numerical problems.\n"
       ]
      }
     ],
     "prompt_number": 133
    },
    {
     "cell_type": "markdown",
     "metadata": {},
     "source": [
      "#### RESULT:  It looks like population density and percent of population under the poverty line are correlated with assault rate, and percent White is inversely correlated with assault rate.  Percent unemployed didn't turn out to be a significant predictor of assault rate.  (It's possible that the percent under the poverty level soaks up all the variance related to standard of living, such that percent unemployed is redundant.)"
     ]
    },
    {
     "cell_type": "code",
     "collapsed": false,
     "input": [],
     "language": "python",
     "metadata": {},
     "outputs": []
    }
   ],
   "metadata": {}
  }
 ]
}