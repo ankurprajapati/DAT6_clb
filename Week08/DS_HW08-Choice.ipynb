{
 "metadata": {
  "name": "",
  "signature": "sha256:2d8a95fa755eaa70b2d3aca8ad1c4005a93c0e3533f4d1feea69cff6019f3bbd"
 },
 "nbformat": 3,
 "nbformat_minor": 0,
 "worksheets": [
  {
   "cells": [
    {
     "cell_type": "heading",
     "level": 1,
     "metadata": {},
     "source": [
      "Lab - Choice Modeling"
     ]
    },
    {
     "cell_type": "code",
     "collapsed": false,
     "input": [
      "%matplotlib inline\n",
      "import pandas as pd\n",
      "import statsmodels.api as sm\n",
      "import numpy as np"
     ],
     "language": "python",
     "metadata": {},
     "outputs": [],
     "prompt_number": 12
    },
    {
     "cell_type": "code",
     "collapsed": false,
     "input": [
      "mdata = pd.read_csv('./data/milkdata.csv')\n",
      "mdata.head(3)"
     ],
     "language": "python",
     "metadata": {},
     "outputs": [
      {
       "html": [
        "<div style=\"max-height:1000px;max-width:1500px;overflow:auto;\">\n",
        "<table border=\"1\" class=\"dataframe\">\n",
        "  <thead>\n",
        "    <tr style=\"text-align: right;\">\n",
        "      <th></th>\n",
        "      <th>id</th>\n",
        "      <th>product</th>\n",
        "      <th>full_price</th>\n",
        "      <th>full_pri</th>\n",
        "      <th>promo</th>\n",
        "      <th>disc_price</th>\n",
        "      <th>bundle</th>\n",
        "      <th>time_day</th>\n",
        "      <th>repeated?</th>\n",
        "      <th>repeated_bundle?</th>\n",
        "    </tr>\n",
        "  </thead>\n",
        "  <tbody>\n",
        "    <tr>\n",
        "      <th>0</th>\n",
        "      <td> 1</td>\n",
        "      <td> 1</td>\n",
        "      <td> 2</td>\n",
        "      <td> 1.58</td>\n",
        "      <td> 1</td>\n",
        "      <td> 0.42</td>\n",
        "      <td> 1</td>\n",
        "      <td> 1</td>\n",
        "      <td> 1</td>\n",
        "      <td> 1</td>\n",
        "    </tr>\n",
        "    <tr>\n",
        "      <th>1</th>\n",
        "      <td> 2</td>\n",
        "      <td> 1</td>\n",
        "      <td> 2</td>\n",
        "      <td> 1.15</td>\n",
        "      <td> 1</td>\n",
        "      <td> 0.85</td>\n",
        "      <td> 1</td>\n",
        "      <td> 1</td>\n",
        "      <td> 0</td>\n",
        "      <td> 1</td>\n",
        "    </tr>\n",
        "    <tr>\n",
        "      <th>2</th>\n",
        "      <td> 3</td>\n",
        "      <td> 1</td>\n",
        "      <td> 3</td>\n",
        "      <td> 2.25</td>\n",
        "      <td> 1</td>\n",
        "      <td> 0.75</td>\n",
        "      <td> 0</td>\n",
        "      <td> 1</td>\n",
        "      <td> 1</td>\n",
        "      <td> 1</td>\n",
        "    </tr>\n",
        "  </tbody>\n",
        "</table>\n",
        "<p>3 rows \u00d7 10 columns</p>\n",
        "</div>"
       ],
       "metadata": {},
       "output_type": "pyout",
       "prompt_number": 13,
       "text": [
        "   id  product  full_price  full_pri  promo  disc_price  bundle  time_day  \\\n",
        "0   1        1           2      1.58      1        0.42       1         1   \n",
        "1   2        1           2      1.15      1        0.85       1         1   \n",
        "2   3        1           3      2.25      1        0.75       0         1   \n",
        "\n",
        "   repeated?  repeated_bundle?  \n",
        "0          1                 1  \n",
        "1          0                 1  \n",
        "2          1                 1  \n",
        "\n",
        "[3 rows x 10 columns]"
       ]
      }
     ],
     "prompt_number": 13
    },
    {
     "cell_type": "heading",
     "level": 2,
     "metadata": {},
     "source": [
      "Pair Exercise:"
     ]
    },
    {
     "cell_type": "heading",
     "level": 3,
     "metadata": {},
     "source": [
      "1. Run the same model with LPM"
     ]
    },
    {
     "cell_type": "code",
     "collapsed": false,
     "input": [
      "mdata.ix[:,2:].head()"
     ],
     "language": "python",
     "metadata": {},
     "outputs": [
      {
       "html": [
        "<div style=\"max-height:1000px;max-width:1500px;overflow:auto;\">\n",
        "<table border=\"1\" class=\"dataframe\">\n",
        "  <thead>\n",
        "    <tr style=\"text-align: right;\">\n",
        "      <th></th>\n",
        "      <th>full_price</th>\n",
        "      <th>full_pri</th>\n",
        "      <th>promo</th>\n",
        "      <th>disc_price</th>\n",
        "      <th>bundle</th>\n",
        "      <th>time_day</th>\n",
        "      <th>repeated?</th>\n",
        "      <th>repeated_bundle?</th>\n",
        "    </tr>\n",
        "  </thead>\n",
        "  <tbody>\n",
        "    <tr>\n",
        "      <th>0</th>\n",
        "      <td> 2</td>\n",
        "      <td> 1.58</td>\n",
        "      <td> 1</td>\n",
        "      <td> 0.42</td>\n",
        "      <td> 1</td>\n",
        "      <td> 1</td>\n",
        "      <td> 1</td>\n",
        "      <td> 1</td>\n",
        "    </tr>\n",
        "    <tr>\n",
        "      <th>1</th>\n",
        "      <td> 2</td>\n",
        "      <td> 1.15</td>\n",
        "      <td> 1</td>\n",
        "      <td> 0.85</td>\n",
        "      <td> 1</td>\n",
        "      <td> 1</td>\n",
        "      <td> 0</td>\n",
        "      <td> 1</td>\n",
        "    </tr>\n",
        "    <tr>\n",
        "      <th>2</th>\n",
        "      <td> 3</td>\n",
        "      <td> 2.25</td>\n",
        "      <td> 1</td>\n",
        "      <td> 0.75</td>\n",
        "      <td> 0</td>\n",
        "      <td> 1</td>\n",
        "      <td> 1</td>\n",
        "      <td> 1</td>\n",
        "    </tr>\n",
        "    <tr>\n",
        "      <th>3</th>\n",
        "      <td> 2</td>\n",
        "      <td> 2.00</td>\n",
        "      <td> 0</td>\n",
        "      <td> 0.00</td>\n",
        "      <td> 1</td>\n",
        "      <td> 1</td>\n",
        "      <td> 0</td>\n",
        "      <td> 0</td>\n",
        "    </tr>\n",
        "    <tr>\n",
        "      <th>4</th>\n",
        "      <td> 2</td>\n",
        "      <td> 2.00</td>\n",
        "      <td> 0</td>\n",
        "      <td> 0.00</td>\n",
        "      <td> 0</td>\n",
        "      <td> 1</td>\n",
        "      <td> 1</td>\n",
        "      <td> 1</td>\n",
        "    </tr>\n",
        "  </tbody>\n",
        "</table>\n",
        "<p>5 rows \u00d7 8 columns</p>\n",
        "</div>"
       ],
       "metadata": {},
       "output_type": "pyout",
       "prompt_number": 27,
       "text": [
        "   full_price  full_pri  promo  disc_price  bundle  time_day  repeated?  \\\n",
        "0           2      1.58      1        0.42       1         1          1   \n",
        "1           2      1.15      1        0.85       1         1          0   \n",
        "2           3      2.25      1        0.75       0         1          1   \n",
        "3           2      2.00      0        0.00       1         1          0   \n",
        "4           2      2.00      0        0.00       0         1          1   \n",
        "\n",
        "   repeated_bundle?  \n",
        "0                 1  \n",
        "1                 1  \n",
        "2                 1  \n",
        "3                 0  \n",
        "4                 1  \n",
        "\n",
        "[5 rows x 8 columns]"
       ]
      }
     ],
     "prompt_number": 27
    },
    {
     "cell_type": "code",
     "collapsed": false,
     "input": [
      "lpm = sm.OLS(mdata[\"product\"], mdata[train_cols])\n",
      "results_lpm = lpm.fit()\n",
      "results_lpm.summary()"
     ],
     "language": "python",
     "metadata": {},
     "outputs": [
      {
       "html": [
        "<table class=\"simpletable\">\n",
        "<caption>OLS Regression Results</caption>\n",
        "<tr>\n",
        "  <th>Dep. Variable:</th>         <td>product</td>     <th>  R-squared:         </th> <td>   0.696</td> \n",
        "</tr>\n",
        "<tr>\n",
        "  <th>Model:</th>                   <td>OLS</td>       <th>  Adj. R-squared:    </th> <td>   0.691</td> \n",
        "</tr>\n",
        "<tr>\n",
        "  <th>Method:</th>             <td>Least Squares</td>  <th>  F-statistic:       </th> <td>   140.8</td> \n",
        "</tr>\n",
        "<tr>\n",
        "  <th>Date:</th>             <td>Thu, 15 May 2014</td> <th>  Prob (F-statistic):</th> <td>5.40e-122</td>\n",
        "</tr>\n",
        "<tr>\n",
        "  <th>Time:</th>                 <td>21:51:06</td>     <th>  Log-Likelihood:    </th> <td> -306.41</td> \n",
        "</tr>\n",
        "<tr>\n",
        "  <th>No. Observations:</th>      <td>   500</td>      <th>  AIC:               </th> <td>   628.8</td> \n",
        "</tr>\n",
        "<tr>\n",
        "  <th>Df Residuals:</th>          <td>   492</td>      <th>  BIC:               </th> <td>   662.5</td> \n",
        "</tr>\n",
        "<tr>\n",
        "  <th>Df Model:</th>              <td>     8</td>      <th>                     </th>     <td> </td>    \n",
        "</tr>\n",
        "</table>\n",
        "<table class=\"simpletable\">\n",
        "<tr>\n",
        "          <td></td>            <th>coef</th>     <th>std err</th>      <th>t</th>      <th>P>|t|</th> <th>[95.0% Conf. Int.]</th> \n",
        "</tr>\n",
        "<tr>\n",
        "  <th>full_price</th>       <td>   -0.1311</td> <td>    0.103</td> <td>   -1.271</td> <td> 0.204</td> <td>   -0.334     0.072</td>\n",
        "</tr>\n",
        "<tr>\n",
        "  <th>full_pri</th>         <td>    0.1709</td> <td>    0.093</td> <td>    1.836</td> <td> 0.067</td> <td>   -0.012     0.354</td>\n",
        "</tr>\n",
        "<tr>\n",
        "  <th>promo</th>            <td>   -0.1002</td> <td>    0.091</td> <td>   -1.102</td> <td> 0.271</td> <td>   -0.279     0.079</td>\n",
        "</tr>\n",
        "<tr>\n",
        "  <th>disc_price</th>       <td>    0.1352</td> <td>    0.112</td> <td>    1.202</td> <td> 0.230</td> <td>   -0.086     0.356</td>\n",
        "</tr>\n",
        "<tr>\n",
        "  <th>bundle</th>           <td>    0.1987</td> <td>    0.052</td> <td>    3.794</td> <td> 0.000</td> <td>    0.096     0.302</td>\n",
        "</tr>\n",
        "<tr>\n",
        "  <th>time_day</th>         <td>    0.3349</td> <td>    0.044</td> <td>    7.691</td> <td> 0.000</td> <td>    0.249     0.420</td>\n",
        "</tr>\n",
        "<tr>\n",
        "  <th>repeated?</th>        <td>    0.1723</td> <td>    0.055</td> <td>    3.136</td> <td> 0.002</td> <td>    0.064     0.280</td>\n",
        "</tr>\n",
        "<tr>\n",
        "  <th>repeated_bundle?</th> <td>    0.1623</td> <td>    0.079</td> <td>    2.056</td> <td> 0.040</td> <td>    0.007     0.317</td>\n",
        "</tr>\n",
        "</table>\n",
        "<table class=\"simpletable\">\n",
        "<tr>\n",
        "  <th>Omnibus:</th>       <td>117.020</td> <th>  Durbin-Watson:     </th> <td>   0.620</td>\n",
        "</tr>\n",
        "<tr>\n",
        "  <th>Prob(Omnibus):</th> <td> 0.000</td>  <th>  Jarque-Bera (JB):  </th> <td>  46.997</td>\n",
        "</tr>\n",
        "<tr>\n",
        "  <th>Skew:</th>          <td>-0.567</td>  <th>  Prob(JB):          </th> <td>6.23e-11</td>\n",
        "</tr>\n",
        "<tr>\n",
        "  <th>Kurtosis:</th>      <td> 2.015</td>  <th>  Cond. No.          </th> <td>    31.3</td>\n",
        "</tr>\n",
        "</table>"
       ],
       "metadata": {},
       "output_type": "pyout",
       "prompt_number": 28,
       "text": [
        "<class 'statsmodels.iolib.summary.Summary'>\n",
        "\"\"\"\n",
        "                            OLS Regression Results                            \n",
        "==============================================================================\n",
        "Dep. Variable:                product   R-squared:                       0.696\n",
        "Model:                            OLS   Adj. R-squared:                  0.691\n",
        "Method:                 Least Squares   F-statistic:                     140.8\n",
        "Date:                Thu, 15 May 2014   Prob (F-statistic):          5.40e-122\n",
        "Time:                        21:51:06   Log-Likelihood:                -306.41\n",
        "No. Observations:                 500   AIC:                             628.8\n",
        "Df Residuals:                     492   BIC:                             662.5\n",
        "Df Model:                           8                                         \n",
        "====================================================================================\n",
        "                       coef    std err          t      P>|t|      [95.0% Conf. Int.]\n",
        "------------------------------------------------------------------------------------\n",
        "full_price          -0.1311      0.103     -1.271      0.204        -0.334     0.072\n",
        "full_pri             0.1709      0.093      1.836      0.067        -0.012     0.354\n",
        "promo               -0.1002      0.091     -1.102      0.271        -0.279     0.079\n",
        "disc_price           0.1352      0.112      1.202      0.230        -0.086     0.356\n",
        "bundle               0.1987      0.052      3.794      0.000         0.096     0.302\n",
        "time_day             0.3349      0.044      7.691      0.000         0.249     0.420\n",
        "repeated?            0.1723      0.055      3.136      0.002         0.064     0.280\n",
        "repeated_bundle?     0.1623      0.079      2.056      0.040         0.007     0.317\n",
        "==============================================================================\n",
        "Omnibus:                      117.020   Durbin-Watson:                   0.620\n",
        "Prob(Omnibus):                  0.000   Jarque-Bera (JB):               46.997\n",
        "Skew:                          -0.567   Prob(JB):                     6.23e-11\n",
        "Kurtosis:                       2.015   Cond. No.                         31.3\n",
        "==============================================================================\n",
        "\"\"\""
       ]
      }
     ],
     "prompt_number": 28
    },
    {
     "cell_type": "code",
     "collapsed": false,
     "input": [
      "results_lpm.params"
     ],
     "language": "python",
     "metadata": {},
     "outputs": [
      {
       "metadata": {},
       "output_type": "pyout",
       "prompt_number": 30,
       "text": [
        "full_price         -0.131144\n",
        "full_pri            0.170925\n",
        "promo              -0.100222\n",
        "disc_price          0.135175\n",
        "bundle              0.198695\n",
        "time_day            0.334917\n",
        "repeated?           0.172259\n",
        "repeated_bundle?    0.162331\n",
        "dtype: float64"
       ]
      }
     ],
     "prompt_number": 30
    },
    {
     "cell_type": "heading",
     "level": 3,
     "metadata": {},
     "source": [
      "2. Predict y_hat"
     ]
    },
    {
     "cell_type": "code",
     "collapsed": false,
     "input": [
      "y_hat = results_lpm.predict(mdata[train_cols])"
     ],
     "language": "python",
     "metadata": {},
     "outputs": [],
     "prompt_number": 32
    },
    {
     "cell_type": "heading",
     "level": 3,
     "metadata": {},
     "source": [
      "3. Plot the distribution of y_hat, is there a problem?"
     ]
    },
    {
     "cell_type": "code",
     "collapsed": false,
     "input": [
      "pd.Series(y_hat).hist()"
     ],
     "language": "python",
     "metadata": {},
     "outputs": [
      {
       "metadata": {},
       "output_type": "pyout",
       "prompt_number": 33,
       "text": [
        "<matplotlib.axes.AxesSubplot at 0x109bf7190>"
       ]
      },
      {
       "metadata": {},
       "output_type": "display_data",
       "png": "[encoded data removed]",
       "text": [
        "<matplotlib.figure.Figure at 0x109bfb8d0>"
       ]
      }
     ],
     "prompt_number": 33
    },
    {
     "cell_type": "markdown",
     "metadata": {},
     "source": [
      "#### I don't see a problem with this data."
     ]
    },
    {
     "cell_type": "heading",
     "level": 3,
     "metadata": {},
     "source": [
      "4. Plot the distribution of y_hat from the logit model, is there a problem?"
     ]
    },
    {
     "cell_type": "code",
     "collapsed": false,
     "input": [
      "y_hat_logit = results.predict(mdata[train_cols])\n",
      "pd.Series(y_hat_logit).hist()"
     ],
     "language": "python",
     "metadata": {},
     "outputs": [
      {
       "metadata": {},
       "output_type": "pyout",
       "prompt_number": 35,
       "text": [
        "<matplotlib.axes.AxesSubplot at 0x109afb490>"
       ]
      },
      {
       "metadata": {},
       "output_type": "display_data",
       "png": "[encoded data removed]",
       "text": [
        "<matplotlib.figure.Figure at 0x109afe1d0>"
       ]
      }
     ],
     "prompt_number": 35
    },
    {
     "cell_type": "markdown",
     "metadata": {},
     "source": [
      "#### I don't see a problem with this data.  I note that the distribution is more skewed when we use a logit model. "
     ]
    },
    {
     "cell_type": "heading",
     "level": 2,
     "metadata": {},
     "source": [
      "Homework: (or if we have time in class)"
     ]
    },
    {
     "cell_type": "heading",
     "level": 3,
     "metadata": {},
     "source": [
      "1. Run the next logit model:"
     ]
    },
    {
     "cell_type": "heading",
     "level": 4,
     "metadata": {},
     "source": [
      "y = bundle (if buyers are buying milk in bundles)\n"
     ]
    },
    {
     "cell_type": "heading",
     "level": 4,
     "metadata": {},
     "source": [
      "x = product, full_price, full_pri, promo, disc_price, time_day, repeated"
     ]
    },
    {
     "cell_type": "code",
     "collapsed": false,
     "input": [
      "idx = [1,2,3,4,5,7,8]\n",
      "mdata.columns[idx]"
     ],
     "language": "python",
     "metadata": {},
     "outputs": [
      {
       "metadata": {},
       "output_type": "pyout",
       "prompt_number": 44,
       "text": [
        "Index([u'product', u'full_price', u'full_pri', u'promo', u'disc_price', u'time_day', u'repeated?'], dtype='object')"
       ]
      }
     ],
     "prompt_number": 44
    },
    {
     "cell_type": "code",
     "collapsed": false,
     "input": [
      "train_cols = mdata.columns[idx]\n",
      "logit2 = sm.Logit(mdata[\"bundle\"], mdata[train_cols])\n",
      "results2=logit2.fit()\n",
      "results2.summary()"
     ],
     "language": "python",
     "metadata": {},
     "outputs": [
      {
       "output_type": "stream",
       "stream": "stdout",
       "text": [
        "Optimization terminated successfully.\n",
        "         Current function value: 0.640931\n",
        "         Iterations 5\n"
       ]
      },
      {
       "html": [
        "<table class=\"simpletable\">\n",
        "<caption>Logit Regression Results</caption>\n",
        "<tr>\n",
        "  <th>Dep. Variable:</th>      <td>bundle</td>      <th>  No. Observations:  </th>  <td>   500</td> \n",
        "</tr>\n",
        "<tr>\n",
        "  <th>Model:</th>               <td>Logit</td>      <th>  Df Residuals:      </th>  <td>   493</td> \n",
        "</tr>\n",
        "<tr>\n",
        "  <th>Method:</th>               <td>MLE</td>       <th>  Df Model:          </th>  <td>     6</td> \n",
        "</tr>\n",
        "<tr>\n",
        "  <th>Date:</th>          <td>Thu, 15 May 2014</td> <th>  Pseudo R-squ.:     </th>  <td>0.03340</td>\n",
        "</tr>\n",
        "<tr>\n",
        "  <th>Time:</th>              <td>22:10:42</td>     <th>  Log-Likelihood:    </th> <td> -320.47</td>\n",
        "</tr>\n",
        "<tr>\n",
        "  <th>converged:</th>           <td>True</td>       <th>  LL-Null:           </th> <td> -331.54</td>\n",
        "</tr>\n",
        "<tr>\n",
        "  <th> </th>                      <td> </td>        <th>  LLR p-value:       </th> <td>0.001139</td>\n",
        "</tr>\n",
        "</table>\n",
        "<table class=\"simpletable\">\n",
        "<tr>\n",
        "       <td></td>         <th>coef</th>     <th>std err</th>      <th>z</th>      <th>P>|z|</th> <th>[95.0% Conf. Int.]</th> \n",
        "</tr>\n",
        "<tr>\n",
        "  <th>product</th>    <td>    0.5589</td> <td>    0.207</td> <td>    2.696</td> <td> 0.007</td> <td>    0.153     0.965</td>\n",
        "</tr>\n",
        "<tr>\n",
        "  <th>full_price</th> <td>    1.5986</td> <td>    0.489</td> <td>    3.270</td> <td> 0.001</td> <td>    0.640     2.557</td>\n",
        "</tr>\n",
        "<tr>\n",
        "  <th>full_pri</th>   <td>   -1.1878</td> <td>    0.431</td> <td>   -2.757</td> <td> 0.006</td> <td>   -2.032    -0.344</td>\n",
        "</tr>\n",
        "<tr>\n",
        "  <th>promo</th>      <td>    0.1976</td> <td>    0.351</td> <td>    0.562</td> <td> 0.574</td> <td>   -0.491     0.886</td>\n",
        "</tr>\n",
        "<tr>\n",
        "  <th>disc_price</th> <td>   -1.6529</td> <td>    0.535</td> <td>   -3.089</td> <td> 0.002</td> <td>   -2.702    -0.604</td>\n",
        "</tr>\n",
        "<tr>\n",
        "  <th>time_day</th>   <td>   -0.3666</td> <td>    0.218</td> <td>   -1.682</td> <td> 0.093</td> <td>   -0.794     0.061</td>\n",
        "</tr>\n",
        "<tr>\n",
        "  <th>repeated?</th>  <td>   -0.4511</td> <td>    0.264</td> <td>   -1.708</td> <td> 0.088</td> <td>   -0.969     0.067</td>\n",
        "</tr>\n",
        "</table>"
       ],
       "metadata": {},
       "output_type": "pyout",
       "prompt_number": 46,
       "text": [
        "<class 'statsmodels.iolib.summary.Summary'>\n",
        "\"\"\"\n",
        "                           Logit Regression Results                           \n",
        "==============================================================================\n",
        "Dep. Variable:                 bundle   No. Observations:                  500\n",
        "Model:                          Logit   Df Residuals:                      493\n",
        "Method:                           MLE   Df Model:                            6\n",
        "Date:                Thu, 15 May 2014   Pseudo R-squ.:                 0.03340\n",
        "Time:                        22:10:42   Log-Likelihood:                -320.47\n",
        "converged:                       True   LL-Null:                       -331.54\n",
        "                                        LLR p-value:                  0.001139\n",
        "==============================================================================\n",
        "                 coef    std err          z      P>|z|      [95.0% Conf. Int.]\n",
        "------------------------------------------------------------------------------\n",
        "product        0.5589      0.207      2.696      0.007         0.153     0.965\n",
        "full_price     1.5986      0.489      3.270      0.001         0.640     2.557\n",
        "full_pri      -1.1878      0.431     -2.757      0.006        -2.032    -0.344\n",
        "promo          0.1976      0.351      0.562      0.574        -0.491     0.886\n",
        "disc_price    -1.6529      0.535     -3.089      0.002        -2.702    -0.604\n",
        "time_day      -0.3666      0.218     -1.682      0.093        -0.794     0.061\n",
        "repeated?     -0.4511      0.264     -1.708      0.088        -0.969     0.067\n",
        "==============================================================================\n",
        "\"\"\""
       ]
      }
     ],
     "prompt_number": 46
    },
    {
     "cell_type": "heading",
     "level": 4,
     "metadata": {},
     "source": [
      "2. Are consumers more likely to buy 2% milk or fat-milk? yes or no? explain"
     ]
    },
    {
     "cell_type": "markdown",
     "metadata": {},
     "source": [
      "#### product - binary variable (1,0); if product ==1 : consumer bought 2% milk, otherwise : fat-milk\n",
      "\n",
      "#### Variables:  product (1=2% milk, 0=fat-milk), bundle (1=bundle,2=not bundle)\n",
      "#### The coefficient on product is positive, indicating that buying 2% milk is positively correlated with buying a bundle.  Consumers are buying more 2% milk than fat milk.  This isn't the same thing as whether consumers are more *likely* to buy 2% milk, but I don't see how I can tell that from this regression.\n"
     ]
    },
    {
     "cell_type": "heading",
     "level": 5,
     "metadata": {},
     "source": [
      "3. Is the effect of promotion negative or positive on the outcome (Ignore significance)? Can promotions drive consumer to buy in bundle?"
     ]
    },
    {
     "cell_type": "markdown",
     "metadata": {},
     "source": [
      "#### Promotion has a positive effect on buying bundles."
     ]
    },
    {
     "cell_type": "heading",
     "level": 5,
     "metadata": {},
     "source": [
      "4. Calculate the odds ratio for this regression"
     ]
    },
    {
     "cell_type": "markdown",
     "metadata": {},
     "source": [
      "#### For the feature product (2% vs fat milk), the odds ratio (bundle=1 | product=1 : bundle=1 | product=0) = e^(0.5589) = 1.75.  Consumers are 1.75 times more likely to buy a bundle if it's 2% milk vs fat milk.\n",
      "\n",
      "#### The odds ratio is calculated separately for each feature.  The same process can be applied to the other features, exponentiating the coefficient to get the odds ratio, i.e. the odds of buying a bundle given the feature is present/occurs/etc.\n"
     ]
    },
    {
     "cell_type": "heading",
     "level": 5,
     "metadata": {},
     "source": [
      "5. Can you think, with the results we got from this regression, about a strategy to convert consumers to buy healthier milk (2%) rather than fat-milk? "
     ]
    },
    {
     "cell_type": "markdown",
     "metadata": {},
     "source": [
      "#### Offer 2% milk in bundles.  If you're already doing that, to increase sales, offer larger bundles or offer a discount to incentivize the purchase.\n"
     ]
    },
    {
     "cell_type": "code",
     "collapsed": false,
     "input": [],
     "language": "python",
     "metadata": {},
     "outputs": []
    }
   ],
   "metadata": {}
  }
 ]
}