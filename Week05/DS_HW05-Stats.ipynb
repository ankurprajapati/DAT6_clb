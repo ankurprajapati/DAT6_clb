{
 "metadata": {
  "celltoolbar": "Slideshow",
  "name": "",
  "signature": "sha256:53e0bacfb040cf0701505bed3b682ce24afd7810a919a4d81212ce0f45c3b9bc"
 },
 "nbformat": 3,
 "nbformat_minor": 0,
 "worksheets": [
  {
   "cells": [
    {
     "cell_type": "markdown",
     "metadata": {
      "slideshow": {
       "slide_type": "slide"
      }
     },
     "source": [
      "Lab\n",
      "===================\n",
      "Probability and Statistics\n",
      "-------------------\n",
      "Alessandro D. Gagliardi"
     ]
    },
    {
     "cell_type": "markdown",
     "metadata": {},
     "source": [
      "1-2 Pairs\n",
      "=========\n",
      "\n"
     ]
    },
    {
     "cell_type": "markdown",
     "metadata": {},
     "source": [
      "Start with the data on US and Canada trends from last week.\n",
      "\n",
      "1. Create a histogram of `text_len` within each group. (Use `alpha = 0.5` to overlay them.)\n",
      "\n",
      "2. Compute the sample mean and standard deviation in the two groups.\n",
      "\n",
      "3. Create a `DataFrame` concatenating data from each collection adding a `country` column to distinguish US from Canada.  \n",
      "    i.e. given `ca_text_len` and `us_text_len` as `Series` containing the length of each text in the Canadian and US collections respectively:\n",
      "\n",
      "    ```python\n",
      "    text_len_df = pd.concat([pd.DataFrame({'text_len': ca_text_len, 'country': 'CA'}), \n",
      "                             pd.DataFrame({'text_len': us_text_len, 'country': 'US'})])\n",
      "    ```\n",
      "\n",
      "4. Use this `DataFrame` to create a `boxplot` of the `text_len` by `country`.\n",
      "\n",
      "5. Use `OLS` to compute a 90% confidence interval for the difference in `text_len` between the two groups. Name a problem with describing the confidence interval of tweet length in this way.\n",
      "\n",
      "6. At level $\\alpha=5\\%$, test the null hypothesis that the average text length does not differ between the two groups. What can you conclude?\n",
      "\n",
      "7. Repeat the above steps but pick your own tags and try to find a pair with a more significant difference."
     ]
    },
    {
     "cell_type": "code",
     "collapsed": false,
     "input": [
      "%matplotlib inline\n",
      "import os\n",
      "import matplotlib.pyplot as plt\n",
      "import numpy as np\n",
      "import pandas as pd\n",
      "import statsmodels.api as sm\n",
      "import twitter\n",
      "import yaml\n",
      "from pymongo import MongoClient"
     ],
     "language": "python",
     "metadata": {},
     "outputs": []
    },
    {
     "cell_type": "code",
     "collapsed": false,
     "input": [
      "c = MongoClient()\n",
      "db = c.twitter\n",
      "db.collection_names()"
     ],
     "language": "python",
     "metadata": {},
     "outputs": [
      {
       "metadata": {},
       "output_type": "pyout",
       "prompt_number": 8,
       "text": [
        "[u'tweets', u'system.indexes', u'canada', u'us']"
       ]
      }
     ],
     "prompt_number": 8
    },
    {
     "cell_type": "code",
     "collapsed": false,
     "input": [
      "ca_text_index = list(db.canada.find(fields=['text']))\n",
      "ca_text_len_df = pd.DataFrame({'text_len': len(tweet['text'])}\n",
      "                for tweet in ca_text_index)\n",
      "ca_text_len_df.head()"
     ],
     "language": "python",
     "metadata": {},
     "outputs": [
      {
       "html": [
        "<div style=\"max-height:1000px;max-width:1500px;overflow:auto;\">\n",
        "<table border=\"1\" class=\"dataframe\">\n",
        "  <thead>\n",
        "    <tr style=\"text-align: right;\">\n",
        "      <th></th>\n",
        "      <th>text_len</th>\n",
        "    </tr>\n",
        "  </thead>\n",
        "  <tbody>\n",
        "    <tr>\n",
        "      <th>0</th>\n",
        "      <td> 30</td>\n",
        "    </tr>\n",
        "    <tr>\n",
        "      <th>1</th>\n",
        "      <td> 40</td>\n",
        "    </tr>\n",
        "    <tr>\n",
        "      <th>2</th>\n",
        "      <td> 59</td>\n",
        "    </tr>\n",
        "    <tr>\n",
        "      <th>3</th>\n",
        "      <td> 30</td>\n",
        "    </tr>\n",
        "    <tr>\n",
        "      <th>4</th>\n",
        "      <td> 24</td>\n",
        "    </tr>\n",
        "  </tbody>\n",
        "</table>\n",
        "<p>5 rows \u00d7 1 columns</p>\n",
        "</div>"
       ],
       "metadata": {},
       "output_type": "pyout",
       "prompt_number": 9,
       "text": [
        "   text_len\n",
        "0        30\n",
        "1        40\n",
        "2        59\n",
        "3        30\n",
        "4        24\n",
        "\n",
        "[5 rows x 1 columns]"
       ]
      }
     ],
     "prompt_number": 9
    },
    {
     "cell_type": "code",
     "collapsed": false,
     "input": [
      "ca_text_len = pd.Series(ca_text_len_df['text_len'])"
     ],
     "language": "python",
     "metadata": {},
     "outputs": [],
     "prompt_number": 10
    },
    {
     "cell_type": "code",
     "collapsed": false,
     "input": [
      "us_text_index = list(db.us.find(fields=['text']))\n",
      "us_text_len_df = pd.DataFrame({'text_len': len(tweet['text'])}\n",
      "                for tweet in us_text_index)\n",
      "us_text_len = pd.Series(us_text_len_df['text_len'])"
     ],
     "language": "python",
     "metadata": {},
     "outputs": [],
     "prompt_number": 43
    },
    {
     "cell_type": "markdown",
     "metadata": {},
     "source": [
      "####1.  Create a histogram of text_len within each group. (Use alpha = 0.5 to overlay them.)"
     ]
    },
    {
     "cell_type": "code",
     "collapsed": false,
     "input": [
      "ca_text_len.hist(color='blue',alpha=0.5)\n",
      "us_text_len.hist(color='gray',alpha=0.5)\n",
      "plt.title('Distribution of Text Lengths for Canada and US Tweets')\n",
      "plt.xlabel('Length (# of characters)')\n",
      "plt.ylabel('Frequency')\n",
      "plt.legend(('Canada','US'),loc=2)"
     ],
     "language": "python",
     "metadata": {},
     "outputs": [
      {
       "metadata": {},
       "output_type": "pyout",
       "prompt_number": 47,
       "text": [
        "<matplotlib.legend.Legend at 0x10ce8ea50>"
       ]
      },
      {
       "metadata": {},
       "output_type": "display_data",
       "png": "[encoded data removed]",
       "text": [
        "<matplotlib.figure.Figure at 0x10c7ef650>"
       ]
      }
     ],
     "prompt_number": 47
    },
    {
     "cell_type": "markdown",
     "metadata": {},
     "source": [
      "####2. Compute the sample mean and standard deviation in the two groups."
     ]
    },
    {
     "cell_type": "code",
     "collapsed": false,
     "input": [
      "ca_text_len_df.describe()"
     ],
     "language": "python",
     "metadata": {},
     "outputs": [
      {
       "html": [
        "<div style=\"max-height:1000px;max-width:1500px;overflow:auto;\">\n",
        "<table border=\"1\" class=\"dataframe\">\n",
        "  <thead>\n",
        "    <tr style=\"text-align: right;\">\n",
        "      <th></th>\n",
        "      <th>text_len</th>\n",
        "    </tr>\n",
        "  </thead>\n",
        "  <tbody>\n",
        "    <tr>\n",
        "      <th>count</th>\n",
        "      <td> 900.000000</td>\n",
        "    </tr>\n",
        "    <tr>\n",
        "      <th>mean</th>\n",
        "      <td>  87.722222</td>\n",
        "    </tr>\n",
        "    <tr>\n",
        "      <th>std</th>\n",
        "      <td>  39.484450</td>\n",
        "    </tr>\n",
        "    <tr>\n",
        "      <th>min</th>\n",
        "      <td>   9.000000</td>\n",
        "    </tr>\n",
        "    <tr>\n",
        "      <th>25%</th>\n",
        "      <td>  53.000000</td>\n",
        "    </tr>\n",
        "    <tr>\n",
        "      <th>50%</th>\n",
        "      <td>  86.500000</td>\n",
        "    </tr>\n",
        "    <tr>\n",
        "      <th>75%</th>\n",
        "      <td> 127.250000</td>\n",
        "    </tr>\n",
        "    <tr>\n",
        "      <th>max</th>\n",
        "      <td> 147.000000</td>\n",
        "    </tr>\n",
        "  </tbody>\n",
        "</table>\n",
        "<p>8 rows \u00d7 1 columns</p>\n",
        "</div>"
       ],
       "metadata": {},
       "output_type": "pyout",
       "prompt_number": 21,
       "text": [
        "         text_len\n",
        "count  900.000000\n",
        "mean    87.722222\n",
        "std     39.484450\n",
        "min      9.000000\n",
        "25%     53.000000\n",
        "50%     86.500000\n",
        "75%    127.250000\n",
        "max    147.000000\n",
        "\n",
        "[8 rows x 1 columns]"
       ]
      }
     ],
     "prompt_number": 21
    },
    {
     "cell_type": "code",
     "collapsed": false,
     "input": [
      "us_text_len_df.describe()"
     ],
     "language": "python",
     "metadata": {},
     "outputs": [
      {
       "html": [
        "<div style=\"max-height:1000px;max-width:1500px;overflow:auto;\">\n",
        "<table border=\"1\" class=\"dataframe\">\n",
        "  <thead>\n",
        "    <tr style=\"text-align: right;\">\n",
        "      <th></th>\n",
        "      <th>text_len</th>\n",
        "    </tr>\n",
        "  </thead>\n",
        "  <tbody>\n",
        "    <tr>\n",
        "      <th>count</th>\n",
        "      <td> 900.000000</td>\n",
        "    </tr>\n",
        "    <tr>\n",
        "      <th>mean</th>\n",
        "      <td>  95.502222</td>\n",
        "    </tr>\n",
        "    <tr>\n",
        "      <th>std</th>\n",
        "      <td>  37.250124</td>\n",
        "    </tr>\n",
        "    <tr>\n",
        "      <th>min</th>\n",
        "      <td>  15.000000</td>\n",
        "    </tr>\n",
        "    <tr>\n",
        "      <th>25%</th>\n",
        "      <td>  67.000000</td>\n",
        "    </tr>\n",
        "    <tr>\n",
        "      <th>50%</th>\n",
        "      <td>  98.000000</td>\n",
        "    </tr>\n",
        "    <tr>\n",
        "      <th>75%</th>\n",
        "      <td> 131.000000</td>\n",
        "    </tr>\n",
        "    <tr>\n",
        "      <th>max</th>\n",
        "      <td> 148.000000</td>\n",
        "    </tr>\n",
        "  </tbody>\n",
        "</table>\n",
        "<p>8 rows \u00d7 1 columns</p>\n",
        "</div>"
       ],
       "metadata": {},
       "output_type": "pyout",
       "prompt_number": 22,
       "text": [
        "         text_len\n",
        "count  900.000000\n",
        "mean    95.502222\n",
        "std     37.250124\n",
        "min     15.000000\n",
        "25%     67.000000\n",
        "50%     98.000000\n",
        "75%    131.000000\n",
        "max    148.000000\n",
        "\n",
        "[8 rows x 1 columns]"
       ]
      }
     ],
     "prompt_number": 22
    },
    {
     "cell_type": "markdown",
     "metadata": {},
     "source": [
      "Means and STDs for each group:\n",
      "\n",
      "Canada:  mean = 87.7, std = 39.5\n",
      "US:  mean = 95.5, std = 37.3"
     ]
    },
    {
     "cell_type": "markdown",
     "metadata": {},
     "source": [
      "####3.  Create a DataFrame concatenating data from each collection adding a country column to distinguish US from Canada."
     ]
    },
    {
     "cell_type": "code",
     "collapsed": false,
     "input": [
      "text_len_df = pd.concat([pd.DataFrame({'text_len': ca_text_len, 'country': 'CA'}), \n",
      "                          pd.DataFrame({'text_len': us_text_len, 'country': 'US'})])\n",
      "text_len_df.head()"
     ],
     "language": "python",
     "metadata": {},
     "outputs": [
      {
       "html": [
        "<div style=\"max-height:1000px;max-width:1500px;overflow:auto;\">\n",
        "<table border=\"1\" class=\"dataframe\">\n",
        "  <thead>\n",
        "    <tr style=\"text-align: right;\">\n",
        "      <th></th>\n",
        "      <th>country</th>\n",
        "      <th>text_len</th>\n",
        "    </tr>\n",
        "  </thead>\n",
        "  <tbody>\n",
        "    <tr>\n",
        "      <th>0</th>\n",
        "      <td> CA</td>\n",
        "      <td> 30</td>\n",
        "    </tr>\n",
        "    <tr>\n",
        "      <th>1</th>\n",
        "      <td> CA</td>\n",
        "      <td> 40</td>\n",
        "    </tr>\n",
        "    <tr>\n",
        "      <th>2</th>\n",
        "      <td> CA</td>\n",
        "      <td> 59</td>\n",
        "    </tr>\n",
        "    <tr>\n",
        "      <th>3</th>\n",
        "      <td> CA</td>\n",
        "      <td> 30</td>\n",
        "    </tr>\n",
        "    <tr>\n",
        "      <th>4</th>\n",
        "      <td> CA</td>\n",
        "      <td> 24</td>\n",
        "    </tr>\n",
        "  </tbody>\n",
        "</table>\n",
        "<p>5 rows \u00d7 2 columns</p>\n",
        "</div>"
       ],
       "metadata": {},
       "output_type": "pyout",
       "prompt_number": 24,
       "text": [
        "  country  text_len\n",
        "0      CA        30\n",
        "1      CA        40\n",
        "2      CA        59\n",
        "3      CA        30\n",
        "4      CA        24\n",
        "\n",
        "[5 rows x 2 columns]"
       ]
      }
     ],
     "prompt_number": 24
    },
    {
     "cell_type": "markdown",
     "metadata": {},
     "source": [
      "####4. Use this DataFrame to create a boxplot of the text_len by country."
     ]
    },
    {
     "cell_type": "code",
     "collapsed": false,
     "input": [
      "text_len_df.boxplot(column=\"text_len\", by=\"country\", figsize=(12,6))\n",
      "plt.title('Text Length for Canada and US Tweets')\n",
      "plt.xlabel('Country')\n",
      "plt.ylabel('Text Length (# of characters)')"
     ],
     "language": "python",
     "metadata": {},
     "outputs": [
      {
       "metadata": {},
       "output_type": "pyout",
       "prompt_number": 75,
       "text": [
        "<matplotlib.text.Text at 0x10ada8150>"
       ]
      },
      {
       "metadata": {},
       "output_type": "display_data",
       "png": "[encoded data removed]",
       "text": [
        "<matplotlib.figure.Figure at 0x103ab4c10>"
       ]
      }
     ],
     "prompt_number": 75
    },
    {
     "cell_type": "markdown",
     "metadata": {},
     "source": [
      "####5. Use OLS to compute a 90% confidence interval for the difference in text_len between the two groups. Name a problem with describing the confidence interval of tweet length in this way."
     ]
    },
    {
     "cell_type": "code",
     "collapsed": false,
     "input": [
      "mod = sm.OLS.from_formula(\"text_len ~ country == 'US'\", text_len_df)\n",
      "res = mod.fit()\n",
      "print res.summary(alpha = .10)"
     ],
     "language": "python",
     "metadata": {},
     "outputs": [
      {
       "output_type": "stream",
       "stream": "stdout",
       "text": [
        "                            OLS Regression Results                            \n",
        "==============================================================================\n",
        "Dep. Variable:               text_len   R-squared:                       0.010\n",
        "Model:                            OLS   Adj. R-squared:                  0.010\n",
        "Method:                 Least Squares   F-statistic:                     18.49\n",
        "Date:                Sat, 03 May 2014   Prob (F-statistic):           1.80e-05\n",
        "Time:                        21:36:32   Log-Likelihood:                -9118.8\n",
        "No. Observations:                1800   AIC:                         1.824e+04\n",
        "Df Residuals:                    1798   BIC:                         1.825e+04\n",
        "Df Model:                           1                                         \n",
        "===========================================================================================\n",
        "                              coef    std err          t      P>|t|      [90.0% Conf. Int.]\n",
        "-------------------------------------------------------------------------------------------\n",
        "Intercept                  87.7222      1.279     68.562      0.000        85.617    89.828\n",
        "country == 'US'[T.True]     7.7800      1.809      4.300      0.000         4.802    10.758\n",
        "==============================================================================\n",
        "Omnibus:                     2409.801   Durbin-Watson:                   1.530\n",
        "Prob(Omnibus):                  0.000   Jarque-Bera (JB):              131.697\n",
        "Skew:                          -0.216   Prob(JB):                     2.53e-29\n",
        "Kurtosis:                       1.748   Cond. No.                         2.62\n",
        "==============================================================================\n"
       ]
      }
     ],
     "prompt_number": 29
    },
    {
     "cell_type": "markdown",
     "metadata": {},
     "source": [
      "OLS Results:\n",
      "The variable country (US = 1, CA = 0) has a coefficient of 7.78,\n",
      "with a 90% confidence interval of (4.80, 10.76).\n",
      "\n",
      "This method assumes that the data is normally distributed,\n",
      "which it clearly is not, looking at the histograms above.\n",
      "Most notably, there is a rightward skew and the data hits a ceiling at 150."
     ]
    },
    {
     "cell_type": "markdown",
     "metadata": {},
     "source": [
      "####6. At level \u03b1=5%, test the null hypothesis that the average text length does not differ between the two groups. What can you conclude? "
     ]
    },
    {
     "cell_type": "code",
     "collapsed": false,
     "input": [
      "print res.summary(alpha = .05)"
     ],
     "language": "python",
     "metadata": {},
     "outputs": [
      {
       "output_type": "stream",
       "stream": "stdout",
       "text": [
        "                            OLS Regression Results                            \n",
        "==============================================================================\n",
        "Dep. Variable:               text_len   R-squared:                       0.010\n",
        "Model:                            OLS   Adj. R-squared:                  0.010\n",
        "Method:                 Least Squares   F-statistic:                     18.49\n",
        "Date:                Sat, 03 May 2014   Prob (F-statistic):           1.80e-05\n",
        "Time:                        21:50:52   Log-Likelihood:                -9118.8\n",
        "No. Observations:                1800   AIC:                         1.824e+04\n",
        "Df Residuals:                    1798   BIC:                         1.825e+04\n",
        "Df Model:                           1                                         \n",
        "===========================================================================================\n",
        "                              coef    std err          t      P>|t|      [95.0% Conf. Int.]\n",
        "-------------------------------------------------------------------------------------------\n",
        "Intercept                  87.7222      1.279     68.562      0.000        85.213    90.232\n",
        "country == 'US'[T.True]     7.7800      1.809      4.300      0.000         4.231    11.329\n",
        "==============================================================================\n",
        "Omnibus:                     2409.801   Durbin-Watson:                   1.530\n",
        "Prob(Omnibus):                  0.000   Jarque-Bera (JB):              131.697\n",
        "Skew:                          -0.216   Prob(JB):                     2.53e-29\n",
        "Kurtosis:                       1.748   Cond. No.                         2.62\n",
        "==============================================================================\n"
       ]
      }
     ],
     "prompt_number": 30
    },
    {
     "cell_type": "markdown",
     "metadata": {},
     "source": [
      "Based on this test, we can reject the null hypothesis.\n",
      "p is very small (<0.000) for the coefficient for country.\n",
      "\n",
      "Note:  This result seems odd.  It seems like somehow I did the test wrong,\n",
      "because I really didn't expect them to be different.\n",
      "\n",
      "Normally I would conclude that they're different, but I suspect an error in my calculations."
     ]
    },
    {
     "cell_type": "markdown",
     "metadata": {},
     "source": [
      "####7. Repeat the above steps but pick your own tags and try to find a pair with a more significant difference."
     ]
    },
    {
     "cell_type": "code",
     "collapsed": false,
     "input": [
      "# I'm trying retweet count on the hypothesis that US is higher on average\n",
      "# because the population is larger.\n",
      "ca_retweet_index = list(db.canada.find(fields=['retweet_count']))\n",
      "ca_retweet_df = pd.DataFrame({'retweet_count': tweet['retweet_count']}\n",
      "                for tweet in ca_retweet_index)\n",
      "ca_retweet = pd.Series(ca_retweet_df['retweet_count'])\n",
      "us_retweet_index = list(db.us.find(fields=['retweet_count']))\n",
      "us_retweet_df = pd.DataFrame({'retweet_count': tweet['retweet_count']}\n",
      "                for tweet in us_retweet_index)\n",
      "us_retweet = pd.Series(us_retweet_df['retweet_count'])\n",
      "\n",
      "retweet_df = pd.concat([pd.DataFrame({'retweet_count': ca_retweet, 'country': 'CA'}), \n",
      "                          pd.DataFrame({'retweet_count': us_retweet, 'country': 'US'})])\n",
      "retweet_df.head()"
     ],
     "language": "python",
     "metadata": {},
     "outputs": [
      {
       "html": [
        "<div style=\"max-height:1000px;max-width:1500px;overflow:auto;\">\n",
        "<table border=\"1\" class=\"dataframe\">\n",
        "  <thead>\n",
        "    <tr style=\"text-align: right;\">\n",
        "      <th></th>\n",
        "      <th>country</th>\n",
        "      <th>retweet_count</th>\n",
        "    </tr>\n",
        "  </thead>\n",
        "  <tbody>\n",
        "    <tr>\n",
        "      <th>0</th>\n",
        "      <td> CA</td>\n",
        "      <td> 0</td>\n",
        "    </tr>\n",
        "    <tr>\n",
        "      <th>1</th>\n",
        "      <td> CA</td>\n",
        "      <td> 0</td>\n",
        "    </tr>\n",
        "    <tr>\n",
        "      <th>2</th>\n",
        "      <td> CA</td>\n",
        "      <td> 0</td>\n",
        "    </tr>\n",
        "    <tr>\n",
        "      <th>3</th>\n",
        "      <td> CA</td>\n",
        "      <td> 0</td>\n",
        "    </tr>\n",
        "    <tr>\n",
        "      <th>4</th>\n",
        "      <td> CA</td>\n",
        "      <td> 0</td>\n",
        "    </tr>\n",
        "  </tbody>\n",
        "</table>\n",
        "<p>5 rows \u00d7 2 columns</p>\n",
        "</div>"
       ],
       "metadata": {},
       "output_type": "pyout",
       "prompt_number": 32,
       "text": [
        "  country  retweet_count\n",
        "0      CA              0\n",
        "1      CA              0\n",
        "2      CA              0\n",
        "3      CA              0\n",
        "4      CA              0\n",
        "\n",
        "[5 rows x 2 columns]"
       ]
      }
     ],
     "prompt_number": 32
    },
    {
     "cell_type": "code",
     "collapsed": false,
     "input": [
      "retweet_df.boxplot(column=\"retweet_count\", by=\"country\", figsize=(12,6))\n",
      "plt.title('Retweet Count for Canada and US Tweets')\n",
      "plt.xlabel('Country')\n",
      "plt.ylabel('Retweet Count')"
     ],
     "language": "python",
     "metadata": {},
     "outputs": [
      {
       "metadata": {},
       "output_type": "pyout",
       "prompt_number": 76,
       "text": [
        "<matplotlib.text.Text at 0x10d88ded0>"
       ]
      },
      {
       "metadata": {},
       "output_type": "display_data",
       "png": "[encoded data removed]",
       "text": [
        "<matplotlib.figure.Figure at 0x10a7d6890>"
       ]
      }
     ],
     "prompt_number": 76
    },
    {
     "cell_type": "markdown",
     "metadata": {},
     "source": [
      "These distributions are so heavily skewed, with a very long tail,\n",
      "that the results of the statistical test will be quite meaningless.\n",
      "I'm going to try a different variable."
     ]
    },
    {
     "cell_type": "code",
     "collapsed": false,
     "input": [
      "# Trying friend_count instead.\n",
      "ca_friends_index = list(db.canada.find(fields=['user.friends_count']))\n",
      "ca_friends_df = pd.DataFrame({'friends_count': tweet['user'].get('friends_count')}\n",
      "                for tweet in ca_friends_index)\n",
      "ca_friends = pd.Series(ca_friends_df['friends_count'])\n",
      "us_friends_index = list(db.us.find(fields=['user.friends_count']))\n",
      "us_friends_df = pd.DataFrame({'friends_count': tweet['user'].get('friends_count')}\n",
      "                for tweet in us_friends_index)\n",
      "us_friends = pd.Series(us_friends_df['friends_count'])\n",
      "\n",
      "friends_df = pd.concat([pd.DataFrame({'friends_count': ca_friends, 'country': 'CA'}), \n",
      "                          pd.DataFrame({'friends_count': us_friends, 'country': 'US'})])\n",
      "friends_df.head()"
     ],
     "language": "python",
     "metadata": {},
     "outputs": [
      {
       "html": [
        "<div style=\"max-height:1000px;max-width:1500px;overflow:auto;\">\n",
        "<table border=\"1\" class=\"dataframe\">\n",
        "  <thead>\n",
        "    <tr style=\"text-align: right;\">\n",
        "      <th></th>\n",
        "      <th>country</th>\n",
        "      <th>friends_count</th>\n",
        "    </tr>\n",
        "  </thead>\n",
        "  <tbody>\n",
        "    <tr>\n",
        "      <th>0</th>\n",
        "      <td> CA</td>\n",
        "      <td>  55</td>\n",
        "    </tr>\n",
        "    <tr>\n",
        "      <th>1</th>\n",
        "      <td> CA</td>\n",
        "      <td> 147</td>\n",
        "    </tr>\n",
        "    <tr>\n",
        "      <th>2</th>\n",
        "      <td> CA</td>\n",
        "      <td> 147</td>\n",
        "    </tr>\n",
        "    <tr>\n",
        "      <th>3</th>\n",
        "      <td> CA</td>\n",
        "      <td>  55</td>\n",
        "    </tr>\n",
        "    <tr>\n",
        "      <th>4</th>\n",
        "      <td> CA</td>\n",
        "      <td> 147</td>\n",
        "    </tr>\n",
        "  </tbody>\n",
        "</table>\n",
        "<p>5 rows \u00d7 2 columns</p>\n",
        "</div>"
       ],
       "metadata": {},
       "output_type": "pyout",
       "prompt_number": 34,
       "text": [
        "  country  friends_count\n",
        "0      CA             55\n",
        "1      CA            147\n",
        "2      CA            147\n",
        "3      CA             55\n",
        "4      CA            147\n",
        "\n",
        "[5 rows x 2 columns]"
       ]
      }
     ],
     "prompt_number": 34
    },
    {
     "cell_type": "code",
     "collapsed": false,
     "input": [
      "friends_df.boxplot(column=\"friends_count\", by=\"country\", figsize=(12,6))\n",
      "plt.title('Friends Count for Canada and US Tweets')\n",
      "plt.xlabel('Country')\n",
      "plt.ylabel('Friends Count')"
     ],
     "language": "python",
     "metadata": {},
     "outputs": [
      {
       "metadata": {},
       "output_type": "pyout",
       "prompt_number": 77,
       "text": [
        "<matplotlib.text.Text at 0x10dec5190>"
       ]
      },
      {
       "metadata": {},
       "output_type": "display_data",
       "png": "[encoded data removed]",
       "text": [
        "<matplotlib.figure.Figure at 0x103acd050>"
       ]
      }
     ],
     "prompt_number": 77
    },
    {
     "cell_type": "code",
     "collapsed": false,
     "input": [
      "mod = sm.OLS.from_formula(\"friends_count ~ country == 'US'\", friends_df)\n",
      "res = mod.fit()\n",
      "print res.summary(alpha = .05)"
     ],
     "language": "python",
     "metadata": {},
     "outputs": [
      {
       "output_type": "stream",
       "stream": "stdout",
       "text": [
        "                            OLS Regression Results                            \n",
        "==============================================================================\n",
        "Dep. Variable:          friends_count   R-squared:                       0.011\n",
        "Model:                            OLS   Adj. R-squared:                  0.011\n",
        "Method:                 Least Squares   F-statistic:                     20.32\n",
        "Date:                Sat, 03 May 2014   Prob (F-statistic):           6.98e-06\n",
        "Time:                        22:28:34   Log-Likelihood:                -15349.\n",
        "No. Observations:                1800   AIC:                         3.070e+04\n",
        "Df Residuals:                    1798   BIC:                         3.071e+04\n",
        "Df Model:                           1                                         \n",
        "===========================================================================================\n",
        "                              coef    std err          t      P>|t|      [95.0% Conf. Int.]\n",
        "-------------------------------------------------------------------------------------------\n",
        "Intercept                 580.6978     40.765     14.245      0.000       500.747   660.649\n",
        "country == 'US'[T.True]   259.8556     57.650      4.507      0.000       146.787   372.924\n",
        "==============================================================================\n",
        "Omnibus:                     1945.890   Durbin-Watson:                   1.707\n",
        "Prob(Omnibus):                  0.000   Jarque-Bera (JB):           141884.964\n",
        "Skew:                           5.371   Prob(JB):                         0.00\n",
        "Kurtosis:                      45.147   Cond. No.                         2.62\n",
        "==============================================================================\n"
       ]
      }
     ],
     "prompt_number": 36
    },
    {
     "cell_type": "markdown",
     "metadata": {},
     "source": [
      "Friends count is also skewed, though not quite as badly.\n",
      "A test for difference in sample means returns p < .001, with a\n",
      "coefficient for country (US=1, CA=0) of 260,\n",
      "and a 95% confidence interval of (147,373).\n",
      "However, R-squared indicates that country explains virtually none\n",
      "of the variance, in keeping with what the data look like visually,\n",
      "which is that there's really no significant effect."
     ]
    },
    {
     "cell_type": "markdown",
     "metadata": {},
     "source": [
      "Homework\n",
      "========\n",
      "\n",
      "Use `enron.db` from last week.\n",
      "\n",
      "1. Create a boxplot of the message recipient count (`MAX(rno)`), splitting the data based on the `seniority` of the sender.\n",
      "\n",
      "2. Compute the sample mean and standard deviation in the two groups.\n",
      "\n",
      "3. Create a histogram of the recipient count within each group.\n",
      "\n",
      "4. Compute a 90% confidence interval for the difference in recipient count between the two groups. What is a problem with this? How might you fix it?\n",
      "\n",
      "5. At level $\\alpha=5\\%$, test the null hypothesis that the average recipient count does not differ between the two groups. What assumptions are you making? What can you conclude?\n",
      "\n",
      "6. Repeat the test in 5. using `OLS`."
     ]
    },
    {
     "cell_type": "code",
     "collapsed": false,
     "input": [
      "%load_ext sql"
     ],
     "language": "python",
     "metadata": {},
     "outputs": [],
     "prompt_number": 49
    },
    {
     "cell_type": "code",
     "collapsed": false,
     "input": [
      "%%bash\n",
      "sqlite3 data/enron.db .tables"
     ],
     "language": "python",
     "metadata": {},
     "outputs": [
      {
       "output_type": "stream",
       "stream": "stdout",
       "text": [
        "Employee          EmployeeWithVars  MessageBase       RecipientBase   \n",
        "EmployeeBase      Message           Recipient       \n"
       ]
      }
     ],
     "prompt_number": 53
    },
    {
     "cell_type": "code",
     "collapsed": false,
     "input": [
      "import pandas as pd\n",
      "import sqlite3\n",
      "from pandas.io import sql\n",
      "conn = sqlite3.connect('data/enron.db')"
     ],
     "language": "python",
     "metadata": {},
     "outputs": [],
     "prompt_number": 56
    },
    {
     "cell_type": "code",
     "collapsed": false,
     "input": [
      "%%sql sqlite:///data/enron.db\n",
      "SELECT * FROM EmployeeBase LIMIT 5"
     ],
     "language": "python",
     "metadata": {},
     "outputs": [
      {
       "output_type": "stream",
       "stream": "stdout",
       "text": [
        "Done.\n"
       ]
      },
      {
       "html": [
        "<table>\n",
        "    <tr>\n",
        "        <th>eid</th>\n",
        "        <th>name</th>\n",
        "        <th>department</th>\n",
        "        <th>longdepartment</th>\n",
        "        <th>title</th>\n",
        "        <th>gender</th>\n",
        "        <th>seniority</th>\n",
        "    </tr>\n",
        "    <tr>\n",
        "        <td>1</td>\n",
        "        <td>John Arnold</td>\n",
        "        <td>Trading</td>\n",
        "        <td>ENA Gas Financial</td>\n",
        "        <td>VP Trading</td>\n",
        "        <td>Male</td>\n",
        "        <td>Senior</td>\n",
        "    </tr>\n",
        "    <tr>\n",
        "        <td>2</td>\n",
        "        <td>Harry Arora</td>\n",
        "        <td>Trading</td>\n",
        "        <td>ENA East Power</td>\n",
        "        <td>VP Trading</td>\n",
        "        <td>Male</td>\n",
        "        <td>Senior</td>\n",
        "    </tr>\n",
        "    <tr>\n",
        "        <td>3</td>\n",
        "        <td>Robert Badeer</td>\n",
        "        <td>Trading</td>\n",
        "        <td>ENA West Power</td>\n",
        "        <td>Mgr Trading</td>\n",
        "        <td>Male</td>\n",
        "        <td>Junior</td>\n",
        "    </tr>\n",
        "    <tr>\n",
        "        <td>4</td>\n",
        "        <td>Susan Bailey</td>\n",
        "        <td>Legal</td>\n",
        "        <td>ENA Legal</td>\n",
        "        <td>Specialist Legal</td>\n",
        "        <td>Female</td>\n",
        "        <td>Junior</td>\n",
        "    </tr>\n",
        "    <tr>\n",
        "        <td>5</td>\n",
        "        <td>Eric Bass</td>\n",
        "        <td>Trading</td>\n",
        "        <td>ENA Gas Texas</td>\n",
        "        <td>Trader</td>\n",
        "        <td>Male</td>\n",
        "        <td>Junior</td>\n",
        "    </tr>\n",
        "</table>"
       ],
       "metadata": {},
       "output_type": "pyout",
       "prompt_number": 61,
       "text": [
        "[(1, u'John Arnold', u'Trading', u'ENA Gas Financial', u'VP Trading', u'Male', u'Senior'),\n",
        " (2, u'Harry Arora', u'Trading', u'ENA East Power', u'VP Trading', u'Male', u'Senior'),\n",
        " (3, u'Robert Badeer', u'Trading', u'ENA West Power', u'Mgr Trading', u'Male', u'Junior'),\n",
        " (4, u'Susan Bailey', u'Legal', u'ENA Legal', u'Specialist Legal', u'Female', u'Junior'),\n",
        " (5, u'Eric Bass', u'Trading', u'ENA Gas Texas', u'Trader', u'Male', u'Junior')]"
       ]
      }
     ],
     "prompt_number": 61
    },
    {
     "cell_type": "code",
     "collapsed": false,
     "input": [
      "%%sql sqlite:///data/enron.db\n",
      "SELECT rb.mid, recip_count, mb.from_eid, eb.seniority\n",
      "FROM\n",
      "    (SELECT mid, MAX(rno) AS recip_count FROM RecipientBase GROUP BY 1) rb\n",
      "LEFT JOIN MessageBase mb\n",
      "ON rb.mid = mb.mid\n",
      "LEFT JOIN EmployeeBase eb\n",
      "ON mb.from_eid = eb.eid\n",
      "LIMIT 10"
     ],
     "language": "python",
     "metadata": {},
     "outputs": [
      {
       "output_type": "stream",
       "stream": "stdout",
       "text": [
        "Done.\n"
       ]
      },
      {
       "html": [
        "<table>\n",
        "    <tr>\n",
        "        <th>mid</th>\n",
        "        <th>recip_count</th>\n",
        "        <th>from_eid</th>\n",
        "        <th>seniority</th>\n",
        "    </tr>\n",
        "    <tr>\n",
        "        <td>1</td>\n",
        "        <td>1</td>\n",
        "        <td>138</td>\n",
        "        <td>Senior</td>\n",
        "    </tr>\n",
        "    <tr>\n",
        "        <td>2</td>\n",
        "        <td>1</td>\n",
        "        <td>138</td>\n",
        "        <td>Senior</td>\n",
        "    </tr>\n",
        "    <tr>\n",
        "        <td>3</td>\n",
        "        <td>1</td>\n",
        "        <td>138</td>\n",
        "        <td>Senior</td>\n",
        "    </tr>\n",
        "    <tr>\n",
        "        <td>4</td>\n",
        "        <td>4</td>\n",
        "        <td>138</td>\n",
        "        <td>Senior</td>\n",
        "    </tr>\n",
        "    <tr>\n",
        "        <td>5</td>\n",
        "        <td>2</td>\n",
        "        <td>138</td>\n",
        "        <td>Senior</td>\n",
        "    </tr>\n",
        "    <tr>\n",
        "        <td>6</td>\n",
        "        <td>1</td>\n",
        "        <td>138</td>\n",
        "        <td>Senior</td>\n",
        "    </tr>\n",
        "    <tr>\n",
        "        <td>7</td>\n",
        "        <td>1</td>\n",
        "        <td>138</td>\n",
        "        <td>Senior</td>\n",
        "    </tr>\n",
        "    <tr>\n",
        "        <td>8</td>\n",
        "        <td>1</td>\n",
        "        <td>138</td>\n",
        "        <td>Senior</td>\n",
        "    </tr>\n",
        "    <tr>\n",
        "        <td>9</td>\n",
        "        <td>1</td>\n",
        "        <td>138</td>\n",
        "        <td>Senior</td>\n",
        "    </tr>\n",
        "    <tr>\n",
        "        <td>10</td>\n",
        "        <td>1</td>\n",
        "        <td>138</td>\n",
        "        <td>Senior</td>\n",
        "    </tr>\n",
        "</table>"
       ],
       "metadata": {},
       "output_type": "pyout",
       "prompt_number": 72,
       "text": [
        "[(1, 1, 138, u'Senior'),\n",
        " (2, 1, 138, u'Senior'),\n",
        " (3, 1, 138, u'Senior'),\n",
        " (4, 4, 138, u'Senior'),\n",
        " (5, 2, 138, u'Senior'),\n",
        " (6, 1, 138, u'Senior'),\n",
        " (7, 1, 138, u'Senior'),\n",
        " (8, 1, 138, u'Senior'),\n",
        " (9, 1, 138, u'Senior'),\n",
        " (10, 1, 138, u'Senior')]"
       ]
      }
     ],
     "prompt_number": 72
    },
    {
     "cell_type": "code",
     "collapsed": false,
     "input": [
      "msg_table = sql.frame_query(\"\"\"SELECT rb.mid, recip_count, mb.from_eid, eb.seniority\n",
      "    FROM (SELECT mid, MAX(rno) AS recip_count FROM RecipientBase GROUP BY 1) rb\n",
      "    LEFT JOIN MessageBase mb\n",
      "    ON rb.mid = mb.mid\n",
      "    LEFT JOIN EmployeeBase eb\n",
      "    ON mb.from_eid = eb.eid\"\"\",conn,\"mid\")\n",
      "msg_table.head()"
     ],
     "language": "python",
     "metadata": {},
     "outputs": [
      {
       "html": [
        "<div style=\"max-height:1000px;max-width:1500px;overflow:auto;\">\n",
        "<table border=\"1\" class=\"dataframe\">\n",
        "  <thead>\n",
        "    <tr style=\"text-align: right;\">\n",
        "      <th></th>\n",
        "      <th>recip_count</th>\n",
        "      <th>from_eid</th>\n",
        "      <th>seniority</th>\n",
        "    </tr>\n",
        "    <tr>\n",
        "      <th>mid</th>\n",
        "      <th></th>\n",
        "      <th></th>\n",
        "      <th></th>\n",
        "    </tr>\n",
        "  </thead>\n",
        "  <tbody>\n",
        "    <tr>\n",
        "      <th>1</th>\n",
        "      <td> 1</td>\n",
        "      <td> 138</td>\n",
        "      <td> Senior</td>\n",
        "    </tr>\n",
        "    <tr>\n",
        "      <th>2</th>\n",
        "      <td> 1</td>\n",
        "      <td> 138</td>\n",
        "      <td> Senior</td>\n",
        "    </tr>\n",
        "    <tr>\n",
        "      <th>3</th>\n",
        "      <td> 1</td>\n",
        "      <td> 138</td>\n",
        "      <td> Senior</td>\n",
        "    </tr>\n",
        "    <tr>\n",
        "      <th>4</th>\n",
        "      <td> 4</td>\n",
        "      <td> 138</td>\n",
        "      <td> Senior</td>\n",
        "    </tr>\n",
        "    <tr>\n",
        "      <th>5</th>\n",
        "      <td> 2</td>\n",
        "      <td> 138</td>\n",
        "      <td> Senior</td>\n",
        "    </tr>\n",
        "  </tbody>\n",
        "</table>\n",
        "<p>5 rows \u00d7 3 columns</p>\n",
        "</div>"
       ],
       "metadata": {},
       "output_type": "pyout",
       "prompt_number": 73,
       "text": [
        "     recip_count  from_eid seniority\n",
        "mid                                 \n",
        "1              1       138    Senior\n",
        "2              1       138    Senior\n",
        "3              1       138    Senior\n",
        "4              4       138    Senior\n",
        "5              2       138    Senior\n",
        "\n",
        "[5 rows x 3 columns]"
       ]
      }
     ],
     "prompt_number": 73
    },
    {
     "cell_type": "markdown",
     "metadata": {},
     "source": [
      "####1. Create a boxplot of the message recipient count (MAX(rno)), splitting the data based on the seniority of the sender."
     ]
    },
    {
     "cell_type": "code",
     "collapsed": false,
     "input": [
      "msg_table.boxplot(column=\"recip_count\", by=\"seniority\", figsize=(12,6))\n",
      "plt.title('Recipient Count for Junior and Senior Senders')\n",
      "plt.xlabel('Seniority')\n",
      "plt.ylabel('Number of Recipients')"
     ],
     "language": "python",
     "metadata": {},
     "outputs": [
      {
       "metadata": {},
       "output_type": "pyout",
       "prompt_number": 78,
       "text": [
        "<matplotlib.text.Text at 0x10adf4410>"
       ]
      },
      {
       "metadata": {},
       "output_type": "display_data",
       "png": "[encoded data removed]",
       "text": [
        "<matplotlib.figure.Figure at 0x10aed5610>"
       ]
      }
     ],
     "prompt_number": 78
    },
    {
     "cell_type": "code",
     "collapsed": false,
     "input": [
      "jr_msg_table = msg_table[msg_table.seniority=='Junior']\n",
      "sr_msg_table = msg_table[msg_table.seniority=='Senior']\n",
      "print(len(msg_table),len(jr_msg_table),len(sr_msg_table))"
     ],
     "language": "python",
     "metadata": {},
     "outputs": [
      {
       "output_type": "stream",
       "stream": "stdout",
       "text": [
        "(21635, 9196, 12439)\n"
       ]
      }
     ],
     "prompt_number": 85
    },
    {
     "cell_type": "markdown",
     "metadata": {},
     "source": [
      "####2. Compute the sample mean and standard deviation in the two groups."
     ]
    },
    {
     "cell_type": "code",
     "collapsed": false,
     "input": [
      "jr_msg_table.describe()"
     ],
     "language": "python",
     "metadata": {},
     "outputs": [
      {
       "html": [
        "<div style=\"max-height:1000px;max-width:1500px;overflow:auto;\">\n",
        "<table border=\"1\" class=\"dataframe\">\n",
        "  <thead>\n",
        "    <tr style=\"text-align: right;\">\n",
        "      <th></th>\n",
        "      <th>recip_count</th>\n",
        "      <th>from_eid</th>\n",
        "    </tr>\n",
        "  </thead>\n",
        "  <tbody>\n",
        "    <tr>\n",
        "      <th>count</th>\n",
        "      <td> 9196.000000</td>\n",
        "      <td> 9196.000000</td>\n",
        "    </tr>\n",
        "    <tr>\n",
        "      <th>mean</th>\n",
        "      <td>    1.728795</td>\n",
        "      <td>   80.796433</td>\n",
        "    </tr>\n",
        "    <tr>\n",
        "      <th>std</th>\n",
        "      <td>    1.533445</td>\n",
        "      <td>   39.751946</td>\n",
        "    </tr>\n",
        "    <tr>\n",
        "      <th>min</th>\n",
        "      <td>    1.000000</td>\n",
        "      <td>    3.000000</td>\n",
        "    </tr>\n",
        "    <tr>\n",
        "      <th>25%</th>\n",
        "      <td>    1.000000</td>\n",
        "      <td>   58.000000</td>\n",
        "    </tr>\n",
        "    <tr>\n",
        "      <th>50%</th>\n",
        "      <td>    1.000000</td>\n",
        "      <td>   85.000000</td>\n",
        "    </tr>\n",
        "    <tr>\n",
        "      <th>75%</th>\n",
        "      <td>    2.000000</td>\n",
        "      <td>  119.000000</td>\n",
        "    </tr>\n",
        "    <tr>\n",
        "      <th>max</th>\n",
        "      <td>   24.000000</td>\n",
        "      <td>  152.000000</td>\n",
        "    </tr>\n",
        "  </tbody>\n",
        "</table>\n",
        "<p>8 rows \u00d7 2 columns</p>\n",
        "</div>"
       ],
       "metadata": {},
       "output_type": "pyout",
       "prompt_number": 86,
       "text": [
        "       recip_count     from_eid\n",
        "count  9196.000000  9196.000000\n",
        "mean      1.728795    80.796433\n",
        "std       1.533445    39.751946\n",
        "min       1.000000     3.000000\n",
        "25%       1.000000    58.000000\n",
        "50%       1.000000    85.000000\n",
        "75%       2.000000   119.000000\n",
        "max      24.000000   152.000000\n",
        "\n",
        "[8 rows x 2 columns]"
       ]
      }
     ],
     "prompt_number": 86
    },
    {
     "cell_type": "code",
     "collapsed": false,
     "input": [
      "sr_msg_table.describe()"
     ],
     "language": "python",
     "metadata": {},
     "outputs": [
      {
       "html": [
        "<div style=\"max-height:1000px;max-width:1500px;overflow:auto;\">\n",
        "<table border=\"1\" class=\"dataframe\">\n",
        "  <thead>\n",
        "    <tr style=\"text-align: right;\">\n",
        "      <th></th>\n",
        "      <th>recip_count</th>\n",
        "      <th>from_eid</th>\n",
        "    </tr>\n",
        "  </thead>\n",
        "  <tbody>\n",
        "    <tr>\n",
        "      <th>count</th>\n",
        "      <td> 12439.000000</td>\n",
        "      <td> 12439.000000</td>\n",
        "    </tr>\n",
        "    <tr>\n",
        "      <th>mean</th>\n",
        "      <td>     1.808023</td>\n",
        "      <td>    77.360238</td>\n",
        "    </tr>\n",
        "    <tr>\n",
        "      <th>std</th>\n",
        "      <td>     2.095937</td>\n",
        "      <td>    48.794291</td>\n",
        "    </tr>\n",
        "    <tr>\n",
        "      <th>min</th>\n",
        "      <td>     1.000000</td>\n",
        "      <td>     1.000000</td>\n",
        "    </tr>\n",
        "    <tr>\n",
        "      <th>25%</th>\n",
        "      <td>     1.000000</td>\n",
        "      <td>    34.000000</td>\n",
        "    </tr>\n",
        "    <tr>\n",
        "      <th>50%</th>\n",
        "      <td>     1.000000</td>\n",
        "      <td>    67.000000</td>\n",
        "    </tr>\n",
        "    <tr>\n",
        "      <th>75%</th>\n",
        "      <td>     2.000000</td>\n",
        "      <td>   130.000000</td>\n",
        "    </tr>\n",
        "    <tr>\n",
        "      <th>max</th>\n",
        "      <td>    57.000000</td>\n",
        "      <td>   156.000000</td>\n",
        "    </tr>\n",
        "  </tbody>\n",
        "</table>\n",
        "<p>8 rows \u00d7 2 columns</p>\n",
        "</div>"
       ],
       "metadata": {},
       "output_type": "pyout",
       "prompt_number": 87,
       "text": [
        "        recip_count      from_eid\n",
        "count  12439.000000  12439.000000\n",
        "mean       1.808023     77.360238\n",
        "std        2.095937     48.794291\n",
        "min        1.000000      1.000000\n",
        "25%        1.000000     34.000000\n",
        "50%        1.000000     67.000000\n",
        "75%        2.000000    130.000000\n",
        "max       57.000000    156.000000\n",
        "\n",
        "[8 rows x 2 columns]"
       ]
      }
     ],
     "prompt_number": 87
    },
    {
     "cell_type": "markdown",
     "metadata": {},
     "source": [
      "Means and STDs:  Junior senders:  1.73 +- 1.53; Senior senders:  1.81 +- 2.10"
     ]
    },
    {
     "cell_type": "markdown",
     "metadata": {},
     "source": [
      "#### 3. Create a histogram of the recipient count within each group."
     ]
    },
    {
     "cell_type": "code",
     "collapsed": false,
     "input": [
      "recip_bins = range(0,40,1)\n",
      "jr_msg_table['recip_count'].hist(color='blue',alpha=0.5,bins=recip_bins)\n",
      "sr_msg_table['recip_count'].hist(color='gray',alpha=0.5,bins=recip_bins)\n",
      "plt.title('Recipient Count for Junior and Senior Senders')\n",
      "plt.xlabel('Seniority')\n",
      "plt.ylabel('Recipient Count')\n",
      "plt.legend(('Junior','Senior'),loc=1)"
     ],
     "language": "python",
     "metadata": {},
     "outputs": [
      {
       "metadata": {},
       "output_type": "pyout",
       "prompt_number": 116,
       "text": [
        "<matplotlib.legend.Legend at 0x110e5e750>"
       ]
      },
      {
       "metadata": {},
       "output_type": "display_data",
       "png": "[encoded data removed]",
       "text": [
        "<matplotlib.figure.Figure at 0x10ffe5950>"
       ]
      }
     ],
     "prompt_number": 116
    },
    {
     "cell_type": "code",
     "collapsed": false,
     "input": [
      "from scipy.stats import t as tdist"
     ],
     "language": "python",
     "metadata": {},
     "outputs": [],
     "prompt_number": 119
    },
    {
     "cell_type": "code",
     "collapsed": false,
     "input": [
      "jr_rcs = jr_msg_table['recip_count']\n",
      "sr_rcs = sr_msg_table['recip_count']"
     ],
     "language": "python",
     "metadata": {},
     "outputs": []
    },
    {
     "cell_type": "markdown",
     "metadata": {},
     "source": [
      "#### 4. Compute a 90% confidence interval for the difference in recipient count between the two groups. What is a problem with this? How might you fix it?"
     ]
    },
    {
     "cell_type": "code",
     "collapsed": false,
     "input": [
      "# Confidence intervals for Junior recipient counts\n",
      "df = len(jr_rcs) - 1\n",
      "cutoff = tdist.isf(0.10,df)\n",
      "L = jr_rcs.mean() - cutoff*jr_rcs.std()/np.sqrt(len(jr_rcs))\n",
      "U = jr_rcs.mean() + cutoff*jr_rcs.std()/np.sqrt(len(jr_rcs))\n",
      "print \"Mean: {}\\tL: {}\\tU: {}\".format(jr_rcs.mean(), L, U)"
     ],
     "language": "python",
     "metadata": {},
     "outputs": [
      {
       "output_type": "stream",
       "stream": "stdout",
       "text": [
        "Mean: 1.72879512832\tL: 1.70830069072\tU: 1.74928956591\n"
       ]
      }
     ],
     "prompt_number": 129
    },
    {
     "cell_type": "code",
     "collapsed": false,
     "input": [
      "# Confidence intervals for Senior recipient counts\n",
      "df = len(sr_rcs) - 1\n",
      "cutoff = tdist.isf(0.10,df)\n",
      "L = sr_rcs.mean() - cutoff*sr_rcs.std()/np.sqrt(len(sr_rcs))\n",
      "U = sr_rcs.mean() + cutoff*sr_rcs.std()/np.sqrt(len(sr_rcs))\n",
      "print \"Mean: {}\\tL: {}\\tU: {}\".format(sr_rcs.mean(), L, U)"
     ],
     "language": "python",
     "metadata": {},
     "outputs": [
      {
       "output_type": "stream",
       "stream": "stdout",
       "text": [
        "Mean: 1.80802315299\tL: 1.78393825919\tU: 1.83210804678\n"
       ]
      }
     ],
     "prompt_number": 130
    },
    {
     "cell_type": "code",
     "collapsed": false,
     "input": [
      "Confidence intervals (90%):  Junior senders: (1.71, 1.75); Senior senders: (1.78, 1.83)"
     ],
     "language": "python",
     "metadata": {},
     "outputs": []
    },
    {
     "cell_type": "code",
     "collapsed": false,
     "input": [
      "Looking at the means and running a stats test that assumes a normal distribution i"
     ],
     "language": "python",
     "metadata": {},
     "outputs": []
    },
    {
     "cell_type": "markdown",
     "metadata": {},
     "source": [
      "#### 5. At level $\\alpha=5\\%$, test the null hypothesis that the average recipient count does not differ between the two groups. What assumptions are you making? What can you conclude?"
     ]
    },
    {
     "cell_type": "code",
     "collapsed": false,
     "input": [
      "# Confidence intervals for Junior recipient counts\n",
      "df = len(jr_rcs) - 1\n",
      "cutoff = tdist.isf(0.05,df)\n",
      "L = jr_rcs.mean() - cutoff*jr_rcs.std()/np.sqrt(len(jr_rcs))\n",
      "U = jr_rcs.mean() + cutoff*jr_rcs.std()/np.sqrt(len(jr_rcs))\n",
      "print \"Mean: {}\\tL: {}\\tU: {}\".format(jr_rcs.mean(), L, U)"
     ],
     "language": "python",
     "metadata": {},
     "outputs": [
      {
       "output_type": "stream",
       "stream": "stdout",
       "text": [
        "Mean: 1.72879512832\tL: 1.70249004201\tU: 1.75510021463\n"
       ]
      }
     ],
     "prompt_number": 122
    },
    {
     "cell_type": "code",
     "collapsed": false,
     "input": [
      "# Confidence intervals for Senior recipient counts\n",
      "df = len(sr_rcs) - 1\n",
      "cutoff = tdist.isf(0.05,df)\n",
      "L = sr_rcs.mean() - cutoff*sr_rcs.std()/np.sqrt(len(sr_rcs))\n",
      "U = sr_rcs.mean() + cutoff*sr_rcs.std()/np.sqrt(len(sr_rcs))\n",
      "print \"Mean: {}\\tL: {}\\tU: {}\".format(sr_rcs.mean(), L, U)"
     ],
     "language": "python",
     "metadata": {},
     "outputs": [
      {
       "output_type": "stream",
       "stream": "stdout",
       "text": [
        "Mean: 1.80802315299\tL: 1.77710986583\tU: 1.83893644014\n"
       ]
      }
     ],
     "prompt_number": 123
    },
    {
     "cell_type": "markdown",
     "metadata": {},
     "source": [
      "Confidence intervals (95%):  Junior senders: (1.70, 1.76); Senior senders: (1.78, 1.84)"
     ]
    },
    {
     "cell_type": "markdown",
     "metadata": {},
     "source": [
      "We have to assume that the data are normally distributed.  Since they clearly aren't, we can't take this test result as evidence to reject the null hypothesis.  If that weren't the case, since the 95% confidence intervals don't overlap, we would be able to reject the null hypothesis and conclude that the two means are probably different (reflecting two distinct underlying distributions rather than a single one)."
     ]
    },
    {
     "cell_type": "markdown",
     "metadata": {},
     "source": [
      "#### 6. Repeat the test in 5. using `OLS`."
     ]
    },
    {
     "cell_type": "code",
     "collapsed": false,
     "input": [
      "mod = sm.OLS.from_formula(\"recip_count ~ seniority == 'Junior'\", msg_table)\n",
      "res = mod.fit()\n",
      "print res.summary(alpha = .05)"
     ],
     "language": "python",
     "metadata": {},
     "outputs": [
      {
       "output_type": "stream",
       "stream": "stdout",
       "text": [
        "                            OLS Regression Results                            \n",
        "==============================================================================\n",
        "Dep. Variable:            recip_count   R-squared:                       0.000\n",
        "Model:                            OLS   Adj. R-squared:                  0.000\n",
        "Method:                 Least Squares   F-statistic:                     9.415\n",
        "Date:                Sun, 04 May 2014   Prob (F-statistic):            0.00216\n",
        "Time:                        23:49:55   Log-Likelihood:                -44327.\n",
        "No. Observations:               21635   AIC:                         8.866e+04\n",
        "Df Residuals:                   21633   BIC:                         8.867e+04\n",
        "Df Model:                           1                                         \n",
        "=================================================================================================\n",
        "                                    coef    std err          t      P>|t|      [95.0% Conf. Int.]\n",
        "-------------------------------------------------------------------------------------------------\n",
        "Intercept                         1.8080      0.017    107.400      0.000         1.775     1.841\n",
        "seniority == 'Junior'[T.True]    -0.0792      0.026     -3.068      0.002        -0.130    -0.029\n",
        "==============================================================================\n",
        "Omnibus:                    30503.915   Durbin-Watson:                   1.886\n",
        "Prob(Omnibus):                  0.000   Jarque-Bera (JB):         21990988.515\n",
        "Skew:                           7.994   Prob(JB):                         0.00\n",
        "Kurtosis:                     158.368   Cond. No.                         2.48\n",
        "==============================================================================\n"
       ]
      }
     ],
     "prompt_number": 127
    },
    {
     "cell_type": "markdown",
     "metadata": {},
     "source": [
      "This test is in keeping with the previous one, in that R-squared is essentially zero.  None of the variance in recipient count is actually accounted for by seniority.  The coefficient on seniority in the regression is very small (though significantly different from zero).\n",
      "\n",
      "What I don't understand is why the p-values are so small -- same issue as before.  I'm either not reading the output right or not implementing the test correctly.\n"
     ]
    }
   ],
   "metadata": {}
  }
 ]
}